{
 "cells": [
  {
   "cell_type": "code",
   "execution_count": 1,
   "metadata": {},
   "outputs": [
    {
     "name": "stdout",
     "output_type": "stream",
     "text": [
      "Requirement already satisfied: nltk in d:\\programs\\anaconda3\\lib\\site-packages (3.5)\n",
      "Requirement already satisfied: joblib in d:\\programs\\anaconda3\\lib\\site-packages (from nltk) (0.16.0)\n",
      "Requirement already satisfied: regex in d:\\programs\\anaconda3\\lib\\site-packages (from nltk) (2020.6.8)\n",
      "Requirement already satisfied: tqdm in d:\\programs\\anaconda3\\lib\\site-packages (from nltk) (4.47.0)\n",
      "Requirement already satisfied: click in d:\\programs\\anaconda3\\lib\\site-packages (from nltk) (7.1.2)\n"
     ]
    }
   ],
   "source": [
    "#the module 'sys' allows istalling module from inside Jupyter\n",
    "import sys\n",
    "import numpy as np\n",
    "import pandas as pd\n",
    "from sklearn import metrics\n",
    "from sklearn.feature_extraction.text import  CountVectorizer #bag-of-words vectorizer \n",
    "from sklearn.decomposition import LatentDirichletAllocation #package for LDA\n",
    "from sklearn.model_selection import GridSearchCV\n",
    "from scipy.stats import uniform\n",
    "\n",
    "#Natrual Language ToolKit (NLTK)\n",
    "!{sys.executable} -m pip install nltk\n",
    "import nltk\n",
    "from nltk.sentiment.vader import SentimentIntensityAnalyzer\n",
    "\n",
    "from pprint import pprint\n",
    "import pyLDAvis\n",
    "import pyLDAvis.sklearn\n",
    "\n",
    "import matplotlib.pyplot as plt\n",
    "%matplotlib inline\n",
    "\n",
    "#ignore warnings about future changes in functions as they take too much space\n",
    "import warnings\n",
    "warnings.simplefilter(action='ignore', category=FutureWarning)\n",
    "warnings.filterwarnings(\"ignore\", category=DeprecationWarning)"
   ]
  },
  {
   "cell_type": "code",
   "execution_count": 50,
   "metadata": {},
   "outputs": [
    {
     "name": "stdout",
     "output_type": "stream",
     "text": [
      "Processing c:\\users\\nsun9\\appdata\\local\\pip\\cache\\wheels\\4f\\85\\2a\\67a30aa6cf144eca0c159f337ce5166df2213c4cde9e699cbe\\html_parser-0.2-py3-none-any.whl\n",
      "Requirement already satisfied: ply in d:\\programs\\anaconda3\\lib\\site-packages (from html.parser) (3.11)\n",
      "Installing collected packages: html.parser\n",
      "Successfully installed html.parser\n",
      "Requirement already satisfied: nltk in d:\\programs\\anaconda3\\lib\\site-packages (3.5)\n",
      "Requirement already satisfied: regex in d:\\programs\\anaconda3\\lib\\site-packages (from nltk) (2020.6.8)\n",
      "Requirement already satisfied: joblib in d:\\programs\\anaconda3\\lib\\site-packages (from nltk) (0.16.0)\n",
      "Requirement already satisfied: click in d:\\programs\\anaconda3\\lib\\site-packages (from nltk) (7.1.2)\n",
      "Requirement already satisfied: tqdm in d:\\programs\\anaconda3\\lib\\site-packages (from nltk) (4.47.0)\n",
      "Requirement already satisfied: pattern3 in d:\\programs\\anaconda3\\lib\\site-packages (3.0.0)\n",
      "Requirement already satisfied: docx in d:\\programs\\anaconda3\\lib\\site-packages (from pattern3) (0.2.4)\n",
      "Requirement already satisfied: feedparser in d:\\programs\\anaconda3\\lib\\site-packages (from pattern3) (6.0.2)\n",
      "Requirement already satisfied: simplejson in d:\\programs\\anaconda3\\lib\\site-packages (from pattern3) (3.17.2)\n",
      "Requirement already satisfied: pdfminer3k in d:\\programs\\anaconda3\\lib\\site-packages (from pattern3) (1.3.4)\n",
      "Requirement already satisfied: cherrypy in d:\\programs\\anaconda3\\lib\\site-packages (from pattern3) (18.6.0)\n",
      "Requirement already satisfied: beautifulsoup4 in d:\\programs\\anaconda3\\lib\\site-packages (from pattern3) (4.9.1)\n",
      "Requirement already satisfied: pdfminer.six in d:\\programs\\anaconda3\\lib\\site-packages (from pattern3) (20201018)\n",
      "Requirement already satisfied: lxml in d:\\programs\\anaconda3\\lib\\site-packages (from docx->pattern3) (4.5.2)\n",
      "Requirement already satisfied: Pillow>=2.0 in d:\\programs\\anaconda3\\lib\\site-packages (from docx->pattern3) (7.2.0)\n",
      "Requirement already satisfied: sgmllib3k in d:\\programs\\anaconda3\\lib\\site-packages (from feedparser->pattern3) (1.0.0)\n",
      "Requirement already satisfied: ply in d:\\programs\\anaconda3\\lib\\site-packages (from pdfminer3k->pattern3) (3.11)\n",
      "Requirement already satisfied: cheroot>=8.2.1 in d:\\programs\\anaconda3\\lib\\site-packages (from cherrypy->pattern3) (8.5.2)\n",
      "Requirement already satisfied: more-itertools in d:\\programs\\anaconda3\\lib\\site-packages (from cherrypy->pattern3) (8.4.0)\n",
      "Requirement already satisfied: jaraco.collections in d:\\programs\\anaconda3\\lib\\site-packages (from cherrypy->pattern3) (3.3.0)\n",
      "Requirement already satisfied: pywin32; sys_platform == \"win32\" in d:\\programs\\anaconda3\\lib\\site-packages (from cherrypy->pattern3) (227)\n",
      "Requirement already satisfied: zc.lockfile in d:\\programs\\anaconda3\\lib\\site-packages (from cherrypy->pattern3) (2.0)\n",
      "Requirement already satisfied: portend>=2.1.1 in d:\\programs\\anaconda3\\lib\\site-packages (from cherrypy->pattern3) (2.7.1)\n",
      "Requirement already satisfied: soupsieve>1.2 in d:\\programs\\anaconda3\\lib\\site-packages (from beautifulsoup4->pattern3) (2.0.1)\n",
      "Requirement already satisfied: sortedcontainers in d:\\programs\\anaconda3\\lib\\site-packages (from pdfminer.six->pattern3) (2.2.2)\n",
      "Requirement already satisfied: chardet; python_version > \"3.0\" in d:\\programs\\anaconda3\\lib\\site-packages (from pdfminer.six->pattern3) (3.0.4)\n",
      "Requirement already satisfied: cryptography in d:\\programs\\anaconda3\\lib\\site-packages (from pdfminer.six->pattern3) (2.9.2)\n",
      "Requirement already satisfied: six>=1.11.0 in d:\\programs\\anaconda3\\lib\\site-packages (from cheroot>=8.2.1->cherrypy->pattern3) (1.15.0)\n",
      "Requirement already satisfied: jaraco.functools in d:\\programs\\anaconda3\\lib\\site-packages (from cheroot>=8.2.1->cherrypy->pattern3) (3.3.0)\n",
      "Requirement already satisfied: jaraco.classes in d:\\programs\\anaconda3\\lib\\site-packages (from jaraco.collections->cherrypy->pattern3) (3.2.1)\n",
      "Requirement already satisfied: jaraco.text in d:\\programs\\anaconda3\\lib\\site-packages (from jaraco.collections->cherrypy->pattern3) (3.5.0)\n",
      "Requirement already satisfied: setuptools in d:\\programs\\anaconda3\\lib\\site-packages (from zc.lockfile->cherrypy->pattern3) (49.2.0.post20200714)\n",
      "Requirement already satisfied: tempora>=1.8 in d:\\programs\\anaconda3\\lib\\site-packages (from portend>=2.1.1->cherrypy->pattern3) (4.0.1)\n",
      "Requirement already satisfied: cffi!=1.11.3,>=1.8 in d:\\programs\\anaconda3\\lib\\site-packages (from cryptography->pdfminer.six->pattern3) (1.14.0)\n",
      "Requirement already satisfied: pytz in d:\\programs\\anaconda3\\lib\\site-packages (from tempora>=1.8->portend>=2.1.1->cherrypy->pattern3) (2020.1)\n",
      "Requirement already satisfied: pycparser in d:\\programs\\anaconda3\\lib\\site-packages (from cffi!=1.11.3,>=1.8->cryptography->pdfminer.six->pattern3) (2.20)\n"
     ]
    },
    {
     "name": "stderr",
     "output_type": "stream",
     "text": [
      "[nltk_data] Downloading package stopwords to\n",
      "[nltk_data]     C:\\Users\\nsun9\\AppData\\Roaming\\nltk_data...\n",
      "[nltk_data]   Package stopwords is already up-to-date!\n",
      "[nltk_data] Downloading package averaged_perceptron_tagger to\n",
      "[nltk_data]     C:\\Users\\nsun9\\AppData\\Roaming\\nltk_data...\n",
      "[nltk_data]   Package averaged_perceptron_tagger is already up-to-\n",
      "[nltk_data]       date!\n",
      "[nltk_data] Downloading package wordnet to\n",
      "[nltk_data]     C:\\Users\\nsun9\\AppData\\Roaming\\nltk_data...\n",
      "[nltk_data]   Package wordnet is already up-to-date!\n",
      "[nltk_data] Downloading package punkt to\n",
      "[nltk_data]     C:\\Users\\nsun9\\AppData\\Roaming\\nltk_data...\n",
      "[nltk_data]   Package punkt is already up-to-date!\n"
     ]
    }
   ],
   "source": [
    "#define text normalization function\n",
    "%run ./Text_Normalization_Function_topic.ipynb #defining text normalization function"
   ]
  },
  {
   "cell_type": "markdown",
   "metadata": {},
   "source": [
    "Below we define two functions that will display the results of fitting a topic model, to be used later:"
   ]
  },
  {
   "cell_type": "code",
   "execution_count": 46,
   "metadata": {},
   "outputs": [],
   "source": [
    "def display_topics(model, feature_names, no_top_words):\n",
    "    for topic_idx, topic in enumerate(model.components_):\n",
    "        print(\"Topic %d:\" % (topic_idx))\n",
    "        print(\" \".join([feature_names[i]\n",
    "                        for i in topic.argsort()[:-no_top_words - 1:-1]]))\n",
    "        \n",
    "def get_topic_words(vectorizer, lda_model, n_words):\n",
    "    keywords = np.array(vectorizer.get_feature_names())\n",
    "    topic_words = []\n",
    "    for topic_weights in lda_model.components_:\n",
    "        top_word_locs = (-topic_weights).argsort()[:n_words]\n",
    "        topic_words.append(keywords.take(top_word_locs).tolist())\n",
    "    return topic_words"
   ]
  },
  {
   "cell_type": "code",
   "execution_count": 47,
   "metadata": {},
   "outputs": [],
   "source": [
    "listing= pd.read_csv('listings.csv')"
   ]
  },
  {
   "cell_type": "markdown",
   "metadata": {},
   "source": [
    "# 1. Topic Modeling"
   ]
  },
  {
   "cell_type": "markdown",
   "metadata": {},
   "source": [
    "## 1. Room Description Topic Modeling"
   ]
  },
  {
   "cell_type": "markdown",
   "metadata": {},
   "source": [
    "### 1.1 Data loading and cleaning"
   ]
  },
  {
   "cell_type": "code",
   "execution_count": 48,
   "metadata": {},
   "outputs": [],
   "source": [
    "room_df=listing[[\"id\",\"description\"]].copy()\n",
    "room_df.fillna(\"NA\",inplace=True)\n",
    "room=room_df[\"description\"]"
   ]
  },
  {
   "cell_type": "code",
   "execution_count": 51,
   "metadata": {},
   "outputs": [],
   "source": [
    "normalized_room = normalize_corpus1(room)"
   ]
  },
  {
   "cell_type": "code",
   "execution_count": 53,
   "metadata": {},
   "outputs": [],
   "source": [
    "#define a Bag-of-Words vecgtorizer\n",
    "bow_vectorizer_room = CountVectorizer(max_features=500)\n",
    "\n",
    "#vectorize data\n",
    "bow_room= bow_vectorizer_room.fit_transform(normalized_room)"
   ]
  },
  {
   "cell_type": "markdown",
   "metadata": {},
   "source": [
    "### 1.2 Use cross-validation to tune hyperparameters"
   ]
  },
  {
   "cell_type": "markdown",
   "metadata": {},
   "source": [
    "Although it is intuitively weird to use cross validation for topic modeling, there are indeed some papers that prove it is reasonable.Cross-validation of topic modelling written by Peter Ellis：\\\n",
    "*Lacking such a heuristic to choose the number of topics, researchers have no recourse beyond an informed guess or time-consuming trial and error evaluation. For trial and error evaluation, an iterative approach is typical based on presenting different models with different numbers of topics, normally developed using cross-validation on held-out document sets, and selecting the number of topics for which the model is least perplexed by the test sets… Using the identified appropriate number of topics, LDA is performed on the whole dataset to obtain the topics for the corpus.*"
   ]
  },
  {
   "cell_type": "code",
   "execution_count": 31,
   "metadata": {},
   "outputs": [],
   "source": [
    "## define the parameters grid used for cross-validation\n",
    "search_params = {'n_components': [4,5,6,7], 'learning_decay': [0.5, 0.7, 0.9],\\\n",
    "                 \"doc_topic_prior\":[0.25,0.5,0.75,0.9],\"topic_word_prior\":[0.25,0.5,0.75,0.9]}"
   ]
  },
  {
   "cell_type": "code",
   "execution_count": 16,
   "metadata": {},
   "outputs": [
    {
     "data": {
      "text/plain": [
       "GridSearchCV(cv=3, estimator=LatentDirichletAllocation(random_state=42),\n",
       "             n_jobs=-1,\n",
       "             param_grid={'doc_topic_prior': [0.25, 0.5, 0.75, 0.9],\n",
       "                         'learning_decay': [0.5, 0.7, 0.9],\n",
       "                         'n_components': [4, 5, 6, 7],\n",
       "                         'topic_word_prior': [0.25, 0.5, 0.75, 0.9]})"
      ]
     },
     "execution_count": 16,
     "metadata": {},
     "output_type": "execute_result"
    }
   ],
   "source": [
    "## Tune hyperparameters\n",
    "##If scoring is None, the estimator’s score method is used. LDA's scoring method is log-likelihood as score\n",
    "lda_room=LatentDirichletAllocation(random_state=42)\n",
    "search_room = GridSearchCV(\n",
    "    estimator=lda_room,\n",
    "    param_grid=search_params,\n",
    "    cv=3,\n",
    "    n_jobs=-1 #using all processors\n",
    ")\n",
    "search_room.fit(bow_room)"
   ]
  },
  {
   "cell_type": "code",
   "execution_count": 18,
   "metadata": {},
   "outputs": [
    {
     "data": {
      "text/plain": [
       "{'doc_topic_prior': 0.25,\n",
       " 'learning_decay': 0.5,\n",
       " 'n_components': 4,\n",
       " 'topic_word_prior': 0.75}"
      ]
     },
     "execution_count": 18,
     "metadata": {},
     "output_type": "execute_result"
    }
   ],
   "source": [
    "search_room.best_params_"
   ]
  },
  {
   "cell_type": "markdown",
   "metadata": {},
   "source": [
    "### 1.3 Build the model with the best parameters"
   ]
  },
  {
   "cell_type": "code",
   "execution_count": 54,
   "metadata": {},
   "outputs": [],
   "source": [
    "##Use the best model from CV\n",
    "lda_room_best=LatentDirichletAllocation(n_components=4,learning_decay=0.5,doc_topic_prior=0.25,\\\n",
    "                      topic_word_prior=0.75,random_state=42).fit(bow_room)"
   ]
  },
  {
   "cell_type": "code",
   "execution_count": 33,
   "metadata": {},
   "outputs": [
    {
     "name": "stdout",
     "output_type": "stream",
     "text": [
      "Topic 0:\n",
      "kitchen fully clean night amenity living bathroom blueground furnish cdc\n",
      "Topic 1:\n",
      "building unit high include kitchen feature fully check common modern\n",
      "Topic 2:\n",
      "walk minute downtown line street station min park restaurant neighborhood\n",
      "Topic 3:\n",
      "kitchen bathroom private full living share queen size area large\n"
     ]
    }
   ],
   "source": [
    "##Display results with top 10 words for each topic:\n",
    "no_top_words_room= 10\n",
    "display_topics(lda_room_best, bow_vectorizer_room.get_feature_names(), no_top_words_room)"
   ]
  },
  {
   "cell_type": "code",
   "execution_count": 172,
   "metadata": {
    "scrolled": true
   },
   "outputs": [
    {
     "data": {
      "text/html": [
       "<div>\n",
       "<style scoped>\n",
       "    .dataframe tbody tr th:only-of-type {\n",
       "        vertical-align: middle;\n",
       "    }\n",
       "\n",
       "    .dataframe tbody tr th {\n",
       "        vertical-align: top;\n",
       "    }\n",
       "\n",
       "    .dataframe thead th {\n",
       "        text-align: right;\n",
       "    }\n",
       "</style>\n",
       "<table border=\"1\" class=\"dataframe\">\n",
       "  <thead>\n",
       "    <tr style=\"text-align: right;\">\n",
       "      <th></th>\n",
       "      <th>Topic_0</th>\n",
       "      <th>Topic_1</th>\n",
       "      <th>Topic_2</th>\n",
       "      <th>Topic_3</th>\n",
       "    </tr>\n",
       "  </thead>\n",
       "  <tbody>\n",
       "    <tr>\n",
       "      <th>building</th>\n",
       "      <td>0.001744</td>\n",
       "      <td>0.018975</td>\n",
       "      <td>0.000628</td>\n",
       "      <td>0.004740</td>\n",
       "    </tr>\n",
       "    <tr>\n",
       "      <th>unit</th>\n",
       "      <td>0.009387</td>\n",
       "      <td>0.017541</td>\n",
       "      <td>0.002276</td>\n",
       "      <td>0.009694</td>\n",
       "    </tr>\n",
       "    <tr>\n",
       "      <th>high</th>\n",
       "      <td>0.007577</td>\n",
       "      <td>0.014959</td>\n",
       "      <td>0.000797</td>\n",
       "      <td>0.000159</td>\n",
       "    </tr>\n",
       "    <tr>\n",
       "      <th>include</th>\n",
       "      <td>0.006141</td>\n",
       "      <td>0.013192</td>\n",
       "      <td>0.002654</td>\n",
       "      <td>0.007053</td>\n",
       "    </tr>\n",
       "    <tr>\n",
       "      <th>kitchen</th>\n",
       "      <td>0.020479</td>\n",
       "      <td>0.013044</td>\n",
       "      <td>0.007250</td>\n",
       "      <td>0.031388</td>\n",
       "    </tr>\n",
       "  </tbody>\n",
       "</table>\n",
       "</div>"
      ],
      "text/plain": [
       "           Topic_0   Topic_1   Topic_2   Topic_3\n",
       "building  0.001744  0.018975  0.000628  0.004740\n",
       "unit      0.009387  0.017541  0.002276  0.009694\n",
       "high      0.007577  0.014959  0.000797  0.000159\n",
       "include   0.006141  0.013192  0.002654  0.007053\n",
       "kitchen   0.020479  0.013044  0.007250  0.031388"
      ]
     },
     "execution_count": 172,
     "metadata": {},
     "output_type": "execute_result"
    }
   ],
   "source": [
    "word_weights_room= lda_room_best.components_ / lda_room_best.components_.sum(axis=1)[:, np.newaxis]\n",
    "word_weights_room_df = pd.DataFrame(word_weights_room.T, \n",
    "                               index = bow_vectorizer_room.get_feature_names(), \n",
    "                               columns = [\"Topic_\" + str(i) for i in range(4)])\n",
    "word_weights_room_df.sort_values(by='Topic_1',ascending=False).head(5)"
   ]
  },
  {
   "cell_type": "markdown",
   "metadata": {},
   "source": [
    "Visualize the topics for room description; we want rare and exclusive terms (i.e. found mostly in that topic) to rank on the top of the topic, so we choose a relatively **small lambda**"
   ]
  },
  {
   "cell_type": "code",
   "execution_count": 55,
   "metadata": {},
   "outputs": [
    {
     "data": {
      "text/html": [
       "\n",
       "<link rel=\"stylesheet\" type=\"text/css\" href=\"https://cdn.jsdelivr.net/gh/bmabey/pyLDAvis@3.3.1/pyLDAvis/js/ldavis.v1.0.0.css\">\n",
       "\n",
       "\n",
       "<div id=\"ldavis_el1565629803829673925262640437\"></div>\n",
       "<script type=\"text/javascript\">\n",
       "\n",
       "var ldavis_el1565629803829673925262640437_data = {\"mdsDat\": {\"x\": [269.5624084472656, 1.782994270324707, 220.81143188476562, 50.533992767333984], \"y\": [-124.80339813232422, -295.0796813964844, -343.8321228027344, -76.05093383789062], \"topics\": [1, 2, 3, 4], \"cluster\": [1, 1, 1, 1], \"Freq\": [30.285851668791153, 28.829607667267034, 24.131173007314626, 16.75336765662719]}, \"tinfo\": {\"Term\": [\"walk\", \"minute\", \"bathroom\", \"min\", \"line\", \"building\", \"high\", \"station\", \"blueground\", \"amenity\", \"downtown\", \"fully\", \"cdc\", \"night\", \"share\", \"wipe\", \"kitchen\", \"handle\", \"bus\", \"stop\", \"airport\", \"sanitize\", \"full\", \"follow\", \"guidance\", \"cleaning\", \"distance\", \"experience\", \"train\", \"love\", \"airport\", \"drive\", \"beach\", \"logan\", \"mile\", \"museum\", \"adventurer\", \"solo\", \"commute\", \"prudential\", \"grocery\", \"college\", \"school\", \"bus\", \"convenient\", \"train\", \"ride\", \"distance\", \"mbta\", \"orange\", \"convention\", \"mgh\", \"stop\", \"min\", \"charles\", \"river\", \"red\", \"food\", \"university\", \"station\", \"subway\", \"minute\", \"walk\", \"line\", \"downtown\", \"harvard\", \"restaurant\", \"close\", \"park\", \"center\", \"place\", \"street\", \"hill\", \"neighborhood\", \"location\", \"away\", \"great\", \"south\", \"free\", \"square\", \"parking\", \"area\", \"private\", \"kitchen\", \"fridge\", \"stove\", \"chair\", \"oven\", \"maker\", \"microwave\", \"couch\", \"double\", \"table\", \"kitchenette\", \"stair\", \"meal\", \"lock\", \"third\", \"wall\", \"first\", \"dishwasher\", \"share\", \"shower\", \"closet\", \"tub\", \"porch\", \"month\", \"entry\", \"netflix\", \"master\", \"small\", \"stock\", \"yard\", \"refrigerator\", \"dining\", \"front\", \"bathroom\", \"full\", \"queen\", \"private\", \"kitchen\", \"use\", \"need\", \"coffee\", \"large\", \"size\", \"living\", \"desk\", \"available\", \"free\", \"area\", \"tv\", \"thing\", \"note\", \"live\", \"bath\", \"unit\", \"please\", \"street\", \"parking\", \"quiet\", \"fully\", \"renovate\", \"include\", \"walk\", \"experience\", \"fitness\", \"touch\", \"concierge\", \"ensure\", \"countertop\", \"contact\", \"chinatown\", \"stainless\", \"reservation\", \"steel\", \"granite\", \"service\", \"hotel\", \"luxurious\", \"booking\", \"glass\", \"theatre\", \"security\", \"professionally\", \"roof\", \"throughout\", \"rental\", \"freedom\", \"harbor\", \"world\", \"district\", \"ceiling\", \"kind\", \"elevator\", \"building\", \"high\", \"feature\", \"check\", \"appliance\", \"old\", \"common\", \"condo\", \"unit\", \"historic\", \"step\", \"include\", \"modern\", \"window\", \"fully\", \"city\", \"brownstone\", \"new\", \"bay\", \"end\", \"amenity\", \"kitchen\", \"area\", \"location\", \"enjoy\", \"large\", \"furnish\", \"living\", \"clean\", \"blueground\", \"handle\", \"cdc\", \"guidance\", \"superior\", \"wipe\", \"speaker\", \"efficiency\", \"thoughtfully\", \"product\", \"hospitality\", \"thoroughly\", \"wear\", \"mask\", \"vacant\", \"vary\", \"protective\", \"seriously\", \"transform\", \"garment\", \"glassware\", \"glove\", \"experienced\", \"micro\", \"dishware\", \"stream\", \"simply\", \"knob\", \"tool\", \"solution\", \"youre\", \"sanitize\", \"follow\", \"safety\", \"surface\", \"equipped\", \"cleaning\", \"night\", \"health\", \"quality\", \"amenity\", \"start\", \"linen\", \"ready\", \"clean\", \"book\", \"fully\", \"property\", \"work\", \"furnish\", \"kitchen\", \"living\", \"design\", \"love\", \"bathroom\", \"well\", \"entire\", \"unit\", \"tv\", \"high\"], \"Freq\": [1964.0, 1292.0, 1713.0, 716.0, 849.0, 904.0, 727.0, 760.0, 292.0, 710.0, 1101.0, 1152.0, 279.0, 646.0, 777.0, 245.0, 2509.0, 236.0, 420.0, 472.0, 357.0, 289.0, 1017.0, 297.0, 213.0, 373.0, 425.0, 268.0, 378.0, 421.0, 354.06293737752384, 201.4754934044079, 164.28169322971482, 134.81286129115753, 301.15011766766605, 120.45602027566058, 94.29741858110428, 98.96794203029494, 89.36030239151421, 105.13394544463787, 100.47868011582784, 138.5821085002089, 154.90653247259024, 399.5269101749363, 196.36392529464803, 359.2389824909953, 177.8036742873388, 394.08502768757296, 128.54594854552647, 189.4401669476187, 216.58284904140083, 113.80034297975368, 429.11890544353287, 641.6501050135822, 168.1106880060849, 131.68873891022056, 241.5869491603484, 138.51587535422354, 293.3142750058486, 663.3774765876517, 379.5325322813598, 1063.8037379712193, 1544.285217547953, 694.3924555672987, 864.9025037660348, 295.26351427717015, 549.1652841999133, 475.0829686685552, 566.0276944833925, 450.47160861356065, 470.24290193781934, 680.7866395798999, 326.5508981101322, 484.43721116880795, 434.22004139702017, 423.3115820044571, 388.72490784703353, 327.48450629455294, 370.0543527457083, 260.9662407422027, 300.7440520532506, 356.4916822790821, 368.7605673362499, 309.12890298707964, 182.21962634183052, 128.49798039383666, 179.61869694110527, 121.72571876921873, 123.27061567904893, 281.63705565872954, 125.25380135922907, 121.35135073789345, 224.40956279003495, 113.677389673092, 85.67232354179656, 95.7916723128323, 139.09108367478956, 116.76441748926845, 80.80599753904131, 289.3463012941508, 111.23676696957384, 631.3243366916273, 157.92401912759598, 309.5105162327987, 72.71803010333912, 118.19201707125528, 134.28323227780865, 77.66576595627906, 97.52804808046199, 79.69552770145683, 258.12640725820626, 126.02387294506809, 80.65434742697481, 137.83536195948793, 165.4341537126823, 181.66341280389702, 1128.9430635770018, 686.7914683087284, 559.6852571842213, 794.2168529841715, 1273.9957559126176, 378.1397356242202, 359.9249210514009, 328.0101437301698, 466.92389310554375, 467.685339295231, 634.8156249270613, 209.77170014322417, 371.87380185203665, 382.7679428636882, 467.4969164431724, 392.5443624706994, 300.01285798592266, 379.45831195545543, 236.29144486019365, 259.1122374376502, 393.46214553987863, 292.7987599783617, 350.66809329241545, 264.52237873569624, 246.967174140491, 309.10496923990416, 261.594214318357, 286.2603647119381, 287.759745534038, 264.4066440595556, 112.68437470995559, 131.47843358235505, 102.88948232735412, 108.28321431864566, 90.91093424009208, 107.80197191496077, 95.9926484545485, 190.9738257275618, 138.78581925578933, 144.9677301915964, 132.89768915365227, 173.1680590907833, 279.9643454161778, 80.35607579792773, 124.3787749896902, 89.28286460174525, 75.68606891362455, 129.9357424813224, 192.04024860632558, 102.46359380885794, 158.76050195426916, 236.76554468705027, 79.82322424201914, 84.03036223689969, 69.92379623410677, 232.4976525524218, 217.31869849024068, 67.9147916721474, 138.11464557328532, 644.649202163066, 508.2236555802313, 393.2519345793337, 384.94208375036175, 268.67998535002386, 198.06870622794358, 362.2862198776982, 259.70236483687967, 595.932056254416, 275.1451271036239, 251.77198460013096, 448.1724271776136, 318.1126793135095, 225.5022050622302, 388.8546721579548, 285.3944463495917, 163.11475127200072, 272.90426407247196, 248.31558270370454, 246.7930457730056, 268.3952679341146, 443.1470107119352, 312.4730714867155, 261.8381616462617, 234.91513187138528, 234.7577100810359, 230.49804895171553, 243.55861291065906, 231.86939705724137, 290.0408235138295, 234.24350119471282, 276.503586372344, 211.40484350768807, 172.465015183341, 241.58496307713853, 139.7907516433498, 143.69417933908545, 168.03678119395144, 127.55197365685268, 111.86691676275635, 117.56321784345978, 96.13757421616442, 100.01872828513913, 94.16789839034925, 95.13584651792927, 91.21268231853378, 93.14740958323691, 96.03141894817317, 93.11887273133505, 94.08781260367711, 98.90552080798857, 98.8727462838496, 91.66369982022798, 103.1012733808521, 124.27084117877007, 95.31525968362607, 133.85725397269374, 96.12478476154591, 91.69515968303632, 201.1984876133343, 242.59419259767074, 240.0123575230068, 134.0759973817139, 177.1783847534711, 232.27577970578906, 258.4612156475806, 364.94778219187094, 120.13343182310746, 190.1052589664591, 362.1869527571244, 153.86275965097283, 263.93473297607835, 123.53372378690418, 401.72052900524596, 215.14710035429007, 416.0416557185758, 182.53738722821456, 221.5192841599244, 282.62480612768957, 483.0293110607254, 335.4283755006384, 216.19060235721014, 196.29954072437897, 315.9718195191114, 206.60362025721997, 177.82276858110205, 221.40353357452574, 201.40375589728433, 178.71884710257703], \"Total\": [1964.0, 1292.0, 1713.0, 716.0, 849.0, 904.0, 727.0, 760.0, 292.0, 710.0, 1101.0, 1152.0, 279.0, 646.0, 777.0, 245.0, 2509.0, 236.0, 420.0, 472.0, 357.0, 289.0, 1017.0, 297.0, 213.0, 373.0, 425.0, 268.0, 378.0, 421.0, 357.04982116068277, 204.47224807026907, 167.30318980888362, 137.94945560948304, 308.2023631537976, 123.28490095605478, 96.87326967417819, 101.77152424142274, 92.98666481642802, 109.58274194522286, 104.74537551822893, 144.92079945844085, 162.56292406307827, 420.2385405895574, 206.55944883408117, 378.010883613047, 190.1091990794284, 425.95831181617206, 139.15576894879482, 205.88209051343853, 236.1015665601555, 124.4112240574365, 472.82655692042033, 716.4187516068877, 187.93957219446781, 149.79430377544807, 274.8866219139158, 158.05181612621632, 334.8400677117423, 760.2161065085895, 436.8474508774515, 1292.1398574409238, 1964.3014701817458, 849.0767300299003, 1101.3031855375323, 355.0133157989796, 789.096096868944, 667.5382100816267, 855.1726878923663, 651.0647338051419, 709.7315283843197, 1206.2673809259486, 479.8613645860645, 852.438852722323, 725.9515868910539, 736.3322164271392, 713.4359843339593, 584.08866504838, 815.4377422758087, 375.0250934946447, 603.6127305983724, 1137.3337260035055, 1418.2468486800037, 2509.300980672358, 187.92906376669384, 133.34421747821233, 186.86411640684878, 129.1967991408604, 133.17604155845254, 316.84778697424963, 144.94039812215726, 140.93337508935278, 261.638293135081, 136.04439699567598, 102.65392142658212, 115.6363484263553, 168.84990635779477, 141.7560828607438, 98.49078671828856, 354.78425566161246, 136.6280954780288, 777.6338142117899, 194.91948784510004, 389.5850547577811, 94.30414331005085, 155.50211069250236, 177.79225430763526, 103.28061622028004, 130.3404891379431, 107.2345441250979, 348.9890493188788, 172.26575466422307, 111.22348204764339, 190.90208527494698, 229.3013560802785, 254.34410281215477, 1713.5038866080104, 1017.8156187736244, 863.6434563186971, 1418.2468486800037, 2509.300980672358, 619.3666931681149, 598.319923018601, 534.5030787999434, 846.0693153743119, 855.109448333978, 1340.1475363058678, 316.72143521116146, 716.0464368983924, 815.4377422758087, 1137.3337260035055, 904.6093191082963, 593.139435598015, 872.5228594848891, 414.46449866647947, 552.9584483633968, 1307.8271256489463, 715.0132266491471, 1206.2673809259486, 603.6127305983724, 511.8122778942908, 1152.3012806981442, 632.2584473381752, 992.4595318408063, 1964.3014701817458, 268.2534291112815, 115.12749949002452, 134.65328767505216, 105.37471476087532, 111.24117767203961, 93.68184281948292, 114.17273270146336, 102.46286841494873, 204.24884971925366, 148.5156580286231, 155.14976210373914, 142.57035794868352, 190.29419030415409, 308.3131126106956, 92.00109737131395, 142.49979107169892, 102.83886474223782, 89.80276081602793, 154.56806944063035, 234.96063646798075, 129.98557776898394, 204.39328324949616, 305.27162054060386, 103.49028939682808, 110.32207449066418, 91.99497565768037, 308.74141166210836, 289.15235075305196, 90.81914059639755, 186.11230180154016, 904.9679206314544, 727.3686861886071, 559.873895817122, 566.903892073954, 405.1381427788233, 285.0408310238741, 630.257669189591, 425.84938844915297, 1307.8271256489463, 476.7649270330825, 418.8285169399067, 992.4595318408063, 714.3778827557936, 398.6613216935588, 1152.3012806981442, 686.5140651599008, 239.44402123192717, 681.5907206450155, 572.2338175432583, 575.8974653915726, 710.6560144390389, 2509.300980672358, 1137.3337260035055, 725.9515868910539, 580.6755974196843, 846.0693153743119, 771.8827607850162, 1340.1475363058678, 1022.5513737364913, 292.26534502584116, 236.59180056472894, 279.33147856141596, 213.72620189012864, 174.95209018857213, 245.51444873967762, 142.14842088107793, 146.12769399808286, 170.96836328381704, 130.21326575669087, 114.31126896001652, 120.27222864581667, 98.40622836172999, 102.38148473190711, 96.41837660031572, 97.41286130680415, 93.4363432169003, 95.42469339793345, 98.40697120462734, 95.42449900529984, 96.41776577317033, 101.38505386906704, 101.38768333581321, 94.43231318358609, 106.3659246150653, 128.2112219632572, 100.43659012780797, 141.0641317477917, 101.38195335972505, 98.48377807831744, 216.92146408930986, 289.41702562992697, 297.17180193383837, 152.77768442025555, 219.91144363862517, 318.9976367066723, 373.9416801916555, 646.375950474451, 137.90109091976285, 270.8715706671568, 710.6560144390389, 199.87915979162435, 491.7252321432774, 144.83575805521878, 1022.5513737364913, 364.8285873722169, 1152.3012806981442, 287.69558414482907, 419.00431088798393, 771.8827607850162, 2509.300980672358, 1340.1475363058678, 487.66272897951325, 421.89470033732164, 1713.5038866080104, 609.4916182012087, 353.40700179696006, 1307.8271256489463, 904.6093191082963, 727.3686861886071], \"Category\": [\"Default\", \"Default\", \"Default\", \"Default\", \"Default\", \"Default\", \"Default\", \"Default\", \"Default\", \"Default\", \"Default\", \"Default\", \"Default\", \"Default\", \"Default\", \"Default\", \"Default\", \"Default\", \"Default\", \"Default\", \"Default\", \"Default\", \"Default\", \"Default\", \"Default\", \"Default\", \"Default\", \"Default\", \"Default\", \"Default\", \"Topic1\", \"Topic1\", \"Topic1\", \"Topic1\", \"Topic1\", \"Topic1\", \"Topic1\", \"Topic1\", \"Topic1\", \"Topic1\", \"Topic1\", \"Topic1\", \"Topic1\", \"Topic1\", \"Topic1\", \"Topic1\", \"Topic1\", \"Topic1\", \"Topic1\", \"Topic1\", \"Topic1\", \"Topic1\", \"Topic1\", \"Topic1\", \"Topic1\", \"Topic1\", \"Topic1\", \"Topic1\", \"Topic1\", \"Topic1\", \"Topic1\", \"Topic1\", \"Topic1\", \"Topic1\", \"Topic1\", \"Topic1\", \"Topic1\", \"Topic1\", \"Topic1\", \"Topic1\", \"Topic1\", \"Topic1\", \"Topic1\", \"Topic1\", \"Topic1\", \"Topic1\", \"Topic1\", \"Topic1\", \"Topic1\", \"Topic1\", \"Topic1\", \"Topic1\", \"Topic1\", \"Topic1\", \"Topic2\", \"Topic2\", \"Topic2\", \"Topic2\", \"Topic2\", \"Topic2\", \"Topic2\", \"Topic2\", \"Topic2\", \"Topic2\", \"Topic2\", \"Topic2\", \"Topic2\", \"Topic2\", \"Topic2\", \"Topic2\", \"Topic2\", \"Topic2\", \"Topic2\", \"Topic2\", \"Topic2\", \"Topic2\", \"Topic2\", \"Topic2\", \"Topic2\", \"Topic2\", \"Topic2\", \"Topic2\", \"Topic2\", \"Topic2\", \"Topic2\", \"Topic2\", \"Topic2\", \"Topic2\", \"Topic2\", \"Topic2\", \"Topic2\", \"Topic2\", \"Topic2\", \"Topic2\", \"Topic2\", \"Topic2\", \"Topic2\", \"Topic2\", \"Topic2\", \"Topic2\", \"Topic2\", \"Topic2\", \"Topic2\", \"Topic2\", \"Topic2\", \"Topic2\", \"Topic2\", \"Topic2\", \"Topic2\", \"Topic2\", \"Topic2\", \"Topic2\", \"Topic2\", \"Topic2\", \"Topic2\", \"Topic3\", \"Topic3\", \"Topic3\", \"Topic3\", \"Topic3\", \"Topic3\", \"Topic3\", \"Topic3\", \"Topic3\", \"Topic3\", \"Topic3\", \"Topic3\", \"Topic3\", \"Topic3\", \"Topic3\", \"Topic3\", \"Topic3\", \"Topic3\", \"Topic3\", \"Topic3\", \"Topic3\", \"Topic3\", \"Topic3\", \"Topic3\", \"Topic3\", \"Topic3\", \"Topic3\", \"Topic3\", \"Topic3\", \"Topic3\", \"Topic3\", \"Topic3\", \"Topic3\", \"Topic3\", \"Topic3\", \"Topic3\", \"Topic3\", \"Topic3\", \"Topic3\", \"Topic3\", \"Topic3\", \"Topic3\", \"Topic3\", \"Topic3\", \"Topic3\", \"Topic3\", \"Topic3\", \"Topic3\", \"Topic3\", \"Topic3\", \"Topic3\", \"Topic3\", \"Topic3\", \"Topic3\", \"Topic3\", \"Topic3\", \"Topic3\", \"Topic3\", \"Topic3\", \"Topic4\", \"Topic4\", \"Topic4\", \"Topic4\", \"Topic4\", \"Topic4\", \"Topic4\", \"Topic4\", \"Topic4\", \"Topic4\", \"Topic4\", \"Topic4\", \"Topic4\", \"Topic4\", \"Topic4\", \"Topic4\", \"Topic4\", \"Topic4\", \"Topic4\", \"Topic4\", \"Topic4\", \"Topic4\", \"Topic4\", \"Topic4\", \"Topic4\", \"Topic4\", \"Topic4\", \"Topic4\", \"Topic4\", \"Topic4\", \"Topic4\", \"Topic4\", \"Topic4\", \"Topic4\", \"Topic4\", \"Topic4\", \"Topic4\", \"Topic4\", \"Topic4\", \"Topic4\", \"Topic4\", \"Topic4\", \"Topic4\", \"Topic4\", \"Topic4\", \"Topic4\", \"Topic4\", \"Topic4\", \"Topic4\", \"Topic4\", \"Topic4\", \"Topic4\", \"Topic4\", \"Topic4\", \"Topic4\", \"Topic4\", \"Topic4\", \"Topic4\", \"Topic4\", \"Topic4\"], \"logprob\": [30.0, 29.0, 28.0, 27.0, 26.0, 25.0, 24.0, 23.0, 22.0, 21.0, 20.0, 19.0, 18.0, 17.0, 16.0, 15.0, 14.0, 13.0, 12.0, 11.0, 10.0, 9.0, 8.0, 7.0, 6.0, 5.0, 4.0, 3.0, 2.0, 1.0, -4.791, -5.3549, -5.5589, -5.7566, -4.9529, -5.8692, -6.1141, -6.0657, -6.1678, -6.0053, -6.0506, -5.7291, -5.6177, -4.6702, -5.3806, -4.7765, -5.4798, -4.684, -5.8042, -5.4164, -5.2825, -5.9261, -4.5988, -4.1965, -5.5359, -5.7801, -5.1733, -5.7295, -4.9793, -4.1632, -4.7216, -3.6909, -3.3182, -4.1175, -3.8979, -4.9727, -4.3521, -4.497, -4.3219, -4.5502, -4.5073, -4.1373, -4.8719, -4.4775, -4.587, -4.6124, -4.6976, -4.8691, -4.7469, -5.0961, -4.9543, -4.7842, -4.7504, -4.9268, -5.406, -5.7553, -5.4204, -5.8095, -5.7969, -4.9706, -5.7809, -5.8126, -5.1978, -5.8779, -6.1607, -6.0491, -5.6761, -5.8511, -6.2192, -4.9436, -5.8996, -4.1634, -5.5491, -4.8763, -6.3247, -5.8389, -5.7113, -6.2588, -6.0311, -6.233, -5.0578, -5.7748, -6.2211, -5.6852, -5.5027, -5.4091, -3.5822, -4.0792, -4.2839, -3.9339, -3.4613, -4.676, -4.7253, -4.8182, -4.4651, -4.4634, -4.1579, -5.2652, -4.6927, -4.6638, -4.4639, -4.6386, -4.9074, -4.6725, -5.1462, -5.054, -4.6363, -4.9318, -4.7514, -5.0333, -5.102, -4.8776, -5.0444, -4.9543, -4.9491, -4.8559, -5.7088, -5.5545, -5.7997, -5.7486, -5.9235, -5.753, -5.8691, -5.1812, -5.5004, -5.4568, -5.5438, -5.2791, -4.7987, -6.0469, -5.61, -5.9415, -6.1068, -5.5663, -5.1756, -5.8038, -5.3659, -4.9663, -6.0535, -6.0022, -6.1859, -4.9845, -5.052, -6.2151, -5.5053, -3.9646, -4.2024, -4.4589, -4.4803, -4.8398, -5.1447, -4.5409, -4.8738, -4.0432, -4.816, -4.9048, -4.3282, -4.6709, -5.015, -4.4701, -4.7795, -5.3389, -4.8242, -4.9186, -4.9248, -4.8409, -4.3394, -4.6888, -4.8656, -4.9741, -4.9748, -4.9931, -4.938, -4.9872, -4.3984, -4.6121, -4.4462, -4.7147, -4.9182, -4.5812, -5.1283, -5.1008, -4.9443, -5.2199, -5.3511, -5.3015, -5.5027, -5.4631, -5.5234, -5.5131, -5.5552, -5.5343, -5.5038, -5.5346, -5.5242, -5.4743, -5.4746, -5.5503, -5.4327, -5.246, -5.5112, -5.1717, -5.5028, -5.55, -4.7641, -4.577, -4.5877, -5.17, -4.8913, -4.6205, -4.5137, -4.1687, -5.2798, -4.8209, -4.1763, -5.0324, -4.4927, -5.2519, -4.0727, -4.6971, -4.0377, -4.8615, -4.6679, -4.4243, -3.8884, -4.253, -4.6923, -4.7888, -4.3128, -4.7376, -4.8877, -4.6685, -4.7631, -4.8826], \"loglift\": [30.0, 29.0, 28.0, 27.0, 26.0, 25.0, 24.0, 23.0, 22.0, 21.0, 20.0, 19.0, 18.0, 17.0, 16.0, 15.0, 14.0, 13.0, 12.0, 11.0, 10.0, 9.0, 8.0, 7.0, 6.0, 5.0, 4.0, 3.0, 2.0, 1.0, 1.1861, 1.1797, 1.1763, 1.1715, 1.1713, 1.1713, 1.1675, 1.1666, 1.1547, 1.153, 1.1529, 1.1498, 1.1462, 1.1439, 1.1439, 1.1436, 1.1276, 1.1167, 1.1152, 1.1113, 1.1082, 1.1053, 1.0975, 1.0843, 1.083, 1.0657, 1.0654, 1.0626, 1.0621, 1.0582, 1.0538, 1.0, 0.9539, 0.9934, 0.9529, 1.0102, 0.832, 0.8544, 0.7818, 0.8262, 0.7829, 0.6225, 0.8096, 0.6294, 0.6806, 0.6409, 0.5873, 0.6159, 0.4044, 0.8319, 0.4978, 0.0344, -0.1525, -0.8995, 1.2129, 1.2067, 1.2042, 1.1842, 1.1665, 1.126, 1.0978, 1.0942, 1.0903, 1.0642, 1.0629, 1.0555, 1.0499, 1.0498, 1.0459, 1.0399, 1.0382, 1.0353, 1.0333, 1.0137, 0.9838, 0.9694, 0.9631, 0.9587, 0.9538, 0.947, 0.9422, 0.9312, 0.9224, 0.9181, 0.9173, 0.9072, 0.8265, 0.8504, 0.81, 0.6639, 0.5659, 0.7503, 0.7355, 0.7555, 0.6493, 0.6403, 0.4966, 0.8318, 0.5886, 0.4875, 0.3547, 0.4089, 0.5622, 0.4111, 0.6818, 0.4857, 0.0426, 0.351, 0.0083, 0.4188, 0.5151, -0.0721, 0.3613, 0.0005, -0.677, 1.4072, 1.4002, 1.3978, 1.3978, 1.3947, 1.3916, 1.3642, 1.3564, 1.3545, 1.3539, 1.3538, 1.3514, 1.3274, 1.3252, 1.2863, 1.2857, 1.2803, 1.2506, 1.2481, 1.22, 1.1837, 1.169, 1.1675, 1.162, 1.1494, 1.1473, 1.138, 1.1361, 1.131, 1.1234, 1.0825, 1.0632, 1.0684, 1.0346, 1.011, 1.0576, 0.868, 0.9271, 0.6357, 0.8719, 0.9127, 0.6267, 0.6127, 0.8519, 0.3354, 0.5439, 1.0378, 0.5064, 0.5868, 0.5743, 0.4479, -0.3122, 0.1297, 0.4019, 0.5167, 0.1396, 0.2131, -0.2835, -0.0622, 1.7789, 1.7766, 1.7764, 1.7757, 1.7723, 1.7704, 1.7698, 1.7698, 1.7693, 1.7659, 1.765, 1.7638, 1.7632, 1.7632, 1.763, 1.7629, 1.7625, 1.7624, 1.7621, 1.7621, 1.7621, 1.7618, 1.7615, 1.7568, 1.7554, 1.7554, 1.7342, 1.7341, 1.7333, 1.7151, 1.7113, 1.6101, 1.573, 1.656, 1.5705, 1.4693, 1.4172, 1.2149, 1.6486, 1.4325, 1.1125, 1.5249, 1.1644, 1.6275, 0.8523, 1.2585, 0.7678, 1.3316, 1.1492, 0.7819, 0.1389, 0.4014, 0.9731, 1.0215, 0.0959, 0.7047, 1.0997, 0.0104, 0.2844, 0.383]}, \"token.table\": {\"Topic\": [1, 2, 3, 4, 1, 2, 3, 4, 1, 2, 3, 4, 1, 2, 3, 4, 1, 2, 3, 4, 1, 2, 3, 4, 1, 2, 3, 4, 1, 2, 3, 4, 1, 2, 3, 4, 1, 2, 3, 4, 1, 2, 3, 4, 1, 2, 3, 4, 1, 2, 3, 4, 1, 2, 3, 4, 1, 2, 3, 4, 1, 2, 3, 4, 1, 2, 3, 4, 1, 2, 3, 4, 1, 2, 3, 4, 1, 2, 3, 4, 1, 2, 3, 4, 1, 2, 3, 4, 1, 2, 3, 4, 1, 2, 3, 4, 1, 2, 3, 4, 1, 2, 3, 4, 1, 2, 3, 4, 1, 2, 3, 4, 1, 2, 3, 4, 1, 2, 3, 4, 1, 2, 3, 4, 1, 2, 3, 4, 1, 2, 3, 4, 1, 2, 3, 4, 1, 2, 3, 4, 1, 2, 3, 4, 1, 2, 3, 4, 1, 2, 3, 4, 1, 2, 3, 4, 1, 2, 3, 4, 1, 2, 3, 4, 1, 2, 3, 4, 1, 2, 3, 4, 1, 2, 3, 4, 1, 2, 3, 4, 1, 2, 3, 4, 1, 2, 3, 4, 1, 2, 3, 4, 1, 2, 3, 4, 1, 2, 3, 4, 1, 2, 3, 4, 1, 2, 3, 4, 1, 2, 3, 4, 1, 2, 3, 4, 1, 2, 3, 4, 1, 2, 3, 4, 1, 2, 3, 4, 1, 2, 3, 4, 1, 2, 3, 4, 1, 2, 3, 4, 1, 2, 3, 4, 1, 2, 3, 4, 1, 2, 3, 4, 1, 2, 3, 4, 1, 2, 3, 4, 1, 2, 3, 4, 1, 2, 3, 4, 1, 2, 3, 4, 1, 2, 3, 4, 1, 2, 3, 4, 1, 2, 3, 4, 1, 2, 3, 4, 1, 2, 3, 4, 1, 2, 3, 4, 1, 2, 3, 4, 1, 2, 3, 4, 1, 2, 3, 4, 1, 2, 3, 4, 1, 2, 3, 4, 1, 2, 3, 4, 1, 2, 3, 4, 1, 2, 3, 4, 1, 2, 3, 4, 1, 2, 3, 4, 1, 2, 3, 4, 1, 2, 3, 4, 1, 2, 3, 4, 1, 2, 3, 4, 1, 2, 3, 4, 1, 2, 3, 4, 1, 2, 3, 4, 1, 2, 3, 4, 1, 2, 3, 4, 1, 2, 3, 4, 1, 2, 3, 4, 1, 2, 3, 4, 1, 2, 3, 4, 1, 2, 3, 4, 1, 2, 3, 4, 1, 2, 3, 4, 1, 2, 3, 4, 1, 2, 3, 4, 1, 2, 3, 4, 1, 2, 3, 4, 1, 2, 3, 4, 1, 2, 3, 4, 1, 2, 3, 4, 1, 2, 3, 4, 1, 2, 3, 4, 1, 2, 3, 4, 1, 2, 3, 4, 1, 2, 3, 4, 1, 2, 3, 4, 1, 2, 3, 4, 1, 2, 3, 4, 1, 2, 3, 4, 1, 2, 3, 4, 1, 2, 3, 4, 1, 2, 3, 4, 1, 2, 3, 4, 1, 2, 3, 4, 1, 2, 3, 4, 1, 2, 3, 4, 1, 2, 3, 4, 1, 2, 3, 4, 1, 2, 3, 4, 1, 2, 3, 4, 1, 2, 3, 4, 1, 2, 3, 4, 1, 2, 3, 4, 1, 2, 3, 4, 1, 2, 3, 4, 1, 2, 3, 4, 1, 2, 3, 4, 1, 2, 3, 4, 1, 2, 3, 4, 1, 2, 3, 4, 1, 2, 3, 4, 1, 2, 3, 4, 1, 2, 3, 4, 1, 2, 3, 4, 1, 2, 3, 4, 1, 2, 3, 4, 1, 2, 3, 4, 1, 2, 3, 4, 1, 2, 3, 4, 1, 2, 3, 4, 1, 2, 3, 4, 1, 2, 3, 4, 1, 2, 3, 4, 1, 2, 3, 4, 1, 2, 3, 4, 1, 2, 3, 4, 1, 2, 3, 4, 1, 2, 3, 4, 1, 2, 3, 4, 1, 2, 3, 4, 1, 2, 3, 4, 1, 2, 3, 4, 1, 2, 3, 4, 1, 2, 3, 4, 1, 2, 3, 4, 1, 2, 3, 4, 1, 2, 3, 4, 1, 2, 3, 4, 1, 2, 3, 4, 1, 2, 3, 4, 1, 2, 3, 4, 1, 2, 3, 4, 1, 2, 3, 4, 1, 2, 3, 4, 1, 2, 3, 4, 1, 2, 3, 4, 1, 2, 3, 4, 1, 2, 3, 4, 1, 2, 3, 4, 1, 2, 3, 4, 1, 2, 3, 4, 1, 2, 3, 4, 1, 2, 3, 4, 1, 2, 3, 4, 1, 2, 3, 4, 1, 2, 3, 4, 1, 2, 3, 4, 1, 2, 3, 4, 1, 2, 3, 4, 1, 2, 3, 4, 1, 2, 3, 4, 1, 2, 3, 4, 1, 2, 3, 4, 1, 2, 3, 4, 1, 2, 3, 4, 1, 2, 3, 4, 1, 2, 3, 4, 1, 2, 3, 4, 1, 2, 3, 4, 1, 2, 3, 4, 1, 2, 3, 4, 1, 2, 3, 4, 1, 2, 3, 4, 1, 2, 3, 4, 1, 2, 3, 4, 1, 2, 3, 4, 1, 2, 3, 4, 1, 2, 3, 4, 1, 2, 3, 4, 1, 2, 3, 4, 1, 2, 3, 4, 1, 2, 3, 4], \"Freq\": [0.9703399123014832, 0.010322765024483864, 0.010322765024483864, 0.010322765024483864, 0.9914582756244814, 0.002800729592159552, 0.002800729592159552, 0.002800729592159552, 0.05487887136336264, 0.057693172458919695, 0.37711634680464584, 0.5093884982958276, 0.04196099602816414, 0.293726972197149, 0.6639710547985973, 0.0024682938840096553, 0.31301278759309625, 0.410609471365101, 0.2743258138456349, 0.000879249403351394, 0.27512182150269465, 0.5195193786751391, 0.20389739055529654, 0.0013965574695568256, 0.5744689564888219, 0.06382988405431354, 0.2186513049520102, 0.14259867714261537, 0.2965864803863552, 0.4683896245125976, 0.23329058518195014, 0.0018084541486972881, 0.09746111538187818, 0.6588838279409609, 0.05894354882377063, 0.18441743988427248, 0.33727471897518546, 0.06465888394861069, 0.43338927619609324, 0.1642685159775515, 0.980256265211339, 0.005977172348849628, 0.005977172348849628, 0.005977172348849628, 0.003421548319085122, 0.003421548319085122, 0.003421548319085122, 0.9922490125346853, 0.2878063935622282, 0.11786357069691249, 0.005482026544042441, 0.5893178534845624, 0.11228086637649583, 0.007017554148530989, 0.8701767144178427, 0.007017554148530989, 0.2798148797171399, 0.033410731906524174, 0.68074366259543, 0.004176341488315522, 0.029835311710453075, 0.21216221660766632, 0.712732446416379, 0.04530547333809541, 0.9518403510511804, 0.04521241667493107, 0.0023796008776279507, 0.0023796008776279507, 0.0035799760383258498, 0.0035799760383258498, 0.0035799760383258498, 0.9916533626162605, 0.11758507206132798, 0.12796022547850397, 0.7504694305090639, 0.0034583844723919993, 0.691175510874286, 0.05222214971050161, 0.2549669662336255, 0.0015359455797206356, 0.026757411193456638, 0.963266802964439, 0.005351482238691328, 0.005351482238691328, 0.8939043440311994, 0.026604295953309508, 0.07449202866926662, 0.005320859190661901, 0.07055869709002087, 0.24871940724232355, 0.6791274594914508, 0.0017639674272505216, 0.048798165397354126, 0.009759633079470824, 0.9369247756291992, 0.009759633079470824, 0.27676053506018955, 0.19081910575202543, 0.41514080259028435, 0.11653075160429034, 0.162339031821376, 0.21808195238654726, 0.22688346615999536, 0.3931342818806816, 0.018719496570728102, 0.10162012424109541, 0.1898691795030993, 0.6899471593211215, 0.7115697540997944, 0.206729739085835, 0.0029960831751570287, 0.07939620414166126, 0.10780701027176952, 0.795718409148775, 0.09497284238227315, 0.002566833577899274, 0.20766952409182596, 0.6136540892082786, 0.10851200357951267, 0.06922317469727532, 0.9591445846243847, 0.03450160376346707, 0.006900320752693415, 0.006900320752693415, 0.214198107535269, 0.2094381495900408, 0.5743682587242028, 0.0015866526484094, 0.9571264887895657, 0.021508460422237433, 0.010754230211118716, 0.010754230211118716, 0.009489942651510654, 0.009489942651510654, 0.9774640931055973, 0.009489942651510654, 0.3780679375549312, 0.009392992237389595, 0.6105444954303236, 0.002348248059347399, 0.035034634849803604, 0.008758658712450901, 0.9459351409446973, 0.008758658712450901, 0.9488793715626002, 0.029047327700895922, 0.019364885133930615, 0.004841221283482654, 0.919095977047282, 0.050825583984181494, 0.02964825732410587, 0.0042354653320151245, 0.041396326198463576, 0.8624234624679912, 0.08969204009667109, 0.00689938769974393, 0.01067442708110382, 0.01067442708110382, 0.9713728643804477, 0.01067442708110382, 0.0020505975555946375, 0.15789601178078708, 0.3978159257853596, 0.44292907200844167, 0.08209106523739237, 0.6630432192250924, 0.09156311122632227, 0.16102478181180813, 0.0697771712889408, 0.719577078917202, 0.2049704406612636, 0.0043610732055588, 0.009401507142620781, 0.009401507142620781, 0.009401507142620781, 0.9683552356899405, 0.014638277676362842, 0.8124244110381378, 0.16102105443999126, 0.007319138838181421, 0.9249731465975851, 0.037562361283150665, 0.03521471370295375, 0.0023476475801969166, 0.1846205201082054, 0.0032389564931264107, 0.7514379064053273, 0.05830121687627539, 0.12062437296504024, 0.8585617134570511, 0.01419110270176944, 0.00709555135088472, 0.7854331226489683, 0.10805380531240141, 0.09170953223993733, 0.01543625790177163, 0.9830184873348886, 0.004890639240472083, 0.004890639240472083, 0.004890639240472083, 0.0068433297798644495, 0.0068433297798644495, 0.0068433297798644495, 0.9854394883004807, 0.08596959924262026, 0.0483578995739739, 0.7414877934675997, 0.11820819895860286, 0.2205253671565446, 0.32471057998640823, 0.4288957928162718, 0.026046303207465902, 0.27726324425449717, 0.234209945457215, 0.4047010086944524, 0.08438446564267305, 0.00898947692686419, 0.00898947692686419, 0.9708635081013325, 0.00898947692686419, 0.24617508865877924, 0.20373110785554144, 0.04527357952345366, 0.5036685721984219, 0.1355530254596891, 0.7552239989896965, 0.10650594857547001, 0.009682358961406365, 0.006269638924751843, 0.04702229193563882, 0.2194373623663145, 0.7272781152712138, 0.007455636286275862, 0.003727818143137931, 0.9841439897884138, 0.003727818143137931, 0.00986313097506953, 0.00986313097506953, 0.00986313097506953, 0.9764499665318834, 0.03750844637853855, 0.2268367947654474, 0.7019437822269357, 0.03393621339010631, 0.1691168619873229, 0.8145795519056054, 0.011274457465821527, 0.0028186143664553818, 0.008686022057541928, 0.008686022057541928, 0.9815204925022378, 0.008686022057541928, 0.0033650568240072712, 0.0033650568240072712, 0.1850781253203999, 0.8076136377617451, 0.8794584169092875, 0.10755966249969703, 0.006327038970570413, 0.006327038970570413, 0.45374402093207683, 0.46968637842428496, 0.07603278188591558, 0.0012263351917083157, 0.2125803312390224, 0.009662742329046473, 0.7730193863237178, 0.009662742329046473, 0.02128462686839027, 0.9684505225117572, 0.005321156717097568, 0.005321156717097568, 0.1729939853667301, 0.7155660303805654, 0.11008708159701007, 0.003931681485607502, 0.15719939549835707, 0.6749749044210707, 0.16702435771700438, 0.0009824962218647317, 0.03297748656234849, 0.26815903546751796, 0.33758532296719895, 0.3610166949983413, 0.01943300299224817, 0.31481464847442037, 0.29797271254780533, 0.3666359897870822, 0.010479489129353044, 0.010479489129353044, 0.010479489129353044, 0.9745924890298331, 0.009723950206047749, 0.11668740247257299, 0.8654315683382496, 0.009723950206047749, 0.010371532590296391, 0.010371532590296391, 0.010371532590296391, 0.9749240634878608, 0.009863386779785533, 0.009863386779785533, 0.009863386779785533, 0.9764752911987679, 0.03507040363747764, 0.028056322909982112, 0.9328727367569053, 0.007014080727495528, 0.5452486397404777, 0.10652672653027327, 0.23267679742138633, 0.11633839871069317, 0.9546960856768031, 0.019093921713536063, 0.009546960856768032, 0.009546960856768032, 0.004678883502145775, 0.004678883502145775, 0.004678883502145775, 0.9872444189527585, 0.004226689165106594, 0.004226689165106594, 0.004226689165106594, 0.989045264634943, 0.22660922680633225, 0.00906436907225329, 0.7614070020692764, 0.00906436907225329, 0.8309547469679669, 0.1633741536411596, 0.002816795752433786, 0.002816795752433786, 0.06526416825256742, 0.007251574250285269, 0.058012594002282154, 0.8701889100342323, 0.046743832454706175, 0.00824891160965403, 0.6984078496173746, 0.2460925296880119, 0.6814468180451974, 0.1542112065301058, 0.12712004862616832, 0.037510834020836555, 0.34398503476456466, 0.07760637979444446, 0.5768041741478981, 0.002097469724174175, 0.00874804390763764, 0.00874804390763764, 0.00874804390763764, 0.9797809176554155, 0.0843298547370899, 0.0032434559514265345, 0.9081676663994297, 0.0032434559514265345, 0.11385854674639324, 0.28817295902184487, 0.4514037959503024, 0.1461016750285577, 0.23122879012172673, 0.011010894767701273, 0.7487408442036866, 0.011010894767701273, 0.12314186396133499, 0.5077111154910705, 0.17654319008048996, 0.19248388444441683, 0.03675270801603773, 0.8379617427656603, 0.007350541603207546, 0.11760866565132073, 0.007088974267306293, 0.007088974267306293, 0.04253384560383776, 0.9499225518190433, 0.17019882104611317, 0.5519642321426032, 0.2777550204571986, 0.0011819362572646748, 0.8173584029037761, 0.17784022887387635, 0.002355499720183793, 0.0011777498600918964, 0.012201936381925868, 0.16879345328330783, 0.28064453678429496, 0.5368852008047382, 0.17130538376251583, 0.5694094446190667, 0.12063759419895481, 0.13993960927078758, 0.09401949903763615, 0.47382842768967426, 0.18206950607288272, 0.24997247760006439, 0.5978360097794398, 0.039947567473741376, 0.3609056095903531, 0.001377502326680737, 0.05330177667335452, 0.8232163286218087, 0.11844839260745449, 0.0059224196303727245, 0.9786193022911771, 0.007249031868823534, 0.007249031868823534, 0.007249031868823534, 0.5238273906339702, 0.007110779058379687, 0.0023702596861265622, 0.4645708984808062, 0.02173887113463499, 0.09782492010585747, 0.8695548453853997, 0.010869435567317495, 0.007508858112148409, 0.9235895477942543, 0.05256200678503886, 0.015017716224296818, 0.009767391072893386, 0.009767391072893386, 0.009767391072893386, 0.9767391072893387, 0.07460282565912103, 0.7460282565912103, 0.17718171094041246, 0.00932535320739013, 0.927018699795825, 0.057489531770283715, 0.014372382942570929, 0.007186191471285464, 0.13836479807376342, 0.8301887884425805, 0.02594339963883064, 0.008647799879610214, 0.9163160387150441, 0.04822715993237074, 0.032151439954913826, 0.008037859988728456, 0.010589595513305891, 0.010589595513305891, 0.010589595513305891, 0.974242787224142, 0.009468268750268441, 0.8900172625252335, 0.009468268750268441, 0.0915265979192616, 0.9766310579837978, 0.009733864365287021, 0.009733864365287021, 0.003244621455095674, 0.8961239478447898, 0.10189571369574713, 0.0013958316944622893, 0.0013958316944622893, 0.8234402753485573, 0.14239944611290842, 0.03327813142856012, 0.0007739100332223284, 0.08958843987878341, 0.23237001593559448, 0.4451425606477051, 0.23376983530870046, 0.1406135497710846, 0.7536886267730134, 0.011249083981686768, 0.08999267185349415, 0.9733552046472772, 0.008111293372060643, 0.008111293372060643, 0.008111293372060643, 0.17214870512810562, 0.6016847946225051, 0.22396045133171022, 0.0016713466517291808, 0.567782660837563, 0.27567959772071754, 0.15484981659206262, 0.0011731046711519896, 0.16111647377489194, 0.7518768776161624, 0.08439434340589579, 0.007672213036899617, 0.30810278608439523, 0.29049691259385835, 0.4005336219097138, 0.001467156124211406, 0.02320630894294527, 0.23825143848090477, 0.174820860703521, 0.5646868509450016, 0.3002786656554498, 0.4343725736008224, 0.0893959386302484, 0.17649967370587508, 0.19646308144291658, 0.1052480793444196, 0.6946373236731693, 0.0035082693114806534, 0.9180011701292853, 0.06800008667624335, 0.004857149048303097, 0.004857149048303097, 0.007740129837966977, 0.9442958402319712, 0.03870064918983489, 0.007740129837966977, 0.6618546265724963, 0.21165315796752973, 0.09237900264881131, 0.03274192498945211, 0.49866410156991414, 0.4390232123456055, 0.033133827346838146, 0.029820444612154332, 0.6622222364419112, 0.11130969506151274, 0.19443972048719946, 0.03240662008119991, 0.31607806901577346, 0.4097826292992107, 0.07552307843739721, 0.19859772477982227, 0.2315081116242094, 0.7588321436571308, 0.006430780878450261, 0.006430780878450261, 0.26018037716314135, 0.5598461232182499, 0.1417242704872396, 0.0387802730188964, 0.007679709084852716, 0.007679709084852716, 0.007679709084852716, 0.9830027628611476, 0.00851206410599143, 0.025536192317974292, 0.8171581541751773, 0.14896112185485003, 0.2641681144530212, 0.020855377456817464, 0.07994561358446695, 0.6360890124329327, 0.010702473636822776, 0.010702473636822776, 0.010702473636822776, 0.9739251009508726, 0.9581800759510687, 0.009125524532867321, 0.02737657359860196, 0.009125524532867321, 0.0036917864711198726, 0.0036917864711198726, 0.29165113121846997, 0.7014394295127758, 0.13199891594840304, 0.6484157274658395, 0.17715643982548832, 0.042841753421850114, 0.488460341413761, 0.4825988173167959, 0.027353779119170616, 0.001953841365655044, 0.04833060629496787, 0.013808744655705106, 0.08285246793423064, 0.8561421686537165, 0.8803629595178529, 0.11277376754154314, 0.007275726938164074, 0.003637863469082037, 0.05762116209551737, 0.7228836699255816, 0.036668012242601966, 0.17810177374978098, 0.2657141248286748, 0.4143875041971, 0.221428437357229, 0.09964279681075305, 0.1441339352871408, 0.07861851015662226, 0.7763577877966448, 0.0032757712565259275, 0.013466593533286195, 0.047133077366501686, 0.9359282505633906, 0.006733296766643098, 0.6957327531822528, 0.18882364339554766, 0.11405454970200865, 0.0012672727744667627, 0.9363039814061331, 0.057861481997008225, 0.005260134727000748, 0.005260134727000748, 0.8812084082841831, 0.03337910637440088, 0.0801098552985621, 0.006675821274880175, 0.1307837399485437, 0.007693161173443748, 0.7847024396912622, 0.07693161173443748, 0.006545458545170999, 0.006545458545170999, 0.111272795267907, 0.8770914450529139, 0.0034552217438606546, 0.0034552217438606546, 0.15548497847372944, 0.8396188837581391, 0.9534769437332237, 0.03690878491870543, 0.006151464153117572, 0.006151464153117572, 0.0064696415218157355, 0.0064696415218157355, 0.8410533978360456, 0.14233211347994618, 0.010479467781257303, 0.010479467781257303, 0.010479467781257303, 0.9745905036569291, 0.07882531766222058, 0.010510042354962744, 0.9091186637042773, 0.005255021177481372, 0.1131638033117128, 0.8114359078373952, 0.00900166617252261, 0.06558356782837901, 0.11286711371560298, 0.8105910894120578, 0.07182452690992917, 0.005130323350709226, 0.009956530769587817, 0.02986959230876345, 0.009956530769587817, 0.9458704231108426, 0.15202732264656982, 0.5472983615276513, 0.10291080302229343, 0.19763551944054078, 0.18911768185509562, 0.7392782108881011, 0.04011587190865665, 0.028654194220469033, 0.9727671933570718, 0.009825931246031028, 0.009825931246031028, 0.009825931246031028, 0.010153956514592364, 0.050769782572961816, 0.010153956514592364, 0.9341639993424975, 0.5598465088736393, 0.30132411486776917, 0.09416378589617787, 0.042801720861899026, 0.007034900520186608, 0.007034900520186608, 0.007034900520186608, 0.9848860728261252, 0.6959534295902443, 0.09332708825922817, 0.007999464707933843, 0.202653105934324, 0.004895988405195578, 0.05385587245715136, 0.9351337853923554, 0.004895988405195578, 0.10715615971735847, 0.8377663396084389, 0.019482938130428812, 0.04870734532607203, 0.10506347946375535, 0.12007254795857755, 0.005003022831607398, 0.7704655160675393, 0.8721204330238811, 0.05393203281143156, 0.00263083086885032, 0.07103243345895864, 0.05156308260821496, 0.00644538532602687, 0.9345808722738962, 0.00644538532602687, 0.32949045831041196, 0.06685313646877925, 0.6016782282190132, 0.002387612016742116, 0.005804984292723646, 0.7314280208831794, 0.25541930887984043, 0.005804984292723646, 0.9073094430104174, 0.0888274979171038, 0.0021149404265977095, 0.0021149404265977095, 0.022498163450471204, 0.959921640553438, 0.007499387816823734, 0.007499387816823734, 0.0077996292733765555, 0.0077996292733765555, 0.015599258546753111, 0.9671540298986928, 0.5645514508377524, 0.2909802632071235, 0.1442466262052407, 0.0008290035988806937, 0.8698688735317839, 0.11216730211330897, 0.01831302891645861, 0.002289128614557326, 0.005715850544695693, 0.005715850544695693, 0.005715850544695693, 0.9831262936876591, 0.004547284959136889, 0.004547284959136889, 0.18643868332461247, 0.8048694377672294, 0.061153127886136194, 0.8561437904059067, 0.08026348035055375, 0.003822070492883512, 0.14476169643194053, 0.011135515110149272, 0.8462991483713447, 0.011135515110149272, 0.33044506609544333, 0.505783264431801, 0.10958637396022354, 0.05395021487272544, 0.14814179099904773, 0.8253614069946945, 0.021163112999863964, 0.007054370999954655, 0.008314471356017249, 0.008314471356017249, 0.008314471356017249, 0.9811076200100355, 0.005849035346615234, 0.005849035346615234, 0.005849035346615234, 0.9826379382313593, 0.10763563092797586, 0.014677586035633072, 0.7779120598885528, 0.1027431022494315, 0.009863688426398575, 0.01972737685279715, 0.01972737685279715, 0.9469140889342631, 0.007426480387268514, 0.007426480387268514, 0.9728689307321754, 0.007426480387268514, 0.9497081051441165, 0.03703597067414382, 0.010581705906898234, 0.0026454264767245585, 0.010161881701659135, 0.010161881701659135, 0.010161881701659135, 0.975540643359277, 0.05301993978738689, 0.7740911208958485, 0.16966380731963804, 0.010603987957477377, 0.09949046300862345, 0.4344416884709891, 0.24430435916561982, 0.2221953673859257, 0.07416882407288228, 0.30049843155301786, 0.45571772316946224, 0.16898257855780394, 0.8750446205626693, 0.11946001645906747, 0.002986500411476687, 0.002986500411476687, 0.19536084412462412, 0.6103008188356026, 0.038749258338768425, 0.1566115857858557, 0.010371466884837859, 0.010371466884837859, 0.010371466884837859, 0.9749178871747587, 0.0102655849195362, 0.0102655849195362, 0.0102655849195362, 0.9752305673559389, 0.7860300587450776, 0.14661700577628392, 0.0666903741551847, 0.0005090868256120969, 0.060919403732266786, 0.8224119503856016, 0.11168557350915577, 0.010153233955377797, 0.010161958411048078, 0.010161958411048078, 0.010161958411048078, 0.9755480074606155, 0.23790318959256274, 0.2018075332405877, 0.2214960730689377, 0.33962731203903784, 0.11538616238110772, 0.31605774913086027, 0.566897232568051, 0.002508394834371907, 0.004073080037176606, 0.004073080037176606, 0.008146160074353212, 0.9856853689967386, 0.13603678654093443, 0.20524848495649756, 0.13126356596055078, 0.5298274844225868, 0.15218222408248644, 0.07609111204124322, 0.7609111204124323, 0.010870158863034746, 0.23376358590232513, 0.7282634791572437, 0.026972721450268283, 0.008990907150089428, 0.004609963353318899, 0.06453948694646458, 0.004609963353318899, 0.9266026340170986], \"Term\": [\"adventurer\", \"adventurer\", \"adventurer\", \"adventurer\", \"airport\", \"airport\", \"airport\", \"airport\", \"amenity\", \"amenity\", \"amenity\", \"amenity\", \"appliance\", \"appliance\", \"appliance\", \"appliance\", \"area\", \"area\", \"area\", \"area\", \"available\", \"available\", \"available\", \"available\", \"away\", \"away\", \"away\", \"away\", \"bath\", \"bath\", \"bath\", \"bath\", \"bathroom\", \"bathroom\", \"bathroom\", \"bathroom\", \"bay\", \"bay\", \"bay\", \"bay\", \"beach\", \"beach\", \"beach\", \"beach\", \"blueground\", \"blueground\", \"blueground\", \"blueground\", \"book\", \"book\", \"book\", \"book\", \"booking\", \"booking\", \"booking\", \"booking\", \"brownstone\", \"brownstone\", \"brownstone\", \"brownstone\", \"building\", \"building\", \"building\", \"building\", \"bus\", \"bus\", \"bus\", \"bus\", \"cdc\", \"cdc\", \"cdc\", \"cdc\", \"ceiling\", \"ceiling\", \"ceiling\", \"ceiling\", \"center\", \"center\", \"center\", \"center\", \"chair\", \"chair\", \"chair\", \"chair\", \"charles\", \"charles\", \"charles\", \"charles\", \"check\", \"check\", \"check\", \"check\", \"chinatown\", \"chinatown\", \"chinatown\", \"chinatown\", \"city\", \"city\", \"city\", \"city\", \"clean\", \"clean\", \"clean\", \"clean\", \"cleaning\", \"cleaning\", \"cleaning\", \"cleaning\", \"close\", \"close\", \"close\", \"close\", \"closet\", \"closet\", \"closet\", \"closet\", \"coffee\", \"coffee\", \"coffee\", \"coffee\", \"college\", \"college\", \"college\", \"college\", \"common\", \"common\", \"common\", \"common\", \"commute\", \"commute\", \"commute\", \"commute\", \"concierge\", \"concierge\", \"concierge\", \"concierge\", \"condo\", \"condo\", \"condo\", \"condo\", \"contact\", \"contact\", \"contact\", \"contact\", \"convenient\", \"convenient\", \"convenient\", \"convenient\", \"convention\", \"convention\", \"convention\", \"convention\", \"couch\", \"couch\", \"couch\", \"couch\", \"countertop\", \"countertop\", \"countertop\", \"countertop\", \"design\", \"design\", \"design\", \"design\", \"desk\", \"desk\", \"desk\", \"desk\", \"dining\", \"dining\", \"dining\", \"dining\", \"dishware\", \"dishware\", \"dishware\", \"dishware\", \"dishwasher\", \"dishwasher\", \"dishwasher\", \"dishwasher\", \"distance\", \"distance\", \"distance\", \"distance\", \"district\", \"district\", \"district\", \"district\", \"double\", \"double\", \"double\", \"double\", \"downtown\", \"downtown\", \"downtown\", \"downtown\", \"drive\", \"drive\", \"drive\", \"drive\", \"efficiency\", \"efficiency\", \"efficiency\", \"efficiency\", \"elevator\", \"elevator\", \"elevator\", \"elevator\", \"end\", \"end\", \"end\", \"end\", \"enjoy\", \"enjoy\", \"enjoy\", \"enjoy\", \"ensure\", \"ensure\", \"ensure\", \"ensure\", \"entire\", \"entire\", \"entire\", \"entire\", \"entry\", \"entry\", \"entry\", \"entry\", \"equipped\", \"equipped\", \"equipped\", \"equipped\", \"experience\", \"experience\", \"experience\", \"experience\", \"experienced\", \"experienced\", \"experienced\", \"experienced\", \"feature\", \"feature\", \"feature\", \"feature\", \"first\", \"first\", \"first\", \"first\", \"fitness\", \"fitness\", \"fitness\", \"fitness\", \"follow\", \"follow\", \"follow\", \"follow\", \"food\", \"food\", \"food\", \"food\", \"free\", \"free\", \"free\", \"free\", \"freedom\", \"freedom\", \"freedom\", \"freedom\", \"fridge\", \"fridge\", \"fridge\", \"fridge\", \"front\", \"front\", \"front\", \"front\", \"full\", \"full\", \"full\", \"full\", \"fully\", \"fully\", \"fully\", \"fully\", \"furnish\", \"furnish\", \"furnish\", \"furnish\", \"garment\", \"garment\", \"garment\", \"garment\", \"glass\", \"glass\", \"glass\", \"glass\", \"glassware\", \"glassware\", \"glassware\", \"glassware\", \"glove\", \"glove\", \"glove\", \"glove\", \"granite\", \"granite\", \"granite\", \"granite\", \"great\", \"great\", \"great\", \"great\", \"grocery\", \"grocery\", \"grocery\", \"grocery\", \"guidance\", \"guidance\", \"guidance\", \"guidance\", \"handle\", \"handle\", \"handle\", \"handle\", \"harbor\", \"harbor\", \"harbor\", \"harbor\", \"harvard\", \"harvard\", \"harvard\", \"harvard\", \"health\", \"health\", \"health\", \"health\", \"high\", \"high\", \"high\", \"high\", \"hill\", \"hill\", \"hill\", \"hill\", \"historic\", \"historic\", \"historic\", \"historic\", \"hospitality\", \"hospitality\", \"hospitality\", \"hospitality\", \"hotel\", \"hotel\", \"hotel\", \"hotel\", \"include\", \"include\", \"include\", \"include\", \"kind\", \"kind\", \"kind\", \"kind\", \"kitchen\", \"kitchen\", \"kitchen\", \"kitchen\", \"kitchenette\", \"kitchenette\", \"kitchenette\", \"kitchenette\", \"knob\", \"knob\", \"knob\", \"knob\", \"large\", \"large\", \"large\", \"large\", \"line\", \"line\", \"line\", \"line\", \"linen\", \"linen\", \"linen\", \"linen\", \"live\", \"live\", \"live\", \"live\", \"living\", \"living\", \"living\", \"living\", \"location\", \"location\", \"location\", \"location\", \"lock\", \"lock\", \"lock\", \"lock\", \"logan\", \"logan\", \"logan\", \"logan\", \"love\", \"love\", \"love\", \"love\", \"luxurious\", \"luxurious\", \"luxurious\", \"luxurious\", \"maker\", \"maker\", \"maker\", \"maker\", \"mask\", \"mask\", \"mask\", \"mask\", \"master\", \"master\", \"master\", \"master\", \"mbta\", \"mbta\", \"mbta\", \"mbta\", \"meal\", \"meal\", \"meal\", \"meal\", \"mgh\", \"mgh\", \"mgh\", \"mgh\", \"micro\", \"micro\", \"micro\", \"micro\", \"microwave\", \"microwave\", \"microwave\", \"microwave\", \"mile\", \"mile\", \"mile\", \"mile\", \"min\", \"min\", \"min\", \"min\", \"minute\", \"minute\", \"minute\", \"minute\", \"modern\", \"modern\", \"modern\", \"modern\", \"month\", \"month\", \"month\", \"month\", \"museum\", \"museum\", \"museum\", \"museum\", \"need\", \"need\", \"need\", \"need\", \"neighborhood\", \"neighborhood\", \"neighborhood\", \"neighborhood\", \"netflix\", \"netflix\", \"netflix\", \"netflix\", \"new\", \"new\", \"new\", \"new\", \"night\", \"night\", \"night\", \"night\", \"note\", \"note\", \"note\", \"note\", \"old\", \"old\", \"old\", \"old\", \"orange\", \"orange\", \"orange\", \"orange\", \"oven\", \"oven\", \"oven\", \"oven\", \"park\", \"park\", \"park\", \"park\", \"parking\", \"parking\", \"parking\", \"parking\", \"place\", \"place\", \"place\", \"place\", \"please\", \"please\", \"please\", \"please\", \"porch\", \"porch\", \"porch\", \"porch\", \"private\", \"private\", \"private\", \"private\", \"product\", \"product\", \"product\", \"product\", \"professionally\", \"professionally\", \"professionally\", \"professionally\", \"property\", \"property\", \"property\", \"property\", \"protective\", \"protective\", \"protective\", \"protective\", \"prudential\", \"prudential\", \"prudential\", \"prudential\", \"quality\", \"quality\", \"quality\", \"quality\", \"queen\", \"queen\", \"queen\", \"queen\", \"quiet\", \"quiet\", \"quiet\", \"quiet\", \"ready\", \"ready\", \"ready\", \"ready\", \"red\", \"red\", \"red\", \"red\", \"refrigerator\", \"refrigerator\", \"refrigerator\", \"refrigerator\", \"renovate\", \"renovate\", \"renovate\", \"renovate\", \"rental\", \"rental\", \"rental\", \"rental\", \"reservation\", \"reservation\", \"reservation\", \"reservation\", \"restaurant\", \"restaurant\", \"restaurant\", \"restaurant\", \"ride\", \"ride\", \"ride\", \"ride\", \"river\", \"river\", \"river\", \"river\", \"roof\", \"roof\", \"roof\", \"roof\", \"safety\", \"safety\", \"safety\", \"safety\", \"sanitize\", \"sanitize\", \"sanitize\", \"sanitize\", \"school\", \"school\", \"school\", \"school\", \"security\", \"security\", \"security\", \"security\", \"seriously\", \"seriously\", \"seriously\", \"seriously\", \"service\", \"service\", \"service\", \"service\", \"share\", \"share\", \"share\", \"share\", \"shower\", \"shower\", \"shower\", \"shower\", \"simply\", \"simply\", \"simply\", \"simply\", \"size\", \"size\", \"size\", \"size\", \"small\", \"small\", \"small\", \"small\", \"solo\", \"solo\", \"solo\", \"solo\", \"solution\", \"solution\", \"solution\", \"solution\", \"south\", \"south\", \"south\", \"south\", \"speaker\", \"speaker\", \"speaker\", \"speaker\", \"square\", \"square\", \"square\", \"square\", \"stainless\", \"stainless\", \"stainless\", \"stainless\", \"stair\", \"stair\", \"stair\", \"stair\", \"start\", \"start\", \"start\", \"start\", \"station\", \"station\", \"station\", \"station\", \"steel\", \"steel\", \"steel\", \"steel\", \"step\", \"step\", \"step\", \"step\", \"stock\", \"stock\", \"stock\", \"stock\", \"stop\", \"stop\", \"stop\", \"stop\", \"stove\", \"stove\", \"stove\", \"stove\", \"stream\", \"stream\", \"stream\", \"stream\", \"street\", \"street\", \"street\", \"street\", \"subway\", \"subway\", \"subway\", \"subway\", \"superior\", \"superior\", \"superior\", \"superior\", \"surface\", \"surface\", \"surface\", \"surface\", \"table\", \"table\", \"table\", \"table\", \"theatre\", \"theatre\", \"theatre\", \"theatre\", \"thing\", \"thing\", \"thing\", \"thing\", \"third\", \"third\", \"third\", \"third\", \"thoroughly\", \"thoroughly\", \"thoroughly\", \"thoroughly\", \"thoughtfully\", \"thoughtfully\", \"thoughtfully\", \"thoughtfully\", \"throughout\", \"throughout\", \"throughout\", \"throughout\", \"tool\", \"tool\", \"tool\", \"tool\", \"touch\", \"touch\", \"touch\", \"touch\", \"train\", \"train\", \"train\", \"train\", \"transform\", \"transform\", \"transform\", \"transform\", \"tub\", \"tub\", \"tub\", \"tub\", \"tv\", \"tv\", \"tv\", \"tv\", \"unit\", \"unit\", \"unit\", \"unit\", \"university\", \"university\", \"university\", \"university\", \"use\", \"use\", \"use\", \"use\", \"vacant\", \"vacant\", \"vacant\", \"vacant\", \"vary\", \"vary\", \"vary\", \"vary\", \"walk\", \"walk\", \"walk\", \"walk\", \"wall\", \"wall\", \"wall\", \"wall\", \"wear\", \"wear\", \"wear\", \"wear\", \"well\", \"well\", \"well\", \"well\", \"window\", \"window\", \"window\", \"window\", \"wipe\", \"wipe\", \"wipe\", \"wipe\", \"work\", \"work\", \"work\", \"work\", \"world\", \"world\", \"world\", \"world\", \"yard\", \"yard\", \"yard\", \"yard\", \"youre\", \"youre\", \"youre\", \"youre\"]}, \"R\": 30, \"lambda.step\": 0.01, \"plot.opts\": {\"xlab\": \"PC1\", \"ylab\": \"PC2\"}, \"topic.order\": [3, 4, 2, 1]};\n",
       "\n",
       "function LDAvis_load_lib(url, callback){\n",
       "  var s = document.createElement('script');\n",
       "  s.src = url;\n",
       "  s.async = true;\n",
       "  s.onreadystatechange = s.onload = callback;\n",
       "  s.onerror = function(){console.warn(\"failed to load library \" + url);};\n",
       "  document.getElementsByTagName(\"head\")[0].appendChild(s);\n",
       "}\n",
       "\n",
       "if(typeof(LDAvis) !== \"undefined\"){\n",
       "   // already loaded: just create the visualization\n",
       "   !function(LDAvis){\n",
       "       new LDAvis(\"#\" + \"ldavis_el1565629803829673925262640437\", ldavis_el1565629803829673925262640437_data);\n",
       "   }(LDAvis);\n",
       "}else if(typeof define === \"function\" && define.amd){\n",
       "   // require.js is available: use it to load d3/LDAvis\n",
       "   require.config({paths: {d3: \"https://d3js.org/d3.v5\"}});\n",
       "   require([\"d3\"], function(d3){\n",
       "      window.d3 = d3;\n",
       "      LDAvis_load_lib(\"https://cdn.jsdelivr.net/gh/bmabey/pyLDAvis@3.3.1/pyLDAvis/js/ldavis.v3.0.0.js\", function(){\n",
       "        new LDAvis(\"#\" + \"ldavis_el1565629803829673925262640437\", ldavis_el1565629803829673925262640437_data);\n",
       "      });\n",
       "    });\n",
       "}else{\n",
       "    // require.js not available: dynamically load d3 & LDAvis\n",
       "    LDAvis_load_lib(\"https://d3js.org/d3.v5.js\", function(){\n",
       "         LDAvis_load_lib(\"https://cdn.jsdelivr.net/gh/bmabey/pyLDAvis@3.3.1/pyLDAvis/js/ldavis.v3.0.0.js\", function(){\n",
       "                 new LDAvis(\"#\" + \"ldavis_el1565629803829673925262640437\", ldavis_el1565629803829673925262640437_data);\n",
       "            })\n",
       "         });\n",
       "}\n",
       "</script>"
      ],
      "text/plain": [
       "PreparedData(topic_coordinates=                x           y  topics  cluster       Freq\n",
       "topic                                                    \n",
       "2      269.562408 -124.803398       1        1  30.285852\n",
       "3        1.782994 -295.079681       2        1  28.829608\n",
       "1      220.811432 -343.832123       3        1  24.131173\n",
       "0       50.533993  -76.050934       4        1  16.753368, topic_info=         Term         Freq        Total Category  logprob  loglift\n",
       "477      walk  1964.000000  1964.000000  Default  30.0000  30.0000\n",
       "287    minute  1292.000000  1292.000000  Default  29.0000  29.0000\n",
       "34   bathroom  1713.000000  1713.000000  Default  28.0000  28.0000\n",
       "285       min   716.000000   716.000000  Default  27.0000  27.0000\n",
       "247      line   849.000000   849.000000  Default  26.0000  26.0000\n",
       "..        ...          ...          ...      ...      ...      ...\n",
       "486      well   206.603620   609.491618   Topic4  -4.7376   0.7047\n",
       "143    entire   177.822769   353.407002   Topic4  -4.8877   1.0997\n",
       "464      unit   221.403534  1307.827126   Topic4  -4.6685   0.0104\n",
       "461        tv   201.403756   904.609319   Topic4  -4.7631   0.2844\n",
       "217      high   178.718847   727.368686   Topic4  -4.8826   0.3830\n",
       "\n",
       "[264 rows x 6 columns], token_table=      Topic      Freq        Term\n",
       "term                             \n",
       "9         1  0.970340  adventurer\n",
       "9         2  0.010323  adventurer\n",
       "9         3  0.010323  adventurer\n",
       "9         4  0.010323  adventurer\n",
       "12        1  0.991458     airport\n",
       "...     ...       ...         ...\n",
       "497       4  0.008991        yard\n",
       "499       1  0.004610       youre\n",
       "499       2  0.064539       youre\n",
       "499       3  0.004610       youre\n",
       "499       4  0.926603       youre\n",
       "\n",
       "[836 rows x 3 columns], R=30, lambda_step=0.01, plot_opts={'xlab': 'PC1', 'ylab': 'PC2'}, topic_order=[3, 4, 2, 1])"
      ]
     },
     "execution_count": 55,
     "metadata": {},
     "output_type": "execute_result"
    }
   ],
   "source": [
    "#prepare to display result in the Jupyter notebook\n",
    "pyLDAvis.enable_notebook()\n",
    "\n",
    "#run the visualization [mds is a function to use for visualizing the \"distance\" between topics]\n",
    "pyLDAvis.sklearn.prepare(lda_room_best, bow_room,\\\n",
    "                         bow_vectorizer_room,mds='tsne')"
   ]
  },
  {
   "cell_type": "markdown",
   "metadata": {},
   "source": [
    "### 1.4 Name topics and apply them to documents"
   ]
  },
  {
   "cell_type": "markdown",
   "metadata": {},
   "source": [
    "According to the words in each topic, we name each of the topics as follow:\\\n",
    "Topic_0 4: Blueground furnished/clean & strictly follow COVID-19 prevention measures\\\n",
    "Topic_1 3: Provide great experience in deluxe rooms\\\n",
    "Topic_2 1:Convenient location &easy access to public transportation\\\n",
    "Topic_3 2: Fully equipped with abundant amenities"
   ]
  },
  {
   "cell_type": "code",
   "execution_count": 41,
   "metadata": {},
   "outputs": [],
   "source": [
    "lda_room_topic_weights = lda_room_best.transform(bow_room)"
   ]
  },
  {
   "cell_type": "code",
   "execution_count": 166,
   "metadata": {},
   "outputs": [
    {
     "data": {
      "text/html": [
       "<div>\n",
       "<style scoped>\n",
       "    .dataframe tbody tr th:only-of-type {\n",
       "        vertical-align: middle;\n",
       "    }\n",
       "\n",
       "    .dataframe tbody tr th {\n",
       "        vertical-align: top;\n",
       "    }\n",
       "\n",
       "    .dataframe thead th {\n",
       "        text-align: right;\n",
       "    }\n",
       "</style>\n",
       "<table border=\"1\" class=\"dataframe\">\n",
       "  <thead>\n",
       "    <tr style=\"text-align: right;\">\n",
       "      <th></th>\n",
       "      <th>Topic_0</th>\n",
       "      <th>Topic_1</th>\n",
       "      <th>Topic_2</th>\n",
       "      <th>Topic_3</th>\n",
       "      <th>room_topic_num</th>\n",
       "    </tr>\n",
       "  </thead>\n",
       "  <tbody>\n",
       "    <tr>\n",
       "      <th>3781</th>\n",
       "      <td>0.0039</td>\n",
       "      <td>0.1239</td>\n",
       "      <td>0.4350</td>\n",
       "      <td>0.4372</td>\n",
       "      <td>3</td>\n",
       "    </tr>\n",
       "    <tr>\n",
       "      <th>6695</th>\n",
       "      <td>0.0042</td>\n",
       "      <td>0.1913</td>\n",
       "      <td>0.3652</td>\n",
       "      <td>0.4392</td>\n",
       "      <td>3</td>\n",
       "    </tr>\n",
       "    <tr>\n",
       "      <th>10813</th>\n",
       "      <td>0.0033</td>\n",
       "      <td>0.2870</td>\n",
       "      <td>0.2225</td>\n",
       "      <td>0.4872</td>\n",
       "      <td>3</td>\n",
       "    </tr>\n",
       "    <tr>\n",
       "      <th>10986</th>\n",
       "      <td>0.0046</td>\n",
       "      <td>0.4342</td>\n",
       "      <td>0.5565</td>\n",
       "      <td>0.0047</td>\n",
       "      <td>2</td>\n",
       "    </tr>\n",
       "    <tr>\n",
       "      <th>13247</th>\n",
       "      <td>0.0052</td>\n",
       "      <td>0.5704</td>\n",
       "      <td>0.4191</td>\n",
       "      <td>0.0053</td>\n",
       "      <td>1</td>\n",
       "    </tr>\n",
       "  </tbody>\n",
       "</table>\n",
       "</div>"
      ],
      "text/plain": [
       "       Topic_0  Topic_1  Topic_2  Topic_3  room_topic_num\n",
       "3781    0.0039   0.1239   0.4350   0.4372               3\n",
       "6695    0.0042   0.1913   0.3652   0.4392               3\n",
       "10813   0.0033   0.2870   0.2225   0.4872               3\n",
       "10986   0.0046   0.4342   0.5565   0.0047               2\n",
       "13247   0.0052   0.5704   0.4191   0.0053               1"
      ]
     },
     "execution_count": 166,
     "metadata": {},
     "output_type": "execute_result"
    }
   ],
   "source": [
    "#array of document \"names\" and topic \"names\" (\"names\" are just indecies)\n",
    "doc_names = [room_df.id[i] for i in range(len(normalized_room))]\n",
    "room_topic_names = [\"Topic_\" + str(i) for i in range(4)]\n",
    "\n",
    "#convert to dataframe\n",
    "df_room_topic = pd.DataFrame(np.round(lda_room_topic_weights, 4),\\\n",
    "                                    columns=room_topic_names, index=doc_names)\n",
    "#vector of indecies for columns with the highest value by each row in df_description_topic\n",
    "room_topic = np.argmax(df_room_topic.values, axis=1)\n",
    "\n",
    "#add dominant_topic as a column to df_description_topic\n",
    "df_room_topic['room_topic_num'] = room_topic\n",
    "df_room_topic.head(5)"
   ]
  },
  {
   "cell_type": "code",
   "execution_count": 167,
   "metadata": {},
   "outputs": [],
   "source": [
    "df_room_topic.to_csv('room_topic.csv',index=False)"
   ]
  },
  {
   "cell_type": "code",
   "execution_count": 168,
   "metadata": {},
   "outputs": [],
   "source": [
    "df_room_topic=df_room_topic[\"room_topic_num\"].copy().reset_index()\n",
    "df_room_topic.rename(columns={\"index\":\"id\"},inplace=True)\n",
    "#df_room_topic.head(50)"
   ]
  },
  {
   "cell_type": "markdown",
   "metadata": {},
   "source": [
    "## 2. Neighborhood overview topic modeling"
   ]
  },
  {
   "cell_type": "markdown",
   "metadata": {},
   "source": [
    "### 2.1 Data loading and cleaning"
   ]
  },
  {
   "cell_type": "code",
   "execution_count": 56,
   "metadata": {},
   "outputs": [
    {
     "data": {
      "text/plain": [
       "0    Mostly quiet ( no loud music, no crowed sidewa...\n",
       "1    Peaceful, Architecturally interesting, histori...\n",
       "2    Wander around this quintessential neighborhood...\n",
       "Name: neighborhood_overview, dtype: object"
      ]
     },
     "execution_count": 56,
     "metadata": {},
     "output_type": "execute_result"
    }
   ],
   "source": [
    "neighborhood_df=listing[[\"id\",\"neighborhood_overview\"]].copy()\n",
    "neighborhood_df.fillna(\"NA\",inplace=True)\n",
    "neighborhood=neighborhood_df[\"neighborhood_overview\"]\n",
    "neighborhood.head(3)"
   ]
  },
  {
   "cell_type": "code",
   "execution_count": 57,
   "metadata": {},
   "outputs": [],
   "source": [
    "normalized_neighborhood = normalize_corpus2(neighborhood)"
   ]
  },
  {
   "cell_type": "code",
   "execution_count": 58,
   "metadata": {},
   "outputs": [],
   "source": [
    "#define a Bag-of-Words vecgtorizer\n",
    "bow_vectorizer_neighborhood = CountVectorizer(max_features=500)\n",
    "\n",
    "#vectorize data\n",
    "bow_neighborhood= bow_vectorizer_neighborhood.fit_transform(normalized_neighborhood)"
   ]
  },
  {
   "cell_type": "markdown",
   "metadata": {},
   "source": [
    "### 2.2 Use cross-validation to tune hyperparameters"
   ]
  },
  {
   "cell_type": "markdown",
   "metadata": {},
   "source": [
    "#### 2.2.1 Small number of topics"
   ]
  },
  {
   "cell_type": "code",
   "execution_count": 28,
   "metadata": {},
   "outputs": [],
   "source": [
    "## define the parameters grid used for cross-validation\n",
    "search_params1 = {'n_components': [4,5,6,7], 'learning_decay': [0.5, 0.7, 0.9],\\\n",
    "                 \"doc_topic_prior\":[0.25,0.5,0.75,0.9],\"topic_word_prior\":[0.25,0.5,0.75,0.9]}"
   ]
  },
  {
   "cell_type": "code",
   "execution_count": 29,
   "metadata": {},
   "outputs": [
    {
     "data": {
      "text/plain": [
       "GridSearchCV(cv=3, estimator=LatentDirichletAllocation(random_state=42),\n",
       "             n_jobs=-1,\n",
       "             param_grid={'doc_topic_prior': [0.25, 0.5, 0.75, 0.9],\n",
       "                         'learning_decay': [0.5, 0.7, 0.9],\n",
       "                         'n_components': [4, 5, 6, 7],\n",
       "                         'topic_word_prior': [0.25, 0.5, 0.75, 0.9]})"
      ]
     },
     "execution_count": 29,
     "metadata": {},
     "output_type": "execute_result"
    }
   ],
   "source": [
    "## Use cross-validation to tune hyperparameters\n",
    "lda_neighborhood1 =LatentDirichletAllocation(random_state=42)\n",
    "search_neighborhood1 = GridSearchCV(\n",
    "    estimator=lda_neighborhood1,\n",
    "    param_grid=search_params1,\n",
    "    cv=3,\n",
    "    n_jobs=-1 #using all processors\n",
    ")\n",
    "search_neighborhood1.fit(bow_neighborhood)"
   ]
  },
  {
   "cell_type": "code",
   "execution_count": 30,
   "metadata": {},
   "outputs": [
    {
     "data": {
      "text/plain": [
       "{'doc_topic_prior': 0.9,\n",
       " 'learning_decay': 0.5,\n",
       " 'n_components': 4,\n",
       " 'topic_word_prior': 0.25}"
      ]
     },
     "execution_count": 30,
     "metadata": {},
     "output_type": "execute_result"
    }
   ],
   "source": [
    "search_neighborhood1.best_params_"
   ]
  },
  {
   "cell_type": "markdown",
   "metadata": {},
   "source": [
    "Build the model with the best parameters"
   ]
  },
  {
   "cell_type": "code",
   "execution_count": 38,
   "metadata": {},
   "outputs": [],
   "source": [
    "##Use the best model from CV\n",
    "lda_neighborhood_best1=LatentDirichletAllocation(n_components=4,learning_decay=0.5,doc_topic_prior=0.9,\\\n",
    "                      topic_word_prior=0.25,random_state=42).fit(bow_neighborhood)"
   ]
  },
  {
   "cell_type": "markdown",
   "metadata": {},
   "source": [
    "#### 2.2.2 Large number of topics"
   ]
  },
  {
   "cell_type": "code",
   "execution_count": 28,
   "metadata": {},
   "outputs": [],
   "source": [
    "## define the parameters grid used for cross-validation\n",
    "search_params2 = {'n_components': [8,10,12,14], 'learning_decay': [0.5, 0.7, 0.9],\\\n",
    "                 \"doc_topic_prior\":[0.25,0.5,0.75,0.9],\"topic_word_prior\":[0.25,0.5,0.75,0.9]}"
   ]
  },
  {
   "cell_type": "code",
   "execution_count": null,
   "metadata": {},
   "outputs": [],
   "source": [
    "## Use cross-validation to tune hyperparameters\n",
    "lda_neighborhood2 =LatentDirichletAllocation(random_state=42)\n",
    "search_neighborhood2 = GridSearchCV(\n",
    "    estimator=lda_neighborhood2,\n",
    "    param_grid=search_params2,\n",
    "    cv=3,\n",
    "    n_jobs=-1 #using all processors\n",
    ")\n",
    "search_neighborhood2.fit(bow_neighborhood)"
   ]
  },
  {
   "cell_type": "code",
   "execution_count": null,
   "metadata": {},
   "outputs": [],
   "source": [
    "search_neighborhood2.best_params_"
   ]
  },
  {
   "cell_type": "markdown",
   "metadata": {},
   "source": [
    "Build the model with the best parameters"
   ]
  },
  {
   "cell_type": "code",
   "execution_count": 59,
   "metadata": {},
   "outputs": [],
   "source": [
    "##Use the best model from CV\n",
    "lda_neighborhood_best2=LatentDirichletAllocation(n_components=8,learning_decay=0.5,doc_topic_prior=0.9,\\\n",
    "                      topic_word_prior=0.25,random_state=42).fit(bow_neighborhood)"
   ]
  },
  {
   "cell_type": "markdown",
   "metadata": {},
   "source": [
    "#### 2.2.3 Compare the three \"best models\""
   ]
  },
  {
   "cell_type": "markdown",
   "metadata": {},
   "source": [
    "We use Log-Likelihood Score to compare the three level of topics: use the .score attribute of our defined and fitted LDA function:"
   ]
  },
  {
   "cell_type": "code",
   "execution_count": 54,
   "metadata": {},
   "outputs": [
    {
     "name": "stdout",
     "output_type": "stream",
     "text": [
      "Log-Likelihood (higher values are better) for best model 1 is :-287793.70810230554\n",
      "Log-Likelihood (higher values are better) for best model 2 is :-284749.4009353971\n"
     ]
    }
   ],
   "source": [
    "print(\"Log-Likelihood (higher values are better) for best model 1 is :{}\\nLog-Likelihood (higher values are better) for best model 2 is :{}\".format(lda_neighborhood_best1.score(bow_neighborhood),lda_neighborhood_best2.score(bow_neighborhood),))"
   ]
  },
  {
   "cell_type": "markdown",
   "metadata": {},
   "source": [
    "Based on the Log-Likelihood score and human judgment, we choose the model with 8 topics"
   ]
  },
  {
   "cell_type": "markdown",
   "metadata": {},
   "source": [
    "### 2.3 Name topics and apply them to documents"
   ]
  },
  {
   "cell_type": "code",
   "execution_count": 55,
   "metadata": {},
   "outputs": [
    {
     "name": "stdout",
     "output_type": "stream",
     "text": [
      "Topic 0:\n",
      "bay beacon public newbury south historic shopping copley square shop\n",
      "Topic 1:\n",
      "park diverse river restaurant dorchester professional large library include public\n",
      "Topic 2:\n",
      "hill park jamaica shop plain pond restaurant bus local arboretum\n",
      "Topic 3:\n",
      "downtown station subway beach south park line building traffic quiet\n",
      "Topic 4:\n",
      "college north trail freedom hall tuft museum public ride marathon\n",
      "Topic 5:\n",
      "restaurant best bar place safe old east friendly enjoy beautiful\n",
      "Topic 6:\n",
      "station north garden furnished major use public train transportation entertainment\n",
      "Topic 7:\n",
      "restaurant line medical center harvard store fenway drive university hospital\n"
     ]
    }
   ],
   "source": [
    "no_top_words_neighborhood=10\n",
    "display_topics(lda_neighborhood_best2, bow_vectorizer_neighborhood.get_feature_names(), no_top_words_neighborhood)"
   ]
  },
  {
   "cell_type": "code",
   "execution_count": 63,
   "metadata": {
    "scrolled": true
   },
   "outputs": [
    {
     "data": {
      "text/html": [
       "\n",
       "<link rel=\"stylesheet\" type=\"text/css\" href=\"https://cdn.jsdelivr.net/gh/bmabey/pyLDAvis@3.3.1/pyLDAvis/js/ldavis.v1.0.0.css\">\n",
       "\n",
       "\n",
       "<div id=\"ldavis_el1565629803132253605076074641\"></div>\n",
       "<script type=\"text/javascript\">\n",
       "\n",
       "var ldavis_el1565629803132253605076074641_data = {\"mdsDat\": {\"x\": [-108.958251953125, 186.487060546875, 19.245832443237305, 170.65882873535156, -1.3864107131958008, -145.8000946044922, 64.83454132080078, -196.90603637695312], \"y\": [-208.9414825439453, -98.1032485961914, 160.85877990722656, 75.44507598876953, -35.043739318847656, 106.94461059570312, -221.8252716064453, -58.99091339111328], \"topics\": [1, 2, 3, 4, 5, 6, 7, 8], \"cluster\": [1, 1, 1, 1, 1, 1, 1, 1], \"Freq\": [15.61009555951939, 13.79000056495725, 13.030372347699354, 12.76853522552322, 12.178205843633798, 12.022931035503854, 11.801836427787043, 8.798022995376092]}, \"tinfo\": {\"Term\": [\"station\", \"north\", \"college\", \"restaurant\", \"downtown\", \"park\", \"medical\", \"subway\", \"line\", \"jamaica\", \"bay\", \"hill\", \"freedom\", \"harvard\", \"hall\", \"trail\", \"beach\", \"store\", \"fenway\", \"train\", \"beacon\", \"public\", \"university\", \"tuft\", \"newbury\", \"garden\", \"building\", \"hospital\", \"drive\", \"museum\", \"favorite\", \"delicious\", \"modern\", \"scene\", \"oak\", \"flavor\", \"mostly\", \"beer\", \"beauty\", \"lounge\", \"list\", \"become\", \"barbershop\", \"recommendation\", \"sign\", \"airbnb\", \"amazing\", \"surround\", \"good\", \"side\", \"walkable\", \"ethnic\", \"salon\", \"italian\", \"best\", \"free\", \"eat\", \"east\", \"work\", \"safe\", \"friendly\", \"new\", \"place\", \"vibrant\", \"less\", \"restaurant\", \"old\", \"need\", \"enjoy\", \"mix\", \"pub\", \"bar\", \"beautiful\", \"people\", \"live\", \"year\", \"market\", \"food\", \"residential\", \"family\", \"quiet\", \"nearby\", \"block\", \"south\", \"store\", \"square\", \"downtown\", \"local\", \"historic\", \"brick\", \"gallery\", \"frequent\", \"fashion\", \"lined\", \"antique\", \"set\", \"townhouses\", \"theatre\", \"row\", \"1800s\", \"greater\", \"score\", \"trinity\", \"picturesque\", \"boylston\", \"mansion\", \"patio\", \"designer\", \"storrow\", \"thriving\", \"add\", \"newbury\", \"intersection\", \"elegant\", \"beacon\", \"village\", \"landmark\", \"centrally\", \"casual\", \"boutique\", \"copley\", \"bay\", \"tourist\", \"chain\", \"brownstone\", \"tree\", \"historic\", \"shopping\", \"step\", \"square\", \"south\", \"public\", \"cafe\", \"victorian\", \"shop\", \"district\", \"transportation\", \"destination\", \"hill\", \"art\", \"charles\", \"local\", \"block\", \"center\", \"hall\", \"faneuil\", \"tuft\", \"marketplace\", \"emerson\", \"freedom\", \"marathon\", \"watch\", \"chinatown\", \"berkeley\", \"suffolk\", \"could\", \"government\", \"property\", \"dental\", \"vibe\", \"mgh\", \"finish\", \"bu\", \"college\", \"museum\", \"ride\", \"trail\", \"pharmacy\", \"connect\", \"fine\", \"uma\", \"brighton\", \"truly\", \"mass\", \"mit\", \"north\", \"run\", \"popular\", \"art\", \"convenient\", \"public\", \"destination\", \"line\", \"transit\", \"district\", \"jamaica\", \"plain\", \"arboretum\", \"pond\", \"tour\", \"savin\", \"jp\", \"arnold\", \"centre\", \"visit\", \"brewery\", \"ice\", \"cream\", \"roslindale\", \"forest\", \"term\", \"plaza\", \"hop\", \"travel\", \"often\", \"roxbury\", \"adam\", \"lovely\", \"urban\", \"interest\", \"thing\", \"visitor\", \"necklace\", \"bakery\", \"emerald\", \"hill\", \"fort\", \"bus\", \"world\", \"famous\", \"lot\", \"shop\", \"park\", \"local\", \"coffee\", \"water\", \"bar\", \"town\", \"green\", \"right\", \"restaurant\", \"cafe\", \"place\", \"beautiful\", \"downtown\", \"diverse\", \"traffic\", \"anywhere\", \"silver\", \"service\", \"broadway\", \"literally\", \"dollar\", \"lines\", \"tpass\", \"intersect\", \"commonly\", \"outside\", \"automobile\", \"noticeable\", \"directly\", \"refer\", \"carson\", \"even\", \"bcec\", \"ocean\", \"available\", \"tremont\", \"name\", \"beach\", \"since\", \"uber\", \"club\", \"winter\", \"feel\", \"sure\", \"downtown\", \"building\", \"subway\", \"station\", \"south\", \"state\", \"airport\", \"line\", \"park\", \"quiet\", \"plenty\", \"super\", \"district\", \"red\", \"right\", \"lively\", \"medical\", \"longwood\", \"hospital\", \"mi\", \"circle\", \"orange\", \"nightlife\", \"northeastern\", \"allston\", \"fenway\", \"late\", \"convenience\", \"childrens\", \"drive\", \"kenmore\", \"school\", \"university\", \"harvard\", \"location\", \"sport\", \"store\", \"ton\", \"business\", \"cambridge\", \"grocery\", \"brookline\", \"train\", \"center\", \"central\", \"prudential\", \"line\", \"subway\", \"restaurant\", \"bar\", \"green\", \"square\", \"park\", \"college\", \"st\", \"convenient\", \"quiet\", \"public\", \"downtown\", \"wide\", \"walking\", \"charlestown\", \"bank\", \"donut\", \"asian\", \"cuisine\", \"peaceful\", \"neponset\", \"ymca\", \"monument\", \"walgreens\", \"hispanic\", \"court\", \"biking\", \"dunkin\", \"golf\", \"ave\", \"era\", \"presidential\", \"path\", \"cv\", \"zoo\", \"african\", \"dozen\", \"starbucks\", \"dorchester\", \"variety\", \"upscale\", \"outdoor\", \"river\", \"diverse\", \"large\", \"easily\", \"professional\", \"library\", \"park\", \"john\", \"supermarket\", \"charles\", \"several\", \"include\", \"view\", \"along\", \"restaurant\", \"food\", \"shopping\", \"family\", \"young\", \"public\", \"community\", \"avenue\", \"nearby\", \"major\", \"team\", \"td\", \"event\", \"rail\", \"concert\", \"celtic\", \"share\", \"bruin\", \"amtrak\", \"performance\", \"terminal\", \"hockey\", \"arena\", \"inbound\", \"entertainment\", \"weekend\", \"hub\", \"mbta\", \"basketball\", \"dining\", \"commuter\", \"west\", \"furnished\", \"use\", \"efficient\", \"countless\", \"traditional\", \"seaport\", \"contemporary\", \"station\", \"garden\", \"north\", \"transit\", \"transportation\", \"train\", \"live\", \"public\", \"border\", \"building\"], \"Freq\": [609.0, 509.0, 406.0, 1072.0, 644.0, 940.0, 228.0, 391.0, 618.0, 230.0, 391.0, 551.0, 205.0, 292.0, 191.0, 285.0, 227.0, 318.0, 243.0, 245.0, 204.0, 608.0, 261.0, 172.0, 188.0, 276.0, 261.0, 160.0, 256.0, 212.0, 62.904419873645935, 39.60158725920246, 36.904431622573604, 33.32414863052699, 32.460627974857445, 32.45183838925883, 32.441472991007345, 32.417407345840786, 31.560095055366375, 31.545470488514805, 31.53881267279706, 31.51996813765488, 29.7717338322403, 29.755999960523773, 29.749980563295505, 29.744269935160293, 41.2631369153693, 61.68279084414194, 52.96345299280257, 43.34529332139938, 44.07826100105552, 34.49080574510349, 42.49898742207004, 84.37540086864243, 152.06498603719777, 52.45792266093037, 28.466285460638293, 114.1193654597291, 58.152655628000986, 129.07694734502581, 107.89297928710991, 94.48991027757201, 143.67741270571216, 73.51392390909209, 70.37296740954498, 428.27681536414366, 124.7524910695367, 61.78081240421173, 100.65234436301628, 60.244874955812506, 53.736415808628315, 151.81819189182667, 97.76403441053144, 67.72727916264327, 91.97521894491737, 54.930538246347226, 68.73271675516152, 90.32225671902691, 74.40245050050504, 91.19338931962739, 92.02677985099966, 70.0759248083935, 75.25617213481785, 82.87466170695215, 73.57233161612712, 71.04525102656267, 75.8283001840125, 68.14939160691654, 64.81205832473611, 88.46544668886997, 72.22443208602657, 66.63832765247709, 59.038552893120105, 51.45228408597551, 47.65262846542737, 46.693570639294215, 42.92569413051306, 40.992478132250646, 42.76648961266481, 38.16368353033936, 36.290085494693244, 36.25694408360777, 35.34305368405947, 35.3209118871258, 35.31942798220992, 35.26637036233323, 33.43314898394518, 32.49135572495616, 31.5382459476541, 31.535609504136303, 31.507402403682278, 178.09338900146298, 30.57338568429288, 35.66843749630776, 191.07618369467238, 64.15395871801815, 73.11532551950101, 30.77411689328518, 28.843662374628604, 111.5310292784332, 153.1697074965926, 317.81832746129976, 61.74544326246629, 62.15989741677257, 47.22428168954764, 71.40895103781781, 170.99831947466643, 154.73610173834942, 109.04441797957162, 142.7371900537399, 174.39748779582993, 187.49095570084592, 88.61612654621442, 59.187321080224095, 136.3329678522307, 108.5785484052518, 87.33585781356496, 77.16165243744211, 120.23002674350448, 74.40917899178709, 67.30261206639028, 74.14863344985928, 65.79002956697086, 63.53189987004195, 189.27860219310946, 142.21568877107214, 169.9835292895692, 94.89397996837498, 96.83797286137661, 201.36443654805714, 146.94813620340435, 77.75901417112398, 74.706970445963, 63.68195350978574, 60.66437377093204, 37.43347399313488, 36.34390094146797, 88.09189014483849, 62.93841086088562, 33.98384789146316, 45.77338267756434, 76.54626672759396, 75.40854893959303, 332.78170146739643, 169.60979914233266, 164.4961328900921, 221.28468426299503, 76.94387147640478, 39.37146466447754, 117.30958862794063, 69.12966093859066, 80.29584140946683, 22.328422620063954, 83.91298684074457, 71.00761064885444, 253.4180690569788, 104.1678693500126, 93.7205053988243, 105.8324768554714, 92.64179846448289, 165.50100175334848, 87.28659031480551, 126.42006529530754, 85.89166292632117, 87.00645191014486, 228.85282734928063, 140.3160873905045, 109.18797545420108, 131.6639650553598, 87.7381782673348, 85.82381619373808, 84.86797386672416, 70.27376233323987, 60.54239390473913, 79.84565901518992, 46.91248573887769, 40.102965169463474, 38.158113785702284, 36.20496248652519, 32.33639290734199, 32.28488865408775, 31.33325358130027, 46.8498846569976, 30.401174547921002, 36.68432432687031, 40.525057371303184, 40.92002488340748, 31.01062634252755, 43.726048609773024, 34.33685397884199, 40.671872286823, 25.40361112297653, 38.93954516290729, 31.818977752013307, 38.09623505825391, 327.5015067707986, 54.0268677037229, 114.78242630834214, 53.823154407132776, 54.89303913381961, 80.04157891928992, 172.46405439496127, 267.29381102905006, 111.93790120994319, 68.5378230401995, 47.25507401733715, 97.29200394590775, 61.038837288147434, 81.73220280168829, 71.17180782838874, 123.12916905188325, 62.803795510180535, 58.80769409626668, 54.36997227592401, 59.226294537113844, 52.1061891745229, 142.7212037255721, 71.97335163754428, 69.96002723092471, 66.91552607875583, 61.86516874137838, 75.49178509998704, 49.7591681564842, 46.733923013573374, 46.733923013573374, 46.732660148258375, 46.73075756067338, 54.47211439830097, 44.71303956622354, 44.71303956622354, 39.6294294586909, 37.60244073350085, 34.58724209728982, 85.12968284121968, 33.576732009906856, 36.30543191302448, 98.5169547640914, 41.59558120369843, 67.42571071506948, 196.93901195156664, 50.35578947711958, 58.01608512637977, 30.962642488780375, 70.85622292011341, 100.7923076352879, 56.48615909706, 370.2886008094384, 154.78791537694605, 212.30812478914964, 226.0702927724644, 186.51574934137167, 80.3887581931575, 77.75088682991594, 154.88826907154453, 178.36826018203527, 109.92007979460423, 61.9137088834789, 63.436697640537126, 94.21807753455737, 67.21889436037465, 70.72940888689202, 55.83804756143425, 226.2741286626063, 95.41847551861885, 156.50761207270457, 51.793713725997144, 31.8511658975975, 106.2484778357053, 30.74590259846189, 48.5204049645681, 75.23535035435965, 197.28926126863752, 26.609598006345898, 37.943390904995375, 35.925338538215435, 193.23429245749483, 56.044727972593854, 132.48555613977487, 188.95042956078655, 205.0656116461622, 133.8443573062356, 24.889522995279822, 204.777491118518, 24.623470196335145, 56.87370729963842, 55.31070115076908, 112.65597197090783, 24.69730578918276, 126.74704259262808, 210.7451486142252, 32.958403719933635, 46.89267448992036, 267.68385447696124, 149.4371923271046, 315.42038268992366, 138.13590398093385, 100.17158754458713, 91.92174342201952, 122.73569216096725, 72.38562168035335, 50.52711080027963, 54.45820891882944, 62.65934147019354, 60.6032835194514, 60.8757777116749, 58.470003810581105, 55.3563887942382, 50.56553686651141, 48.50127979722871, 58.90619336339011, 42.67968078244968, 42.67569772512872, 74.80048733529846, 38.753281071192994, 37.76651619961589, 36.73641666215242, 34.78275893385215, 32.82157871948585, 32.79156494535522, 31.7846303840103, 48.44138914424112, 33.48927850732516, 71.26750381239795, 32.04944887638324, 31.872662614657628, 45.15302742800281, 59.75155333177235, 61.40384619727859, 33.96250496334737, 31.53533960665183, 34.566177833156154, 142.35750560376323, 77.95825136649988, 35.66695026861082, 39.67567728780704, 154.0988572543208, 157.88672064239006, 98.86454334300026, 50.31854358155331, 114.8920951461029, 86.54977790224898, 295.90720526613507, 56.225564373893235, 54.64648014267573, 80.32604426560924, 65.72886454693406, 84.34310901670482, 58.42128215433423, 79.59976934450323, 145.08699951335527, 76.18753458160835, 81.00955089731575, 79.5147533003728, 69.57573380101793, 83.05492484180634, 60.63762746348634, 56.909482209759496, 59.156078914850625, 128.48752959114944, 84.65104558524715, 82.36837077115995, 80.1115879620181, 68.8737750136866, 67.73297819986192, 58.76089807244574, 58.74474619279495, 57.63706283941641, 49.762300841460416, 45.270694792435, 44.15133349760413, 43.02905912082984, 43.02693147664473, 41.904307948330896, 101.68606746061756, 89.41369811747526, 81.70494662554091, 98.91533999814148, 63.53039595355659, 96.70469483997125, 78.55398346131717, 92.94338718035891, 128.9509427089973, 127.05782526121159, 44.82822437939999, 46.20255216808377, 36.873790248775826, 100.93301411593674, 32.923296971058704, 346.14608033108874, 155.86778319420992, 227.6333368293901, 94.03901734366887, 106.46965829553531, 108.42488691750661, 87.63450066839142, 108.42956264636976, 56.202486036386055, 67.13190619113904], \"Total\": [609.0, 509.0, 406.0, 1072.0, 644.0, 940.0, 228.0, 391.0, 618.0, 230.0, 391.0, 551.0, 205.0, 292.0, 191.0, 285.0, 227.0, 318.0, 243.0, 245.0, 204.0, 608.0, 261.0, 172.0, 188.0, 276.0, 261.0, 160.0, 256.0, 212.0, 64.69659595422353, 41.40624170576408, 38.720026762819415, 35.13573477718345, 34.236608518136954, 34.23743450416125, 34.23873064831549, 34.241735922097426, 33.34130391041189, 33.34282621409553, 33.343280860654424, 33.34469326966804, 31.549319953314996, 31.55077444192048, 31.55184607177664, 31.551984544483155, 44.192882293725454, 66.75181525308456, 57.79963478601606, 47.93247217023009, 48.85408451670995, 38.95019210857497, 48.826945923572154, 97.08723819398259, 178.52509298380176, 61.814893051850625, 33.65840279416827, 135.67433050172625, 72.2261825734945, 162.68899226106078, 138.68614732104626, 126.6013447970129, 222.4101531059172, 97.9209214645595, 93.70957207710926, 1072.4581243187085, 208.83909808008502, 82.95728884731832, 177.2391955338038, 87.64953718830004, 74.87313356580046, 411.8151055292871, 203.40906333484986, 116.19484164281162, 202.6734405833846, 83.85207096144887, 130.67586593518482, 236.268222862654, 161.00619154949655, 285.34395439078924, 330.33709805655957, 184.54376472865184, 234.5817206979653, 515.2894972096285, 318.01496437981376, 330.84272830726036, 644.2794387409924, 309.37656481435636, 337.82394833662494, 90.2372260225125, 74.1014596193056, 68.41149684672459, 60.81938705606075, 53.228806836484374, 49.43343140762281, 48.48417133236112, 44.68785614323497, 42.79178359184995, 44.68104237043444, 39.94320574307324, 38.044954892809066, 38.04687274027537, 37.09591334937926, 37.097299106263876, 37.097363457657465, 37.097578423460305, 35.1982639613041, 34.249345460023974, 33.300778861570166, 33.300651092158105, 33.302048805028925, 188.31178725585247, 32.35287376543749, 38.07289814030772, 204.39515023162033, 69.17425960953926, 78.96579752092632, 34.29347895583803, 32.258207085630275, 129.5415215939978, 180.53790756181678, 391.70661372396785, 73.38551859145845, 74.36242326636822, 54.78505504053858, 95.04263987145706, 337.82394833662494, 294.9279653299702, 187.14899807358918, 330.84272830726036, 515.2894972096285, 608.429352330752, 203.08495209362434, 95.83068244605803, 481.2476999500243, 369.02066311304236, 233.37512996984054, 176.55455615989916, 551.0557800481381, 215.3626927722943, 168.37394153960105, 309.37656481435636, 234.5817206979653, 412.9331155908723, 191.2955610952639, 143.97092389826685, 172.16025262412168, 96.64214217026249, 98.65512213433213, 205.28710232002837, 149.9503779429531, 79.5224768151548, 76.50096272807511, 65.42529202426697, 62.4044186134517, 39.24149904804334, 38.23456452067058, 95.5456288491025, 68.3886690883901, 39.123267172579794, 53.24262839693684, 89.49445216681231, 91.38554164328534, 406.679681839643, 212.7691667090138, 209.9228039053932, 285.2316619722122, 102.31553075805718, 54.817129510244996, 165.2359492680261, 98.11898362265514, 116.56452246805121, 33.0937148086234, 134.22172047941075, 118.08969061492363, 509.04429158682535, 185.60093612214328, 174.12578072746126, 215.3626927722943, 182.35364398347113, 608.429352330752, 176.55455615989916, 618.9021847390685, 186.92753043092478, 369.02066311304236, 230.61312078281145, 142.08062620440612, 110.94823955401023, 134.32792280759708, 89.5454630230059, 87.59921987069725, 86.62602772700858, 72.03285031765691, 62.30417846870239, 82.70920070118117, 48.68394173077127, 41.8733922353525, 39.927643265775714, 37.98281022450443, 34.09038315924822, 34.0918412557617, 33.117739724139994, 49.57484597879441, 33.939837489641626, 41.993436140934094, 46.816751319897385, 47.31390989772309, 38.06173477901019, 54.36943675904322, 42.73264893457986, 51.78735780482293, 34.86823447145534, 53.74139866319642, 44.02881176528027, 52.766561394238344, 551.0557800481381, 79.90825542844775, 223.1464615655847, 82.90905514316132, 85.49544845586021, 148.79800039192614, 481.2476999500243, 940.2894906163721, 309.37656481435636, 156.29553628264608, 74.79677424139669, 411.8151055292871, 141.66705864603688, 295.62787803657665, 214.3552454381862, 1072.4581243187085, 203.08495209362434, 222.4101531059172, 203.40906333484986, 644.2794387409924, 220.90667060113034, 144.46401953881946, 73.72902537184866, 71.70855201866769, 68.67673193733829, 63.62369045130902, 77.71218611827194, 51.498750642350764, 48.46745980036336, 48.46745980036336, 48.467399268658056, 48.467250428431385, 56.531115695125294, 46.44647756712534, 46.44647756712534, 41.392638785643, 39.372116599296284, 36.34065749776936, 89.57186877362967, 35.33020393140292, 38.32995985338798, 104.51281041076277, 47.35279291515122, 77.69569349156407, 227.18864433140345, 58.33143617966997, 67.44541075931143, 38.250385180493325, 90.74242294342619, 130.75984485792267, 75.55584911076112, 644.2794387409924, 261.92040056506795, 391.1045235081106, 609.2192364933293, 515.2894972096285, 137.12423891383594, 130.51290321459913, 618.9021847390685, 940.2894906163721, 330.33709805655957, 98.98413832388134, 110.04399817507117, 369.02066311304236, 155.3764813650775, 214.3552454381862, 84.4415660055126, 228.05759194053198, 97.17334862254029, 160.66936629085686, 53.54570635015462, 33.712190581208546, 123.0172678565353, 35.68105946135606, 56.40291902440089, 91.89122789155755, 243.36574758805915, 33.64330722876674, 48.1649934261709, 45.73504892420151, 256.37366029688576, 74.60319011850194, 180.13779609204468, 261.572691342442, 292.78382303765267, 192.97747049390378, 36.48886714889092, 318.01496437981376, 38.38589137816555, 88.9986256869665, 91.69282175296448, 188.4622838612541, 45.73877207347667, 245.62272113273133, 412.9331155908723, 65.24819143985161, 93.19091249233041, 618.9021847390685, 391.1045235081106, 1072.4581243187085, 411.8151055292871, 295.62787803657665, 330.84272830726036, 940.2894906163721, 406.679681839643, 135.96409313521735, 182.35364398347113, 330.33709805655957, 608.429352330752, 644.2794387409924, 60.24882214061444, 57.28713910512658, 52.34940724961765, 50.36507629293809, 61.184537644774025, 44.44844052197106, 44.448151326482495, 78.05278873179019, 40.498499101135764, 39.51098701920575, 38.52440771591823, 36.54834838727858, 34.57319434592998, 34.57336789640668, 33.584110548140494, 51.25475098879171, 35.55626265759117, 76.0061241870584, 34.51099371600708, 34.55962584152989, 49.34933115271367, 67.16181185926743, 69.04831382592478, 38.26241980840045, 36.26257199785932, 40.519145581917066, 170.49226312146124, 93.41355975985662, 43.23478749218579, 48.53036421979163, 193.60021973375098, 220.90667060113034, 143.72236576609652, 64.0706075584804, 210.87671298319466, 142.02707996258476, 940.2894906163721, 83.91339452597092, 81.16392520114655, 168.37394153960105, 123.18879974267881, 198.19064061565658, 100.15311416107528, 212.43299817479118, 1072.4581243187085, 236.268222862654, 294.9279653299702, 285.34395439078924, 189.07106070520453, 608.429352330752, 179.0346957307921, 125.3543319162867, 184.54376472865184, 130.22568576915788, 86.35690659033206, 84.10289189233221, 81.85164253328477, 70.60350791513592, 69.47641095471829, 60.48070873497025, 60.47842886535391, 59.35588711425288, 51.4810967742725, 46.98217561972666, 45.85803863036436, 44.733439319508776, 44.733144122166, 43.608500071976366, 106.17116239037917, 93.8508884850639, 85.96726273982753, 110.80365514276143, 76.03951718993692, 117.74432238872575, 96.79093540902772, 115.00084484824475, 160.3962231128932, 160.3283578113573, 58.01299902187189, 60.17102691913122, 50.41391784373162, 140.64042007349605, 47.23049809213106, 609.2192364933293, 276.5446344171014, 509.04429158682535, 186.92753043092478, 233.37512996984054, 245.62272113273133, 202.6734405833846, 608.429352330752, 114.17200892598512, 261.92040056506795], \"Category\": [\"Default\", \"Default\", \"Default\", \"Default\", \"Default\", \"Default\", \"Default\", \"Default\", \"Default\", \"Default\", \"Default\", \"Default\", \"Default\", \"Default\", \"Default\", \"Default\", \"Default\", \"Default\", \"Default\", \"Default\", \"Default\", \"Default\", \"Default\", \"Default\", \"Default\", \"Default\", \"Default\", \"Default\", \"Default\", \"Default\", \"Topic1\", \"Topic1\", \"Topic1\", \"Topic1\", \"Topic1\", \"Topic1\", \"Topic1\", \"Topic1\", \"Topic1\", \"Topic1\", \"Topic1\", \"Topic1\", \"Topic1\", \"Topic1\", \"Topic1\", \"Topic1\", \"Topic1\", \"Topic1\", \"Topic1\", \"Topic1\", \"Topic1\", \"Topic1\", \"Topic1\", \"Topic1\", \"Topic1\", \"Topic1\", \"Topic1\", \"Topic1\", \"Topic1\", \"Topic1\", \"Topic1\", \"Topic1\", \"Topic1\", \"Topic1\", \"Topic1\", \"Topic1\", \"Topic1\", \"Topic1\", \"Topic1\", \"Topic1\", \"Topic1\", \"Topic1\", \"Topic1\", \"Topic1\", \"Topic1\", \"Topic1\", \"Topic1\", \"Topic1\", \"Topic1\", \"Topic1\", \"Topic1\", \"Topic1\", \"Topic1\", \"Topic1\", \"Topic1\", \"Topic1\", \"Topic1\", \"Topic1\", \"Topic1\", \"Topic2\", \"Topic2\", \"Topic2\", \"Topic2\", \"Topic2\", \"Topic2\", \"Topic2\", \"Topic2\", \"Topic2\", \"Topic2\", \"Topic2\", \"Topic2\", \"Topic2\", \"Topic2\", \"Topic2\", \"Topic2\", \"Topic2\", \"Topic2\", \"Topic2\", \"Topic2\", \"Topic2\", \"Topic2\", \"Topic2\", \"Topic2\", \"Topic2\", \"Topic2\", \"Topic2\", \"Topic2\", \"Topic2\", \"Topic2\", \"Topic2\", \"Topic2\", \"Topic2\", \"Topic2\", \"Topic2\", \"Topic2\", \"Topic2\", \"Topic2\", \"Topic2\", \"Topic2\", \"Topic2\", \"Topic2\", \"Topic2\", \"Topic2\", \"Topic2\", \"Topic2\", \"Topic2\", \"Topic2\", \"Topic2\", \"Topic2\", \"Topic2\", \"Topic2\", \"Topic2\", \"Topic2\", \"Topic2\", \"Topic3\", \"Topic3\", \"Topic3\", \"Topic3\", \"Topic3\", \"Topic3\", \"Topic3\", \"Topic3\", \"Topic3\", \"Topic3\", \"Topic3\", \"Topic3\", \"Topic3\", \"Topic3\", \"Topic3\", \"Topic3\", \"Topic3\", \"Topic3\", \"Topic3\", \"Topic3\", \"Topic3\", \"Topic3\", \"Topic3\", \"Topic3\", \"Topic3\", \"Topic3\", \"Topic3\", \"Topic3\", \"Topic3\", \"Topic3\", \"Topic3\", \"Topic3\", \"Topic3\", \"Topic3\", \"Topic3\", \"Topic3\", \"Topic3\", \"Topic3\", \"Topic3\", \"Topic3\", \"Topic3\", \"Topic4\", \"Topic4\", \"Topic4\", \"Topic4\", \"Topic4\", \"Topic4\", \"Topic4\", \"Topic4\", \"Topic4\", \"Topic4\", \"Topic4\", \"Topic4\", \"Topic4\", \"Topic4\", \"Topic4\", \"Topic4\", \"Topic4\", \"Topic4\", \"Topic4\", \"Topic4\", \"Topic4\", \"Topic4\", \"Topic4\", \"Topic4\", \"Topic4\", \"Topic4\", \"Topic4\", \"Topic4\", \"Topic4\", \"Topic4\", \"Topic4\", \"Topic4\", \"Topic4\", \"Topic4\", \"Topic4\", \"Topic4\", \"Topic4\", \"Topic4\", \"Topic4\", \"Topic4\", \"Topic4\", \"Topic4\", \"Topic4\", \"Topic4\", \"Topic4\", \"Topic4\", \"Topic4\", \"Topic4\", \"Topic4\", \"Topic4\", \"Topic4\", \"Topic5\", \"Topic5\", \"Topic5\", \"Topic5\", \"Topic5\", \"Topic5\", \"Topic5\", \"Topic5\", \"Topic5\", \"Topic5\", \"Topic5\", \"Topic5\", \"Topic5\", \"Topic5\", \"Topic5\", \"Topic5\", \"Topic5\", \"Topic5\", \"Topic5\", \"Topic5\", \"Topic5\", \"Topic5\", \"Topic5\", \"Topic5\", \"Topic5\", \"Topic5\", \"Topic5\", \"Topic5\", \"Topic5\", \"Topic5\", \"Topic5\", \"Topic5\", \"Topic5\", \"Topic5\", \"Topic5\", \"Topic5\", \"Topic5\", \"Topic5\", \"Topic5\", \"Topic5\", \"Topic5\", \"Topic5\", \"Topic5\", \"Topic5\", \"Topic5\", \"Topic5\", \"Topic6\", \"Topic6\", \"Topic6\", \"Topic6\", \"Topic6\", \"Topic6\", \"Topic6\", \"Topic6\", \"Topic6\", \"Topic6\", \"Topic6\", \"Topic6\", \"Topic6\", \"Topic6\", \"Topic6\", \"Topic6\", \"Topic6\", \"Topic6\", \"Topic6\", \"Topic6\", \"Topic6\", \"Topic6\", \"Topic6\", \"Topic6\", \"Topic6\", \"Topic6\", \"Topic6\", \"Topic6\", \"Topic6\", \"Topic6\", \"Topic6\", \"Topic6\", \"Topic6\", \"Topic6\", \"Topic6\", \"Topic6\", \"Topic6\", \"Topic6\", \"Topic6\", \"Topic6\", \"Topic6\", \"Topic6\", \"Topic6\", \"Topic7\", \"Topic7\", \"Topic7\", \"Topic7\", \"Topic7\", \"Topic7\", \"Topic7\", \"Topic7\", \"Topic7\", \"Topic7\", \"Topic7\", \"Topic7\", \"Topic7\", \"Topic7\", \"Topic7\", \"Topic7\", \"Topic7\", \"Topic7\", \"Topic7\", \"Topic7\", \"Topic7\", \"Topic7\", \"Topic7\", \"Topic7\", \"Topic7\", \"Topic7\", \"Topic7\", \"Topic7\", \"Topic7\", \"Topic7\", \"Topic7\", \"Topic7\", \"Topic7\", \"Topic7\", \"Topic7\", \"Topic7\", \"Topic7\", \"Topic7\", \"Topic7\", \"Topic7\", \"Topic7\", \"Topic7\", \"Topic7\", \"Topic7\", \"Topic7\", \"Topic7\", \"Topic7\", \"Topic7\", \"Topic7\", \"Topic7\", \"Topic7\", \"Topic7\", \"Topic7\", \"Topic8\", \"Topic8\", \"Topic8\", \"Topic8\", \"Topic8\", \"Topic8\", \"Topic8\", \"Topic8\", \"Topic8\", \"Topic8\", \"Topic8\", \"Topic8\", \"Topic8\", \"Topic8\", \"Topic8\", \"Topic8\", \"Topic8\", \"Topic8\", \"Topic8\", \"Topic8\", \"Topic8\", \"Topic8\", \"Topic8\", \"Topic8\", \"Topic8\", \"Topic8\", \"Topic8\", \"Topic8\", \"Topic8\", \"Topic8\", \"Topic8\", \"Topic8\", \"Topic8\", \"Topic8\", \"Topic8\", \"Topic8\", \"Topic8\", \"Topic8\", \"Topic8\", \"Topic8\"], \"logprob\": [30.0, 29.0, 28.0, 27.0, 26.0, 25.0, 24.0, 23.0, 22.0, 21.0, 20.0, 19.0, 18.0, 17.0, 16.0, 15.0, 14.0, 13.0, 12.0, 11.0, 10.0, 9.0, 8.0, 7.0, 6.0, 5.0, 4.0, 3.0, 2.0, 1.0, -4.836, -5.2987, -5.3693, -5.4713, -5.4976, -5.4978, -5.4982, -5.4989, -5.5257, -5.5262, -5.5264, -5.527, -5.584, -5.5846, -5.5848, -5.585, -5.2576, -4.8556, -5.008, -5.2084, -5.1916, -5.4369, -5.2281, -4.5423, -3.9533, -5.0176, -5.6289, -4.2403, -4.9145, -4.1172, -4.2965, -4.4291, -4.01, -4.6801, -4.7238, -2.9178, -4.1513, -4.854, -4.3659, -4.8792, -4.9935, -3.9549, -4.395, -4.7621, -4.4561, -4.9715, -4.7474, -4.4742, -4.6681, -4.4646, -4.4555, -4.728, -4.6567, -4.5603, -4.6793, -4.7143, -4.6491, -4.7559, -4.8061, -4.371, -4.5738, -4.6543, -4.7754, -4.913, -4.9897, -5.01, -5.0941, -5.1402, -5.0979, -5.2117, -5.2621, -5.263, -5.2885, -5.2891, -5.2892, -5.2907, -5.3441, -5.3726, -5.4024, -5.4025, -5.4034, -3.6713, -5.4335, -5.2794, -3.6009, -4.6923, -4.5616, -5.4269, -5.4917, -4.1393, -3.8221, -3.0921, -4.7306, -4.7239, -4.9987, -4.5852, -3.712, -3.8119, -4.1619, -3.8926, -3.6923, -3.6199, -4.3693, -4.7729, -3.9385, -4.1661, -4.3839, -4.5077, -4.0642, -4.544, -4.6444, -4.5475, -4.6671, -4.7021, -3.5537, -3.8396, -3.6613, -4.2442, -4.2239, -3.4918, -3.8069, -4.4433, -4.4834, -4.6431, -4.6916, -5.1744, -5.2039, -4.3186, -4.6548, -5.2711, -4.9733, -4.4591, -4.474, -2.9895, -3.6635, -3.6941, -3.3975, -4.4539, -5.1239, -4.0321, -4.561, -4.4112, -5.6911, -4.3672, -4.5342, -3.2619, -4.151, -4.2566, -4.1351, -4.2682, -3.688, -4.3278, -3.9573, -4.3439, -4.331, -3.3436, -3.8328, -4.0836, -3.8964, -4.3023, -4.3244, -4.3356, -4.5243, -4.6733, -4.3966, -4.9284, -5.0852, -5.1349, -5.1875, -5.3005, -5.3021, -5.332, -4.9297, -5.3622, -5.1743, -5.0747, -5.065, -5.3423, -4.9987, -5.2404, -5.0711, -5.5418, -5.1146, -5.3166, -5.1365, -2.9852, -4.7872, -4.0336, -4.791, -4.7713, -4.3941, -3.6265, -3.1883, -4.0587, -4.5493, -4.9211, -4.1989, -4.6651, -4.3732, -4.5116, -3.9634, -4.6366, -4.7024, -4.7808, -4.6953, -4.8234, -3.7684, -4.453, -4.4814, -4.5259, -4.6044, -4.4053, -4.8221, -4.8849, -4.8849, -4.8849, -4.8849, -4.7316, -4.9291, -4.9291, -5.0497, -5.1023, -5.1858, -4.2851, -5.2155, -5.1374, -4.1391, -5.0013, -4.5183, -3.4464, -4.8102, -4.6686, -5.2965, -4.4687, -4.1163, -4.6953, -2.815, -3.6873, -3.3713, -3.3085, -3.5008, -4.3424, -4.3758, -3.6866, -3.5455, -4.0296, -4.6036, -4.5793, -4.1837, -4.5214, -4.4705, -4.7069, -3.2947, -4.1582, -3.6634, -4.7692, -5.2554, -4.0507, -5.2907, -4.8345, -4.3959, -3.4318, -5.4352, -5.0804, -5.135, -3.4526, -4.6903, -3.83, -3.475, -3.3932, -3.8198, -5.502, -3.3946, -5.5128, -4.6757, -4.7035, -3.9922, -5.5098, -3.8743, -3.3658, -5.2212, -4.8686, -3.1267, -3.7096, -2.9626, -3.7883, -4.1096, -4.1956, -3.9065, -4.4345, -4.794, -4.7191, -4.5788, -4.6121, -4.6077, -4.6294, -4.6841, -4.7747, -4.8163, -4.622, -4.9442, -4.9443, -4.3831, -5.0407, -5.0665, -5.0942, -5.1488, -5.2068, -5.2078, -5.2389, -4.8176, -5.1867, -4.4315, -5.2306, -5.2362, -4.8879, -4.6077, -4.5805, -5.1727, -5.2468, -5.1551, -3.7396, -4.3418, -5.1237, -5.0172, -3.6603, -3.6361, -4.1042, -4.7796, -3.9539, -4.2372, -3.0079, -4.6686, -4.697, -4.3118, -4.5124, -4.263, -4.6302, -4.3209, -3.7206, -4.3647, -4.3034, -4.322, -4.4555, -4.2784, -4.593, -4.6565, -4.6177, -3.5484, -3.9657, -3.993, -4.0208, -4.1719, -4.1886, -4.3307, -4.331, -4.35, -4.4969, -4.5915, -4.6166, -4.6423, -4.6424, -4.6688, -3.7823, -3.9109, -4.0011, -3.8099, -4.2527, -3.8325, -4.0404, -3.8722, -3.5448, -3.5596, -4.6014, -4.5712, -4.7967, -3.7897, -4.91, -2.5573, -3.3552, -2.9765, -3.8605, -3.7363, -3.7181, -3.931, -3.7181, -4.3752, -4.1975], \"loglift\": [30.0, 29.0, 28.0, 27.0, 26.0, 25.0, 24.0, 23.0, 22.0, 21.0, 20.0, 19.0, 18.0, 17.0, 16.0, 15.0, 14.0, 13.0, 12.0, 11.0, 10.0, 9.0, 8.0, 7.0, 6.0, 5.0, 4.0, 3.0, 2.0, 1.0, 1.8292, 1.8127, 1.8092, 1.8043, 1.804, 1.8037, 1.8033, 1.8025, 1.8023, 1.8018, 1.8016, 1.801, 1.7993, 1.7987, 1.7984, 1.7983, 1.7887, 1.7783, 1.7699, 1.7567, 1.7544, 1.7357, 1.7185, 1.7169, 1.6968, 1.6931, 1.6897, 1.6842, 1.6405, 1.6258, 1.6062, 1.5647, 1.4203, 1.5706, 1.5709, 0.9393, 1.342, 1.5625, 1.2914, 1.4823, 1.5255, 0.8594, 1.1246, 1.3175, 1.0672, 1.4343, 1.2148, 0.8957, 1.0853, 0.7165, 0.5792, 0.8889, 0.7203, 0.0299, 0.3934, 0.3189, -0.2824, 0.3444, 0.2062, 1.9614, 1.9556, 1.955, 1.9515, 1.9473, 1.9445, 1.9436, 1.941, 1.9383, 1.9374, 1.9357, 1.934, 1.933, 1.9328, 1.9322, 1.9321, 1.9306, 1.9298, 1.9285, 1.9268, 1.9268, 1.9258, 1.9254, 1.9247, 1.916, 1.9138, 1.9059, 1.9042, 1.8729, 1.8693, 1.8315, 1.8168, 1.7722, 1.8085, 1.802, 1.8327, 1.6953, 1.3004, 1.3362, 1.4411, 1.1406, 0.8978, 0.8041, 1.1519, 1.4994, 0.7199, 0.7578, 0.9983, 1.1535, 0.4588, 0.9185, 1.0642, 0.5527, 0.7099, 0.1095, 2.0273, 2.0256, 2.0252, 2.0196, 2.0193, 2.0186, 2.0177, 2.0155, 2.0142, 2.0109, 2.0096, 1.9907, 1.9872, 1.9567, 1.9548, 1.8971, 1.8867, 1.8816, 1.8457, 1.8373, 1.8112, 1.794, 1.784, 1.7529, 1.7069, 1.6953, 1.6877, 1.6652, 1.6444, 1.5682, 1.5292, 1.3404, 1.4603, 1.4184, 1.3274, 1.3607, 0.736, 1.3335, 0.4496, 1.2603, 0.593, 2.0505, 2.0457, 2.0422, 2.0382, 2.0378, 2.0377, 2.0377, 2.0335, 2.0295, 2.023, 2.0211, 2.015, 2.0129, 2.0102, 2.0054, 2.0037, 2.0028, 2.0017, 1.9481, 1.923, 1.9139, 1.913, 1.8533, 1.8403, 1.8394, 1.8166, 1.7415, 1.736, 1.7334, 1.7324, 1.5378, 1.6668, 1.3934, 1.6261, 1.6151, 1.4381, 1.032, 0.8003, 1.0416, 1.2338, 1.599, 0.6153, 1.2162, 0.7725, 0.9556, -0.1063, 0.8846, 0.7279, 0.7388, -0.3286, 0.6137, 2.0934, 2.0814, 2.0808, 2.0795, 2.0775, 2.0765, 2.0712, 2.0691, 2.0691, 2.0691, 2.069, 2.0684, 2.0675, 2.0675, 2.062, 2.0595, 2.0561, 2.0547, 2.0546, 2.0513, 2.0464, 1.9759, 1.9637, 1.9626, 1.9585, 1.9549, 1.8942, 1.8582, 1.8452, 1.8146, 1.5517, 1.5795, 1.4946, 1.1142, 1.0893, 1.5715, 1.5876, 0.7203, 0.4432, 1.0052, 1.6363, 1.5547, 0.7403, 1.2676, 0.9967, 1.6919, 2.1105, 2.1001, 2.0921, 2.0851, 2.0616, 1.9718, 1.9695, 1.9678, 1.9184, 1.9085, 1.8838, 1.8798, 1.8769, 1.8356, 1.8323, 1.8111, 1.7931, 1.7622, 1.7525, 1.7358, 1.6782, 1.6744, 1.6706, 1.6129, 1.6038, 1.5021, 1.4568, 1.4457, 1.4354, 1.4316, 1.2802, 1.1563, 0.8946, 1.026, 1.0361, 0.8376, 0.0822, 0.3923, 1.1285, 0.9098, 0.456, -0.1882, -0.2409, 2.1069, 2.1026, 2.1022, 2.0992, 2.099, 2.0963, 2.0962, 2.0944, 2.0929, 2.0918, 2.0894, 2.0874, 2.0849, 2.084, 2.0818, 2.0805, 2.077, 2.0725, 2.0629, 2.056, 2.048, 2.02, 2.0196, 2.0177, 1.9972, 1.978, 1.9566, 1.9561, 1.9445, 1.9355, 1.9087, 1.8011, 1.7628, 1.8953, 1.5296, 1.6416, 0.9808, 1.7365, 1.7413, 1.3968, 1.5087, 1.2826, 1.5979, 1.1553, 0.1365, 1.0051, 0.8448, 0.8592, 1.1372, 0.1455, 1.0543, 1.3472, 0.9992, 2.4172, 2.4107, 2.4098, 2.4092, 2.4058, 2.4052, 2.4018, 2.4016, 2.4013, 2.3967, 2.3935, 2.3927, 2.3918, 2.3918, 2.3908, 2.3875, 2.3822, 2.3798, 2.3171, 2.2509, 2.2338, 2.2219, 2.2177, 2.2124, 2.1981, 2.1728, 2.1665, 2.1179, 2.0989, 2.0698, 1.8653, 1.8573, 1.6258, 1.7436, 1.6459, 1.6129, 1.5922, 0.7059, 1.7219, 1.0693]}, \"token.table\": {\"Topic\": [2, 1, 4, 2, 1, 7, 1, 1, 5, 6, 2, 3, 6, 1, 2, 4, 5, 7, 1, 4, 6, 8, 2, 5, 4, 8, 4, 2, 3, 6, 8, 7, 5, 1, 5, 2, 6, 7, 2, 4, 6, 7, 3, 4, 7, 7, 1, 2, 3, 4, 5, 6, 1, 3, 7, 8, 1, 2, 3, 4, 5, 6, 7, 5, 1, 4, 5, 8, 2, 4, 1, 2, 4, 6, 7, 1, 1, 1, 3, 1, 2, 4, 5, 6, 7, 1, 2, 4, 5, 6, 7, 2, 8, 1, 2, 8, 2, 4, 2, 2, 3, 6, 5, 2, 6, 1, 2, 8, 3, 6, 1, 2, 5, 8, 1, 2, 3, 4, 5, 6, 7, 1, 3, 4, 6, 1, 2, 4, 6, 7, 1, 2, 5, 6, 5, 1, 2, 8, 1, 2, 3, 4, 5, 6, 7, 8, 1, 2, 3, 4, 6, 2, 4, 4, 2, 4, 1, 2, 3, 6, 7, 7, 3, 6, 3, 6, 5, 6, 1, 2, 3, 4, 6, 3, 6, 5, 1, 2, 3, 4, 5, 7, 8, 2, 8, 8, 1, 3, 4, 1, 2, 3, 8, 1, 4, 6, 7, 1, 3, 5, 6, 2, 6, 3, 3, 8, 7, 4, 7, 4, 6, 7, 1, 3, 6, 2, 2, 3, 5, 2, 3, 5, 7, 8, 5, 1, 2, 3, 5, 7, 8, 1, 3, 4, 6, 7, 5, 1, 7, 1, 4, 7, 1, 2, 3, 4, 5, 6, 7, 1, 7, 1, 2, 5, 6, 8, 1, 7, 1, 5, 7, 1, 2, 5, 1, 7, 3, 8, 2, 6, 4, 7, 3, 1, 2, 3, 4, 6, 7, 4, 8, 1, 7, 1, 4, 7, 1, 5, 8, 1, 3, 4, 6, 7, 8, 1, 2, 4, 7, 3, 2, 1, 1, 5, 1, 2, 3, 4, 6, 2, 3, 5, 6, 2, 3, 5, 1, 1, 2, 4, 6, 7, 8, 4, 1, 4, 6, 1, 4, 6, 7, 2, 3, 4, 2, 1, 4, 6, 3, 7, 8, 2, 1, 2, 3, 4, 6, 7, 8, 4, 7, 1, 4, 6, 7, 3, 2, 1, 2, 3, 4, 6, 7, 1, 3, 4, 6, 7, 3, 6, 3, 4, 6, 1, 2, 4, 5, 6, 7, 8, 7, 1, 2, 3, 4, 5, 7, 8, 8, 1, 4, 3, 6, 4, 6, 8, 4, 8, 1, 2, 4, 5, 7, 8, 1, 2, 3, 4, 5, 2, 1, 3, 7, 4, 2, 4, 7, 4, 2, 6, 2, 4, 7, 1, 3, 5, 7, 1, 4, 6, 8, 1, 3, 4, 6, 7, 2, 4, 7, 1, 2, 3, 4, 5, 6, 7, 2, 5, 1, 1, 5, 1, 4, 7, 8, 1, 5, 1, 2, 4, 7, 8, 1, 2, 3, 5, 6, 6, 1, 4, 6, 1, 4, 6, 7, 8, 2, 2, 3, 6, 1, 2, 3, 4, 6, 7, 3, 2, 3, 6, 4, 6, 7, 8, 6, 3, 6, 7, 6, 3, 6, 1, 2, 4, 1, 7, 1, 3, 4, 6, 1, 5, 1, 2, 4, 5, 6, 7, 8, 4, 7, 1, 3, 7, 1, 3, 6, 7, 8, 2, 7, 6, 7, 1, 2, 3, 5, 7, 8, 4, 6, 5, 1, 5, 3, 4, 1, 2, 3, 4, 5, 7, 8, 2, 3, 4, 6, 7, 3, 7, 2, 5, 1, 2, 3, 4, 5, 6, 7, 8, 4, 7, 2, 3, 7, 1, 4, 5, 8, 3, 6, 2, 1, 2, 3, 4, 6, 7, 4, 4, 1, 3, 4, 5, 6, 7, 3, 4, 1, 2, 3, 5, 4, 7, 1, 3, 4, 7, 3, 6, 2, 6, 1, 3, 4, 7, 2, 3, 4, 6, 7, 8, 1, 2, 4, 5, 6, 7, 8, 1, 3, 4, 5, 6, 7, 5, 1, 2, 4, 5, 6, 7, 1, 2, 3, 4, 5, 6, 7, 8, 1, 3, 4, 5, 6, 7, 1, 2, 3, 4, 5, 6, 7, 2, 3, 6, 7, 4, 2, 4, 7, 2, 3, 4, 5, 6, 1, 4, 6, 7, 1, 2, 4, 1, 5, 6, 7, 2, 1, 3, 4, 5, 8, 5, 2, 4, 6, 7, 8, 8, 1, 2, 3, 4, 6, 7, 8, 1, 2, 3, 6, 7, 1, 4, 5, 7, 1, 5, 4, 5, 1, 2, 4, 5, 6, 7, 8, 4, 6, 1, 2, 4, 5, 6, 1, 2, 4, 5, 6, 6, 7, 2, 3, 5, 1, 5, 6, 7, 8, 2, 4, 5, 6, 1, 2, 4, 6, 7, 2, 2, 4, 5, 6, 3, 4, 5, 6, 7, 1, 4, 6, 7, 1, 5, 1, 4, 8, 8, 4, 8, 2, 1, 4, 2, 1, 6, 4, 1, 2, 3, 6, 7, 2, 3, 4, 5, 6, 2, 5, 2, 8, 5, 1, 2, 3, 4, 6, 7, 1, 3, 6, 7, 8, 3, 6, 7, 8, 2, 4, 6, 8, 1, 4, 2, 3, 4, 2, 5, 6, 2, 1, 3, 3, 6, 1, 5, 6, 3, 7, 3, 4, 6, 2, 7, 1, 2, 4, 7, 5, 7, 8, 1, 7, 3, 4, 1, 4, 6, 1, 2, 4, 6, 7, 1, 4, 5, 7, 1, 2, 2, 4, 2, 4, 7, 1, 2, 5, 7, 3, 2, 3, 4, 7, 7, 8, 1, 2, 4, 5, 6, 8, 7, 2, 5, 1, 3, 4, 6, 1, 2, 3, 4, 6, 1, 3, 5, 7, 1, 2, 3, 4, 7, 8, 4, 7], \"Freq\": [0.9513507815178248, 0.10567716789435357, 0.8665527767336992, 0.9609018408251115, 0.07840591408025258, 0.8886003595761959, 0.9508118247745998, 0.2758347957428094, 0.5976420574427537, 0.11493116489283724, 0.09794188418747715, 0.0652945894583181, 0.8161823682289763, 0.15063573114789916, 0.22595359672184875, 0.09885469856580884, 0.14122099795115547, 0.3765893278697479, 0.9277512095159545, 0.02262807828087694, 0.02262807828087694, 0.9712302793243388, 0.9710027937206526, 0.9765489186500376, 0.9824401039453915, 0.9612559287710072, 0.9717788438373289, 0.34360640205330795, 0.49219295429257626, 0.08357993563458842, 0.07429327611963416, 0.9674130182080272, 0.9688571094538899, 0.03827282018614704, 0.9472522996071393, 0.013156834540581277, 0.026313669081162554, 0.9341352523812706, 0.4148241166067264, 0.007977386857821662, 0.11966080286732493, 0.45471105089583475, 0.09084960142290903, 0.7267968113832722, 0.1589868024900908, 0.9728963719820772, 0.36909767990331815, 0.033995838938463516, 0.002428274209890251, 0.23554259835935434, 0.02185446788901226, 0.3351018409648546, 0.9508921284006249, 0.11835951006263178, 0.039453170020877254, 0.8416676271120481, 0.0025529311095693957, 0.8118320928430679, 0.030635173314832752, 0.017870517766985772, 0.0663762088488043, 0.053611553300957314, 0.017870517766985772, 0.9623493842836106, 0.004401628448212777, 0.05722116982676611, 0.8671208042979172, 0.06602442672319166, 0.9344644419574487, 0.058709807871672175, 0.4817877748086054, 0.014748605351283839, 0.2654748963231091, 0.014748605351283839, 0.22122908026925758, 0.9597705022570211, 0.9596729452931798, 0.9345320597297535, 0.9782149688573295, 0.8514209260979997, 0.07842034845639471, 0.0112029069223421, 0.016804360383513153, 0.03921017422819736, 0.952831546755726, 0.3197180060613757, 0.2813518453340106, 0.15772754965694533, 0.08952104169718518, 0.08952104169718518, 0.05968069446479012, 0.4904879972489878, 0.4904879972489878, 0.007719532607731344, 0.8645876520659105, 0.11579298911597015, 0.9434632744170249, 0.9654107356367385, 0.9752072828351975, 0.1286840942887344, 0.6863151695399168, 0.1715787923849792, 0.9744797819838568, 0.43726578334615473, 0.5465822291826934, 0.109518918901519, 0.8578981980618989, 0.9771566531952768, 0.8206987522463376, 0.15319710041931636, 0.0038179538433913383, 0.14508224604887085, 0.5917828457256574, 0.2558029075072197, 0.11203404178852408, 0.11203404178852408, 0.004481361671540963, 0.5153565922272108, 0.008962723343081926, 0.20614263689088433, 0.044813616715409635, 0.14606967129722542, 0.14606967129722542, 0.05618064280662516, 0.6404593279955269, 0.18218976649211607, 0.4382402491296846, 0.3102150078109004, 0.06401262065939214, 0.004924047743030164, 0.010905979125543374, 0.18540164513423735, 0.18540164513423735, 0.5998288519048856, 0.9631086064457791, 0.06199972598262967, 0.8989960267481303, 0.9755176689238415, 0.03632549542202802, 0.15498878046731956, 0.12350668443489526, 0.007265099084405605, 0.09202458840247099, 0.5109786356031941, 0.002421699694801868, 0.07265099084405605, 0.06130438119020295, 0.2452175247608118, 0.07663047648775369, 0.09195657178530442, 0.5057611448191743, 0.9039619468156246, 0.058320125601008035, 0.979067560141933, 0.8337544323685406, 0.14792417348474107, 0.005939161314726382, 0.3979238080866676, 0.09502658103562212, 0.011878322629452764, 0.4751329051781106, 0.9742230653504199, 0.17492055192197814, 0.7871424836489016, 0.9803798190957371, 0.9492115299632017, 0.8104493550514407, 0.15686116549382723, 0.3454993103727926, 0.038388812263643615, 0.012796270754547872, 0.4414713410319016, 0.15355524905457446, 0.8188262528721671, 0.17704351413452263, 0.9697269720179819, 0.20107834323985938, 0.050269585809964844, 0.06702611441328646, 0.13405222882657292, 0.05585509534440539, 0.34071608160087286, 0.15080875742989452, 0.17563628172576173, 0.8161921327255987, 0.9787494642508153, 0.21890967489928986, 0.711456443422692, 0.036484945816548306, 0.2540731198005148, 0.021172759983376234, 0.021172759983376234, 0.6987010794514157, 0.06228590074653517, 0.10380983457755863, 0.7889547427894456, 0.020761966915511725, 0.18096704446987186, 0.5099980344150934, 0.005483849832420359, 0.2961278909506994, 0.8474674491705422, 0.14401407632963462, 0.9428793725413224, 0.21605082488407196, 0.7644875342051777, 0.9544919111982085, 0.9517215866475143, 0.9674193125413593, 0.014889413675965524, 0.07444706837982762, 0.8933648205579314, 0.9660379293596134, 0.9212052353084189, 0.058489221289423424, 0.9343244248959612, 0.4361258167150546, 0.4927655331715552, 0.06230368810215066, 0.008492978512361391, 0.016985957024722782, 0.1019157421483367, 0.05095787107416835, 0.8238189156990549, 0.9663553997401577, 0.008129626061294588, 0.2953764135603701, 0.23575915577754308, 0.2547282832538971, 0.1246542662731837, 0.07858638525918103, 0.027160791404228873, 0.009053597134742958, 0.23539352550331688, 0.009053597134742958, 0.7152341736446937, 0.970897339767341, 0.016343998639097558, 0.964295919706756, 0.12903811350270405, 0.02346147518230983, 0.832882368971999, 0.11796123767121001, 0.0031042430966107897, 0.11175275147798844, 0.0915751713500183, 0.5742849728729962, 0.09467941444662908, 0.006208486193221579, 0.08272992881412544, 0.882452574017338, 0.027303896944381345, 0.07021002071412345, 0.08971280424582442, 0.7528074443236571, 0.05460779388876269, 0.01951038646580642, 0.9364985503587081, 0.17168558905828632, 0.015607780823480575, 0.7803890411740287, 0.8402473745654454, 0.02948236401984019, 0.11792945607936076, 0.8318873646865782, 0.1188410520980826, 0.20685019223839463, 0.7756882208939798, 0.9455544956764627, 0.02626540265767952, 0.7201530476107407, 0.24636814786683237, 0.9832231505214857, 0.569851379068897, 0.033852557172409724, 0.1861890644482535, 0.19183115731032177, 0.011284185724136576, 0.005642092862068288, 0.02825626029193638, 0.9607128499258369, 0.028976273712343858, 0.9272407587950035, 0.8729096869464433, 0.025673814321954213, 0.051347628643908426, 0.033492658365560556, 0.9489586536908824, 0.977378065045771, 0.3189133626268181, 0.0350454244644855, 0.1682180374295304, 0.1191544431792507, 0.280363395715884, 0.08060447626831665, 0.2690201690897556, 0.07017917454515364, 0.6433090999972417, 0.011696529090858939, 0.9863102642887841, 0.9700854095358818, 0.9737761171325928, 0.21413301637382215, 0.772408380491287, 0.008218083357339851, 0.10272604196674814, 0.008218083357339851, 0.06574466685871881, 0.8094812106979754, 0.18155855389154796, 0.708078360177037, 0.060519517963849315, 0.03631171077830959, 0.022347753984482965, 0.8603885284025942, 0.10056489293017334, 0.9346494696064535, 0.38092299891009146, 0.12274185520436282, 0.11850937743869512, 0.04655725542234451, 0.32166831019074393, 0.004232477765667683, 0.9386811480092992, 0.27531573405077603, 0.6757749835791775, 0.025028703095525094, 0.841221224088864, 0.016177331232478154, 0.06470932492991262, 0.04853199369743447, 0.009742453263732753, 0.9791165530051417, 0.004871226631866376, 0.9793675491432816, 0.7787367526331918, 0.20189471364564232, 0.014421050974688737, 0.16209857997529137, 0.02493824307312175, 0.8042583391081765, 0.9716407796809698, 0.007232105602828217, 0.09763342563818092, 0.19888290407777595, 0.025312369609898758, 0.057856844822625736, 0.050624739219797515, 0.5641042370206009, 0.028124440682364648, 0.9281065425180334, 0.9169608111922314, 0.034602294761971, 0.034602294761971, 0.0173011473809855, 0.9415564280989125, 0.9462489862697777, 0.006765261832825352, 0.047356832829777464, 0.16236628398780845, 0.2773757351458394, 0.33826309164126755, 0.1657489149042211, 0.05836711608619897, 0.20693795703288725, 0.10612202924763449, 0.5995894652491348, 0.03183660877429035, 0.9879999249218295, 0.005227512830274231, 0.19126739796958753, 0.1024646774837076, 0.7001752961386686, 0.03266456981619463, 0.21776379877463087, 0.5952210499839911, 0.048996854724291945, 0.05988504466302349, 0.043552759754926174, 0.001814698323121924, 0.954496702555482, 0.19240791045172054, 0.5061808105729879, 0.13912571986509023, 0.08880365097771718, 0.017760730195543434, 0.05032206888737307, 0.005920243398514479, 0.9612495854135499, 0.020171520057324012, 0.9480614426942285, 0.01867188543315192, 0.9771620043349504, 0.02326467001808382, 0.01163233500904191, 0.9538514707414366, 0.9552605572335062, 0.9631149874606667, 0.13118682052408717, 0.03531952860263885, 0.15136940829702367, 0.15136940829702367, 0.42383434323166624, 0.10091293886468243, 0.0234013108228071, 0.0936052432912284, 0.0468026216456142, 0.7956445679754414, 0.9697239940496051, 0.9581838146667898, 0.8652012516018431, 0.020600029800043884, 0.10300014900021942, 0.993005078040071, 0.297926214774479, 0.01191704859097916, 0.667354721094833, 0.9812293398453776, 0.22787229303461007, 0.7506381417610685, 0.924450867233433, 0.03799113153014108, 0.012663710510047027, 0.13219932679734678, 0.10436788957685272, 0.06262073374611164, 0.688828071207228, 0.029723593854796452, 0.11889437541918581, 0.8025370340795042, 0.029723593854796452, 0.7469887915228153, 0.05335634225162966, 0.010671268450325932, 0.160069026754889, 0.010671268450325932, 0.37316827195181496, 0.007040910791543679, 0.6125592388643, 0.0016157642106589165, 0.08886703158624042, 0.2035862905430235, 0.006463056842635666, 0.2504434526521321, 0.43302480845658964, 0.01454187789593025, 0.9581278076863318, 0.9697227829474084, 0.9597135966832971, 0.0128679947116412, 0.96509960337309, 0.4539321962225684, 0.02467022805557437, 0.08387877538895286, 0.4341960137781089, 0.31974774127516015, 0.6631805004225544, 0.2197968680685426, 0.23919070936870812, 0.3620183709364231, 0.016161534416804603, 0.1583830372846851, 0.2435517466350288, 0.04145561644851554, 0.005181952056064442, 0.010363904112128884, 0.6943815755126354, 0.9776343137974751, 0.3360260209700575, 0.537641633552092, 0.11424884712981956, 0.9597266828710561, 0.8144662921957907, 0.05254621239972843, 0.07881931859959265, 0.9829090109526994, 0.9434578074202868, 0.006668872821250497, 0.980324304723823, 0.006668872821250497, 0.5280240502421769, 0.007652522467277926, 0.16835549428011437, 0.030610089869111703, 0.13009288194372473, 0.13009288194372473, 0.983008011480443, 0.15645753850414504, 0.6258301540165802, 0.20861005133886004, 0.027074919109254525, 0.06317481125492723, 0.009024973036418176, 0.8934723306053993, 0.9909777529306347, 0.863969367873027, 0.07512777111939366, 0.03756388555969683, 0.9711329543391082, 0.6012379203492244, 0.38953442726851156, 0.6845444017702028, 0.28522683407091787, 0.011409073362836714, 0.955577851912255, 0.9604300804009935, 0.9346140874406034, 0.7989879484394206, 0.00939985821693436, 0.18799716433868718, 0.11583653604915939, 0.8623386572548533, 0.3793138180687172, 0.05960645712508414, 0.07044399478419035, 0.1517255272274869, 0.010837537659106207, 0.3197073609436331, 0.005418768829553103, 0.7256975250014895, 0.2418991750004965, 0.7473725438895441, 0.2290335215145377, 0.962998650952629, 0.7424881635397753, 0.10268453325550085, 0.08688691275465456, 0.007898810250423141, 0.04739286150253885, 0.9452408826546678, 0.047793078336471964, 0.8688082828250707, 0.08407822091855524, 0.0019644656005919172, 0.0039289312011838344, 0.4970097969497551, 0.04714717441420602, 0.0019644656005919172, 0.44789815693495716, 0.10637747307731175, 0.8687493634647127, 0.9688571094538899, 0.9346720187850353, 0.9392130891266238, 0.09525298159873384, 0.881090079788288, 0.5985469251167966, 0.09576750801868747, 0.10055588341962184, 0.1436512620280312, 0.04309537860840936, 0.014365126202803119, 0.0047883754009343735, 0.01625788017282608, 0.08941834095054343, 0.00812894008641304, 0.8616676491597821, 0.01625788017282608, 0.14423959334608216, 0.824226247691898, 0.017689373147932237, 0.9552261499883408, 0.005317511308908105, 0.003190506785344863, 0.06274663344511563, 0.2839551038956928, 0.18930340259712855, 0.1308107781991394, 0.31479666948735985, 0.009571520356034589, 0.06079109746627302, 0.9118664619940953, 0.9375462391065422, 0.02562368407966208, 0.960888152987328, 0.585223913889699, 0.0946685743056866, 0.3098244250004289, 0.9578100504376303, 0.7525739194187425, 0.2345684943642834, 0.9434649110099299, 0.6474524565945676, 0.01798479046096021, 0.01798479046096021, 0.26527565929916314, 0.04496197615240053, 0.004496197615240053, 0.9853560174952157, 0.9360542192257056, 0.232360460872456, 0.09092365860226538, 0.010102628733585042, 0.6263629814822727, 0.010102628733585042, 0.020205257467170085, 0.007444468574358419, 0.9826698518153113, 0.19526114891175264, 0.1837751989757672, 0.5398396469913161, 0.07465867458390542, 0.028935498450863198, 0.9259359504276223, 0.2608159014901901, 0.10432636059607606, 0.0853579313967895, 0.5453423394794885, 0.9210259125404943, 0.06279722130957915, 0.48287970142693354, 0.5043410214903528, 0.7212199814309013, 0.2404066604769671, 0.013355925582053728, 0.013355925582053728, 0.3073487485172211, 0.2728336484163567, 0.004930728585837772, 0.10025814791203469, 0.13641682420817836, 0.17750622909015978, 0.27850338500051836, 0.04843537130443798, 0.027244896358746364, 0.3329931777180111, 0.19071427451122455, 0.12108842826109495, 0.9772885517662478, 0.9508482923366846, 0.20595137513000947, 0.006435980472812796, 0.4312106916784573, 0.2638751993853246, 0.09010372661937914, 0.9651500422682175, 0.4596096540625949, 0.031054706355580736, 0.19253917940460058, 0.10558600160897451, 0.006210941271116147, 0.1987501206757167, 0.39908318124019243, 0.036365056234503514, 0.005594624036077464, 0.11468979273958801, 0.013054122750847417, 0.29371776189406684, 0.13520341420520537, 0.0009324373393462441, 0.047636558839537706, 0.7812395649684184, 0.014290967651861313, 0.07621849414326033, 0.06669118237535279, 0.004763655883953771, 0.027990917543140904, 0.004665152923856817, 0.01866061169542727, 0.33122585759383405, 0.33122585759383405, 0.03732122339085454, 0.25191825788826816, 0.1446279350225276, 0.046487550542955294, 0.005165283393661699, 0.7954536426239017, 0.9477971689618365, 0.9623768318452035, 0.8757549134464349, 0.10679937968858962, 0.03771532701426315, 0.5603420013547669, 0.1831887312121353, 0.1616371157754135, 0.0431032308734436, 0.7929239600488683, 0.012293394729439818, 0.15981413148271764, 0.030733486823599547, 0.8601807712024783, 0.1024024727621998, 0.9817439028217624, 0.9392147399014874, 0.2109496220359175, 0.7327723712826607, 0.04996175258745414, 0.9462012882307511, 0.021330994307555796, 0.14220662871703862, 0.09954464010192704, 0.014220662871703864, 0.7181434750210451, 0.9755851524957803, 0.9693885387421173, 0.04058810549696222, 0.03247048439756978, 0.5357629925599013, 0.38152819167144486, 0.9755544432437984, 0.11844212451492075, 0.28259875322858286, 0.0020779320090336976, 0.35740430555379593, 0.09974073643361747, 0.08519521237038159, 0.05402623223487613, 0.003390658457502271, 0.525552060912852, 0.18309555670512262, 0.010171975372506812, 0.2746433350576839, 0.8970953938550753, 0.020862683578025006, 0.020862683578025006, 0.04172536715605001, 0.9508159976361961, 0.9761736644992789, 0.10286048815117561, 0.8571707345931302, 0.16107450365174858, 0.33767426066752115, 0.001940656670502995, 0.36290279738406006, 0.07956692349062279, 0.025228536716538935, 0.03299116339855092, 0.27405619251470653, 0.6851404812867663, 0.21460347749901537, 0.4322295391881577, 0.05742909961241256, 0.015112920950634885, 0.27807774549168185, 0.014709766041031027, 0.10296836228721719, 0.2500660226975275, 0.2500660226975275, 0.3750990340462912, 0.09871876473587649, 0.8637891914389193, 0.371925491831146, 0.03646328351285745, 0.5834125362057192, 0.0016414452139692894, 0.3709666183570594, 0.0016414452139692894, 0.05580913727495584, 0.5679400440333742, 0.5824236363645394, 0.09083671392841441, 0.2831968140121155, 0.03740335279405299, 0.2326934524742044, 0.08804617120645572, 0.01572253057258138, 0.6446237534758366, 0.018867036687097653, 0.9609384853436178, 0.0025568612478072306, 0.06903525369079522, 0.5420545845351329, 0.38097232592327734, 0.9774948850633315, 0.07269819465549264, 0.5724982829120046, 0.19083276097066817, 0.14539638931098528, 0.11088670216103425, 0.012320744684559362, 0.1971319149529498, 0.6776409576507648, 0.23823436850816004, 0.7411735909142757, 0.9288136924056911, 0.044942598019630214, 0.9749961999520265, 0.9842872256093067, 0.9386410009342582, 0.9594828150994211, 0.9581278591016429, 0.17378758796537472, 0.7916990118422625, 0.9609421723149313, 0.3126148584587975, 0.6512809551224948, 0.9827410237120686, 0.02725333333316235, 0.8448533333280329, 0.013626666666581175, 0.0545066666663247, 0.040879999999743524, 0.1341172759679621, 0.09882325597639313, 0.4305870438971415, 0.2611757479376104, 0.07058803998313795, 0.9622300936114502, 0.9697227829474084, 0.23802950679604956, 0.7339243126211529, 0.9898658534942255, 0.003505922144426666, 0.003505922144426666, 0.7748087939182932, 0.0911539757550933, 0.003505922144426666, 0.1227072750549333, 0.012213853776087916, 0.016285138368117222, 0.5170531431877218, 0.012213853776087916, 0.43969873593916503, 0.4600713431656849, 0.010699333561992673, 0.021398667123985346, 0.5028686774136556, 0.3727903654997135, 0.08569893459763529, 0.08141398786775353, 0.454204353367467, 0.05892780130754593, 0.8839170196131889, 0.7470331221441854, 0.1473023057749098, 0.0841727461570913, 0.02111807854273439, 0.8869592987948444, 0.08447231417093756, 0.9435001551346267, 0.27195496341362146, 0.6647787994555191, 0.9874520826311857, 0.005808541662536386, 0.014826805689843637, 0.859954730010931, 0.10378763982890546, 0.7032278306648528, 0.27517610765146416, 0.12998298800041158, 0.1414520751769185, 0.722552492119935, 0.13877713637622097, 0.8326628182573259, 0.0367853727980241, 0.05517805919703615, 0.8092782015565302, 0.0735707455960482, 0.18087879396932052, 0.018711599376136607, 0.792124373589783, 0.14987117540526845, 0.8349965486864958, 0.8690480743855021, 0.10224094992770613, 0.7557118427115987, 0.18382179957849698, 0.051061610994026944, 0.04174028503085693, 0.6156692042051397, 0.12522085509257078, 0.05217535628857116, 0.16696114012342772, 0.07987769593598136, 0.14977067987996504, 0.17972481585595806, 0.5791132955358649, 0.04336873306535968, 0.9251996387276732, 0.012090553306310927, 0.9672442645048741, 0.22943518997353163, 0.7169849686672863, 0.9576356126719665, 0.9006411733076346, 0.020469117575173515, 0.04093823515034703, 0.9600758714634101, 0.9808547611174925, 0.013369560521054456, 0.3208694525053069, 0.6283693444895594, 0.02673912104210891, 0.031965600415998635, 0.9483128123412927, 0.026086764875152033, 0.01739117658343469, 0.008695588291717345, 0.12173823608404283, 0.01739117658343469, 0.8086897111297131, 0.9626744214954788, 0.19836366956194446, 0.7824344743832253, 0.8030328882601749, 0.09691776237622801, 0.02769078925035086, 0.05538157850070172, 0.06030704355955286, 0.024122817423821143, 0.20504394810247972, 0.6513160704431709, 0.03618422613573172, 0.6559170139672083, 0.16696069446438028, 0.15503493057406742, 0.9617578012295345, 0.21156066851693991, 0.10049131754554647, 0.14809246796185793, 0.07933525069385247, 0.37023116990464483, 0.08991328411969947, 0.08689567735319915, 0.8834393864241914], \"Term\": [\"1800s\", \"adam\", \"adam\", \"add\", \"african\", \"african\", \"airbnb\", \"airport\", \"airport\", \"airport\", \"allston\", \"allston\", \"allston\", \"along\", \"along\", \"along\", \"along\", \"along\", \"amazing\", \"amazing\", \"amazing\", \"amtrak\", \"antique\", \"anywhere\", \"arboretum\", \"arena\", \"arnold\", \"art\", \"art\", \"art\", \"art\", \"asian\", \"automobile\", \"available\", \"available\", \"ave\", \"ave\", \"ave\", \"avenue\", \"avenue\", \"avenue\", \"avenue\", \"bakery\", \"bakery\", \"bakery\", \"bank\", \"bar\", \"bar\", \"bar\", \"bar\", \"bar\", \"bar\", \"barbershop\", \"basketball\", \"basketball\", \"basketball\", \"bay\", \"bay\", \"bay\", \"bay\", \"bay\", \"bay\", \"bay\", \"bcec\", \"beach\", \"beach\", \"beach\", \"beach\", \"beacon\", \"beacon\", \"beautiful\", \"beautiful\", \"beautiful\", \"beautiful\", \"beautiful\", \"beauty\", \"become\", \"beer\", \"berkeley\", \"best\", \"best\", \"best\", \"best\", \"best\", \"biking\", \"block\", \"block\", \"block\", \"block\", \"block\", \"block\", \"border\", \"border\", \"boutique\", \"boutique\", \"boutique\", \"boylston\", \"brewery\", \"brick\", \"brighton\", \"brighton\", \"brighton\", \"broadway\", \"brookline\", \"brookline\", \"brownstone\", \"brownstone\", \"bruin\", \"bu\", \"bu\", \"building\", \"building\", \"building\", \"building\", \"bus\", \"bus\", \"bus\", \"bus\", \"bus\", \"bus\", \"bus\", \"business\", \"business\", \"business\", \"business\", \"cafe\", \"cafe\", \"cafe\", \"cafe\", \"cafe\", \"cambridge\", \"cambridge\", \"cambridge\", \"cambridge\", \"carson\", \"casual\", \"casual\", \"celtic\", \"center\", \"center\", \"center\", \"center\", \"center\", \"center\", \"center\", \"center\", \"central\", \"central\", \"central\", \"central\", \"central\", \"centrally\", \"centrally\", \"centre\", \"chain\", \"chain\", \"charles\", \"charles\", \"charles\", \"charles\", \"charles\", \"charlestown\", \"childrens\", \"childrens\", \"chinatown\", \"circle\", \"club\", \"club\", \"coffee\", \"coffee\", \"coffee\", \"coffee\", \"coffee\", \"college\", \"college\", \"commonly\", \"community\", \"community\", \"community\", \"community\", \"community\", \"community\", \"community\", \"commuter\", \"commuter\", \"concert\", \"connect\", \"connect\", \"connect\", \"contemporary\", \"contemporary\", \"contemporary\", \"contemporary\", \"convenience\", \"convenience\", \"convenience\", \"convenience\", \"convenient\", \"convenient\", \"convenient\", \"convenient\", \"copley\", \"copley\", \"could\", \"countless\", \"countless\", \"court\", \"cream\", \"cuisine\", \"cv\", \"cv\", \"cv\", \"delicious\", \"dental\", \"dental\", \"designer\", \"destination\", \"destination\", \"destination\", \"dining\", \"dining\", \"dining\", \"dining\", \"dining\", \"directly\", \"district\", \"district\", \"district\", \"district\", \"district\", \"district\", \"diverse\", \"diverse\", \"diverse\", \"diverse\", \"diverse\", \"dollar\", \"donut\", \"donut\", \"dorchester\", \"dorchester\", \"dorchester\", \"downtown\", \"downtown\", \"downtown\", \"downtown\", \"downtown\", \"downtown\", \"downtown\", \"dozen\", \"dozen\", \"drive\", \"drive\", \"drive\", \"drive\", \"drive\", \"dunkin\", \"dunkin\", \"easily\", \"easily\", \"easily\", \"east\", \"east\", \"east\", \"eat\", \"eat\", \"efficient\", \"efficient\", \"elegant\", \"elegant\", \"emerald\", \"emerald\", \"emerson\", \"enjoy\", \"enjoy\", \"enjoy\", \"enjoy\", \"enjoy\", \"enjoy\", \"entertainment\", \"entertainment\", \"era\", \"era\", \"ethnic\", \"ethnic\", \"ethnic\", \"even\", \"even\", \"event\", \"family\", \"family\", \"family\", \"family\", \"family\", \"family\", \"famous\", \"famous\", \"famous\", \"famous\", \"faneuil\", \"fashion\", \"favorite\", \"feel\", \"feel\", \"fenway\", \"fenway\", \"fenway\", \"fenway\", \"fenway\", \"fine\", \"fine\", \"fine\", \"fine\", \"finish\", \"finish\", \"finish\", \"flavor\", \"food\", \"food\", \"food\", \"food\", \"food\", \"food\", \"forest\", \"fort\", \"fort\", \"fort\", \"free\", \"free\", \"free\", \"free\", \"freedom\", \"freedom\", \"freedom\", \"frequent\", \"friendly\", \"friendly\", \"friendly\", \"furnished\", \"furnished\", \"furnished\", \"gallery\", \"garden\", \"garden\", \"garden\", \"garden\", \"garden\", \"garden\", \"garden\", \"golf\", \"golf\", \"good\", \"good\", \"good\", \"good\", \"government\", \"greater\", \"green\", \"green\", \"green\", \"green\", \"green\", \"green\", \"grocery\", \"grocery\", \"grocery\", \"grocery\", \"grocery\", \"hall\", \"hall\", \"harvard\", \"harvard\", \"harvard\", \"hill\", \"hill\", \"hill\", \"hill\", \"hill\", \"hill\", \"hill\", \"hispanic\", \"historic\", \"historic\", \"historic\", \"historic\", \"historic\", \"historic\", \"historic\", \"hockey\", \"hop\", \"hop\", \"hospital\", \"hospital\", \"hub\", \"hub\", \"hub\", \"ice\", \"inbound\", \"include\", \"include\", \"include\", \"include\", \"include\", \"include\", \"interest\", \"interest\", \"interest\", \"interest\", \"intersect\", \"intersection\", \"italian\", \"italian\", \"italian\", \"jamaica\", \"john\", \"john\", \"john\", \"jp\", \"kenmore\", \"kenmore\", \"landmark\", \"landmark\", \"landmark\", \"large\", \"large\", \"large\", \"large\", \"late\", \"late\", \"late\", \"late\", \"less\", \"less\", \"less\", \"less\", \"less\", \"library\", \"library\", \"library\", \"line\", \"line\", \"line\", \"line\", \"line\", \"line\", \"line\", \"lined\", \"lines\", \"list\", \"literally\", \"literally\", \"live\", \"live\", \"live\", \"live\", \"lively\", \"lively\", \"local\", \"local\", \"local\", \"local\", \"local\", \"location\", \"location\", \"location\", \"location\", \"location\", \"longwood\", \"lot\", \"lot\", \"lot\", \"lounge\", \"lovely\", \"lovely\", \"lovely\", \"major\", \"mansion\", \"marathon\", \"marathon\", \"marathon\", \"market\", \"market\", \"market\", \"market\", \"market\", \"market\", \"marketplace\", \"mass\", \"mass\", \"mass\", \"mbta\", \"mbta\", \"mbta\", \"mbta\", \"medical\", \"mgh\", \"mgh\", \"mgh\", \"mi\", \"mit\", \"mit\", \"mix\", \"mix\", \"mix\", \"modern\", \"monument\", \"mostly\", \"museum\", \"museum\", \"museum\", \"name\", \"name\", \"nearby\", \"nearby\", \"nearby\", \"nearby\", \"nearby\", \"nearby\", \"nearby\", \"necklace\", \"necklace\", \"need\", \"need\", \"neponset\", \"new\", \"new\", \"new\", \"new\", \"new\", \"newbury\", \"newbury\", \"nightlife\", \"nightlife\", \"north\", \"north\", \"north\", \"north\", \"north\", \"north\", \"northeastern\", \"northeastern\", \"noticeable\", \"oak\", \"ocean\", \"often\", \"often\", \"old\", \"old\", \"old\", \"old\", \"old\", \"old\", \"old\", \"orange\", \"orange\", \"orange\", \"orange\", \"orange\", \"outdoor\", \"outdoor\", \"outside\", \"outside\", \"park\", \"park\", \"park\", \"park\", \"park\", \"park\", \"park\", \"park\", \"path\", \"path\", \"patio\", \"peaceful\", \"peaceful\", \"people\", \"people\", \"people\", \"performance\", \"pharmacy\", \"pharmacy\", \"picturesque\", \"place\", \"place\", \"place\", \"place\", \"place\", \"place\", \"plain\", \"plaza\", \"plenty\", \"plenty\", \"plenty\", \"plenty\", \"plenty\", \"plenty\", \"pond\", \"pond\", \"popular\", \"popular\", \"popular\", \"popular\", \"presidential\", \"presidential\", \"professional\", \"professional\", \"professional\", \"professional\", \"property\", \"property\", \"prudential\", \"prudential\", \"pub\", \"pub\", \"pub\", \"pub\", \"public\", \"public\", \"public\", \"public\", \"public\", \"public\", \"quiet\", \"quiet\", \"quiet\", \"quiet\", \"quiet\", \"quiet\", \"rail\", \"recommendation\", \"red\", \"red\", \"red\", \"red\", \"red\", \"refer\", \"residential\", \"residential\", \"residential\", \"residential\", \"residential\", \"residential\", \"restaurant\", \"restaurant\", \"restaurant\", \"restaurant\", \"restaurant\", \"restaurant\", \"restaurant\", \"restaurant\", \"ride\", \"ride\", \"ride\", \"ride\", \"ride\", \"ride\", \"right\", \"right\", \"right\", \"right\", \"right\", \"right\", \"right\", \"river\", \"river\", \"river\", \"river\", \"roslindale\", \"row\", \"roxbury\", \"roxbury\", \"run\", \"run\", \"run\", \"run\", \"run\", \"safe\", \"safe\", \"safe\", \"safe\", \"salon\", \"salon\", \"savin\", \"scene\", \"school\", \"school\", \"school\", \"score\", \"seaport\", \"seaport\", \"seaport\", \"seaport\", \"seaport\", \"service\", \"set\", \"several\", \"several\", \"several\", \"several\", \"share\", \"shop\", \"shop\", \"shop\", \"shop\", \"shop\", \"shop\", \"shop\", \"shopping\", \"shopping\", \"shopping\", \"shopping\", \"shopping\", \"side\", \"side\", \"side\", \"side\", \"sign\", \"silver\", \"since\", \"since\", \"south\", \"south\", \"south\", \"south\", \"south\", \"south\", \"south\", \"sport\", \"sport\", \"square\", \"square\", \"square\", \"square\", \"square\", \"st\", \"st\", \"st\", \"st\", \"st\", \"starbucks\", \"starbucks\", \"state\", \"state\", \"state\", \"station\", \"station\", \"station\", \"station\", \"station\", \"step\", \"step\", \"step\", \"step\", \"store\", \"store\", \"store\", \"store\", \"store\", \"storrow\", \"subway\", \"subway\", \"subway\", \"subway\", \"suffolk\", \"super\", \"super\", \"super\", \"super\", \"supermarket\", \"supermarket\", \"supermarket\", \"supermarket\", \"sure\", \"sure\", \"surround\", \"surround\", \"td\", \"team\", \"term\", \"terminal\", \"theatre\", \"thing\", \"thing\", \"thriving\", \"ton\", \"ton\", \"tour\", \"tourist\", \"tourist\", \"tourist\", \"tourist\", \"tourist\", \"town\", \"town\", \"town\", \"town\", \"town\", \"townhouses\", \"tpass\", \"traditional\", \"traditional\", \"traffic\", \"trail\", \"trail\", \"trail\", \"trail\", \"trail\", \"trail\", \"train\", \"train\", \"train\", \"train\", \"train\", \"transit\", \"transit\", \"transit\", \"transit\", \"transportation\", \"transportation\", \"transportation\", \"transportation\", \"travel\", \"travel\", \"tree\", \"tree\", \"tree\", \"tremont\", \"tremont\", \"tremont\", \"trinity\", \"truly\", \"truly\", \"tuft\", \"tuft\", \"uber\", \"uber\", \"uber\", \"uma\", \"uma\", \"university\", \"university\", \"university\", \"upscale\", \"upscale\", \"urban\", \"urban\", \"urban\", \"urban\", \"use\", \"use\", \"use\", \"variety\", \"variety\", \"vibe\", \"vibe\", \"vibrant\", \"vibrant\", \"vibrant\", \"victorian\", \"victorian\", \"victorian\", \"victorian\", \"victorian\", \"view\", \"view\", \"view\", \"view\", \"village\", \"village\", \"visit\", \"visit\", \"visitor\", \"visitor\", \"walgreens\", \"walkable\", \"walkable\", \"walkable\", \"walking\", \"watch\", \"water\", \"water\", \"water\", \"water\", \"weekend\", \"weekend\", \"west\", \"west\", \"west\", \"west\", \"west\", \"west\", \"wide\", \"winter\", \"winter\", \"work\", \"work\", \"work\", \"work\", \"world\", \"world\", \"world\", \"world\", \"world\", \"year\", \"year\", \"year\", \"ymca\", \"young\", \"young\", \"young\", \"young\", \"young\", \"young\", \"zoo\", \"zoo\"]}, \"R\": 30, \"lambda.step\": 0.01, \"plot.opts\": {\"xlab\": \"PC1\", \"ylab\": \"PC2\"}, \"topic.order\": [6, 1, 5, 3, 4, 8, 2, 7]};\n",
       "\n",
       "function LDAvis_load_lib(url, callback){\n",
       "  var s = document.createElement('script');\n",
       "  s.src = url;\n",
       "  s.async = true;\n",
       "  s.onreadystatechange = s.onload = callback;\n",
       "  s.onerror = function(){console.warn(\"failed to load library \" + url);};\n",
       "  document.getElementsByTagName(\"head\")[0].appendChild(s);\n",
       "}\n",
       "\n",
       "if(typeof(LDAvis) !== \"undefined\"){\n",
       "   // already loaded: just create the visualization\n",
       "   !function(LDAvis){\n",
       "       new LDAvis(\"#\" + \"ldavis_el1565629803132253605076074641\", ldavis_el1565629803132253605076074641_data);\n",
       "   }(LDAvis);\n",
       "}else if(typeof define === \"function\" && define.amd){\n",
       "   // require.js is available: use it to load d3/LDAvis\n",
       "   require.config({paths: {d3: \"https://d3js.org/d3.v5\"}});\n",
       "   require([\"d3\"], function(d3){\n",
       "      window.d3 = d3;\n",
       "      LDAvis_load_lib(\"https://cdn.jsdelivr.net/gh/bmabey/pyLDAvis@3.3.1/pyLDAvis/js/ldavis.v3.0.0.js\", function(){\n",
       "        new LDAvis(\"#\" + \"ldavis_el1565629803132253605076074641\", ldavis_el1565629803132253605076074641_data);\n",
       "      });\n",
       "    });\n",
       "}else{\n",
       "    // require.js not available: dynamically load d3 & LDAvis\n",
       "    LDAvis_load_lib(\"https://d3js.org/d3.v5.js\", function(){\n",
       "         LDAvis_load_lib(\"https://cdn.jsdelivr.net/gh/bmabey/pyLDAvis@3.3.1/pyLDAvis/js/ldavis.v3.0.0.js\", function(){\n",
       "                 new LDAvis(\"#\" + \"ldavis_el1565629803132253605076074641\", ldavis_el1565629803132253605076074641_data);\n",
       "            })\n",
       "         });\n",
       "}\n",
       "</script>"
      ],
      "text/plain": [
       "PreparedData(topic_coordinates=                x           y  topics  cluster       Freq\n",
       "topic                                                    \n",
       "5     -108.958252 -208.941483       1        1  15.610096\n",
       "0      186.487061  -98.103249       2        1  13.790001\n",
       "4       19.245832  160.858780       3        1  13.030372\n",
       "2      170.658829   75.445076       4        1  12.768535\n",
       "3       -1.386411  -35.043739       5        1  12.178206\n",
       "7     -145.800095  106.944611       6        1  12.022931\n",
       "1       64.834541 -221.825272       7        1  11.801836\n",
       "6     -196.906036  -58.990913       8        1   8.798023, topic_info=           Term         Freq        Total Category  logprob  loglift\n",
       "414     station   609.000000   609.000000  Default  30.0000  30.0000\n",
       "312       north   509.000000   509.000000  Default  29.0000  29.0000\n",
       "96      college   406.000000   406.000000  Default  28.0000  28.0000\n",
       "369  restaurant  1072.000000  1072.000000  Default  27.0000  27.0000\n",
       "144    downtown   644.000000   644.000000  Default  26.0000  26.0000\n",
       "..          ...          ...          ...      ...      ...      ...\n",
       "452       train   108.424887   245.622721   Topic8  -3.7181   1.6129\n",
       "265        live    87.634501   202.673441   Topic8  -3.9310   1.5922\n",
       "358      public   108.429563   608.429352   Topic8  -3.7181   0.7059\n",
       "55       border    56.202486   114.172009   Topic8  -4.3752   1.7219\n",
       "68     building    67.131906   261.920401   Topic8  -4.1975   1.0693\n",
       "\n",
       "[418 rows x 6 columns], token_table=      Topic      Freq     Term\n",
       "term                          \n",
       "0         2  0.951351    1800s\n",
       "4         1  0.105677     adam\n",
       "4         4  0.866553     adam\n",
       "5         2  0.960902      add\n",
       "7         1  0.078406  african\n",
       "...     ...       ...      ...\n",
       "498       4  0.079335    young\n",
       "498       7  0.370231    young\n",
       "498       8  0.089913    young\n",
       "499       4  0.086896      zoo\n",
       "499       7  0.883439      zoo\n",
       "\n",
       "[915 rows x 3 columns], R=30, lambda_step=0.01, plot_opts={'xlab': 'PC1', 'ylab': 'PC2'}, topic_order=[6, 1, 5, 3, 4, 8, 2, 7])"
      ]
     },
     "execution_count": 63,
     "metadata": {},
     "output_type": "execute_result"
    }
   ],
   "source": [
    "#prepare to display result in the Jupyter notebook\n",
    "\n",
    "pyLDAvis.sklearn.prepare(lda_neighborhood_best2, bow_neighborhood,\\\n",
    "                        bow_vectorizer_neighborhood,mds='tsne')"
   ]
  },
  {
   "cell_type": "markdown",
   "metadata": {},
   "source": [
    "According to the words in each topic, we name each of the topics as follow:\\\n",
    "Topic_0 2: Downtown, finest, high-end lifestyle, historic charm\\\n",
    "Topic_1 7: Racially &culturally& economically diverse, peaceful, quiet and safe\\\n",
    "Topic_2 4: Racially &culturally& economically diverse, close to parks and ponds\\\n",
    "Topic_3 5: Close to beach and downtown, busy, culturally rich\\\n",
    "Topic_4 3: Close to famous colleges/universities and tourist destinations, the heart of Boston\\\n",
    "Topic_5 1: Quiet,safe, residential,local restaurant\\\n",
    "Topic_6 8: Entertainment, relaxing, new, convenient transportation\\\n",
    "Topic_7 6: Proximity to hospitals and universities, with many restaurants"
   ]
  },
  {
   "cell_type": "code",
   "execution_count": 169,
   "metadata": {},
   "outputs": [
    {
     "data": {
      "text/html": [
       "<div>\n",
       "<style scoped>\n",
       "    .dataframe tbody tr th:only-of-type {\n",
       "        vertical-align: middle;\n",
       "    }\n",
       "\n",
       "    .dataframe tbody tr th {\n",
       "        vertical-align: top;\n",
       "    }\n",
       "\n",
       "    .dataframe thead th {\n",
       "        text-align: right;\n",
       "    }\n",
       "</style>\n",
       "<table border=\"1\" class=\"dataframe\">\n",
       "  <thead>\n",
       "    <tr style=\"text-align: right;\">\n",
       "      <th></th>\n",
       "      <th>Topic_0</th>\n",
       "      <th>Topic_1</th>\n",
       "      <th>Topic_2</th>\n",
       "      <th>Topic_3</th>\n",
       "      <th>Topic_4</th>\n",
       "      <th>Topic_5</th>\n",
       "      <th>Topic_6</th>\n",
       "      <th>Topic_7</th>\n",
       "      <th>neighborhood_topic_num</th>\n",
       "    </tr>\n",
       "  </thead>\n",
       "  <tbody>\n",
       "    <tr>\n",
       "      <th>3781</th>\n",
       "      <td>0.055917</td>\n",
       "      <td>0.071436</td>\n",
       "      <td>0.052309</td>\n",
       "      <td>0.083740</td>\n",
       "      <td>0.039143</td>\n",
       "      <td>0.490490</td>\n",
       "      <td>0.157355</td>\n",
       "      <td>0.049611</td>\n",
       "      <td>5</td>\n",
       "    </tr>\n",
       "    <tr>\n",
       "      <th>6695</th>\n",
       "      <td>0.093721</td>\n",
       "      <td>0.299647</td>\n",
       "      <td>0.159383</td>\n",
       "      <td>0.075618</td>\n",
       "      <td>0.068954</td>\n",
       "      <td>0.169683</td>\n",
       "      <td>0.063602</td>\n",
       "      <td>0.069393</td>\n",
       "      <td>1</td>\n",
       "    </tr>\n",
       "    <tr>\n",
       "      <th>10813</th>\n",
       "      <td>0.316495</td>\n",
       "      <td>0.255372</td>\n",
       "      <td>0.074943</td>\n",
       "      <td>0.019567</td>\n",
       "      <td>0.073606</td>\n",
       "      <td>0.218479</td>\n",
       "      <td>0.015479</td>\n",
       "      <td>0.026057</td>\n",
       "      <td>0</td>\n",
       "    </tr>\n",
       "    <tr>\n",
       "      <th>10986</th>\n",
       "      <td>0.125000</td>\n",
       "      <td>0.125000</td>\n",
       "      <td>0.125000</td>\n",
       "      <td>0.125000</td>\n",
       "      <td>0.125000</td>\n",
       "      <td>0.125000</td>\n",
       "      <td>0.125000</td>\n",
       "      <td>0.125000</td>\n",
       "      <td>0</td>\n",
       "    </tr>\n",
       "    <tr>\n",
       "      <th>13247</th>\n",
       "      <td>0.230558</td>\n",
       "      <td>0.105078</td>\n",
       "      <td>0.129213</td>\n",
       "      <td>0.091173</td>\n",
       "      <td>0.089481</td>\n",
       "      <td>0.129195</td>\n",
       "      <td>0.091819</td>\n",
       "      <td>0.133484</td>\n",
       "      <td>0</td>\n",
       "    </tr>\n",
       "  </tbody>\n",
       "</table>\n",
       "</div>"
      ],
      "text/plain": [
       "        Topic_0   Topic_1   Topic_2   Topic_3   Topic_4   Topic_5   Topic_6  \\\n",
       "3781   0.055917  0.071436  0.052309  0.083740  0.039143  0.490490  0.157355   \n",
       "6695   0.093721  0.299647  0.159383  0.075618  0.068954  0.169683  0.063602   \n",
       "10813  0.316495  0.255372  0.074943  0.019567  0.073606  0.218479  0.015479   \n",
       "10986  0.125000  0.125000  0.125000  0.125000  0.125000  0.125000  0.125000   \n",
       "13247  0.230558  0.105078  0.129213  0.091173  0.089481  0.129195  0.091819   \n",
       "\n",
       "        Topic_7  neighborhood_topic_num  \n",
       "3781   0.049611                       5  \n",
       "6695   0.069393                       1  \n",
       "10813  0.026057                       0  \n",
       "10986  0.125000                       0  \n",
       "13247  0.133484                       0  "
      ]
     },
     "execution_count": 169,
     "metadata": {},
     "output_type": "execute_result"
    }
   ],
   "source": [
    "lda_neighborhood_topic_weights = lda_neighborhood_best2.transform(bow_neighborhood)\n",
    "#array of document \"names\" and topic \"names\" (\"names\" are just indecies)\n",
    "doc_names = [neighborhood_df.id[i] for i in range(len(normalized_neighborhood))]\n",
    "neighborhood_topic_names = [\"Topic_\" + str(i) for i in range(8)]\n",
    "\n",
    "#convert to dataframe\n",
    "df_neighborhood_topic = pd.DataFrame(np.round(lda_neighborhood_topic_weights, 8),\\\n",
    "                                    columns=neighborhood_topic_names, index=doc_names)\n",
    "#vector of indecies for columns with the highest value by each row in df_description_topic\n",
    "neighborhood_topic = np.argmax(df_neighborhood_topic.values, axis=1)\n",
    "\n",
    "#add dominant_topic as a column to df_description_topic\n",
    "df_neighborhood_topic['neighborhood_topic_num'] = neighborhood_topic\n",
    "df_neighborhood_topic.head(5)"
   ]
  },
  {
   "cell_type": "code",
   "execution_count": 170,
   "metadata": {},
   "outputs": [],
   "source": [
    "df_neighborhood_topic.to_csv('neighborhood_topic.csv',index=False)"
   ]
  },
  {
   "cell_type": "code",
   "execution_count": 171,
   "metadata": {},
   "outputs": [],
   "source": [
    "df_neighborhood_topic=df_neighborhood_topic[\"neighborhood_topic_num\"].copy().reset_index()\n",
    "df_neighborhood_topic.rename(columns={\"index\":\"id\"},inplace=True)\n",
    "#df_neighborhood_topic.head(20)"
   ]
  },
  {
   "cell_type": "code",
   "execution_count": 129,
   "metadata": {},
   "outputs": [],
   "source": [
    "listing_new=listing[[\"id\",'listing_url',\"name\",\"neighbourhood_cleansed\",\"latitude\",\"longitude\",\"property_type\",\\\n",
    "                     \"room_type\",\"accommodates\",\"bathrooms_text\",'bedrooms', 'beds',\\\n",
    "                     \"price\",'number_of_reviews','number_of_reviews_ltm', 'number_of_reviews_l30d', 'first_review',\\\n",
    "                    'last_review', 'review_scores_rating', 'review_scores_accuracy', 'review_scores_cleanliness', \\\n",
    "                    'review_scores_checkin','review_scores_communication', 'review_scores_location','review_scores_value',\\\n",
    "                     'description','neighborhood_overview']]"
   ]
  },
  {
   "cell_type": "code",
   "execution_count": 130,
   "metadata": {},
   "outputs": [],
   "source": [
    "listing_new=listing_new.merge(df_room_topic,how=\"inner\",on=\"id\")\n",
    "listing_new=listing_new.merge(df_neighborhood_topic,how=\"inner\",on=\"id\")\n",
    "#listing_new.head(5)"
   ]
  },
  {
   "cell_type": "code",
   "execution_count": 145,
   "metadata": {},
   "outputs": [],
   "source": [
    "def clean_neighborhood_topic(listing):\n",
    "    if pd.isnull(listing[\"neighborhood_overview\"]):\n",
    "        return \"-\"\n",
    "    else: \n",
    "        return listing[\"neighborhood_topic_num\"]\n",
    "def clean_room_topic(listing):\n",
    "    if pd.isnull(listing[\"description\"]):\n",
    "        return \"-\"\n",
    "    else:\n",
    "        return listing[\"room_topic_num\"]"
   ]
  },
  {
   "cell_type": "code",
   "execution_count": 146,
   "metadata": {},
   "outputs": [],
   "source": [
    "listing_new[\"neighborhood_topic_num\"]=listing_new.apply(clean_neighborhood_topic,axis=1)\n",
    "listing_new[\"room_topic_num\"]=listing_new.apply(clean_room_topic,axis=1)"
   ]
  },
  {
   "cell_type": "markdown",
   "metadata": {},
   "source": [
    "## 3. Host overview topic modeling"
   ]
  },
  {
   "cell_type": "markdown",
   "metadata": {},
   "source": [
    "### 3.1 Data loading and cleaning"
   ]
  },
  {
   "cell_type": "code",
   "execution_count": 173,
   "metadata": {},
   "outputs": [
    {
     "data": {
      "text/plain": [
       "0    My wife and I and grown children frequently oc...\n",
       "1                Relaxed,  Easy going, Accommodating. \n",
       "2                                                   NA\n",
       "Name: host_about, dtype: object"
      ]
     },
     "execution_count": 173,
     "metadata": {},
     "output_type": "execute_result"
    }
   ],
   "source": [
    "host_df=listing[[\"id\",\"host_about\"]].copy()\n",
    "host_df.fillna(\"NA\",inplace=True)\n",
    "host=host_df[\"host_about\"]\n",
    "host.head(3)"
   ]
  },
  {
   "cell_type": "code",
   "execution_count": 174,
   "metadata": {},
   "outputs": [],
   "source": [
    "normalized_host = normalize_corpus3(host)\n",
    "bow_vectorizer_host = CountVectorizer(max_features=500)\n",
    "bow_host= bow_vectorizer_host.fit_transform(normalized_host)"
   ]
  },
  {
   "cell_type": "markdown",
   "metadata": {},
   "source": [
    "### 3.2 Use cross-validation to tune hyperparameters"
   ]
  },
  {
   "cell_type": "code",
   "execution_count": 61,
   "metadata": {},
   "outputs": [],
   "source": [
    "## define the parameters grid used for cross-validation\n",
    "search_params_host = {'n_components': [4,5,6,7,8], 'learning_decay': [0.5, 0.7, 0.9],\\\n",
    "                 \"doc_topic_prior\":[0.25,0.5,0.75,0.9],\"topic_word_prior\":[0.25,0.5,0.75,0.9]}"
   ]
  },
  {
   "cell_type": "code",
   "execution_count": 62,
   "metadata": {},
   "outputs": [
    {
     "data": {
      "text/plain": [
       "GridSearchCV(cv=3, estimator=LatentDirichletAllocation(random_state=42),\n",
       "             n_jobs=-1,\n",
       "             param_grid={'doc_topic_prior': [0.25, 0.5, 0.75, 0.9],\n",
       "                         'learning_decay': [0.5, 0.7, 0.9],\n",
       "                         'n_components': [4, 5, 6, 7, 8],\n",
       "                         'topic_word_prior': [0.25, 0.5, 0.75, 0.9]})"
      ]
     },
     "execution_count": 62,
     "metadata": {},
     "output_type": "execute_result"
    }
   ],
   "source": [
    "lda_host =LatentDirichletAllocation(random_state=42)\n",
    "search_host = GridSearchCV(\n",
    "    estimator=lda_host,\n",
    "    param_grid=search_params_host,\n",
    "    cv=3,\n",
    "    n_jobs=-1 #using all processors\n",
    ")\n",
    "search_host.fit(bow_host)"
   ]
  },
  {
   "cell_type": "code",
   "execution_count": 63,
   "metadata": {},
   "outputs": [
    {
     "data": {
      "text/plain": [
       "{'doc_topic_prior': 0.25,\n",
       " 'learning_decay': 0.5,\n",
       " 'n_components': 8,\n",
       " 'topic_word_prior': 0.25}"
      ]
     },
     "execution_count": 63,
     "metadata": {},
     "output_type": "execute_result"
    }
   ],
   "source": [
    "search_host.best_params_"
   ]
  },
  {
   "cell_type": "markdown",
   "metadata": {},
   "source": [
    "### 3.3 Build the model with the best parameters"
   ]
  },
  {
   "cell_type": "code",
   "execution_count": 175,
   "metadata": {},
   "outputs": [],
   "source": [
    "lda_host_best=LatentDirichletAllocation(n_components=8,learning_decay=0.5,doc_topic_prior=0.25,\\\n",
    "                      topic_word_prior=0.25,random_state=42).fit(bow_host)"
   ]
  },
  {
   "cell_type": "markdown",
   "metadata": {},
   "source": [
    "Unfortunately, we did not find obvious topics for the host description. The topic words and rare & exclusive terms in each host description topic are not coherent enough to label them. It is possible that the host description doesn’t share common topics, so the machine cannot dig out topics. "
   ]
  },
  {
   "cell_type": "code",
   "execution_count": 176,
   "metadata": {},
   "outputs": [
    {
     "name": "stdout",
     "output_type": "stream",
     "text": [
      "Topic 0:\n",
      "rental manage inquire website hide\n",
      "Topic 1:\n",
      "suite team question lance brownstone\n",
      "Topic 2:\n",
      "cleaning low area use life\n",
      "Topic 3:\n",
      "hospital amazing free world family\n",
      "Topic 4:\n",
      "enjoy team blueground quality experience\n",
      "Topic 5:\n",
      "love travel live enjoy new\n",
      "Topic 6:\n",
      "medical work property hospital team\n",
      "Topic 7:\n",
      "furnish month hour term fi\n"
     ]
    }
   ],
   "source": [
    "##Display results with top 10 words for each topic:\n",
    "no_top_words_host = 5\n",
    "display_topics(lda_host_best, bow_vectorizer_host.get_feature_names(), no_top_words_host)"
   ]
  },
  {
   "cell_type": "code",
   "execution_count": 177,
   "metadata": {},
   "outputs": [
    {
     "data": {
      "text/html": [
       "\n",
       "<link rel=\"stylesheet\" type=\"text/css\" href=\"https://cdn.jsdelivr.net/gh/bmabey/pyLDAvis@3.3.1/pyLDAvis/js/ldavis.v1.0.0.css\">\n",
       "\n",
       "\n",
       "<div id=\"ldavis_el2033624544272052965592216431\"></div>\n",
       "<script type=\"text/javascript\">\n",
       "\n",
       "var ldavis_el2033624544272052965592216431_data = {\"mdsDat\": {\"x\": [-108.958251953125, 186.487060546875, 19.245832443237305, 170.65882873535156, -1.3864107131958008, -145.8000946044922, 64.83454132080078, -196.90603637695312], \"y\": [-208.9414825439453, -98.1032485961914, 160.85877990722656, 75.44507598876953, -35.043739318847656, 106.94461059570312, -221.8252716064453, -58.99091339111328], \"topics\": [1, 2, 3, 4, 5, 6, 7, 8], \"cluster\": [1, 1, 1, 1, 1, 1, 1, 1], \"Freq\": [27.946357925713706, 24.241109730551976, 13.501536231980118, 10.193943219934514, 6.557237850297394, 6.534571780474055, 5.948065542450507, 5.077177718597735]}, \"tinfo\": {\"Term\": [\"rental\", \"love\", \"cleaning\", \"hospital\", \"term\", \"manage\", \"team\", \"furnish\", \"professionally\", \"email\", \"travel\", \"blueground\", \"live\", \"enjoy\", \"studio\", \"place\", \"work\", \"short\", \"world\", \"family\", \"best\", \"free\", \"medical\", \"time\", \"help\", \"inquire\", \"website\", \"amenity\", \"question\", \"visit\", \"blueground\", \"additional\", \"view\", \"chicago\", \"gym\", \"personally\", \"fresh\", \"app\", \"linens\", \"benefit\", \"speaker\", \"istanbul\", \"based\", \"artisan\", \"athens\", \"bedding\", \"bluetooth\", \"choosing\", \"confirmation\", \"consistent\", \"equipped\", \"following\", \"highest\", \"picking\", \"powered\", \"stocked\", \"submit\", \"toiletry\", \"self\", \"continent\", \"tech\", \"request\", \"quality\", \"drive\", \"global\", \"via\", \"amenity\", \"team\", \"enjoy\", \"cleaning\", \"experience\", \"speed\", \"smart\", \"outdoor\", \"door\", \"support\", \"either\", \"maintenance\", \"interior\", \"tv\", \"estate\", \"real\", \"high\", \"great\", \"food\", \"culture\", \"spend\", \"wife\", \"fun\", \"europe\", \"originally\", \"hospitality\", \"im\", \"young\", \"downtown\", \"music\", \"first\", \"plaza\", \"history\", \"old\", \"investment\", \"joy\", \"open\", \"currently\", \"especially\", \"bike\", \"america\", \"firm\", \"read\", \"lot\", \"resident\", \"sport\", \"eat\", \"people\", \"explore\", \"love\", \"forward\", \"travel\", \"favorite\", \"live\", \"part\", \"time\", \"professional\", \"meet\", \"place\", \"new\", \"work\", \"enjoy\", \"visit\", \"like\", \"world\", \"welcome\", \"around\", \"family\", \"share\", \"life\", \"experience\", \"friend\", \"feel\", \"well\", \"fi\", \"wi\", \"charge\", \"stock\", \"indoor\", \"staff\", \"playground\", \"star\", \"brookline\", \"arrive\", \"netflix\", \"week\", \"hbo\", \"elevated\", \"mean\", \"coast\", \"apply\", \"lease\", \"june\", \"prepare\", \"seamless\", \"stress\", \"supply\", \"unfurnished\", \"properly\", \"dc\", \"wed\", \"flexible\", \"morning\", \"front\", \"hour\", \"vacation\", \"availability\", \"call\", \"month\", \"set\", \"public\", \"furnish\", \"care\", \"rate\", \"center\", \"free\", \"area\", \"term\", \"business\", \"local\", \"amenity\", \"location\", \"coffee\", \"available\", \"love\", \"new\", \"service\", \"lance\", \"brownstone\", \"maverick\", \"management\", \"within\", \"beacon\", \"newbury\", \"boutique\", \"cool\", \"concern\", \"llc\", \"introduce\", \"adventurer\", \"sincerely\", \"assist\", \"coolidge\", \"amongst\", \"fuel\", \"kimberly\", \"magic\", \"mohammed\", \"yanli\", \"newly\", \"style\", \"luxurious\", \"mba\", \"babson\", \"compliment\", \"construct\", \"invests\", \"hill\", \"minute\", \"suite\", \"street\", \"plenty\", \"question\", \"whether\", \"native\", \"end\", \"want\", \"passionate\", \"comfortable\", \"team\", \"plan\", \"south\", \"accommodate\", \"welcome\", \"issue\", \"recommendation\", \"business\", \"traveler\", \"travel\", \"help\", \"mile\", \"profits\", \"manager\", \"massachusetts\", \"network\", \"receive\", \"property\", \"medical\", \"housing\", \"private\", \"listing\", \"treatment\", \"corporate\", \"non\", \"passion\", \"patient\", \"english\", \"hospital\", \"cape\", \"degree\", \"possible\", \"center\", \"trip\", \"thoughtfully\", \"china\", \"university\", \"answer\", \"customer\", \"cooking\", \"question\", \"high\", \"sure\", \"provider\", \"term\", \"work\", \"away\", \"help\", \"family\", \"friend\", \"team\", \"service\", \"short\", \"client\", \"live\", \"long\", \"business\", \"amazing\", \"barsala\", \"partner\", \"profit\", \"health\", \"line\", \"let\", \"related\", \"motivate\", \"specialize\", \"harvard\", \"healthy\", \"prior\", \"grow\", \"museum\", \"sure\", \"discover\", \"full\", \"wonderful\", \"hospital\", \"hello\", \"cdc\", \"treatment\", \"maintain\", \"small\", \"covid\", \"quickly\", \"spending\", \"clean\", \"patient\", \"book\", \"happy\", \"housing\", \"free\", \"visit\", \"community\", \"hope\", \"family\", \"world\", \"place\", \"chance\", \"company\", \"medical\", \"child\", \"help\", \"start\", \"low\", \"sonder\", \"base\", \"list\", \"least\", \"limit\", \"priority\", \"white\", \"surround\", \"mother\", \"thoughtfully\", \"dog\", \"ideal\", \"update\", \"pet\", \"beyond\", \"leave\", \"covid\", \"really\", \"value\", \"thank\", \"cdc\", \"keep\", \"use\", \"wherever\", \"several\", \"truly\", \"opportunity\", \"bring\", \"allow\", \"friendly\", \"life\", \"good\", \"contact\", \"cleaning\", \"standard\", \"area\", \"design\", \"living\", \"friend\", \"team\", \"like\", \"enjoy\", \"time\", \"free\", \"help\", \"expert\", \"hide\", \"premier\", \"weekly\", \"hostel\", \"portfolio\", \"inquire\", \"economical\", \"leasing\", \"nightly\", \"thatch\", \"dont\", \"manage\", \"website\", \"alternative\", \"rental\", \"monthly\", \"provider\", \"owner\", \"studio\", \"professionally\", \"email\", \"short\", \"best\", \"bay\", \"term\", \"maintain\", \"international\", \"massachusetts\", \"furnish\", \"customer\", \"location\", \"property\", \"meet\", \"give\"], \"Freq\": [450.0, 1183.0, 432.0, 276.0, 442.0, 184.0, 779.0, 525.0, 238.0, 273.0, 828.0, 404.0, 591.0, 845.0, 241.0, 389.0, 522.0, 356.0, 464.0, 392.0, 334.0, 330.0, 207.0, 451.0, 437.0, 125.0, 136.0, 401.0, 201.0, 234.0, 402.62169915910584, 269.4977843364022, 149.3518841933185, 143.36016985672077, 142.36706738054886, 140.3666887631863, 140.3576926467457, 139.3594527224391, 137.35323416439857, 135.3729359605388, 135.3729359605388, 135.37215449569894, 135.3717418514667, 134.3740256129648, 134.3740256129648, 134.3740256129648, 134.3740256129648, 134.3740256129648, 134.3740256129648, 134.3740256129648, 134.3740256129648, 134.3740256129648, 134.3740256129648, 134.3740256129648, 134.3740256129648, 134.3740256129648, 134.3740256129648, 134.3740256129648, 147.14693218283438, 145.5682678230423, 275.5211105055915, 270.99221748867484, 289.56997412141106, 142.12142185795096, 139.33250083062146, 139.28901076755346, 272.36422563261834, 404.66500879094673, 409.0462097363087, 271.35044817182575, 275.7383555818097, 140.08544162658944, 139.53534597989426, 146.8255333636047, 139.99213063010333, 145.93997951990954, 140.75318279322016, 138.2411668428964, 137.489483969041, 141.94689651971055, 142.09500579845067, 140.9271634691129, 139.71574975992522, 171.86055966101551, 131.01926113692673, 120.83484584243092, 95.78476864879755, 82.7961283944917, 88.10230877356688, 75.35891378042585, 74.44629187821933, 70.72253085994316, 70.70948651412824, 67.95506586325624, 67.01488929882389, 108.60920370118029, 66.05696345395083, 62.38861384516401, 63.270194870130254, 56.80886937529996, 56.80393412790065, 55.891462633301856, 54.96238784643896, 52.16718197374243, 50.319844117027614, 50.31763914628511, 49.392746102189356, 49.381767829275915, 48.4665591099503, 47.50940670787419, 48.40038669527473, 44.75528834660047, 43.82260372034402, 318.90712249221275, 87.4858063666295, 938.0685790338504, 166.92898021896391, 634.4065323163026, 97.81984208743911, 438.59436668135834, 120.49333469159409, 321.78162659562537, 162.51690024337938, 191.39519145304814, 261.2174109827343, 354.1835288137422, 276.65792658095233, 366.1911456390131, 147.59201351694864, 245.53288055960692, 202.70889188336506, 151.2731668226783, 158.68033764947674, 152.70883539855473, 135.9527593464453, 107.10095780140645, 160.24430776491621, 108.24689235827849, 100.86378455871652, 98.15518364560144, 134.1773368758286, 130.18413498063782, 79.21559386130447, 75.21697965054531, 75.21661253886313, 75.2141087339528, 74.2177746706252, 81.04547615260257, 55.12498695481867, 56.00175768857451, 50.21546155234252, 46.197348495177856, 45.22918416202613, 45.217787106458324, 44.22541839599915, 44.22267473377786, 43.23101406455897, 43.23000379109157, 43.22473447774489, 43.2204310064633, 42.23162849696239, 42.23162849696239, 42.23162849696239, 42.23162849696239, 42.209336177109925, 41.221444248752704, 68.37860499721376, 74.23758700080705, 44.75291051168651, 41.760824781508894, 168.44433112582868, 117.63886553079895, 68.03426364612231, 121.97792519669001, 172.7822336593577, 83.5022960361938, 79.79221714520256, 198.9928002572316, 78.17550170420449, 70.97966727494122, 76.00496071448819, 127.71856635923619, 132.35648848440383, 142.7771410007859, 123.99803214088772, 91.01154542961135, 127.32104667945877, 86.90138843044029, 92.783902672126, 98.77854732373113, 111.08878789975813, 89.20901382297998, 75.36470455026264, 125.02142210965233, 118.07347596868406, 110.16685766154094, 88.3439209403785, 82.42340528766381, 75.4966517493799, 69.55765151523512, 63.623630988680866, 60.64708090575061, 59.653239452359934, 58.66705426451776, 58.661400272819805, 57.681149413628646, 57.67685617601725, 56.691065902633476, 55.69975450635466, 54.712336910749336, 54.712336910749336, 54.712336910749336, 54.712336910749336, 54.712336910749336, 54.712336910749336, 50.73308035878122, 47.766474634846396, 46.78455993402943, 45.793506098742824, 41.83881796328236, 41.83881796328236, 41.83881796328236, 41.83881796328236, 88.33038105025517, 97.36190965808909, 161.2217359717904, 91.34539503611424, 68.69444177487378, 129.7639776622977, 80.4383904992509, 62.45583314300807, 83.58935353362837, 78.65967883844993, 63.16128765448255, 96.13279920150717, 140.54916257105958, 69.34468598674354, 72.826732538793, 67.96653054457401, 80.92813259136888, 65.5788863964025, 75.1793706097261, 81.93749221872072, 67.4938879163686, 77.00564305867616, 69.40079086152535, 71.01936901368296, 50.51923472465616, 83.12471207807857, 44.927484817821444, 39.028918250444654, 51.382114610137386, 119.28297808817845, 121.39012768337693, 80.71556482428966, 47.26861500656099, 25.60648357037981, 33.05914075158414, 52.94226285067471, 56.79567433949479, 31.939324673414177, 22.527455058376876, 31.676146392302687, 117.66238210731355, 22.75603904246668, 32.54951061665787, 45.74941798038444, 47.64727578962912, 43.37160051067287, 25.89141170661261, 23.12436069118979, 43.76315243368011, 32.46144145373494, 19.514934516861963, 20.49158094665078, 70.20631356287338, 72.18879446220042, 32.82752720551761, 45.163379132344566, 109.38456394814901, 120.08602430446352, 54.65350986748078, 99.67122214797706, 83.72876650432698, 55.125453744017506, 111.0714117862348, 70.1667318345863, 65.29347486630583, 48.721016321190156, 61.59692304400756, 51.825109354234414, 51.87234197832717, 117.49659891431013, 54.84016437863684, 48.76215035860708, 41.69348295140435, 76.35553398126132, 66.17456707305165, 85.06596229268429, 35.66404961332266, 35.76383086288029, 39.685446714408044, 31.842479088352906, 35.801366569371766, 39.385422138105945, 86.63554199965775, 29.745925015716658, 62.54526772324034, 56.24334867378647, 45.72558137960049, 50.55519258076908, 157.473597955455, 48.68713178030431, 36.953891518310826, 35.652879700793974, 23.022740875858776, 79.79502745706083, 39.030823387106885, 35.63875450513184, 22.676231662555285, 61.34244334188879, 22.530629421202867, 68.09036878994873, 65.27697381758362, 56.33056959636226, 105.95511337515497, 81.26251458973566, 54.8048533830639, 51.650019833987635, 87.1386909066027, 93.41653973208132, 83.21148056033405, 56.52670384187754, 60.700135253109785, 53.87897266085226, 46.88381682492439, 52.64244709689551, 47.59142558084881, 100.13159481109841, 66.9205063611915, 59.76057908231057, 53.775043952965085, 49.73051436829505, 41.6674798988542, 41.12311269784396, 43.685910329543, 34.48389131684989, 40.9377874503208, 41.67681323203555, 48.358171565814004, 27.857490822977525, 23.606942710008173, 68.92553968639838, 23.978332170518897, 25.937937258435188, 40.284990722604626, 24.87108939111535, 40.755414790388286, 32.688278428308614, 34.282081532429686, 33.562896120346664, 72.75624358615103, 23.06951857924011, 19.694515571278387, 21.779464179765633, 22.149227957985573, 24.523182814465546, 41.1485771819195, 57.1942918241606, 69.77030265684151, 60.66444112996471, 49.90855065384673, 117.65030872279532, 50.75374892971719, 74.36712287623195, 65.87948517584304, 56.09142245554724, 46.79649565300288, 64.65472302051154, 55.81010975551231, 58.71843637483243, 49.70153384056099, 45.289773648804655, 45.16054983121323, 41.72201842077348, 116.57418530646557, 107.31427031801448, 100.1042888405271, 99.08074304122336, 99.07789767874539, 123.29938427078065, 94.9660212562817, 94.9660212562817, 94.9660212562817, 92.90713668132409, 108.15107282874041, 172.9729478964358, 117.26106405277633, 98.92314098690191, 334.77126660734496, 96.26000455498928, 95.18159522548811, 24.15869992071559, 109.52792538061165, 101.02881790739546, 103.94965336264974, 108.46692234141537, 99.1499099994994, 26.58859023644699, 110.56445815862993, 11.120324372448431, 10.659867102677122, 11.982349419317195, 96.60754408601315, 9.624391043344085, 30.07988296848313, 18.466992070454417, 20.124662745289278, 19.307284763342278], \"Total\": [450.0, 1183.0, 432.0, 276.0, 442.0, 184.0, 779.0, 525.0, 238.0, 273.0, 828.0, 404.0, 591.0, 845.0, 241.0, 389.0, 522.0, 356.0, 464.0, 392.0, 334.0, 330.0, 207.0, 451.0, 437.0, 125.0, 136.0, 401.0, 201.0, 234.0, 404.3702017954317, 271.2472492324098, 151.1366394553426, 145.13026336855089, 144.12922076499584, 142.12756626141427, 142.12818700480565, 141.1265703735489, 139.1255885428727, 137.12337177924206, 137.1233717792421, 137.12339950895236, 137.12323804518098, 136.12252830221885, 136.12252830221885, 136.12252830221885, 136.12252830221885, 136.12252830221885, 136.12252830221885, 136.12252830221885, 136.12252830221885, 136.12252830221885, 136.12252830221885, 136.12252830221885, 136.12252830221885, 136.12252830221885, 136.12252830221885, 136.12252830221885, 149.1356308064153, 148.0747706909096, 296.73879240981535, 318.10606294666616, 348.7449102297505, 146.15178289197496, 143.1737651538818, 143.17977392391373, 401.194687465805, 779.6773160024153, 845.7387329097279, 432.97088550383614, 524.0360323177259, 151.93174040942174, 152.39340240193616, 188.1148471776525, 158.64619875838375, 194.11276573243876, 164.43958804897983, 154.44093220462753, 151.24524232481374, 196.12424108603915, 255.9138131427344, 267.85356894861343, 214.82581461730337, 173.63871866276915, 132.81827221928924, 122.61069709147033, 97.56068307603962, 84.57174797845255, 90.16597476401682, 77.15101857396903, 76.22174636536597, 72.51183403524288, 72.51285654647927, 69.72700713330687, 68.80033030159122, 111.59246555524035, 67.87573673339604, 64.16034813157304, 65.09267961134019, 58.59480799149452, 58.59559886644847, 57.66606380966579, 56.738384535120275, 53.95616470661622, 52.09992985618435, 52.100143254445, 51.17211253908115, 51.173316021520506, 50.24413317476189, 49.318934074904405, 50.2500586097931, 46.5329804157334, 45.60569998562285, 358.58356991524795, 93.30834348944428, 1183.2991466530566, 189.24240346527677, 828.2229234786352, 108.62924027236453, 591.4532651506564, 142.84344014800558, 451.10069218861054, 207.996516302055, 263.83476031442854, 389.55718522957613, 665.997555245778, 522.4584895007662, 845.7387329097279, 234.4987513420865, 564.1276237228387, 464.0740133729953, 280.59132261481756, 364.26538313930797, 392.39753999741293, 328.6472967781828, 184.53060435359848, 524.0360323177259, 211.4360350029945, 200.5101683491714, 392.30182796536195, 135.94026339339368, 131.94231828240345, 80.96443172746962, 76.9661418370041, 76.96611474675312, 76.96615441026225, 75.96659992248277, 82.96224043381018, 56.9769552554186, 57.960024518157155, 51.976749522787, 47.97833486044039, 46.97910700577984, 46.97929322624457, 45.97952112708549, 45.97920000920894, 44.98003143892092, 44.97996164831345, 44.979865876478335, 44.97969738409734, 43.98047761918166, 43.98047761918166, 43.98047761918166, 43.98047761918166, 43.97982452407436, 42.98017142098936, 72.76408886858438, 79.04270144908662, 47.8749803976473, 46.04341481111335, 192.14547870867509, 135.1328831359596, 82.94724321387758, 179.34852042555482, 352.4475480950724, 120.55739071591887, 113.47934529151149, 525.6412452942807, 125.43300761727066, 109.14070057951989, 125.15643546606469, 330.08881882792616, 353.63759395864133, 442.5219897753423, 371.2261019369304, 196.07632658864526, 401.194687465805, 202.58579723130964, 242.2634474022633, 319.0357295004002, 1183.2991466530566, 665.997555245778, 356.4655315450728, 126.77259823286998, 119.84089871599757, 111.91854218147085, 90.13210784265452, 84.191028263678, 77.2590430397094, 71.31769742936756, 65.37593897545631, 62.40497007393532, 61.41485510801534, 60.42461240089961, 60.424598562784766, 59.43425433807304, 59.43423995716382, 58.4439405633353, 57.45359131031043, 56.463492034606986, 56.463492034606986, 56.463492034606986, 56.463492034606986, 56.463492034606986, 56.463492034606986, 52.502360346347814, 49.53106185924742, 48.54124971745939, 47.55109555084688, 43.589994294050975, 43.589994294050975, 43.589994294050975, 43.589994294050975, 93.0937889205159, 104.61866919429673, 197.7682355093045, 108.8769222644185, 79.41422797736934, 201.48370857491932, 107.46328769010584, 77.36390627285598, 141.78346603336382, 141.47606225871397, 81.12545437389156, 255.96585560656692, 779.6773160024153, 117.50160053926521, 146.67519776665512, 124.3106706445804, 280.59132261481756, 109.33813189202213, 212.38686477384263, 371.2261019369304, 128.07052789580794, 828.2229234786352, 437.32676374087436, 72.77689856347273, 52.26200098735627, 89.70572552398798, 58.45344696462762, 55.80323974236766, 80.17840982976912, 189.98553213590736, 207.60689156097084, 138.61885341437403, 86.1681591562981, 47.10075329708854, 70.20413547409703, 114.86155953683482, 124.10657972785452, 69.97084374719135, 50.49125787882644, 71.33138853385675, 276.64073935732984, 56.10684633022119, 81.33900351333502, 115.23005896199706, 125.15643546606469, 115.66789499778048, 69.05809030851468, 61.70605301701849, 118.40862753807532, 89.26692053381817, 54.89219771604854, 58.67235216747071, 201.48370857491932, 214.82581461730337, 97.44302511780859, 141.84173286519524, 442.5219897753423, 522.4584895007662, 188.8079629657428, 437.32676374087436, 392.39753999741293, 211.4360350029945, 779.6773160024153, 356.4655315450728, 356.9633995053805, 186.28728771378366, 591.4532651506564, 282.96796242684474, 371.2261019369304, 120.18748754660892, 56.586178727595524, 50.52047668447076, 43.44458727617295, 79.84683786844658, 74.52343314886656, 101.75024825052866, 44.559498257962204, 44.812431288973904, 50.612001051355335, 43.55156315310366, 49.45497035719883, 55.31827640108566, 126.0004336075842, 46.17401802654217, 97.44302511780859, 94.45858685901935, 78.10566701578563, 87.77890691572567, 276.64073935732984, 89.48133850935064, 72.73458879950269, 70.20413547409703, 45.80923697579358, 158.8193208202743, 80.81715295354645, 74.36348371821519, 47.4485986309133, 130.48625020848291, 50.49125787882644, 162.45404683223603, 159.53316220523914, 138.61885341437403, 330.08881882792616, 234.4987513420865, 140.3750111596494, 138.89722996697628, 392.39753999741293, 464.0740133729953, 389.55718522957613, 197.45841881659223, 276.9974715377316, 207.60689156097084, 143.39573483168584, 437.32676374087436, 259.27329850158, 102.00217526733995, 68.66671211465174, 61.596676414092464, 55.53474905234593, 51.49387007044794, 43.4136738634146, 43.36982823609664, 50.562797639185426, 45.2538848992926, 61.691712331815985, 69.05809030851468, 84.78218970005376, 49.71097358477674, 42.89819194667003, 130.66055507700537, 47.53889468797684, 51.48240769874278, 80.81715295354645, 50.395573280274824, 83.6687665559047, 67.58611980037435, 72.73458879950269, 72.79202401281637, 158.18674520213247, 50.248138885862005, 43.47944435625237, 51.99847101352674, 53.88575213493875, 60.24418534893862, 101.82867738175503, 147.68295052779408, 184.53060435359848, 165.85562044902173, 139.35232819643946, 432.97088550383614, 163.32909730864384, 353.63759395864133, 304.8902988999118, 318.613964874223, 211.4360350029945, 779.6773160024153, 564.1276237228387, 845.7387329097279, 451.10069218861054, 330.08881882792616, 437.32676374087436, 181.54171814174123, 118.32525415018647, 109.06055389253372, 101.85430932328941, 100.82495701224605, 100.82495069243788, 125.4837965747023, 96.70738203594703, 96.70738203594703, 96.70738203594703, 94.6484974359575, 112.10465253061302, 184.20116761694993, 136.33715665269338, 130.80741897203785, 450.1096987934693, 140.7258519318174, 141.84173286519524, 42.40399279977409, 241.5091060303904, 238.00549633853825, 273.07479382375567, 356.9633995053805, 334.0293132342578, 90.70628209955888, 442.5219897753423, 45.80923697579358, 51.78742780711811, 58.45344696462762, 525.6412452942807, 54.89219771604854, 202.58579723130964, 189.98553213590736, 263.83476031442854, 244.74566454753213], \"Category\": [\"Default\", \"Default\", \"Default\", \"Default\", \"Default\", \"Default\", \"Default\", \"Default\", \"Default\", \"Default\", \"Default\", \"Default\", \"Default\", \"Default\", \"Default\", \"Default\", \"Default\", \"Default\", \"Default\", \"Default\", \"Default\", \"Default\", \"Default\", \"Default\", \"Default\", \"Default\", \"Default\", \"Default\", \"Default\", \"Default\", \"Topic1\", \"Topic1\", \"Topic1\", \"Topic1\", \"Topic1\", \"Topic1\", \"Topic1\", \"Topic1\", \"Topic1\", \"Topic1\", \"Topic1\", \"Topic1\", \"Topic1\", \"Topic1\", \"Topic1\", \"Topic1\", \"Topic1\", \"Topic1\", \"Topic1\", \"Topic1\", \"Topic1\", \"Topic1\", \"Topic1\", \"Topic1\", \"Topic1\", \"Topic1\", \"Topic1\", \"Topic1\", \"Topic1\", \"Topic1\", \"Topic1\", \"Topic1\", \"Topic1\", \"Topic1\", \"Topic1\", \"Topic1\", \"Topic1\", \"Topic1\", \"Topic1\", \"Topic1\", \"Topic1\", \"Topic1\", \"Topic1\", \"Topic1\", \"Topic1\", \"Topic1\", \"Topic1\", \"Topic1\", \"Topic1\", \"Topic1\", \"Topic1\", \"Topic1\", \"Topic1\", \"Topic2\", \"Topic2\", \"Topic2\", \"Topic2\", \"Topic2\", \"Topic2\", \"Topic2\", \"Topic2\", \"Topic2\", \"Topic2\", \"Topic2\", \"Topic2\", \"Topic2\", \"Topic2\", \"Topic2\", \"Topic2\", \"Topic2\", \"Topic2\", \"Topic2\", \"Topic2\", \"Topic2\", \"Topic2\", \"Topic2\", \"Topic2\", \"Topic2\", \"Topic2\", \"Topic2\", \"Topic2\", \"Topic2\", \"Topic2\", \"Topic2\", \"Topic2\", \"Topic2\", \"Topic2\", \"Topic2\", \"Topic2\", \"Topic2\", \"Topic2\", \"Topic2\", \"Topic2\", \"Topic2\", \"Topic2\", \"Topic2\", \"Topic2\", \"Topic2\", \"Topic2\", \"Topic2\", \"Topic2\", \"Topic2\", \"Topic2\", \"Topic2\", \"Topic2\", \"Topic2\", \"Topic2\", \"Topic2\", \"Topic2\", \"Topic2\", \"Topic3\", \"Topic3\", \"Topic3\", \"Topic3\", \"Topic3\", \"Topic3\", \"Topic3\", \"Topic3\", \"Topic3\", \"Topic3\", \"Topic3\", \"Topic3\", \"Topic3\", \"Topic3\", \"Topic3\", \"Topic3\", \"Topic3\", \"Topic3\", \"Topic3\", \"Topic3\", \"Topic3\", \"Topic3\", \"Topic3\", \"Topic3\", \"Topic3\", \"Topic3\", \"Topic3\", \"Topic3\", \"Topic3\", \"Topic3\", \"Topic3\", \"Topic3\", \"Topic3\", \"Topic3\", \"Topic3\", \"Topic3\", \"Topic3\", \"Topic3\", \"Topic3\", \"Topic3\", \"Topic3\", \"Topic3\", \"Topic3\", \"Topic3\", \"Topic3\", \"Topic3\", \"Topic3\", \"Topic3\", \"Topic3\", \"Topic3\", \"Topic3\", \"Topic3\", \"Topic3\", \"Topic4\", \"Topic4\", \"Topic4\", \"Topic4\", \"Topic4\", \"Topic4\", \"Topic4\", \"Topic4\", \"Topic4\", \"Topic4\", \"Topic4\", \"Topic4\", \"Topic4\", \"Topic4\", \"Topic4\", \"Topic4\", \"Topic4\", \"Topic4\", \"Topic4\", \"Topic4\", \"Topic4\", \"Topic4\", \"Topic4\", \"Topic4\", \"Topic4\", \"Topic4\", \"Topic4\", \"Topic4\", \"Topic4\", \"Topic4\", \"Topic4\", \"Topic4\", \"Topic4\", \"Topic4\", \"Topic4\", \"Topic4\", \"Topic4\", \"Topic4\", \"Topic4\", \"Topic4\", \"Topic4\", \"Topic4\", \"Topic4\", \"Topic4\", \"Topic4\", \"Topic4\", \"Topic4\", \"Topic4\", \"Topic4\", \"Topic4\", \"Topic4\", \"Topic4\", \"Topic4\", \"Topic5\", \"Topic5\", \"Topic5\", \"Topic5\", \"Topic5\", \"Topic5\", \"Topic5\", \"Topic5\", \"Topic5\", \"Topic5\", \"Topic5\", \"Topic5\", \"Topic5\", \"Topic5\", \"Topic5\", \"Topic5\", \"Topic5\", \"Topic5\", \"Topic5\", \"Topic5\", \"Topic5\", \"Topic5\", \"Topic5\", \"Topic5\", \"Topic5\", \"Topic5\", \"Topic5\", \"Topic5\", \"Topic5\", \"Topic5\", \"Topic5\", \"Topic5\", \"Topic5\", \"Topic5\", \"Topic5\", \"Topic5\", \"Topic5\", \"Topic5\", \"Topic5\", \"Topic5\", \"Topic5\", \"Topic5\", \"Topic5\", \"Topic5\", \"Topic5\", \"Topic5\", \"Topic6\", \"Topic6\", \"Topic6\", \"Topic6\", \"Topic6\", \"Topic6\", \"Topic6\", \"Topic6\", \"Topic6\", \"Topic6\", \"Topic6\", \"Topic6\", \"Topic6\", \"Topic6\", \"Topic6\", \"Topic6\", \"Topic6\", \"Topic6\", \"Topic6\", \"Topic6\", \"Topic6\", \"Topic6\", \"Topic6\", \"Topic6\", \"Topic6\", \"Topic6\", \"Topic6\", \"Topic6\", \"Topic6\", \"Topic6\", \"Topic6\", \"Topic6\", \"Topic6\", \"Topic6\", \"Topic6\", \"Topic6\", \"Topic6\", \"Topic6\", \"Topic6\", \"Topic6\", \"Topic6\", \"Topic6\", \"Topic6\", \"Topic6\", \"Topic6\", \"Topic6\", \"Topic7\", \"Topic7\", \"Topic7\", \"Topic7\", \"Topic7\", \"Topic7\", \"Topic7\", \"Topic7\", \"Topic7\", \"Topic7\", \"Topic7\", \"Topic7\", \"Topic7\", \"Topic7\", \"Topic7\", \"Topic7\", \"Topic7\", \"Topic7\", \"Topic7\", \"Topic7\", \"Topic7\", \"Topic7\", \"Topic7\", \"Topic7\", \"Topic7\", \"Topic7\", \"Topic7\", \"Topic7\", \"Topic7\", \"Topic7\", \"Topic7\", \"Topic7\", \"Topic7\", \"Topic7\", \"Topic7\", \"Topic7\", \"Topic7\", \"Topic7\", \"Topic7\", \"Topic7\", \"Topic7\", \"Topic7\", \"Topic7\", \"Topic7\", \"Topic7\", \"Topic7\", \"Topic7\", \"Topic8\", \"Topic8\", \"Topic8\", \"Topic8\", \"Topic8\", \"Topic8\", \"Topic8\", \"Topic8\", \"Topic8\", \"Topic8\", \"Topic8\", \"Topic8\", \"Topic8\", \"Topic8\", \"Topic8\", \"Topic8\", \"Topic8\", \"Topic8\", \"Topic8\", \"Topic8\", \"Topic8\", \"Topic8\", \"Topic8\", \"Topic8\", \"Topic8\", \"Topic8\", \"Topic8\", \"Topic8\", \"Topic8\", \"Topic8\", \"Topic8\", \"Topic8\", \"Topic8\", \"Topic8\"], \"logprob\": [30.0, 29.0, 28.0, 27.0, 26.0, 25.0, 24.0, 23.0, 22.0, 21.0, 20.0, 19.0, 18.0, 17.0, 16.0, 15.0, 14.0, 13.0, 12.0, 11.0, 10.0, 9.0, 8.0, 7.0, 6.0, 5.0, 4.0, 3.0, 2.0, 1.0, -3.8166, -4.218, -4.8083, -4.8492, -4.8561, -4.8703, -4.8704, -4.8775, -4.892, -4.9065, -4.9065, -4.9065, -4.9065, -4.9139, -4.9139, -4.9139, -4.9139, -4.9139, -4.9139, -4.9139, -4.9139, -4.9139, -4.9139, -4.9139, -4.9139, -4.9139, -4.9139, -4.9139, -4.8231, -4.8339, -4.1959, -4.2125, -4.1462, -4.8579, -4.8777, -4.878, -4.2074, -3.8115, -3.8007, -4.2111, -4.1951, -4.8723, -4.8762, -4.8253, -4.873, -4.8314, -4.8675, -4.8856, -4.891, -4.8591, -4.8581, -4.8663, -4.8749, -4.5256, -4.797, -4.8779, -5.1102, -5.2559, -5.1938, -5.3501, -5.3622, -5.4136, -5.4137, -5.4535, -5.4674, -4.9846, -5.4818, -5.5389, -5.5249, -5.6326, -5.6327, -5.6489, -5.6657, -5.7179, -5.7539, -5.754, -5.7725, -5.7727, -5.7914, -5.8114, -5.7928, -5.8711, -5.8922, -3.9074, -5.2008, -2.8285, -4.5548, -3.2196, -5.0892, -3.5887, -4.8807, -3.8984, -4.5815, -4.418, -4.107, -3.8025, -4.0495, -3.7692, -4.6779, -4.1689, -4.3605, -4.6532, -4.6054, -4.6438, -4.76, -4.9985, -4.5956, -4.9879, -5.0585, -5.0858, -4.1879, -4.2181, -4.7149, -4.7667, -4.7667, -4.7667, -4.7801, -4.6921, -5.0775, -5.0617, -5.1707, -5.2541, -5.2753, -5.2756, -5.2978, -5.2978, -5.3205, -5.3205, -5.3207, -5.3208, -5.3439, -5.3439, -5.3439, -5.3439, -5.3444, -5.3681, -4.862, -4.7798, -5.2859, -5.3551, -3.9605, -4.3195, -4.8671, -4.2832, -3.935, -4.6622, -4.7076, -3.7938, -4.7281, -4.8247, -4.7563, -4.2372, -4.2016, -4.1258, -4.2668, -4.5761, -4.2404, -4.6223, -4.5568, -4.4942, -4.3767, -4.5961, -4.7647, -3.9776, -4.0348, -4.1041, -4.3248, -4.3942, -4.482, -4.5639, -4.6531, -4.701, -4.7175, -4.7342, -4.7343, -4.7511, -4.7512, -4.7684, -4.7861, -4.804, -4.804, -4.804, -4.804, -4.804, -4.804, -4.8795, -4.9397, -4.9605, -4.9819, -5.0722, -5.0722, -5.0722, -5.0722, -4.325, -4.2276, -3.7233, -4.2914, -4.5764, -3.9403, -4.4186, -4.6716, -4.3801, -4.4409, -4.6604, -4.2403, -3.8605, -4.567, -4.518, -4.587, -4.4125, -4.6228, -4.4862, -4.4001, -4.594, -4.4622, -4.5662, -4.1019, -4.4425, -3.9445, -4.5598, -4.7005, -4.4255, -3.5833, -3.5658, -3.9739, -4.509, -5.122, -4.8665, -4.3956, -4.3254, -4.901, -5.2501, -4.9093, -3.597, -5.24, -4.8821, -4.5417, -4.501, -4.595, -5.1109, -5.224, -4.586, -4.8848, -5.3937, -5.3448, -4.1134, -4.0856, -4.8736, -4.5546, -3.67, -3.5766, -4.3638, -3.763, -3.9373, -4.3552, -3.6547, -4.114, -4.1859, -4.4787, -4.2442, -4.417, -4.4161, -3.595, -4.357, -4.4744, -4.631, -4.026, -4.1691, -3.9179, -4.7872, -4.7844, -4.6804, -4.9006, -4.7834, -4.688, -3.8997, -4.9687, -4.2255, -4.3317, -4.5387, -4.4383, -3.3021, -4.476, -4.7517, -4.7875, -5.2249, -3.9819, -4.697, -4.7879, -5.2401, -4.2449, -5.2465, -4.1405, -4.1827, -4.3301, -3.6984, -3.9637, -4.3576, -4.4169, -3.8939, -3.8243, -3.94, -4.3267, -4.2554, -4.3746, -4.5137, -4.3979, -4.4987, -3.6608, -4.0638, -4.177, -4.2825, -4.3607, -4.5376, -4.5508, -4.4903, -4.7268, -4.5553, -4.5374, -4.3887, -4.9402, -5.1058, -4.0343, -5.0902, -5.0116, -4.5714, -5.0536, -4.5597, -4.7803, -4.7327, -4.7539, -3.9802, -5.1288, -5.287, -5.1864, -5.1695, -5.0677, -4.5501, -4.2209, -4.0221, -4.162, -4.3571, -3.4996, -4.3403, -3.9583, -4.0795, -4.2404, -4.4215, -4.0983, -4.2454, -4.1946, -4.3613, -4.4543, -4.4571, -4.5363, -3.3505, -3.4333, -3.5028, -3.5131, -3.5131, -3.2944, -3.5555, -3.5555, -3.5555, -3.5774, -3.4255, -2.9559, -3.3446, -3.5147, -2.2956, -3.542, -3.5532, -4.9244, -3.4128, -3.4936, -3.4651, -3.4226, -3.5124, -4.8285, -3.4034, -5.7002, -5.7425, -5.6256, -3.5384, -5.8447, -4.7052, -5.193, -5.1071, -5.1485], \"loglift\": [30.0, 29.0, 28.0, 27.0, 26.0, 25.0, 24.0, 23.0, 22.0, 21.0, 20.0, 19.0, 18.0, 17.0, 16.0, 15.0, 14.0, 13.0, 12.0, 11.0, 10.0, 9.0, 8.0, 7.0, 6.0, 5.0, 4.0, 3.0, 2.0, 1.0, 1.2705, 1.2684, 1.263, 1.2626, 1.2626, 1.2624, 1.2623, 1.2623, 1.2621, 1.262, 1.262, 1.262, 1.262, 1.262, 1.262, 1.262, 1.262, 1.262, 1.262, 1.262, 1.262, 1.262, 1.262, 1.262, 1.262, 1.262, 1.262, 1.262, 1.2615, 1.2578, 1.2007, 1.1146, 1.0889, 1.2469, 1.2477, 1.2473, 0.8876, 0.6191, 0.5485, 0.8076, 0.6328, 1.1937, 1.1867, 1.0271, 1.1498, 0.9896, 1.1193, 1.1641, 1.1795, 0.9516, 0.6865, 0.6327, 0.8447, 1.4068, 1.4035, 1.4025, 1.3987, 1.3959, 1.394, 1.3936, 1.3936, 1.3921, 1.3919, 1.3914, 1.3908, 1.39, 1.39, 1.3891, 1.3887, 1.3862, 1.3861, 1.3859, 1.3853, 1.3834, 1.3824, 1.3823, 1.3817, 1.3815, 1.3811, 1.3797, 1.3796, 1.3782, 1.3772, 1.2999, 1.3527, 1.1849, 1.2917, 1.1505, 1.3123, 1.1181, 1.247, 1.0793, 1.1704, 1.0961, 1.0175, 0.7856, 0.7814, 0.5801, 0.9541, 0.5853, 0.5888, 0.7993, 0.5861, 0.4734, 0.5344, 0.8731, 0.2323, 0.7476, 0.73, 0.0316, 1.9893, 1.989, 1.9805, 1.9794, 1.9794, 1.9793, 1.9791, 1.979, 1.9693, 1.968, 1.9679, 1.9645, 1.9644, 1.9642, 1.9635, 1.9634, 1.9627, 1.9627, 1.9626, 1.9625, 1.9618, 1.9618, 1.9618, 1.9618, 1.9613, 1.9606, 1.9402, 1.9396, 1.9349, 1.9047, 1.8707, 1.8637, 1.8042, 1.6169, 1.2895, 1.6351, 1.6502, 1.031, 1.5296, 1.5721, 1.5036, 1.0528, 1.0196, 0.8712, 0.9058, 1.2348, 0.8546, 1.156, 1.0426, 0.8299, -0.3634, -0.0079, 0.4485, 2.2695, 2.2685, 2.2676, 2.2633, 2.2622, 2.2603, 2.2584, 2.2562, 2.2548, 2.2543, 2.2539, 2.2538, 2.2534, 2.2534, 2.2529, 2.2524, 2.2519, 2.2519, 2.2519, 2.2519, 2.2519, 2.2519, 2.2491, 2.2471, 2.2465, 2.2457, 2.2424, 2.2424, 2.2424, 2.2424, 2.2309, 2.2115, 2.0791, 2.1078, 2.1384, 1.8434, 1.9937, 2.0693, 1.755, 1.6964, 2.0331, 1.3041, 0.5701, 1.756, 1.5832, 1.6796, 1.04, 1.7722, 1.2448, 0.7725, 1.6428, -0.092, 0.4426, 2.7002, 2.6907, 2.6484, 2.4614, 2.3671, 2.2796, 2.2592, 2.188, 2.1838, 2.1241, 2.1152, 1.9715, 1.9501, 1.9429, 1.9404, 1.9175, 1.9128, 1.8697, 1.8222, 1.8087, 1.8008, 1.7589, 1.7437, 1.7436, 1.7431, 1.7293, 1.713, 1.6904, 1.6726, 1.6703, 1.6341, 1.6366, 1.5802, 1.327, 1.2543, 1.4849, 1.2458, 1.1799, 1.3803, 0.7759, 1.0992, 1.0259, 1.3834, 0.4626, 1.0271, 0.7566, 2.7054, 2.6967, 2.6926, 2.6869, 2.6834, 2.6092, 2.549, 2.5054, 2.5025, 2.4849, 2.4149, 2.405, 2.3884, 2.3535, 2.2883, 2.2847, 2.2096, 2.1927, 2.1763, 2.1646, 2.1194, 2.0509, 2.0505, 2.0401, 2.0398, 2.0002, 1.9925, 1.9897, 1.9733, 1.9211, 1.8585, 1.8345, 1.8276, 1.5917, 1.6683, 1.7875, 1.7388, 1.2233, 1.1251, 1.1844, 1.4772, 1.21, 1.3792, 1.6101, 0.6109, 1.0328, 2.8036, 2.7963, 2.7918, 2.7899, 2.7873, 2.7811, 2.7689, 2.6759, 2.5503, 2.412, 2.3171, 2.2607, 2.243, 2.2248, 2.1825, 2.1377, 2.1366, 2.1259, 2.1159, 2.1028, 2.0957, 2.0699, 2.0479, 2.0454, 2.0436, 2.0302, 1.9519, 1.933, 1.9233, 1.916, 1.8735, 1.8495, 1.8163, 1.7953, 1.5192, 1.6533, 1.2628, 1.29, 1.0851, 1.314, 0.3323, 0.5088, 0.1546, 0.6164, 0.8358, 0.5516, 1.3516, 2.9655, 2.9643, 2.9631, 2.963, 2.9629, 2.9629, 2.9622, 2.9622, 2.9622, 2.9618, 2.9445, 2.9175, 2.8297, 2.701, 2.6844, 2.6007, 2.5815, 2.4178, 2.1897, 2.1235, 2.0146, 1.7892, 1.7658, 1.7533, 1.5935, 1.5647, 1.3998, 1.3956, 1.2865, 1.2393, 1.0731, 0.6495, 0.407, 0.4407]}, \"token.table\": {\"Topic\": [2, 4, 6, 7, 1, 4, 4, 7, 3, 8, 2, 6, 1, 3, 2, 4, 4, 5, 1, 3, 2, 3, 5, 6, 7, 1, 2, 3, 4, 5, 6, 7, 3, 1, 4, 1, 2, 3, 1, 2, 3, 5, 2, 4, 5, 6, 4, 6, 7, 1, 2, 4, 5, 7, 8, 4, 1, 1, 2, 3, 5, 6, 7, 8, 2, 7, 2, 1, 1, 2, 5, 6, 7, 4, 2, 5, 7, 3, 4, 2, 3, 4, 5, 6, 7, 2, 3, 5, 2, 5, 3, 6, 7, 6, 7, 3, 5, 1, 2, 6, 3, 1, 2, 3, 6, 2, 5, 1, 2, 6, 8, 1, 5, 6, 7, 1, 2, 5, 3, 1, 3, 5, 7, 2, 3, 4, 5, 6, 7, 2, 3, 6, 1, 2, 6, 8, 4, 4, 1, 1, 4, 3, 4, 5, 7, 1, 2, 2, 5, 4, 4, 2, 4, 5, 6, 6, 7, 2, 2, 4, 5, 6, 8, 3, 4, 5, 1, 3, 5, 6, 7, 2, 6, 7, 2, 7, 7, 8, 1, 2, 5, 2, 1, 7, 2, 8, 1, 5, 6, 3, 1, 3, 8, 2, 4, 6, 2, 5, 7, 1, 2, 5, 7, 1, 2, 1, 2, 3, 7, 2, 1, 2, 4, 5, 6, 1, 7, 2, 5, 2, 3, 5, 6, 7, 2, 5, 2, 4, 5, 7, 3, 2, 2, 3, 5, 1, 2, 2, 6, 2, 3, 5, 6, 7, 1, 2, 5, 7, 2, 3, 5, 7, 3, 5, 4, 2, 6, 2, 5, 1, 3, 4, 6, 8, 1, 2, 5, 6, 8, 1, 5, 2, 3, 5, 7, 2, 2, 6, 1, 2, 6, 7, 2, 5, 6, 3, 5, 6, 2, 6, 2, 6, 1, 2, 4, 5, 6, 7, 8, 1, 2, 5, 1, 2, 4, 7, 2, 2, 6, 5, 6, 2, 8, 3, 7, 5, 6, 2, 7, 2, 3, 2, 8, 1, 7, 2, 5, 8, 4, 2, 4, 3, 4, 1, 2, 3, 2, 5, 7, 4, 4, 3, 8, 7, 2, 4, 7, 2, 6, 2, 5, 7, 1, 2, 3, 4, 5, 7, 7, 2, 5, 6, 1, 7, 2, 5, 2, 4, 5, 6, 1, 2, 3, 5, 7, 4, 2, 3, 8, 2, 3, 6, 7, 8, 1, 2, 5, 6, 8, 2, 2, 3, 4, 5, 6, 7, 7, 4, 4, 5, 6, 8, 1, 5, 7, 2, 8, 4, 2, 5, 5, 8, 4, 4, 3, 3, 5, 6, 2, 3, 5, 8, 5, 2, 4, 4, 1, 2, 3, 7, 3, 8, 2, 3, 2, 5, 7, 2, 6, 2, 6, 2, 5, 2, 4, 3, 2, 5, 1, 2, 3, 5, 6, 7, 4, 4, 8, 5, 6, 7, 2, 2, 2, 7, 2, 1, 3, 2, 8, 2, 7, 6, 2, 5, 2, 4, 5, 2, 5, 6, 2, 6, 7, 1, 3, 7, 1, 2, 3, 6, 2, 4, 7, 3, 2, 4, 7, 8, 2, 3, 5, 1, 8, 3, 2, 6, 2, 7, 3, 5, 7, 2, 7, 8, 1, 8, 6, 5, 3, 2, 5, 6, 8, 5, 8, 2, 3, 1, 3, 5, 8, 4, 5, 3, 6, 2, 3, 2, 1, 2, 3, 7, 2, 7, 2, 5, 1, 4, 5, 6, 3, 4, 8, 1, 2, 3, 2, 3, 1, 1, 2, 3, 5, 6, 7, 8, 3, 5, 7, 2, 7, 1, 2, 3, 5, 7, 2, 3, 4, 5, 6, 8, 4, 2, 5, 6, 7, 8, 1, 5, 7, 7, 2, 4, 1, 5, 6, 7, 1, 2, 5, 2, 2, 6, 2, 3, 2, 3, 5, 6, 7, 8, 3, 1, 2, 3, 6, 3, 1, 2, 4, 3, 3, 4, 8, 4, 1, 3, 4, 5, 3, 1, 3, 2, 5, 6, 4, 7, 1, 3, 4, 5, 7, 8, 1, 2, 3, 4, 5, 6, 8, 2, 5, 7, 8, 5, 7, 2, 4, 6, 7, 1, 2, 3, 4, 5, 7, 2, 4, 7, 5, 6, 2, 3, 5, 2, 7, 1, 3, 7, 3, 2, 3, 5, 6, 2, 5, 7, 2, 5, 7, 3, 6, 8, 3, 7, 8, 1, 5, 1, 2, 5, 6, 2, 4, 3, 8, 2, 3, 3, 8, 2, 3, 4, 6, 1, 2, 3, 4, 6, 8, 2, 7, 4, 7, 5, 7, 3, 2, 4, 2, 6, 2, 3, 5, 6, 7, 8, 1, 2, 5, 6, 7, 4, 2], \"Freq\": [0.14479851091355003, 0.5470165967845224, 0.11262106404387226, 0.1850203195006473, 0.9917151261855404, 0.9758682202032058, 0.5794045598648935, 0.40263706702475643, 0.22934478973561104, 0.7568378061275165, 0.008320333675435209, 0.9734790400259195, 0.6779750791769479, 0.31655454064511906, 0.9575528069625372, 0.9740807381571441, 0.6161296891513539, 0.35847545550624227, 0.9849314670659106, 0.9559797675639771, 0.25449782923963027, 0.37326348288479105, 0.07352159511367096, 0.0820048560883253, 0.20925377070814044, 0.37609942185367184, 0.4364949494506119, 0.08784804014100364, 0.002745251254406364, 0.024707261289657275, 0.05490502508812728, 0.02196201003525091, 0.9661831661657918, 0.9844072224583839, 0.9752935796351632, 0.9844072224583839, 0.156726124899411, 0.8197981917815345, 0.43568787802441306, 0.18493226477295233, 0.3103100713986827, 0.06582334847850844, 0.3124868203292089, 0.21185547140963315, 0.2913012731882456, 0.18537353748342902, 0.9635238701036496, 0.9719687958568232, 0.974078529767441, 0.9845158408199098, 0.34176243676236795, 0.011024594734269935, 0.033073784202809806, 0.3086886525595582, 0.2976640578252882, 0.9707601472807746, 0.9844072224583839, 0.9845148806385791, 0.2873999262833389, 0.10777497235625207, 0.12573746774896075, 0.07783748003507095, 0.09879372465989773, 0.2963811739796932, 0.4627789548831068, 0.5048497689633892, 0.9596902595029655, 0.9966115164041567, 0.9844072224583839, 0.19082319341674053, 0.21544554095438448, 0.41857990813994694, 0.17235643276350757, 0.9789534345965896, 0.2987840219888893, 0.26558579732345716, 0.4149778083179018, 0.9653025465022441, 0.984638810825675, 0.2262771921524829, 0.3340282360346176, 0.22088963995837615, 0.14007635704677512, 0.05926307413517409, 0.018856432679373574, 0.21745370359042565, 0.6802397907187674, 0.0947875118214676, 0.5703403789915676, 0.40993214740018924, 0.6218458879499937, 0.14350289721922932, 0.22322672900769006, 0.508698826936284, 0.46745297610361236, 0.6072400489594231, 0.3835200309217409, 0.6887526032826312, 0.020257429508312684, 0.28866837049345573, 0.9757371022613733, 0.9853217149951613, 0.18829011917050317, 0.47421215198497096, 0.32776428151902404, 0.5996170260605621, 0.37273490809170073, 0.9844072224583839, 0.4368276343977155, 0.4674822052326429, 0.0766364270873185, 0.6259081362587345, 0.013857744714215523, 0.08545609240432907, 0.27253564604623864, 0.7246871305970018, 0.005368052819237051, 0.2630345881426155, 0.9569544487765657, 0.5737555602814451, 0.3838796194688806, 0.024766427062508426, 0.016510951375005616, 0.12892344536266098, 0.17580469822181044, 0.37505002287319555, 0.16799115607861886, 0.0625083371455326, 0.08985573464670311, 0.2920747764242058, 0.3063223264936793, 0.39180762691052, 0.4981994934246255, 0.2382693229422122, 0.22021861665871126, 0.039711553823702034, 0.9635238701036496, 0.9769623309291063, 0.9844072224583839, 0.9844072224583839, 0.9635238701036496, 0.2942182633806012, 0.27269009776738645, 0.07176055204404906, 0.3588027602202453, 0.9859883579003444, 0.006753344917125647, 0.6306207035025544, 0.3408760559473267, 0.9774862471327083, 0.9746997310845289, 0.00870613287885327, 0.4353066439426635, 0.46142504257922334, 0.07835519590967943, 0.4825708228353098, 0.49494443367724084, 0.9868633232688604, 0.9637452973677287, 0.10930515172734306, 0.3643505057578102, 0.3461329804699197, 0.1821752528789051, 0.953928256786283, 0.5778285689508681, 0.40570942075273714, 0.44934194526462723, 0.1443142013988584, 0.11807525568997504, 0.0721571006994292, 0.21647130209828758, 0.1799730502571748, 0.5928524008471641, 0.2117330003025586, 0.4128225529893079, 0.5661566440996223, 0.017840472762304393, 0.9633855291644373, 0.8824667788808374, 0.05673000721376811, 0.05042667307890499, 0.9738325340343668, 0.9715926633953986, 0.02052660556469152, 0.9647916820456863, 0.9823448634426648, 0.8574577549902513, 0.036487564042138355, 0.10338143145272534, 0.9578688164440317, 0.4943700519174608, 0.12084601269093487, 0.3808480399956735, 0.3173853853270226, 0.5924527192771089, 0.07758309419104997, 0.4626294353479026, 0.44861036154948125, 0.08411444279052774, 0.4836008853382569, 0.43275776047384357, 0.013006380779268523, 0.06976149690698571, 0.9844072224583839, 0.9596941903380493, 0.5548743080968449, 0.27743715404842245, 0.05861348324966671, 0.10941183539937786, 0.9721193755607164, 0.526681340554574, 0.3053225162635212, 0.08778022342576235, 0.032440517352999125, 0.04579837743952818, 0.7601558551531091, 0.23135178200312015, 0.9323925036761805, 0.04286862085867497, 0.38991070127760924, 0.10958274611070064, 0.21406862030927568, 0.22171392817746408, 0.06625933485763294, 0.9021512049084207, 0.0828506208589366, 0.5037151024885536, 0.23440207739566352, 0.09974556484921852, 0.1546056255162887, 0.98572708817123, 0.9575302874528097, 0.9723651362965885, 0.9362028200372838, 0.03795416837988989, 0.9844072224583839, 0.9863100747441799, 0.8824660696652062, 0.11096878720340918, 0.07876667889666897, 0.3877744191836011, 0.0727077035969252, 0.3211256908864197, 0.13632694424423478, 0.9850262847246922, 0.5107927794733307, 0.26012595250956655, 0.22228945032635689, 0.284393017947563, 0.21668039462671468, 0.10834019731335734, 0.3859619529288355, 0.9121825601402308, 0.06515589715287363, 0.9740807381571441, 0.3968982173052144, 0.5889457418077375, 0.9759779143996875, 0.011090658118178267, 0.2568291609697031, 0.3785852076516364, 0.10843897907609686, 0.0722926527173979, 0.1845365082523052, 0.5556788932356651, 0.10214685537420314, 0.09397510694426689, 0.16752084281369314, 0.07763161008439438, 0.9708482545709693, 0.013969039634114666, 0.46425921407750625, 0.1145574684087353, 0.05426406398308514, 0.367789766996466, 0.9905624812519391, 0.3015862637294346, 0.690473814327916, 0.985227001480376, 0.5766826077304363, 0.40743879893998225, 0.006268289214461265, 0.022961288357998603, 0.22961288357998605, 0.7347612274559553, 0.9578726133398758, 0.02504795497719201, 0.9518222891332964, 0.2426449740709073, 0.7279349222127219, 0.43584506724745264, 0.5476002126955174, 0.3109802812813509, 0.07774507032033773, 0.1577767603559795, 0.22866197153040507, 0.12119084491111469, 0.10289788718868229, 0.9887999044692153, 0.651690767468518, 0.009309868106693113, 0.33515525184095213, 0.9844072224583839, 0.010741855193516794, 0.9452832570294779, 0.02148371038703359, 0.9678507687218394, 0.6191628157051589, 0.37437751647288675, 0.42654599707233426, 0.5675230639013261, 0.9791505199757037, 0.9818997491660285, 0.8743375130606966, 0.11449657909128169, 0.5843360986248118, 0.4039854509011045, 0.40232565483538846, 0.5632559167695439, 0.9791367128736742, 0.9744548006194367, 0.007969156395460872, 0.9802062366416874, 0.9058136169716948, 0.07934133871284918, 0.46343294147351405, 0.2896455884209463, 0.21240676484202728, 0.976423532854678, 0.9727693052496115, 0.9635238701036496, 0.3841294823061133, 0.6036320436238923, 0.9845146815455539, 0.9711084180261574, 0.955983286346043, 0.46708414089452543, 0.05495107539935593, 0.46708414089452543, 0.9740807381571441, 0.986017497017661, 0.9559812508557867, 0.9823448634426648, 0.9709893610947439, 0.15539288773775362, 0.31078577547550723, 0.5050268851476992, 0.14741978774407624, 0.835378797216432, 0.5798496155952866, 0.03251493171562355, 0.37934087001560807, 0.24462549642454792, 0.43607153710462887, 0.07090594099262258, 0.07799653509188484, 0.07090594099262258, 0.09926831738967162, 0.967437128959364, 0.05367439248282722, 0.040255794362120415, 0.8856274759666491, 0.9847218001725278, 0.9723641669668965, 0.42462165889045916, 0.5520081565575969, 0.7422395409182108, 0.07608377982077331, 0.10482654108639879, 0.07608377982077331, 0.42684883587474826, 0.17889987974162241, 0.1726226909787585, 0.04394032134004761, 0.17576128536019045, 0.9764233092394913, 0.4743050913795812, 0.46410498188754723, 0.056100602206187025, 0.23200046914609743, 0.4294476769300101, 0.05429798214057599, 0.13327686525414106, 0.14808540583793453, 0.4806197805349073, 0.187300355649633, 0.1837663866751116, 0.10248510026111993, 0.042407627694256524, 0.9732570441830466, 0.7926989575316762, 0.0938055269573732, 0.04901550057232113, 0.007605853537084313, 0.03633907801051394, 0.0202822760988915, 0.9803712493180424, 0.9682486601307048, 0.9740807381571441, 0.21829658514688158, 0.5020821458378276, 0.24012624366156976, 0.8935455000825557, 0.07769960870283094, 0.019424902175707734, 0.05428847237708723, 0.939190572123609, 0.976344635738725, 0.05573780236204614, 0.925247519209966, 0.7698433939615433, 0.20529157172307824, 0.9828576914595615, 0.9673804455422425, 0.9569477654711936, 0.14932066930396573, 0.5828322898638663, 0.2601069723359403, 0.7239379669774113, 0.16677104998432513, 0.026531757952051725, 0.07580502272014779, 0.9755843049299086, 0.057351140539332046, 0.9271767720525348, 0.9740807381571441, 0.3830357190159367, 0.06525793731382626, 0.49085318066486705, 0.05958333406914571, 0.305558640503621, 0.6821774299615726, 0.041775474023970256, 0.9399481655393308, 0.03241926547998489, 0.27556375657987153, 0.6645949423396902, 0.1785218915798572, 0.8033485121093574, 0.3248580184504966, 0.6497160369009932, 0.9767684534763054, 0.008961178472259683, 0.16803701656622785, 0.8014073097773944, 0.9619685813188379, 0.26880159770744466, 0.6988841540393561, 0.20570646081342125, 0.5315334826857746, 0.133634124178062, 0.06006028052946606, 0.03303315429120633, 0.03303315429120633, 0.9815235561878229, 0.9713848989562177, 0.9823448634426648, 0.4592826595092033, 0.33036121122591816, 0.20143976294263302, 0.9727824350627445, 0.9693614023493348, 0.5567334371593271, 0.40827118725017325, 0.9708515420951376, 0.7814375218409829, 0.21263606036489333, 0.4009056430197906, 0.5659844372044102, 0.8400805796588445, 0.1470141014402978, 0.9699037541952147, 0.5287916797699783, 0.4573333446659272, 0.08628611148035426, 0.7765750033231883, 0.12326587354336323, 0.0792216349531154, 0.4555244009804136, 0.4555244009804136, 0.889611311738004, 0.044620003096577, 0.06414125445132944, 0.9850305868356245, 0.45920515158257774, 0.5280859243199644, 0.9844072224583839, 0.669991492638458, 0.11294875737966342, 0.213062428693456, 0.22127358164207853, 0.587226043588593, 0.17872096978783267, 0.974112308244814, 0.9663289212966419, 0.8688619376827906, 0.11332981795862486, 0.9818998107124811, 0.21695727855389724, 0.38184481025485917, 0.3992013925391709, 0.9844072224583839, 0.9811063320422511, 0.9559868674261631, 0.25308091485882306, 0.7050111199638642, 0.02305750427592659, 0.9453576753129902, 0.42939294934787564, 0.5454450978202745, 0.011605214847239883, 0.7836669714375863, 0.16346427625078488, 0.052885501139959816, 0.567213791600747, 0.42435994779018854, 0.966748739791453, 0.975852417367992, 0.9549833464435354, 0.18422455439902932, 0.6263634849566997, 0.08421693915384197, 0.09474405654807222, 0.3172550073310757, 0.6697605710322709, 0.2819896424128706, 0.7049741060321766, 0.8315533545964878, 0.11182958906642422, 0.022939402885420353, 0.03154167896745298, 0.6452134563110895, 0.3474226303213559, 0.49755603355275463, 0.48410857318646394, 0.33901193416879166, 0.6505364142157894, 0.9553354186257682, 0.5264070236340598, 0.3136041842926313, 0.052267364048771886, 0.10080134495120292, 0.47623230450270054, 0.49607531719031306, 0.33674900833435184, 0.636081460187109, 0.640340918186338, 0.35312918282334815, 0.15709333079730517, 0.8079085583861408, 0.1555176442268114, 0.09775394779971003, 0.7442630116568831, 0.8519171168561978, 0.04715408395883013, 0.09745177351491562, 0.9552227664595282, 0.9549691652662294, 0.9856799425136208, 0.3787182435700101, 0.07574364871400202, 0.21039902420556117, 0.19637242259185708, 0.028053203227408157, 0.07574364871400202, 0.03366384387288979, 0.6967635870449236, 0.13271687372284258, 0.16589609215355322, 0.5059862269568398, 0.45998747905167253, 0.4138174916795127, 0.4138174916795127, 0.13692490533513288, 0.0030427756741140638, 0.027384981067026574, 0.08684363731114887, 0.1932971282086862, 0.16248164400150433, 0.18209149758789278, 0.06723378372476041, 0.30255202676142184, 0.9758684563275728, 0.11963279972404044, 0.2581549888781925, 0.503717051469644, 0.037778778860223294, 0.07555755772044659, 0.9186749412599328, 0.07218160252756614, 0.006561963866142377, 0.9757275095410297, 0.4908805380616869, 0.49769832331254366, 0.9845148806385788, 0.13830711796787468, 0.7903263883878553, 0.059274479129089154, 0.9214664402759529, 0.03290951572414118, 0.03949141886896941, 0.9840029505039114, 0.48473507466277915, 0.48473507466277915, 0.9670560449376443, 0.9744542984467977, 0.079593900990182, 0.27551734958139923, 0.04898086214780431, 0.22653648743359495, 0.3122529961922525, 0.06122607768475539, 0.9763477887825882, 0.5245430238516106, 0.11570801996726703, 0.17356202995090053, 0.18513283194762725, 0.9744544576345282, 0.9844072224583839, 0.146954925499661, 0.8358061387793219, 0.9549691652662294, 0.2939847741851427, 0.24843783733955718, 0.45546936845585484, 0.9690888545131892, 0.9844072224583839, 0.1061848984288076, 0.814084221287525, 0.07584635602057686, 0.9549691652662294, 0.752140125607419, 0.24212730070923763, 0.01026240717374076, 0.3386594367334451, 0.646531651945668, 0.19887795313106227, 0.7513167118284574, 0.5194456625678531, 0.06156393037841222, 0.1808440454865859, 0.14236658900007826, 0.08336782238743322, 0.01282581882883588, 0.9301109496288111, 0.06739934417600081, 0.3231477831702728, 0.12654738361912782, 0.24631544311580236, 0.05197481827214178, 0.2508349925307712, 0.2219390615159552, 0.2663268738191462, 0.48826593533510143, 0.9825829518627813, 0.37649462769453773, 0.6081836293527149, 0.71380958968994, 0.13079119811088963, 0.0443359993596236, 0.110839998399059, 0.9844072224583839, 0.7654943880774566, 0.050710984699137505, 0.09297013861508542, 0.050710984699137505, 0.03863694072315239, 0.43725907060802405, 0.5231492451917431, 0.031232790757716004, 0.4700577790346253, 0.5127903044014094, 0.26800868123859994, 0.34581765321109675, 0.371753977201929, 0.5577087063282307, 0.4230893634214164, 0.7240308450076042, 0.2600392471506184, 0.010197617535318369, 0.9549691652662294, 0.008445330553961884, 0.28714123883470405, 0.3715945443743229, 0.32092256105055156, 0.396287098093411, 0.023311005770200646, 0.5594641384848155, 0.46780152095197436, 0.0632164217502668, 0.4614798787769477, 0.8732145519405378, 0.11100184982294971, 0.007400123321529981, 0.38246052042154416, 0.4900275417901035, 0.11951891263173256, 0.9708075113588678, 0.01396845340084702, 0.9858628624862741, 0.6311334246044568, 0.017057660124444776, 0.3454176175200067, 0.43116834767743767, 0.5583983519101242, 0.1320256373385678, 0.8581666427006905, 0.041229128910253404, 0.9345269219657437, 0.9587660791856369, 0.9817944931774681, 0.5381492149965222, 0.11760876884029957, 0.2886760689716444, 0.05345853129104526, 0.3543190219655895, 0.24980765577430053, 0.18608121297473407, 0.1529434627189595, 0.028039634831809244, 0.028039634831809244, 0.5174320995063849, 0.4577283957171867, 0.7444402802071131, 0.24194309106731174, 0.09888693334731687, 0.8702050134563885, 0.9852790347502748, 0.9814152123371861, 0.9739755136756861, 0.41012130664332264, 0.5810051844113737, 0.5301856617636487, 0.09187332767023515, 0.22968331917558787, 0.07656110639186262, 0.05167874681450727, 0.02105430425776222, 0.2973663597256495, 0.43743022481381777, 0.06033520342259555, 0.2003990685107638, 0.0021548286936641267, 0.9740807381571441, 0.9752318763659953], \"Term\": [\"accommodate\", \"accommodate\", \"accommodate\", \"accommodate\", \"additional\", \"adventurer\", \"allow\", \"allow\", \"alternative\", \"alternative\", \"amazing\", \"amazing\", \"amenity\", \"amenity\", \"america\", \"amongst\", \"answer\", \"answer\", \"app\", \"apply\", \"area\", \"area\", \"area\", \"area\", \"area\", \"around\", \"around\", \"around\", \"around\", \"around\", \"around\", \"around\", \"arrive\", \"artisan\", \"assist\", \"athens\", \"availability\", \"availability\", \"available\", \"available\", \"available\", \"available\", \"away\", \"away\", \"away\", \"away\", \"babson\", \"barsala\", \"base\", \"based\", \"bay\", \"bay\", \"bay\", \"bay\", \"bay\", \"beacon\", \"bedding\", \"benefit\", \"best\", \"best\", \"best\", \"best\", \"best\", \"best\", \"beyond\", \"beyond\", \"bike\", \"blueground\", \"bluetooth\", \"book\", \"book\", \"book\", \"book\", \"boutique\", \"bring\", \"bring\", \"bring\", \"brookline\", \"brownstone\", \"business\", \"business\", \"business\", \"business\", \"business\", \"business\", \"call\", \"call\", \"call\", \"cape\", \"cape\", \"care\", \"care\", \"care\", \"cdc\", \"cdc\", \"center\", \"center\", \"chance\", \"chance\", \"chance\", \"charge\", \"chicago\", \"child\", \"child\", \"child\", \"china\", \"china\", \"choosing\", \"clean\", \"clean\", \"clean\", \"cleaning\", \"cleaning\", \"cleaning\", \"cleaning\", \"client\", \"client\", \"client\", \"coast\", \"coffee\", \"coffee\", \"coffee\", \"coffee\", \"comfortable\", \"comfortable\", \"comfortable\", \"comfortable\", \"comfortable\", \"comfortable\", \"community\", \"community\", \"community\", \"company\", \"company\", \"company\", \"company\", \"compliment\", \"concern\", \"confirmation\", \"consistent\", \"construct\", \"contact\", \"contact\", \"contact\", \"contact\", \"continent\", \"continent\", \"cooking\", \"cooking\", \"cool\", \"coolidge\", \"corporate\", \"corporate\", \"corporate\", \"corporate\", \"covid\", \"covid\", \"culture\", \"currently\", \"customer\", \"customer\", \"customer\", \"customer\", \"dc\", \"degree\", \"degree\", \"design\", \"design\", \"design\", \"design\", \"design\", \"discover\", \"discover\", \"discover\", \"dog\", \"dog\", \"dont\", \"dont\", \"door\", \"door\", \"door\", \"downtown\", \"drive\", \"drive\", \"eat\", \"economical\", \"either\", \"either\", \"either\", \"elevated\", \"email\", \"email\", \"email\", \"end\", \"end\", \"end\", \"english\", \"english\", \"english\", \"enjoy\", \"enjoy\", \"enjoy\", \"enjoy\", \"equipped\", \"especially\", \"estate\", \"estate\", \"estate\", \"estate\", \"europe\", \"experience\", \"experience\", \"experience\", \"experience\", \"experience\", \"expert\", \"expert\", \"explore\", \"explore\", \"family\", \"family\", \"family\", \"family\", \"family\", \"favorite\", \"favorite\", \"feel\", \"feel\", \"feel\", \"feel\", \"fi\", \"firm\", \"first\", \"flexible\", \"flexible\", \"following\", \"food\", \"forward\", \"forward\", \"free\", \"free\", \"free\", \"free\", \"free\", \"fresh\", \"friend\", \"friend\", \"friend\", \"friendly\", \"friendly\", \"friendly\", \"friendly\", \"front\", \"front\", \"fuel\", \"full\", \"full\", \"fun\", \"fun\", \"furnish\", \"furnish\", \"furnish\", \"furnish\", \"furnish\", \"give\", \"give\", \"give\", \"give\", \"give\", \"global\", \"global\", \"good\", \"good\", \"good\", \"good\", \"great\", \"grow\", \"grow\", \"gym\", \"happy\", \"happy\", \"happy\", \"harvard\", \"harvard\", \"harvard\", \"hbo\", \"health\", \"health\", \"healthy\", \"healthy\", \"hello\", \"hello\", \"help\", \"help\", \"help\", \"help\", \"help\", \"help\", \"hide\", \"high\", \"high\", \"high\", \"highest\", \"hill\", \"hill\", \"hill\", \"history\", \"hope\", \"hope\", \"hospital\", \"hospital\", \"hospitality\", \"hostel\", \"hour\", \"hour\", \"housing\", \"housing\", \"ideal\", \"ideal\", \"im\", \"indoor\", \"inquire\", \"inquire\", \"interior\", \"interior\", \"international\", \"international\", \"international\", \"introduce\", \"investment\", \"invests\", \"issue\", \"issue\", \"istanbul\", \"joy\", \"june\", \"keep\", \"keep\", \"keep\", \"kimberly\", \"lance\", \"lease\", \"leasing\", \"least\", \"leave\", \"leave\", \"leave\", \"let\", \"let\", \"life\", \"life\", \"life\", \"like\", \"like\", \"like\", \"like\", \"like\", \"like\", \"limit\", \"line\", \"line\", \"line\", \"linens\", \"list\", \"listing\", \"listing\", \"live\", \"live\", \"live\", \"live\", \"living\", \"living\", \"living\", \"living\", \"living\", \"llc\", \"local\", \"local\", \"local\", \"location\", \"location\", \"location\", \"location\", \"location\", \"long\", \"long\", \"long\", \"long\", \"long\", \"lot\", \"love\", \"love\", \"love\", \"love\", \"love\", \"love\", \"low\", \"luxurious\", \"magic\", \"maintain\", \"maintain\", \"maintain\", \"maintenance\", \"maintenance\", \"maintenance\", \"manage\", \"manage\", \"management\", \"manager\", \"manager\", \"massachusetts\", \"massachusetts\", \"maverick\", \"mba\", \"mean\", \"medical\", \"medical\", \"medical\", \"meet\", \"meet\", \"meet\", \"meet\", \"mile\", \"minute\", \"minute\", \"mohammed\", \"month\", \"month\", \"month\", \"month\", \"monthly\", \"monthly\", \"morning\", \"morning\", \"mother\", \"mother\", \"mother\", \"motivate\", \"motivate\", \"museum\", \"museum\", \"music\", \"music\", \"native\", \"native\", \"netflix\", \"network\", \"network\", \"new\", \"new\", \"new\", \"new\", \"new\", \"new\", \"newbury\", \"newly\", \"nightly\", \"non\", \"non\", \"non\", \"old\", \"open\", \"opportunity\", \"opportunity\", \"originally\", \"outdoor\", \"outdoor\", \"owner\", \"owner\", \"part\", \"part\", \"partner\", \"passion\", \"passion\", \"passionate\", \"passionate\", \"passionate\", \"patient\", \"patient\", \"patient\", \"people\", \"people\", \"people\", \"personally\", \"pet\", \"pet\", \"picking\", \"place\", \"place\", \"place\", \"plan\", \"plan\", \"plan\", \"playground\", \"plaza\", \"plenty\", \"plenty\", \"portfolio\", \"possible\", \"possible\", \"possible\", \"powered\", \"premier\", \"prepare\", \"prior\", \"prior\", \"priority\", \"priority\", \"private\", \"private\", \"private\", \"professional\", \"professional\", \"professional\", \"professionally\", \"professionally\", \"profit\", \"profits\", \"properly\", \"property\", \"property\", \"property\", \"property\", \"provider\", \"provider\", \"public\", \"public\", \"quality\", \"quality\", \"quality\", \"quality\", \"question\", \"question\", \"quickly\", \"quickly\", \"rate\", \"rate\", \"read\", \"real\", \"real\", \"real\", \"real\", \"really\", \"really\", \"receive\", \"receive\", \"recommendation\", \"recommendation\", \"related\", \"related\", \"rental\", \"rental\", \"rental\", \"request\", \"request\", \"request\", \"resident\", \"seamless\", \"self\", \"service\", \"service\", \"service\", \"service\", \"service\", \"service\", \"service\", \"set\", \"set\", \"set\", \"several\", \"several\", \"share\", \"share\", \"share\", \"share\", \"share\", \"short\", \"short\", \"short\", \"short\", \"short\", \"short\", \"sincerely\", \"small\", \"small\", \"small\", \"small\", \"small\", \"smart\", \"smart\", \"smart\", \"sonder\", \"south\", \"south\", \"speaker\", \"specialize\", \"specialize\", \"specialize\", \"speed\", \"speed\", \"speed\", \"spend\", \"spending\", \"spending\", \"sport\", \"staff\", \"standard\", \"standard\", \"standard\", \"standard\", \"standard\", \"standard\", \"star\", \"start\", \"start\", \"start\", \"start\", \"stock\", \"stocked\", \"street\", \"street\", \"stress\", \"studio\", \"studio\", \"studio\", \"style\", \"submit\", \"suite\", \"suite\", \"suite\", \"supply\", \"support\", \"support\", \"sure\", \"sure\", \"sure\", \"surround\", \"surround\", \"team\", \"team\", \"team\", \"team\", \"team\", \"team\", \"tech\", \"tech\", \"term\", \"term\", \"term\", \"term\", \"term\", \"thank\", \"thank\", \"thank\", \"thatch\", \"thoughtfully\", \"thoughtfully\", \"time\", \"time\", \"time\", \"time\", \"toiletry\", \"travel\", \"travel\", \"travel\", \"travel\", \"travel\", \"traveler\", \"traveler\", \"traveler\", \"treatment\", \"treatment\", \"trip\", \"trip\", \"trip\", \"truly\", \"truly\", \"tv\", \"tv\", \"tv\", \"unfurnished\", \"university\", \"university\", \"university\", \"university\", \"update\", \"update\", \"update\", \"use\", \"use\", \"use\", \"vacation\", \"vacation\", \"vacation\", \"value\", \"value\", \"value\", \"via\", \"via\", \"view\", \"visit\", \"visit\", \"visit\", \"want\", \"want\", \"website\", \"website\", \"wed\", \"wed\", \"week\", \"weekly\", \"welcome\", \"welcome\", \"welcome\", \"welcome\", \"well\", \"well\", \"well\", \"well\", \"well\", \"well\", \"wherever\", \"wherever\", \"whether\", \"whether\", \"white\", \"white\", \"wi\", \"wife\", \"within\", \"wonderful\", \"wonderful\", \"work\", \"work\", \"work\", \"work\", \"work\", \"work\", \"world\", \"world\", \"world\", \"world\", \"world\", \"yanli\", \"young\"]}, \"R\": 30, \"lambda.step\": 0.01, \"plot.opts\": {\"xlab\": \"PC1\", \"ylab\": \"PC2\"}, \"topic.order\": [5, 6, 8, 2, 7, 4, 3, 1]};\n",
       "\n",
       "function LDAvis_load_lib(url, callback){\n",
       "  var s = document.createElement('script');\n",
       "  s.src = url;\n",
       "  s.async = true;\n",
       "  s.onreadystatechange = s.onload = callback;\n",
       "  s.onerror = function(){console.warn(\"failed to load library \" + url);};\n",
       "  document.getElementsByTagName(\"head\")[0].appendChild(s);\n",
       "}\n",
       "\n",
       "if(typeof(LDAvis) !== \"undefined\"){\n",
       "   // already loaded: just create the visualization\n",
       "   !function(LDAvis){\n",
       "       new LDAvis(\"#\" + \"ldavis_el2033624544272052965592216431\", ldavis_el2033624544272052965592216431_data);\n",
       "   }(LDAvis);\n",
       "}else if(typeof define === \"function\" && define.amd){\n",
       "   // require.js is available: use it to load d3/LDAvis\n",
       "   require.config({paths: {d3: \"https://d3js.org/d3.v5\"}});\n",
       "   require([\"d3\"], function(d3){\n",
       "      window.d3 = d3;\n",
       "      LDAvis_load_lib(\"https://cdn.jsdelivr.net/gh/bmabey/pyLDAvis@3.3.1/pyLDAvis/js/ldavis.v3.0.0.js\", function(){\n",
       "        new LDAvis(\"#\" + \"ldavis_el2033624544272052965592216431\", ldavis_el2033624544272052965592216431_data);\n",
       "      });\n",
       "    });\n",
       "}else{\n",
       "    // require.js not available: dynamically load d3 & LDAvis\n",
       "    LDAvis_load_lib(\"https://d3js.org/d3.v5.js\", function(){\n",
       "         LDAvis_load_lib(\"https://cdn.jsdelivr.net/gh/bmabey/pyLDAvis@3.3.1/pyLDAvis/js/ldavis.v3.0.0.js\", function(){\n",
       "                 new LDAvis(\"#\" + \"ldavis_el2033624544272052965592216431\", ldavis_el2033624544272052965592216431_data);\n",
       "            })\n",
       "         });\n",
       "}\n",
       "</script>"
      ],
      "text/plain": [
       "PreparedData(topic_coordinates=                x           y  topics  cluster       Freq\n",
       "topic                                                    \n",
       "4     -108.958252 -208.941483       1        1  27.946358\n",
       "5      186.487061  -98.103249       2        1  24.241110\n",
       "7       19.245832  160.858780       3        1  13.501536\n",
       "1      170.658829   75.445076       4        1  10.193943\n",
       "6       -1.386411  -35.043739       5        1   6.557238\n",
       "3     -145.800095  106.944611       6        1   6.534572\n",
       "2       64.834541 -221.825272       7        1   5.948066\n",
       "0     -196.906036  -58.990913       8        1   5.077178, topic_info=         Term         Freq        Total Category  logprob  loglift\n",
       "378    rental   450.000000   450.000000  Default  30.0000  30.0000\n",
       "261      love  1183.000000  1183.000000  Default  29.0000  29.0000\n",
       "73   cleaning   432.000000   432.000000  Default  28.0000  28.0000\n",
       "206  hospital   276.000000   276.000000  Default  27.0000  27.0000\n",
       "441      term   442.000000   442.000000  Default  26.0000  26.0000\n",
       "..        ...          ...          ...      ...      ...      ...\n",
       "106  customer     9.624391    54.892198   Topic8  -5.8447   1.2393\n",
       "255  location    30.079883   202.585797   Topic8  -4.7052   1.0731\n",
       "358  property    18.466992   189.985532   Topic8  -5.1930   0.6495\n",
       "279      meet    20.124663   263.834760   Topic8  -5.1071   0.4070\n",
       "175      give    19.307285   244.745665   Topic8  -5.1485   0.4407\n",
       "\n",
       "[419 rows x 6 columns], token_table=      Topic      Freq         Term\n",
       "term                              \n",
       "1         2  0.144799  accommodate\n",
       "1         4  0.547017  accommodate\n",
       "1         6  0.112621  accommodate\n",
       "1         7  0.185020  accommodate\n",
       "2         1  0.991715   additional\n",
       "...     ...       ...          ...\n",
       "496       5  0.060335        world\n",
       "496       6  0.200399        world\n",
       "496       7  0.002155        world\n",
       "497       4  0.974081        yanli\n",
       "499       2  0.975232        young\n",
       "\n",
       "[745 rows x 3 columns], R=30, lambda_step=0.01, plot_opts={'xlab': 'PC1', 'ylab': 'PC2'}, topic_order=[5, 6, 8, 2, 7, 4, 3, 1])"
      ]
     },
     "execution_count": 177,
     "metadata": {},
     "output_type": "execute_result"
    }
   ],
   "source": [
    "pyLDAvis.sklearn.prepare(lda_host_best, bow_host,\\\n",
    "                        bow_vectorizer_host,mds='tsne')"
   ]
  },
  {
   "cell_type": "markdown",
   "metadata": {},
   "source": [
    "## 4. Reviews topic modeling"
   ]
  },
  {
   "cell_type": "markdown",
   "metadata": {},
   "source": [
    "### 4.1 Data loading and cleaning"
   ]
  },
  {
   "cell_type": "code",
   "execution_count": 64,
   "metadata": {},
   "outputs": [],
   "source": [
    "from langdetect import detect\n",
    "review_df= pd.read_csv('reviews.csv')"
   ]
  },
  {
   "cell_type": "markdown",
   "metadata": {},
   "source": [
    "A small percentage of the data is in foreign languages,we removed comments in foreign languages"
   ]
  },
  {
   "cell_type": "code",
   "execution_count": 65,
   "metadata": {},
   "outputs": [],
   "source": [
    "def detect_language(review):\n",
    "    try :\n",
    "        language=detect(review)\n",
    "    except:\n",
    "        language=\"others\"\n",
    "    return language"
   ]
  },
  {
   "cell_type": "code",
   "execution_count": 67,
   "metadata": {},
   "outputs": [],
   "source": [
    "review_df[\"language\"]=review_df[\"comments\"].apply(detect_language)\n",
    "review_df=review_df[review_df[\"language\"]==\"en\"]\n",
    "review=review_df[\"comments\"]"
   ]
  },
  {
   "cell_type": "code",
   "execution_count": 68,
   "metadata": {},
   "outputs": [],
   "source": [
    "normalized_review = normalize_corpus4(review)\n",
    "bow_vectorizer_review = CountVectorizer(max_features=500)\n",
    "bow_review= bow_vectorizer_review.fit_transform(normalized_review)"
   ]
  },
  {
   "cell_type": "markdown",
   "metadata": {},
   "source": [
    "We tried to use cross-validation to find the best parameters. However, the data value is too large that cross-validation will take das to find the optimal solution. So we just tried three models with different topics and used to compare the result. "
   ]
  },
  {
   "cell_type": "code",
   "execution_count": null,
   "metadata": {},
   "outputs": [],
   "source": [
    "## define the parameters grid used for cross-validation\n",
    "search_params_review = {'n_components': [5,6,7,8,9,10], 'learning_decay': [0.5, 0.7, 0.9],\\\n",
    "                 \"doc_topic_prior\":[0.25,0.5,0.75,0.9],\"topic_word_prior\":[0.25,0.5,0.75,0.9]}"
   ]
  },
  {
   "cell_type": "code",
   "execution_count": null,
   "metadata": {},
   "outputs": [],
   "source": [
    "lda_review =LatentDirichletAllocation(random_state=42)\n",
    "search_review = GridSearchCV(\n",
    "    estimator=lda_review,\n",
    "    param_grid=search_params_review,\n",
    "    cv=3,\n",
    "    n_jobs=-1 #using all processors\n",
    ")\n",
    "search_review.fit(bow_review)"
   ]
  },
  {
   "cell_type": "code",
   "execution_count": null,
   "metadata": {},
   "outputs": [],
   "source": [
    "search_review.best_params_"
   ]
  },
  {
   "cell_type": "markdown",
   "metadata": {},
   "source": [
    "### 4.2 Build the model with the best parameters"
   ]
  },
  {
   "cell_type": "code",
   "execution_count": 164,
   "metadata": {},
   "outputs": [],
   "source": [
    "lda_review_1=LatentDirichletAllocation(n_components=10,learning_decay=0.5,doc_topic_prior=0.5,\\\n",
    "                      topic_word_prior=0.5,random_state=42).fit(bow_review)"
   ]
  },
  {
   "cell_type": "code",
   "execution_count": 69,
   "metadata": {},
   "outputs": [],
   "source": [
    "lda_review_2=LatentDirichletAllocation(n_components=8,learning_decay=0.5,doc_topic_prior=0.5,\\\n",
    "                      topic_word_prior=0.5,random_state=42).fit(bow_review)"
   ]
  },
  {
   "cell_type": "code",
   "execution_count": 162,
   "metadata": {},
   "outputs": [],
   "source": [
    "lda_review_3=LatentDirichletAllocation(n_components=12,learning_decay=0.5,doc_topic_prior=0.5,\\\n",
    "                      topic_word_prior=0.5,random_state=42).fit(bow_review)"
   ]
  },
  {
   "cell_type": "code",
   "execution_count": 165,
   "metadata": {},
   "outputs": [
    {
     "data": {
      "text/plain": [
       "(-7517111.76173793, -7506563.719400498, -7537192.374942007)"
      ]
     },
     "execution_count": 165,
     "metadata": {},
     "output_type": "execute_result"
    }
   ],
   "source": [
    "lda_review_1.score(bow_review),lda_review_2.score(bow_review),lda_review_3.score(bow_review),"
   ]
  },
  {
   "cell_type": "markdown",
   "metadata": {},
   "source": [
    "### 4.3 Name topics and apply them to documents"
   ]
  },
  {
   "cell_type": "code",
   "execution_count": 159,
   "metadata": {},
   "outputs": [
    {
     "name": "stdout",
     "output_type": "stream",
     "text": [
      "Topic 0:\n",
      "love bed kitchen bathroom lovely coffee breakfast bedroom comfortable comfy\n",
      "Topic 1:\n",
      "walk restaurant easy minute distance quiet downtown street area within\n",
      "Topic 2:\n",
      "day night guest parking take arrive host door time check\n",
      "Topic 3:\n",
      "area best unit bed night sleep comfortable hotel much people\n",
      "Topic 4:\n",
      "nice close airport host near studio good center right public\n",
      "Topic 5:\n",
      "clean location good check comfortable easy perfect communication excellent beautiful\n",
      "Topic 6:\n",
      "quick locate convenient question respond clean cozy wonderful comfortable always\n",
      "Topic 7:\n",
      "great location host amazing helpful responsive spot perfect clean fantastic\n"
     ]
    }
   ],
   "source": [
    "no_top_words_review=10\n",
    "display_topics(lda_review_2, bow_vectorizer_review.get_feature_names(), no_top_words_review)"
   ]
  },
  {
   "cell_type": "code",
   "execution_count": 160,
   "metadata": {},
   "outputs": [],
   "source": [
    "word_weights_review= lda_review_2.components_ / lda_review_2.components_.sum(axis=1)[:, np.newaxis]\n",
    "word_weights_review_df = pd.DataFrame(word_weights_review.T, \n",
    "                               index = bow_vectorizer_review.get_feature_names(), \n",
    "                               columns = [\"Topic_\" + str(i) for i in range(8)])\n",
    "#word_weights_review_df.sort_values(by='Topic_0',ascending=False).head(10)"
   ]
  },
  {
   "cell_type": "code",
   "execution_count": 70,
   "metadata": {},
   "outputs": [
    {
     "data": {
      "text/html": [
       "\n",
       "<link rel=\"stylesheet\" type=\"text/css\" href=\"https://cdn.jsdelivr.net/gh/bmabey/pyLDAvis@3.3.1/pyLDAvis/js/ldavis.v1.0.0.css\">\n",
       "\n",
       "\n",
       "<div id=\"ldavis_el1565629788082759046136855659\"></div>\n",
       "<script type=\"text/javascript\">\n",
       "\n",
       "var ldavis_el1565629788082759046136855659_data = {\"mdsDat\": {\"x\": [-108.958251953125, 186.487060546875, 19.245832443237305, 170.65882873535156, -1.3864107131958008, -145.8000946044922, 64.83454132080078, -196.90603637695312], \"y\": [-208.9414825439453, -98.1032485961914, 160.85877990722656, 75.44507598876953, -35.043739318847656, 106.94461059570312, -221.8252716064453, -58.99091339111328], \"topics\": [1, 2, 3, 4, 5, 6, 7, 8], \"cluster\": [1, 1, 1, 1, 1, 1, 1, 1], \"Freq\": [18.984900485724683, 15.641819203141866, 13.019546157621049, 11.695743892810997, 11.118325407268998, 10.927566182954157, 9.741356743583466, 8.870741926894782]}, \"tinfo\": {\"Term\": [\"great\", \"nice\", \"location\", \"close\", \"clean\", \"walk\", \"check\", \"quick\", \"love\", \"restaurant\", \"easy\", \"locate\", \"good\", \"host\", \"communication\", \"excellent\", \"comfortable\", \"question\", \"distance\", \"minute\", \"kitchen\", \"area\", \"convenient\", \"respond\", \"best\", \"bed\", \"lovely\", \"amazing\", \"breakfast\", \"within\", \"hour\", \"heat\", \"hot\", \"lock\", \"bnb\", \"air\", \"window\", \"open\", \"difficult\", \"turn\", \"bad\", \"pay\", \"guest\", \"never\", \"door\", \"luggage\", \"care\", \"cold\", \"wall\", \"note\", \"someone\", \"move\", \"however\", \"put\", \"review\", \"mention\", \"loud\", \"stair\", \"let\", \"hard\", \"fine\", \"may\", \"hear\", \"seem\", \"front\", \"though\", \"bring\", \"problem\", \"issue\", \"night\", \"shower\", \"since\", \"know\", \"outside\", \"late\", \"arrive\", \"use\", \"day\", \"noise\", \"bathroom\", \"floor\", \"share\", \"parking\", \"water\", \"take\", \"way\", \"little\", \"first\", \"sure\", \"time\", \"book\", \"bed\", \"bedroom\", \"street\", \"host\", \"clean\", \"good\", \"fenway\", \"jamaica\", \"plain\", \"edward\", \"distance\", \"within\", \"shop\", \"grocery\", \"restaurant\", \"market\", \"walk\", \"store\", \"cafe\", \"orange\", \"green\", \"corner\", \"bar\", \"jp\", \"centre\", \"nearby\", \"minute\", \"bus\", \"block\", \"chris\", \"square\", \"mile\", \"anywhere\", \"shopping\", \"park\", \"drive\", \"line\", \"quiet\", \"short\", \"street\", \"downtown\", \"stop\", \"station\", \"train\", \"easy\", \"around\", \"food\", \"access\", \"area\", \"local\", \"safe\", \"subway\", \"great\", \"take\", \"location\", \"robert\", \"comfy\", \"breakfast\", \"delicious\", \"tea\", \"hospitable\", \"gracious\", \"love\", \"fully\", \"fresh\", \"charming\", \"quaint\", \"bath\", \"supply\", \"full\", \"prepare\", \"historic\", \"charm\", \"coffee\", \"large\", \"equip\", \"lovely\", \"cook\", \"kitchen\", \"include\", \"meal\", \"cosy\", \"stock\", \"fridge\", \"toiletry\", \"kind\", \"huge\", \"bed\", \"snack\", \"welcome\", \"bedroom\", \"enjoy\", \"bathroom\", \"warm\", \"old\", \"spacious\", \"much\", \"beautiful\", \"comfortable\", \"host\", \"time\", \"wonderful\", \"morning\", \"good\", \"touch\", \"friendly\", \"clean\", \"amazing\", \"great\", \"amaze\", \"hospitality\", \"recommendation\", \"outstanding\", \"bill\", \"responsive\", \"explore\", \"tip\", \"spot\", \"homey\", \"base\", \"described\", \"cute\", \"location\", \"welcoming\", \"helpful\", \"expectation\", \"communicative\", \"weekend\", \"fantastic\", \"host\", \"decor\", \"amenity\", \"charles\", \"attentive\", \"stylish\", \"anything\", \"view\", \"perfect\", \"thank\", \"awesome\", \"clean\", \"time\", \"wonderful\", \"touch\", \"extremely\", \"cozy\", \"local\", \"comfortable\", \"condo\", \"tiffany\", \"dog\", \"beacon\", \"gorgeous\", \"ever\", \"best\", \"ed\", \"direction\", \"daughter\", \"absolutely\", \"hotel\", \"transport\", \"far\", \"andrew\", \"relax\", \"unit\", \"hill\", \"wish\", \"truly\", \"private\", \"youre\", \"sweet\", \"public\", \"incredible\", \"incredibly\", \"rental\", \"living\", \"spotless\", \"star\", \"sleep\", \"area\", \"friend\", \"fantastic\", \"much\", \"comfortable\", \"awesome\", \"transportation\", \"bed\", \"wonderful\", \"beautiful\", \"think\", \"time\", \"night\", \"perfect\", \"easy\", \"access\", \"want\", \"sparkle\", \"flexible\", \"boris\", \"excellent\", \"communication\", \"value\", \"susan\", \"process\", \"accurate\", \"accommodation\", \"price\", \"advertised\", \"organize\", \"check\", \"tidy\", \"simple\", \"affordable\", \"traveler\", \"fast\", \"breeze\", \"maverick\", \"picture\", \"clean\", \"description\", \"stylish\", \"beat\", \"neat\", \"good\", \"money\", \"easy\", \"friendly\", \"comfortable\", \"perfect\", \"location\", \"beautiful\", \"airport\", \"accommodate\", \"host\", \"convenient\", \"great\", \"modern\", \"awesome\", \"access\", \"respond\", \"conveniently\", \"quick\", \"centrally\", \"locate\", \"quickly\", \"question\", \"answer\", \"perfectly\", \"reply\", \"beautifully\", \"always\", \"response\", \"decorate\", \"message\", \"fabulous\", \"nicely\", \"freedom\", \"request\", \"red\", \"trail\", \"prompt\", \"forward\", \"enjoyable\", \"convenient\", \"immediately\", \"future\", \"yet\", \"cozy\", \"min\", \"available\", \"accommodate\", \"spacious\", \"time\", \"wonderful\", \"clean\", \"comfortable\", \"host\", \"helpful\", \"station\", \"short\", \"enjoy\", \"downtown\", \"quiet\", \"convention\", \"cancel\", \"reservation\", \"apt\", \"flat\", \"center\", \"nice\", \"close\", \"studio\", \"clear\", \"instruction\", \"term\", \"proximity\", \"arrival\", \"near\", \"conference\", \"metro\", \"service\", \"person\", \"cant\", \"central\", \"totally\", \"newbury\", \"heart\", \"building\", \"middle\", \"people\", \"bay\", \"right\", \"guy\", \"small\", \"airport\", \"day\", \"subway\", \"transportation\", \"good\", \"host\", \"big\", \"location\", \"station\", \"clean\"], \"Freq\": [58539.0, 23941.0, 35978.0, 15776.0, 36290.0, 21042.0, 12055.0, 6913.0, 8698.0, 9749.0, 17604.0, 6525.0, 16469.0, 27027.0, 5466.0, 5387.0, 19636.0, 4960.0, 6013.0, 8501.0, 7724.0, 11421.0, 7897.0, 4291.0, 4518.0, 11380.0, 7421.0, 4951.0, 3822.0, 4198.0, 1457.862796217476, 681.0691066020527, 1366.6275450375242, 941.524008877368, 741.3756746513357, 2057.7524947301786, 1712.7603246357683, 1329.748477148596, 646.72961578993, 653.3682510317518, 967.0577727650164, 877.6393965143902, 3695.689279174752, 1837.955030602842, 2955.131335969252, 1273.3204387854062, 1280.1800993711825, 862.1961570419467, 886.6487642193495, 1214.9524173540503, 821.7137792003178, 754.9198497237561, 1564.9831856601209, 864.9146266470325, 814.2211280797264, 713.0335286900192, 889.0905609083864, 1781.2342163574174, 1570.024644928372, 791.1787332170601, 1273.5242980802714, 1192.505054906699, 1284.8843289118656, 1072.4820203614152, 1335.9390578280845, 1896.741151009263, 1330.1095247646633, 1932.6900557018241, 2714.2365832284795, 5626.037114176947, 2148.160266438475, 1415.5187506398165, 1820.5149102350902, 1656.627963433663, 1728.5392678943656, 2277.0498517632122, 3627.958531035046, 4448.40446493475, 1867.7337257349768, 4255.365742219019, 2508.330408450773, 1772.2126434284767, 2650.8229331173156, 1734.663138731342, 2616.2662886049397, 1934.3150306849982, 2842.7533794676665, 2415.687886650043, 1985.1864704852394, 2964.261088086083, 1843.560583292444, 2125.7241330316006, 1847.214366384343, 1904.760121633003, 2078.383949280636, 1939.8846483860077, 1848.3701378370074, 1214.1032267880519, 1256.1360585635045, 1068.3911458254113, 774.2394147336469, 5954.738901133917, 4137.442274570139, 3417.472988659779, 1361.61313966211, 9339.903664804326, 783.8814530577781, 19675.850833341778, 2283.2140384951663, 849.2265634249734, 1190.1555537294994, 727.177871244637, 1065.9173041387662, 1700.915926707369, 764.5872397677153, 780.4835226295072, 2462.17233261338, 7301.11807546605, 2294.0328534650503, 2135.6801983318524, 756.0287576486867, 544.9768145508261, 548.9692009019012, 784.8683946501087, 809.510286504331, 3832.3465773948024, 1080.2059192107772, 2932.4899917709777, 6339.3261725201155, 3490.30951406544, 5116.000566281217, 3980.9154603802162, 2128.095347799519, 3222.7093917039983, 2285.577696565706, 6321.95220543379, 3108.5885142288153, 1922.7038190352573, 2214.42004613813, 3532.5935144924765, 1580.0108031821762, 1777.2234536033109, 1740.254528345844, 3359.5262321416144, 1733.7154281172332, 2071.1620759200714, 1078.91775386225, 2789.270489412285, 3770.8452382891815, 751.049429922269, 1045.2057908413585, 1003.7521532011514, 1011.4192165774285, 8342.941463098896, 883.2834980388776, 994.9951808007758, 728.3985489801164, 642.9885550989318, 821.133026339186, 713.2639588155685, 1930.192853105942, 697.1753842986201, 888.163077523144, 1238.785744344269, 3904.4850721755715, 2352.914321943617, 1450.2311726900712, 5935.288761649483, 1103.3875392328043, 6019.7183356460055, 1528.7918395139784, 560.5256714520983, 513.314824325157, 1194.888933778086, 1227.9237532300172, 515.235403060745, 2324.7429949519124, 842.3717838703631, 5909.026553167858, 1306.3780341566944, 2358.5425802742275, 2342.5167996945247, 3235.833647562701, 3290.521076236928, 1602.778765175707, 1358.2227018567862, 2114.6088503239907, 2087.757728326104, 2532.791305700832, 3028.001387414758, 3345.8559860150326, 2518.802466395619, 2136.9980473629666, 1455.7955053360683, 2383.1754896831544, 1384.3230949240874, 1503.2204646163211, 1720.2291965447168, 4585.7099100746855, 51925.565824153644, 1876.2194504582897, 1411.855809260299, 1217.6887310481043, 541.9332986970555, 822.3045056068128, 3868.043256658837, 1724.0931254568193, 1245.1750278201737, 3099.9944351777344, 410.98899698555107, 481.519285604757, 593.1238426966904, 1570.0098128614295, 20326.125446103055, 834.9526614216159, 3931.7728267310995, 418.31596977654755, 491.6875784121579, 1162.428035803299, 1853.5843183812367, 11224.232476600908, 307.2291485774101, 1898.3882723181898, 367.9551930623264, 356.9557973924721, 728.0087732838192, 640.1128787114284, 776.282431708587, 3709.1392221517617, 1011.7997049329146, 870.1333309494881, 2999.7955464549786, 1495.2904504545172, 1242.455214019093, 819.2719699184441, 846.1970143212598, 959.248486608381, 776.0731366681669, 996.1528024652494, 1266.6719652915626, 775.8622107587985, 1374.1453088471023, 1264.5888841552044, 1122.6243491248038, 2189.739637861062, 4381.492923085098, 776.8580387726888, 909.866819700608, 796.7931913954734, 2937.1182005894693, 2546.4202954270727, 1100.5772427999625, 1902.4937924114536, 817.039789052718, 890.4918113795834, 2799.365701530728, 1798.1798472287878, 827.8811290109227, 902.2840744000421, 2242.874426116601, 751.0216542020596, 686.3249972008889, 2814.510675366171, 559.4657117223601, 859.8998922489034, 542.668313934191, 1272.555018420742, 670.387690354317, 644.4366595573202, 1774.351599402408, 6027.043396546764, 1280.5610742292101, 1786.8761415055137, 2200.0584953052357, 4351.0579845077455, 1492.6853377167474, 1336.1261620708658, 2383.7150866237052, 1946.4665582003418, 2010.876773552619, 1092.7568458432363, 1944.554626309426, 1636.299436921619, 1878.2924026381563, 1647.272735593162, 1209.2139159291855, 1127.9772382756419, 765.9990761076767, 925.2091515040215, 1011.7011543100269, 5244.861513763044, 5289.462857312612, 2827.195500459553, 834.6734784088674, 1033.2768930893637, 840.812547978221, 1435.0597545046096, 2344.4406477777543, 715.0297979338202, 558.0148236383264, 9643.473342104111, 681.8598428131954, 905.785147173493, 556.7025921353556, 658.4656760548314, 939.4481454472851, 458.2999596268909, 530.7705312785828, 1728.2660348107493, 22606.545986576886, 621.5838520955746, 1208.2435677149583, 529.4994035499186, 472.4301748914556, 8433.530307388963, 379.59341263447214, 8259.939219766778, 2484.6858952321613, 7090.812376554211, 5233.890018837989, 10194.827861587395, 3127.0998680544803, 1728.6411077171028, 1443.280519349606, 3235.4768562235217, 1618.4421955869411, 1789.3074006622326, 808.8090965013208, 879.6167391940305, 883.6092205270592, 4283.773815346712, 1484.9692912132007, 6883.843333093727, 702.9658683720775, 6486.615681083004, 2412.5857242136794, 4844.518475984999, 1969.230016872561, 1422.6076157709006, 718.3026985160088, 930.2066275351558, 3258.474329795329, 1676.7016515757741, 1890.2878249206024, 1225.0132842778903, 792.6349838774156, 1025.5489878670303, 770.7096518404189, 685.9773009214886, 919.1501091227681, 766.2537854905937, 600.787807193953, 529.4951869988346, 518.7841982697288, 5109.140409699038, 530.1505237918713, 940.0063241515167, 440.517304255749, 3296.429070436903, 1481.4687975070115, 1683.8796393508485, 1898.1937000201874, 2396.085338628776, 2925.601559894765, 2114.8874597878403, 3683.2601280664157, 2649.5686652977693, 2868.966016486418, 1573.3629186489056, 1283.3565605644317, 1182.8754729760112, 1002.9221445778617, 987.30141476803, 952.2130452841599, 1002.5504363861941, 797.5411520587178, 973.8525680200456, 1034.713199744278, 1184.625656244236, 2536.7689946013693, 23091.545423831347, 14787.022406810724, 3060.506883555922, 1254.6369784389983, 1309.1807732807665, 524.9529259398274, 499.4670951754576, 1820.8778139880972, 2744.490360760229, 695.6263248213329, 912.63319876957, 625.3161550188177, 1081.7457895412672, 455.9572272758268, 866.0011660346793, 376.5767189954032, 379.592363299841, 690.7481939226982, 1351.1978403015314, 324.8372486564671, 1731.1841277258113, 696.9197032506763, 2125.47143428401, 252.45069030771927, 1798.5452404524292, 1688.3737684769296, 2111.558829183821, 1315.160146484793, 1021.7074869865601, 2972.248375037221, 3396.3445512280277, 989.3416980466728, 1721.2467726688144, 1018.2554971446077, 1418.0255405421728], \"Total\": [58539.0, 23941.0, 35978.0, 15776.0, 36290.0, 21042.0, 12055.0, 6913.0, 8698.0, 9749.0, 17604.0, 6525.0, 16469.0, 27027.0, 5466.0, 5387.0, 19636.0, 4960.0, 6013.0, 8501.0, 7724.0, 11421.0, 7897.0, 4291.0, 4518.0, 11380.0, 7421.0, 4951.0, 3822.0, 4198.0, 1468.5759287405963, 686.724207770715, 1378.3580195340644, 949.7416783061527, 748.4585967910577, 2078.7978138841313, 1730.938351818382, 1344.2255182634478, 654.4016491960978, 661.333140953531, 980.4900466857903, 891.2839267220247, 3755.4600259900662, 1869.8953078500067, 3019.7888917412356, 1302.0421874515087, 1314.9980132420608, 891.7466523856178, 922.062373287884, 1263.66955537031, 858.3836455403793, 790.2236275890245, 1643.8289757823788, 908.9816764202786, 855.7317845465816, 749.805147117633, 942.0734102807561, 1893.1796676002555, 1669.8114987490262, 846.4481443830269, 1373.0475337499377, 1288.3298640266216, 1399.139012123926, 1158.150126023977, 1480.4452698080192, 2202.0085043805507, 1483.2567581391963, 2281.651890506176, 3371.821110094986, 8096.563742007863, 2628.8149445180034, 1625.262132245324, 2209.83478233654, 1975.0739560358857, 2101.6116491731277, 3013.987219329766, 5656.338550067575, 7830.977169920698, 2423.4036984734876, 8150.499064178314, 3765.827042559083, 2299.9492180137813, 4607.736629397387, 2344.607076339979, 5072.149385272044, 2885.6304344958753, 6481.564559256678, 4715.808968379162, 3693.3441921184485, 13270.336437448868, 3877.141300411774, 11380.704470935898, 4632.720741458578, 7764.432822735243, 27027.002812937495, 36290.81478270137, 16469.864910716533, 1219.96659234451, 1262.4505205687024, 1074.7876322557304, 780.3190238694349, 6013.16342712896, 4198.7815180707175, 3508.888276448217, 1408.100370077596, 9749.19368267917, 836.3114969325818, 21042.346263231495, 2493.0984207129104, 957.9581584654335, 1348.753239902361, 826.3511739321215, 1214.1808922792904, 1947.5224762759483, 878.8979242048612, 901.9364074832052, 2863.685348884493, 8501.010928885733, 2724.944703280174, 2638.1985755817145, 942.1249143454327, 681.7691889225406, 703.3738030326019, 1083.6984980761672, 1126.6537302600525, 5381.949178950727, 1526.4803913917633, 4169.237054947233, 9227.03202090429, 5077.998463339573, 7764.432822735243, 6457.648157064728, 3175.4813022355247, 6221.55078445489, 3968.691146286206, 17604.986747282648, 6456.655423766545, 3540.239284257376, 4509.590675427557, 11421.126324846131, 3079.833757314706, 4459.869652785666, 4338.362723511421, 58539.98645167963, 5072.149385272044, 35978.350593298586, 1083.3550248401257, 2813.9551186124145, 3822.514965141286, 761.3620108456373, 1062.365932556504, 1043.3476793266232, 1053.4807715430704, 8698.738822937068, 925.826314140835, 1050.663064842359, 783.0571605570324, 692.0968110989564, 914.050157928698, 828.8145425927906, 2249.5187602591873, 826.7985146359106, 1058.1499941186792, 1487.2531683385173, 4816.79938015556, 2908.294560005076, 1805.2375518615852, 7421.047404039791, 1391.7092215434138, 7724.446279140532, 2001.9792301279613, 739.1883112780362, 684.3703108029893, 1615.237459667252, 1664.3609293317045, 712.3964502299492, 3343.447083482826, 1197.5868548873718, 11380.704470935898, 2073.7723285011116, 4426.846613643655, 4632.720741458578, 7727.652638868749, 8150.499064178314, 2797.0128170095977, 2381.8441396910794, 5978.966614811583, 5925.137150156882, 9558.917833478508, 19636.443310619707, 27027.002812937495, 13270.336437448868, 8750.88435898634, 3114.064989210514, 16469.864910716533, 3349.9198891251176, 6090.746269471689, 36290.81478270137, 4951.754286117435, 58539.98645167963, 2164.411393103036, 1683.3056105461376, 1474.549403914289, 672.2163202503148, 1043.341839300384, 4981.907367579838, 2405.015882740039, 1743.6749358349996, 4426.46521771373, 673.5666739064687, 796.5586662600816, 1012.041351766274, 2727.055675917987, 35978.350593298586, 1652.34362867833, 7849.250646411032, 877.1589774403376, 1031.90041024822, 2657.3439109693054, 4240.421406115853, 27027.002812937495, 764.8762734654862, 4803.521721679828, 988.3796041792037, 988.3749425845407, 2109.0988923878876, 1896.5625300591807, 2331.6441551527555, 14484.209581345534, 4549.48772099623, 3639.7771972144087, 36290.81478270137, 13270.336437448868, 8750.88435898634, 3349.9198891251176, 3868.6389335701697, 5609.299147881731, 3079.833757314706, 19636.443310619707, 1271.6656643289361, 780.3082370306304, 1394.7184583175992, 1283.932216386256, 1142.366746491675, 2246.684018869834, 4518.011622741395, 801.1102213162937, 953.1151202940542, 857.2822277568271, 3245.156301377736, 2862.704678933452, 1239.0627896870185, 2334.630633874423, 1007.2180073915756, 1105.5463996830983, 3555.7781956663666, 2297.5216398742987, 1078.404202627414, 1209.3014496553305, 3088.010615365991, 1102.8792703123, 1069.9059054346824, 4457.296926004189, 899.1414310737158, 1382.863237338976, 876.5865594332388, 2109.47446107741, 1130.0511238616525, 1090.0150962725124, 3128.692644792164, 11421.126324846131, 2508.0431682982176, 4240.421406115853, 5925.137150156882, 19636.443310619707, 3639.7771972144087, 3108.637609884121, 11380.704470935898, 8750.88435898634, 9558.917833478508, 2190.7873262782964, 13270.336437448868, 8096.563742007863, 14484.209581345534, 17604.986747282648, 4509.590675427557, 5006.859929808345, 770.924659755888, 944.8599382595294, 1039.068341189939, 5387.6040810974955, 5466.513005549767, 2940.083891346641, 893.3896542980909, 1169.1393992501976, 988.5188893062045, 1719.8699393395711, 2908.1515200758386, 890.2752624938877, 695.5194547775652, 12055.210302238576, 884.1878737749197, 1175.21931199388, 742.0471867031516, 926.3053790172783, 1351.939908727523, 699.6992672528854, 832.7541210374517, 2746.5295451844027, 36290.81478270137, 1047.4746800929213, 2109.0988923878876, 929.858456660817, 909.4444738057454, 16469.864910716533, 755.6264412087436, 17604.986747282648, 6090.746269471689, 19636.443310619707, 14484.209581345534, 35978.350593298586, 9558.917833478508, 4890.434687665972, 4316.666605244133, 27027.002812937495, 7897.820497291581, 58539.98645167963, 1953.7949968948635, 3639.7771972144087, 4509.590675427557, 4291.668293808451, 1488.9063433809151, 6913.692222632918, 706.8747038723853, 6525.603237131811, 2440.113250164923, 4960.500609931534, 2027.8121982551838, 1465.158491250218, 754.0809277648106, 1001.1866291533692, 3514.272791244999, 1852.9004797512828, 2163.2875823505888, 1453.9941124044005, 944.0793305200265, 1230.0856806220206, 978.1820126869533, 870.8492975303135, 1289.4737908754876, 1076.5539658089424, 844.5223947371459, 749.6292314410068, 755.4134312044763, 7897.820497291581, 830.4986562824048, 1561.6908486173377, 738.7965771569449, 5609.299147881731, 2660.0216989199957, 3391.2082398231723, 4316.666605244133, 5978.966614811583, 13270.336437448868, 8750.88435898634, 36290.81478270137, 19636.443310619707, 27027.002812937495, 7849.250646411032, 6221.55078445489, 5077.998463339573, 7727.652638868749, 6457.648157064728, 9227.03202090429, 1007.1675530414561, 801.499920833201, 980.632536615227, 1050.8107848689478, 1203.8452803839139, 2583.634752645204, 23941.019896746737, 15776.000299753843, 3267.544658423011, 1430.1292388887982, 1687.9007541724486, 714.9537026586265, 692.6317299558663, 2606.9582739514003, 3982.1081010052003, 1010.4322319341109, 1355.3270217051215, 998.8707746274815, 1885.919602280812, 843.1542137968204, 1700.7763166530017, 746.6081622696377, 780.8186501487899, 1485.8199602926388, 2917.2302219084136, 717.4270316035752, 4457.697234363565, 1803.1407455613114, 5802.360642629188, 694.3137762551911, 5127.197076297991, 4890.434687665972, 7830.977169920698, 4338.362723511421, 3108.637609884121, 16469.864910716533, 27027.002812937495, 3192.4858115378847, 35978.350593298586, 6221.55078445489, 36290.81478270137], \"Category\": [\"Default\", \"Default\", \"Default\", \"Default\", \"Default\", \"Default\", \"Default\", \"Default\", \"Default\", \"Default\", \"Default\", \"Default\", \"Default\", \"Default\", \"Default\", \"Default\", \"Default\", \"Default\", \"Default\", \"Default\", \"Default\", \"Default\", \"Default\", \"Default\", \"Default\", \"Default\", \"Default\", \"Default\", \"Default\", \"Default\", \"Topic1\", \"Topic1\", \"Topic1\", \"Topic1\", \"Topic1\", \"Topic1\", \"Topic1\", \"Topic1\", \"Topic1\", \"Topic1\", \"Topic1\", \"Topic1\", \"Topic1\", \"Topic1\", \"Topic1\", \"Topic1\", \"Topic1\", \"Topic1\", \"Topic1\", \"Topic1\", \"Topic1\", \"Topic1\", \"Topic1\", \"Topic1\", \"Topic1\", \"Topic1\", \"Topic1\", \"Topic1\", \"Topic1\", \"Topic1\", \"Topic1\", \"Topic1\", \"Topic1\", \"Topic1\", \"Topic1\", \"Topic1\", \"Topic1\", \"Topic1\", \"Topic1\", \"Topic1\", \"Topic1\", \"Topic1\", \"Topic1\", \"Topic1\", \"Topic1\", \"Topic1\", \"Topic1\", \"Topic1\", \"Topic1\", \"Topic1\", \"Topic1\", \"Topic1\", \"Topic1\", \"Topic1\", \"Topic1\", \"Topic1\", \"Topic1\", \"Topic1\", \"Topic1\", \"Topic1\", \"Topic1\", \"Topic1\", \"Topic1\", \"Topic1\", \"Topic1\", \"Topic1\", \"Topic1\", \"Topic2\", \"Topic2\", \"Topic2\", \"Topic2\", \"Topic2\", \"Topic2\", \"Topic2\", \"Topic2\", \"Topic2\", \"Topic2\", \"Topic2\", \"Topic2\", \"Topic2\", \"Topic2\", \"Topic2\", \"Topic2\", \"Topic2\", \"Topic2\", \"Topic2\", \"Topic2\", \"Topic2\", \"Topic2\", \"Topic2\", \"Topic2\", \"Topic2\", \"Topic2\", \"Topic2\", \"Topic2\", \"Topic2\", \"Topic2\", \"Topic2\", \"Topic2\", \"Topic2\", \"Topic2\", \"Topic2\", \"Topic2\", \"Topic2\", \"Topic2\", \"Topic2\", \"Topic2\", \"Topic2\", \"Topic2\", \"Topic2\", \"Topic2\", \"Topic2\", \"Topic2\", \"Topic2\", \"Topic2\", \"Topic2\", \"Topic3\", \"Topic3\", \"Topic3\", \"Topic3\", \"Topic3\", \"Topic3\", \"Topic3\", \"Topic3\", \"Topic3\", \"Topic3\", \"Topic3\", \"Topic3\", \"Topic3\", \"Topic3\", \"Topic3\", \"Topic3\", \"Topic3\", \"Topic3\", \"Topic3\", \"Topic3\", \"Topic3\", \"Topic3\", \"Topic3\", \"Topic3\", \"Topic3\", \"Topic3\", \"Topic3\", \"Topic3\", \"Topic3\", \"Topic3\", \"Topic3\", \"Topic3\", \"Topic3\", \"Topic3\", \"Topic3\", \"Topic3\", \"Topic3\", \"Topic3\", \"Topic3\", \"Topic3\", \"Topic3\", \"Topic3\", \"Topic3\", \"Topic3\", \"Topic3\", \"Topic3\", \"Topic3\", \"Topic3\", \"Topic3\", \"Topic3\", \"Topic3\", \"Topic3\", \"Topic4\", \"Topic4\", \"Topic4\", \"Topic4\", \"Topic4\", \"Topic4\", \"Topic4\", \"Topic4\", \"Topic4\", \"Topic4\", \"Topic4\", \"Topic4\", \"Topic4\", \"Topic4\", \"Topic4\", \"Topic4\", \"Topic4\", \"Topic4\", \"Topic4\", \"Topic4\", \"Topic4\", \"Topic4\", \"Topic4\", \"Topic4\", \"Topic4\", \"Topic4\", \"Topic4\", \"Topic4\", \"Topic4\", \"Topic4\", \"Topic4\", \"Topic4\", \"Topic4\", \"Topic4\", \"Topic4\", \"Topic4\", \"Topic4\", \"Topic4\", \"Topic4\", \"Topic4\", \"Topic4\", \"Topic5\", \"Topic5\", \"Topic5\", \"Topic5\", \"Topic5\", \"Topic5\", \"Topic5\", \"Topic5\", \"Topic5\", \"Topic5\", \"Topic5\", \"Topic5\", \"Topic5\", \"Topic5\", \"Topic5\", \"Topic5\", \"Topic5\", \"Topic5\", \"Topic5\", \"Topic5\", \"Topic5\", \"Topic5\", \"Topic5\", \"Topic5\", \"Topic5\", \"Topic5\", \"Topic5\", \"Topic5\", \"Topic5\", \"Topic5\", \"Topic5\", \"Topic5\", \"Topic5\", \"Topic5\", \"Topic5\", \"Topic5\", \"Topic5\", \"Topic5\", \"Topic5\", \"Topic5\", \"Topic5\", \"Topic5\", \"Topic5\", \"Topic5\", \"Topic5\", \"Topic5\", \"Topic5\", \"Topic5\", \"Topic6\", \"Topic6\", \"Topic6\", \"Topic6\", \"Topic6\", \"Topic6\", \"Topic6\", \"Topic6\", \"Topic6\", \"Topic6\", \"Topic6\", \"Topic6\", \"Topic6\", \"Topic6\", \"Topic6\", \"Topic6\", \"Topic6\", \"Topic6\", \"Topic6\", \"Topic6\", \"Topic6\", \"Topic6\", \"Topic6\", \"Topic6\", \"Topic6\", \"Topic6\", \"Topic6\", \"Topic6\", \"Topic6\", \"Topic6\", \"Topic6\", \"Topic6\", \"Topic6\", \"Topic6\", \"Topic6\", \"Topic6\", \"Topic6\", \"Topic6\", \"Topic6\", \"Topic6\", \"Topic6\", \"Topic6\", \"Topic6\", \"Topic7\", \"Topic7\", \"Topic7\", \"Topic7\", \"Topic7\", \"Topic7\", \"Topic7\", \"Topic7\", \"Topic7\", \"Topic7\", \"Topic7\", \"Topic7\", \"Topic7\", \"Topic7\", \"Topic7\", \"Topic7\", \"Topic7\", \"Topic7\", \"Topic7\", \"Topic7\", \"Topic7\", \"Topic7\", \"Topic7\", \"Topic7\", \"Topic7\", \"Topic7\", \"Topic7\", \"Topic7\", \"Topic7\", \"Topic7\", \"Topic7\", \"Topic7\", \"Topic7\", \"Topic7\", \"Topic7\", \"Topic7\", \"Topic7\", \"Topic7\", \"Topic7\", \"Topic7\", \"Topic7\", \"Topic7\", \"Topic7\", \"Topic7\", \"Topic8\", \"Topic8\", \"Topic8\", \"Topic8\", \"Topic8\", \"Topic8\", \"Topic8\", \"Topic8\", \"Topic8\", \"Topic8\", \"Topic8\", \"Topic8\", \"Topic8\", \"Topic8\", \"Topic8\", \"Topic8\", \"Topic8\", \"Topic8\", \"Topic8\", \"Topic8\", \"Topic8\", \"Topic8\", \"Topic8\", \"Topic8\", \"Topic8\", \"Topic8\", \"Topic8\", \"Topic8\", \"Topic8\", \"Topic8\", \"Topic8\", \"Topic8\", \"Topic8\", \"Topic8\", \"Topic8\", \"Topic8\", \"Topic8\", \"Topic8\", \"Topic8\", \"Topic8\", \"Topic8\"], \"logprob\": [30.0, 29.0, 28.0, 27.0, 26.0, 25.0, 24.0, 23.0, 22.0, 21.0, 20.0, 19.0, 18.0, 17.0, 16.0, 15.0, 14.0, 13.0, 12.0, 11.0, 10.0, 9.0, 8.0, 7.0, 6.0, 5.0, 4.0, 3.0, 2.0, 1.0, -5.1468, -5.9079, -5.2115, -5.5841, -5.823, -4.8022, -4.9857, -5.2388, -5.9596, -5.9494, -5.5573, -5.6543, -4.2166, -4.9151, -4.4403, -5.2822, -5.2768, -5.6721, -5.6441, -5.3291, -5.7202, -5.8049, -5.0759, -5.6689, -5.7293, -5.862, -5.6414, -4.9465, -5.0727, -5.758, -5.282, -5.3477, -5.2731, -5.4538, -5.2342, -4.8837, -5.2385, -4.8649, -4.5253, -3.7964, -4.7592, -5.1763, -4.9247, -5.019, -4.9765, -4.7009, -4.2351, -4.0313, -4.8991, -4.0756, -4.6042, -4.9516, -4.5489, -4.973, -4.562, -4.864, -4.479, -4.6418, -4.8381, -4.4372, -4.9121, -4.7697, -4.9101, -4.8794, -4.7922, -4.8612, -4.9095, -5.1361, -5.1021, -5.2639, -5.586, -3.5459, -3.91, -4.1012, -5.0214, -3.0958, -5.5736, -2.3507, -4.5045, -5.4935, -5.156, -5.6487, -5.2663, -4.7989, -5.5985, -5.5779, -4.4291, -3.3421, -4.4998, -4.5713, -5.6098, -5.9371, -5.9298, -5.5723, -5.5414, -3.9866, -5.2529, -4.2542, -3.4833, -4.0801, -3.6977, -3.9486, -4.5749, -4.1599, -4.5035, -3.4861, -4.1959, -4.6764, -4.5351, -4.0681, -4.8727, -4.755, -4.7761, -4.1183, -4.7798, -4.602, -5.0706, -4.1208, -3.8193, -5.4329, -5.1024, -5.1429, -5.1352, -3.0252, -5.2707, -5.1516, -5.4635, -5.5882, -5.3437, -5.4845, -4.489, -5.5073, -5.2652, -4.9325, -3.7845, -4.2909, -4.7749, -3.3657, -5.0482, -3.3516, -4.7221, -5.7255, -5.8135, -4.9686, -4.9413, -5.8097, -4.303, -5.3181, -3.3701, -4.8793, -4.2886, -4.2954, -3.9723, -3.9556, -4.6749, -4.8404, -4.3977, -4.4105, -4.2173, -4.0387, -3.9389, -4.2228, -4.3872, -4.7711, -4.2782, -4.8214, -4.739, -4.6041, -3.5164, -1.0896, -4.4101, -4.6945, -4.8424, -5.652, -5.235, -3.6866, -4.4947, -4.8201, -3.908, -5.9286, -5.7702, -5.5617, -4.5883, -2.0275, -5.2198, -3.6703, -5.9109, -5.7493, -4.8889, -4.4223, -2.6213, -6.2195, -4.3984, -6.0392, -6.0695, -5.3568, -5.4855, -5.2926, -3.7286, -5.0276, -5.1785, -3.9408, -4.6371, -4.8223, -5.2387, -5.2064, -5.081, -5.2929, -5.0432, -4.7524, -5.2425, -4.6709, -4.754, -4.8731, -4.205, -3.5114, -5.2412, -5.0832, -5.2159, -3.9113, -4.0541, -4.8929, -4.3456, -5.1908, -5.1047, -3.9594, -4.402, -5.1776, -5.0916, -4.181, -5.2751, -5.3652, -3.954, -5.5695, -5.1397, -5.6, -4.7477, -5.3886, -5.4281, -4.4153, -3.1925, -4.7414, -4.4083, -4.2003, -3.5183, -4.5882, -4.699, -4.1201, -4.3227, -4.2902, -4.9, -4.3237, -4.4963, -4.3584, -4.4896, -4.7988, -4.8683, -5.238, -5.0492, -4.9598, -3.3142, -3.3057, -3.9322, -5.1522, -4.9387, -5.1448, -4.6102, -4.1194, -5.3069, -5.5548, -2.7052, -5.3544, -5.0704, -5.5572, -5.3893, -5.0339, -5.7517, -5.6049, -4.4243, -1.8532, -5.4469, -4.7823, -5.6073, -5.7213, -2.8392, -5.9401, -2.86, -4.0613, -3.0126, -3.3163, -2.6496, -3.8313, -4.4241, -4.6045, -3.7973, -4.49, -4.3896, -5.1836, -5.0997, -5.0952, -3.4017, -4.4611, -2.9274, -5.209, -2.9868, -3.9758, -3.2787, -4.1789, -4.504, -5.1874, -4.9289, -3.6753, -4.3397, -4.2198, -4.6536, -5.0889, -4.8313, -5.117, -5.2334, -4.9408, -5.1228, -5.366, -5.4924, -5.5128, -3.2255, -5.4911, -4.9184, -5.6763, -3.6637, -4.4635, -4.3354, -4.2156, -3.9827, -3.783, -4.1075, -3.5527, -3.8821, -3.8026, -4.4033, -4.6071, -4.6886, -4.8536, -4.8693, -4.9055, -4.7604, -4.9891, -4.7894, -4.7288, -4.5935, -3.832, -1.6234, -2.0692, -3.6443, -4.5361, -4.4935, -5.4074, -5.4571, -4.1636, -3.7533, -5.1259, -4.8543, -5.2324, -4.6843, -5.5483, -4.9068, -5.7395, -5.7316, -5.1329, -4.4619, -5.8873, -4.2141, -5.124, -4.0089, -6.1395, -4.1759, -4.2391, -4.0155, -4.489, -4.7414, -3.6736, -3.5402, -4.7736, -4.2199, -4.7448, -4.4136], \"loglift\": [30.0, 29.0, 28.0, 27.0, 26.0, 25.0, 24.0, 23.0, 22.0, 21.0, 20.0, 19.0, 18.0, 17.0, 16.0, 15.0, 14.0, 13.0, 12.0, 11.0, 10.0, 9.0, 8.0, 7.0, 6.0, 5.0, 4.0, 3.0, 2.0, 1.0, 1.6542, 1.6533, 1.653, 1.6528, 1.652, 1.6514, 1.651, 1.6507, 1.6497, 1.6494, 1.6477, 1.6461, 1.6455, 1.6443, 1.6399, 1.6392, 1.6347, 1.6278, 1.6224, 1.6222, 1.6179, 1.6158, 1.6124, 1.6118, 1.6118, 1.6112, 1.6036, 1.6006, 1.5999, 1.594, 1.5863, 1.5842, 1.5763, 1.5847, 1.5588, 1.5123, 1.5525, 1.4955, 1.4446, 1.2975, 1.4596, 1.5234, 1.4677, 1.4857, 1.4661, 1.3811, 1.2174, 1.096, 1.4011, 1.0116, 1.2552, 1.4009, 1.1087, 1.3602, 0.9995, 1.2615, 0.8373, 0.9926, 1.0407, 0.1626, 0.9181, -0.0163, 0.7421, 0.2563, -0.9037, -1.2674, -0.5257, 1.8504, 1.8502, 1.8493, 1.8474, 1.8455, 1.8405, 1.8288, 1.8217, 1.8123, 1.7905, 1.7881, 1.7673, 1.7347, 1.7301, 1.7274, 1.725, 1.7198, 1.7159, 1.7106, 1.7042, 1.7031, 1.6831, 1.6439, 1.6352, 1.6313, 1.6074, 1.5326, 1.5246, 1.5156, 1.5094, 1.5033, 1.4799, 1.4803, 1.438, 1.3715, 1.455, 1.1974, 1.3034, 0.8311, 1.1243, 1.2448, 1.144, 0.6818, 1.1878, 0.9352, 0.9418, -1.0027, 0.7817, -0.9996, 2.0346, 2.0299, 2.0251, 2.0251, 2.0224, 2.0, 1.998, 1.997, 1.9917, 1.9843, 1.9664, 1.9651, 1.9315, 1.8886, 1.8856, 1.8682, 1.8636, 1.8559, 1.8287, 1.8268, 1.8197, 1.8153, 1.8066, 1.7894, 1.7691, 1.762, 1.7511, 1.7373, 1.7346, 1.7147, 1.6753, 1.6869, 1.3833, 1.5766, 1.4091, 1.3568, 1.1682, 1.1317, 1.4819, 1.477, 0.9993, 0.9956, 0.7106, 0.1692, -0.0504, 0.377, 0.629, 1.2783, 0.1056, 1.155, 0.6396, -1.0104, 2.0691, 2.026, 2.0031, 1.9701, 1.9545, 1.9305, 1.9079, 1.8929, 1.8131, 1.8092, 1.7897, 1.6519, 1.6426, 1.6116, 1.5938, 1.5749, 1.4634, 1.4546, 1.4055, 1.4046, 1.3191, 1.3184, 1.2672, 1.2338, 1.2176, 1.1578, 1.1275, 1.0822, 1.0598, 1.0461, 0.7837, 0.6427, 0.7149, -0.3471, -0.0373, 0.1939, 0.7377, 0.626, 0.3799, 0.7676, -0.8353, 2.1926, 2.1909, 2.1817, 2.1814, 2.1791, 2.1709, 2.1659, 2.1658, 2.1501, 2.1234, 2.0968, 2.0795, 2.0781, 1.9919, 1.9873, 1.9803, 1.9574, 1.9515, 1.9322, 1.9037, 1.8768, 1.8123, 1.7526, 1.7368, 1.7221, 1.7215, 1.717, 1.6912, 1.6744, 1.671, 1.6294, 1.5574, 1.5244, 1.3324, 1.2059, 0.6896, 1.3052, 1.3522, 0.6333, 0.6934, 0.6377, 1.501, 0.2761, 0.5976, 0.1539, -0.1725, 0.8803, 0.7062, 2.2075, 2.1929, 2.1872, 2.187, 2.181, 2.1747, 2.1459, 2.0903, 2.052, 2.0328, 1.9984, 1.9947, 1.9936, 1.9907, 1.954, 1.9535, 1.9265, 1.8726, 1.8499, 1.7908, 1.7635, 1.7507, 1.7406, 1.692, 1.6568, 1.6508, 1.5589, 1.5446, 1.5254, 1.4571, 1.3173, 1.1953, 1.196, 0.9528, 1.0965, 1.1739, 1.1183, 0.0912, 0.6288, -1.274, 1.3319, 0.7937, 0.5839, 2.3269, 2.3261, 2.3245, 2.3232, 2.3228, 2.3174, 2.3051, 2.2995, 2.2993, 2.2802, 2.2553, 2.2532, 2.2289, 2.1939, 2.1574, 2.1539, 2.1469, 2.0904, 2.0902, 1.9902, 1.9888, 1.9883, 1.9811, 1.953, 1.8932, 1.8799, 1.8212, 1.8117, 1.7972, 1.7435, 1.6287, 1.5072, 1.4144, 0.8168, 0.9086, 0.041, 0.3258, 0.0859, 0.7216, 0.7502, 0.8718, 0.2869, 0.4507, 0.0577, 2.4178, 2.4175, 2.4155, 2.407, 2.4063, 2.4041, 2.3863, 2.3577, 2.357, 2.2915, 2.1683, 2.1135, 2.0955, 2.0635, 2.0502, 2.0491, 2.0269, 1.954, 1.8666, 1.8077, 1.7475, 1.738, 1.7012, 1.6565, 1.6528, 1.6301, 1.4766, 1.4718, 1.4181, 1.4107, 1.3748, 1.3589, 1.1118, 1.2289, 1.3097, 0.7102, 0.3483, 1.2509, -0.6175, 0.6125, -0.8199]}, \"token.table\": {\"Topic\": [1, 2, 3, 4, 5, 6, 7, 8, 1, 2, 3, 4, 5, 6, 7, 8, 1, 2, 3, 4, 5, 6, 7, 8, 1, 2, 3, 4, 5, 6, 7, 8, 1, 2, 3, 4, 5, 6, 7, 8, 1, 2, 3, 4, 5, 6, 7, 8, 1, 2, 3, 4, 5, 6, 7, 8, 1, 2, 3, 4, 5, 6, 7, 8, 1, 2, 3, 4, 5, 6, 7, 8, 1, 2, 3, 4, 5, 6, 7, 8, 1, 2, 3, 4, 5, 6, 7, 8, 1, 2, 3, 4, 5, 6, 7, 8, 1, 2, 3, 4, 5, 6, 7, 8, 1, 2, 3, 4, 5, 6, 7, 8, 1, 2, 3, 4, 5, 6, 7, 8, 1, 2, 3, 4, 5, 6, 7, 8, 1, 2, 3, 4, 5, 6, 7, 8, 1, 2, 3, 4, 5, 6, 7, 8, 1, 2, 3, 4, 5, 6, 7, 8, 1, 2, 3, 4, 5, 6, 7, 8, 1, 2, 3, 4, 5, 6, 7, 8, 1, 2, 3, 4, 5, 6, 7, 8, 1, 2, 3, 4, 5, 6, 7, 8, 1, 2, 3, 4, 5, 6, 7, 8, 1, 2, 3, 4, 5, 6, 7, 8, 1, 2, 3, 4, 5, 6, 7, 8, 1, 2, 3, 4, 5, 6, 7, 8, 1, 2, 3, 4, 5, 6, 7, 8, 1, 2, 3, 4, 5, 6, 7, 8, 1, 2, 3, 4, 5, 6, 7, 8, 1, 2, 3, 4, 5, 6, 7, 8, 1, 2, 3, 4, 5, 6, 7, 8, 1, 2, 3, 4, 5, 6, 7, 8, 1, 2, 3, 4, 5, 6, 7, 8, 1, 2, 3, 4, 5, 6, 7, 8, 1, 2, 3, 4, 5, 6, 7, 8, 1, 2, 3, 4, 5, 6, 7, 8, 1, 2, 3, 4, 5, 6, 7, 8, 1, 2, 3, 4, 5, 6, 7, 8, 1, 2, 3, 4, 5, 6, 7, 8, 1, 2, 3, 4, 5, 6, 7, 8, 1, 2, 3, 4, 5, 6, 7, 8, 1, 2, 3, 4, 5, 6, 7, 8, 1, 2, 3, 4, 5, 6, 7, 8, 1, 2, 3, 4, 5, 6, 7, 8, 1, 2, 3, 4, 5, 6, 7, 8, 1, 2, 3, 4, 5, 6, 7, 8, 1, 2, 3, 4, 5, 6, 7, 8, 1, 2, 3, 4, 5, 6, 7, 8, 1, 2, 3, 4, 5, 6, 7, 8, 1, 2, 3, 5, 6, 7, 8, 1, 2, 3, 4, 5, 6, 7, 8, 1, 2, 3, 4, 5, 6, 7, 8, 1, 2, 3, 4, 5, 6, 7, 8, 1, 2, 3, 4, 5, 6, 7, 8, 1, 2, 3, 4, 5, 6, 7, 8, 1, 2, 3, 4, 5, 6, 7, 8, 1, 2, 3, 4, 5, 6, 7, 8, 1, 2, 3, 4, 5, 6, 7, 8, 1, 2, 3, 4, 5, 6, 7, 8, 1, 2, 3, 4, 5, 6, 7, 8, 1, 2, 3, 4, 5, 6, 7, 8, 1, 2, 3, 4, 5, 6, 7, 8, 1, 2, 3, 4, 5, 6, 7, 8, 1, 2, 3, 4, 5, 6, 7, 8, 1, 2, 3, 4, 5, 6, 7, 8, 1, 2, 3, 4, 5, 6, 7, 8, 1, 2, 3, 4, 5, 6, 7, 8, 1, 2, 3, 4, 5, 6, 7, 8, 1, 2, 3, 4, 5, 6, 7, 8, 1, 2, 3, 4, 5, 6, 7, 8, 1, 2, 3, 4, 5, 6, 7, 8, 1, 2, 3, 4, 5, 6, 7, 8, 1, 2, 3, 4, 5, 6, 7, 8, 1, 2, 3, 5, 6, 7, 8, 1, 2, 3, 4, 5, 6, 7, 8, 1, 2, 3, 4, 5, 6, 7, 8, 1, 2, 3, 4, 5, 6, 7, 8, 1, 2, 3, 4, 5, 6, 7, 8, 1, 2, 3, 4, 5, 6, 7, 8, 1, 2, 3, 4, 5, 6, 7, 8, 1, 2, 3, 4, 5, 6, 7, 8, 1, 2, 3, 4, 5, 6, 7, 8, 1, 2, 3, 4, 5, 6, 7, 8, 1, 2, 3, 4, 5, 6, 7, 8, 1, 2, 3, 4, 5, 6, 7, 8, 1, 2, 3, 4, 5, 6, 7, 8, 1, 2, 3, 4, 5, 6, 7, 8, 1, 2, 3, 4, 5, 6, 7, 8, 1, 2, 3, 4, 5, 6, 7, 8, 1, 2, 3, 4, 5, 6, 7, 8, 1, 2, 3, 4, 5, 6, 7, 8, 1, 2, 3, 4, 5, 6, 7, 8, 1, 2, 3, 4, 5, 6, 7, 8, 1, 2, 3, 4, 5, 6, 7, 8, 1, 2, 3, 4, 5, 6, 7, 8, 1, 2, 3, 4, 5, 6, 7, 8, 1, 2, 3, 4, 5, 6, 7, 8, 1, 2, 3, 4, 5, 6, 7, 8, 1, 2, 3, 4, 5, 6, 7, 8, 1, 2, 3, 4, 5, 6, 7, 8, 1, 2, 3, 4, 5, 6, 7, 8, 1, 2, 3, 4, 5, 6, 7, 8, 1, 2, 3, 4, 5, 6, 7, 8, 1, 2, 3, 4, 5, 6, 7, 8, 1, 2, 3, 4, 5, 6, 7, 8, 1, 2, 3, 4, 5, 6, 7, 8, 1, 2, 3, 4, 5, 6, 7, 8, 1, 2, 3, 4, 5, 6, 7, 8, 1, 2, 3, 4, 5, 6, 7, 8, 1, 2, 3, 4, 5, 6, 7, 8, 1, 2, 3, 4, 5, 6, 7, 8, 1, 2, 3, 4, 5, 6, 7, 8, 1, 2, 3, 4, 5, 6, 7, 8, 1, 2, 3, 4, 5, 6, 7, 8, 1, 2, 3, 4, 5, 6, 7, 8, 1, 2, 3, 4, 5, 6, 7, 8, 1, 2, 3, 4, 5, 6, 7, 8, 1, 2, 3, 4, 5, 6, 7, 8, 1, 2, 3, 4, 5, 6, 7, 8, 1, 2, 3, 4, 5, 6, 7, 8, 1, 2, 3, 4, 5, 6, 7, 8, 1, 2, 3, 4, 5, 6, 7, 8, 1, 2, 3, 4, 5, 6, 7, 8, 1, 2, 3, 4, 5, 6, 7, 8, 1, 2, 3, 4, 5, 6, 7, 8, 1, 2, 3, 4, 5, 6, 7, 8, 1, 2, 3, 4, 5, 6, 7, 8, 1, 2, 3, 4, 5, 6, 7, 8, 1, 2, 3, 4, 5, 6, 7, 8, 1, 2, 3, 4, 5, 6, 7, 8, 1, 2, 3, 4, 5, 6, 7, 8, 1, 2, 3, 4, 5, 6, 7, 8, 1, 2, 3, 4, 5, 6, 7, 8, 1, 2, 3, 4, 5, 6, 7, 8, 1, 2, 3, 4, 5, 6, 7, 8, 1, 2, 3, 4, 5, 6, 7, 8, 1, 2, 3, 4, 5, 6, 7, 8, 1, 2, 3, 4, 5, 6, 7, 8, 1, 2, 3, 4, 5, 6, 7, 8, 1, 2, 3, 4, 5, 6, 7, 8, 1, 2, 3, 4, 5, 6, 7, 8, 1, 2, 3, 4, 5, 6, 7, 8, 1, 2, 3, 4, 5, 6, 7, 8, 1, 2, 3, 4, 5, 6, 7, 8, 1, 2, 3, 4, 5, 6, 7, 8, 1, 2, 3, 4, 5, 6, 7, 8, 1, 2, 3, 4, 5, 6, 7, 8, 1, 2, 3, 4, 5, 6, 7, 8, 1, 2, 3, 4, 5, 6, 7, 8, 1, 2, 3, 4, 5, 6, 7, 8, 1, 2, 3, 4, 5, 6, 7, 8, 1, 2, 3, 4, 5, 6, 7, 8, 1, 2, 3, 4, 5, 6, 7, 8, 1, 2, 3, 4, 5, 6, 7, 8, 1, 2, 3, 4, 5, 6, 7, 8, 1, 2, 3, 4, 5, 6, 7, 8, 1, 2, 3, 4, 5, 6, 7, 8, 1, 2, 3, 4, 5, 6, 7, 8, 1, 2, 3, 4, 5, 6, 7, 8, 1, 2, 3, 4, 5, 6, 7, 8, 1, 2, 3, 4, 5, 6, 7, 8, 1, 2, 3, 4, 5, 6, 7, 8, 1, 2, 3, 4, 5, 6, 7, 8, 1, 2, 3, 4, 5, 6, 7, 8, 1, 2, 3, 4, 5, 6, 7, 8, 1, 2, 3, 4, 5, 6, 7, 8, 1, 2, 3, 4, 5, 6, 7, 8, 1, 2, 3, 4, 5, 6, 7, 8, 1, 2, 3, 4, 5, 6, 7, 8, 1, 2, 3, 4, 5, 6, 7, 8, 1, 2, 3, 4, 5, 6, 7, 8, 1, 2, 3, 4, 5, 6, 7, 8, 1, 2, 3, 4, 5, 6, 7, 8, 1, 2, 3, 4, 5, 6, 7, 8, 1, 2, 3, 4, 5, 6, 7, 8, 1, 2, 3, 4, 5, 6, 7, 8, 1, 2, 3, 4, 5, 6, 7, 8, 1, 2, 3, 4, 5, 6, 7, 8, 1, 2, 3, 4, 5, 6, 7, 8, 1, 2, 3, 4, 5, 6, 7, 8, 1, 2, 3, 4, 5, 6, 7, 8, 1, 2, 3, 4, 5, 6, 7, 8, 1, 2, 3, 4, 5, 6, 7, 8, 1, 2, 3, 4, 5, 6, 7, 8, 1, 2, 3, 4, 5, 6, 7, 8, 1, 2, 3, 4, 5, 6, 7, 8, 1, 2, 3, 4, 5, 6, 7, 8, 1, 2, 3, 4, 5, 6, 7, 8, 1, 2, 3, 4, 5, 6, 7, 8, 1, 2, 3, 4, 5, 6, 7, 8, 1, 2, 3, 4, 5, 6, 7, 8, 1, 2, 3, 4, 5, 6, 7, 8, 1, 2, 3, 4, 5, 6, 7, 8, 1, 2, 3, 4, 5, 6, 7, 8, 1, 2, 3, 4, 5, 6, 7, 8, 1, 2, 3, 4, 5, 6, 7, 8, 1, 2, 3, 4, 5, 6, 7, 8, 1, 2, 3, 4, 5, 6, 7, 8, 1, 2, 3, 4, 5, 6, 7, 8, 1, 2, 3, 4, 5, 6, 7, 8, 1, 2, 3, 4, 5, 6, 7, 8, 1, 2, 3, 4, 5, 6, 7, 8, 1, 2, 3, 4, 5, 6, 7, 8, 1, 2, 3, 4, 5, 6, 7, 8, 1, 2, 3, 4, 5, 6, 7, 8, 1, 2, 3, 4, 5, 6, 7, 8, 1, 2, 3, 4, 5, 6, 7, 8, 1, 2, 3, 4, 5, 6, 7, 8, 1, 2, 3, 4, 5, 6, 7, 8, 1, 2, 3, 4, 5, 6, 7, 8, 1, 2, 3, 4, 5, 6, 7, 8, 1, 2, 3, 4, 5, 6, 7, 8, 1, 2, 3, 4, 5, 6, 7, 8, 1, 2, 3, 4, 5, 6, 7, 8, 1, 2, 3, 4, 5, 6, 7, 8, 1, 2, 3, 4, 5, 6, 7, 8, 1, 2, 3, 4, 5, 6, 7, 8, 1, 2, 3, 4, 5, 6, 7, 8, 1, 2, 3, 4, 5, 6, 7, 8, 1, 2, 3, 4, 5, 6, 7, 8, 1, 2, 3, 4, 5, 6, 7, 8, 1, 2, 3, 4, 5, 6, 7, 8, 1, 2, 3, 4, 5, 6, 7, 8, 1, 2, 3, 4, 5, 6, 7, 8, 1, 2, 3, 4, 5, 6, 7, 8, 1, 2, 3, 4, 5, 6, 7, 8, 1, 2, 3, 4, 5, 6, 7, 8, 1, 2, 3, 4, 5, 6, 7, 8, 1, 2, 3, 4, 5, 6, 7, 8, 1, 2, 3, 4, 5, 6, 7, 8, 1, 2, 3, 4, 5, 6, 7, 8, 1, 2, 3, 4, 5, 6, 7, 8, 1, 2, 3, 4, 5, 6, 7, 8, 1, 2, 3, 4, 5, 6, 7, 8, 1, 2, 3, 4, 5, 6, 7, 8, 1, 2, 3, 4, 5, 6, 7, 8, 1, 2, 3, 5, 6, 7, 8, 1, 2, 3, 4, 5, 6, 7, 8, 1, 2, 3, 4, 5, 6, 7, 8, 1, 2, 3, 4, 5, 6, 7, 8, 1, 2, 3, 4, 5, 6, 7, 8, 1, 2, 3, 4, 5, 6, 7, 8, 1, 2, 3, 4, 5, 6, 7, 8, 1, 2, 3, 4, 5, 6, 7, 8, 1, 2, 3, 4, 5, 6, 7, 8, 1, 2, 3, 4, 5, 6, 7, 8, 1, 2, 3, 4, 5, 6, 7, 8, 1, 2, 3, 4, 5, 6, 7, 8, 1, 2, 3, 4, 5, 6, 7, 8, 1, 2, 3, 4, 5, 6, 7, 8, 1, 2, 3, 4, 5, 6, 7, 8, 1, 2, 3, 4, 5, 6, 7, 8, 1, 2, 3, 4, 5, 6, 7, 8, 1, 2, 3, 4, 5, 6, 7, 8, 1, 2, 3, 4, 5, 6, 7, 8, 1, 2, 3, 4, 5, 6, 7, 8, 1, 2, 3, 4, 5, 6, 7, 8, 1, 2, 3, 4, 5, 6, 7, 8, 1, 2, 3, 4, 5, 6, 7, 8, 1, 2, 3, 4, 5, 6, 7, 8, 1, 2, 3, 4, 5, 6, 7, 8, 1, 2, 3, 4, 5, 6, 7, 8, 1, 2, 3, 4, 5, 6, 7, 8, 1, 2, 3, 4, 5, 6, 7, 8, 1, 2, 3, 4, 5, 6, 7, 8, 1, 2, 3, 4, 5, 6, 7, 8, 1, 2, 3, 4, 5, 6, 7, 8, 1, 2, 3, 4, 5, 6, 7, 8, 1, 2, 3, 4, 5, 6, 7, 8, 1, 2, 3, 4, 5, 6, 7, 8, 1, 2, 3, 4, 5, 6, 7, 8, 1, 2, 3, 4, 5, 6, 7, 8, 1, 2, 3, 4, 5, 6, 7, 8, 1, 2, 3, 4, 5, 6, 7, 8, 1, 2, 3, 4, 5, 6, 7, 8, 1, 2, 3, 4, 5, 6, 7, 8, 1, 2, 3, 4, 5, 6, 7, 8, 1, 2, 3, 4, 5, 6, 7, 8, 1, 2, 3, 4, 5, 6, 7, 8, 1, 2, 3, 4, 5, 6, 7, 8, 1, 2, 3, 4, 5, 6, 7, 8, 1, 2, 3, 4, 5, 6, 7, 8, 1, 2, 3, 4, 5, 6, 7, 8, 1, 2, 3, 4, 5, 6, 7, 8, 1, 2, 3, 4, 5, 6, 7, 8, 1, 2, 3, 4, 5, 6, 7, 8, 1, 2, 3, 4, 5, 6, 7, 8, 1, 2, 3, 4, 5, 6, 7, 8, 1, 2, 3, 4, 5, 6, 7, 8, 1, 2, 3, 4, 5, 6, 7, 8, 1, 2, 3, 4, 5, 6, 7, 8, 1, 2, 3, 4, 5, 6, 7, 8, 1, 2, 3, 4, 5, 6, 7, 8, 1, 2, 3, 4, 5, 6, 7, 8, 1, 2, 3, 4, 5, 6, 7, 8, 1, 2, 3, 4, 5, 6, 7, 8, 1, 2, 3, 4, 5, 6, 7, 8, 1, 2, 3, 4, 5, 6, 7, 8, 1, 2, 3, 4, 5, 6, 7, 8, 1, 2, 3, 4, 5, 6, 7, 8, 1, 2, 3, 4, 5, 6, 7, 8, 1, 2, 3, 4, 5, 6, 7, 8, 1, 2, 3, 4, 5, 6, 7, 8, 1, 2, 3, 4, 5, 6, 7, 8, 1, 2, 3, 4, 5, 6, 7, 8, 1, 2, 3, 4, 5, 6, 7, 8, 1, 2, 3, 4, 5, 6, 7, 8, 1, 2, 3, 4, 5, 6, 7, 8, 1, 2, 3, 4, 5, 6, 7, 8, 1, 2, 3, 4, 5, 6, 7, 8, 1, 2, 3, 4, 5, 6, 7, 8, 1, 2, 3, 4, 5, 6, 7, 8, 1, 2, 3, 4, 5, 6, 7, 8, 1, 2, 3, 4, 5, 6, 7, 8, 1, 2, 3, 4, 5, 6, 7, 8, 1, 2, 3, 4, 5, 6, 7, 8], \"Freq\": [0.0043141219404613206, 0.007703789179395216, 0.034512975523690564, 0.030198853583229244, 0.9050411527953499, 0.008628243880922641, 0.009244547015274258, 0.0006163031343516172, 0.02150971273923955, 0.490953649532746, 0.005100241164974326, 0.001108748079342245, 0.2680952855849548, 0.1960266604277089, 0.005987239628448122, 0.011309230409290898, 0.09359073492245097, 0.00764478775356654, 0.05629343709444452, 0.045405406051486116, 0.016216216446959326, 0.3342857190423187, 0.43969112594755433, 0.006949807048696854, 0.02907196576689977, 0.004070075207365968, 0.017443179460139863, 0.004070075207365968, 0.09477460840009326, 0.8343654175100235, 0.009884468360745923, 0.005814393153379955, 0.12847503611097952, 0.004046457830267072, 0.001011614457566768, 0.001011614457566768, 0.006069686745400608, 0.8507677588136519, 0.008092915660534144, 0.002023228915133536, 0.025834706375611454, 0.05054616464793545, 0.0011232481032874544, 0.08985984826299635, 0.007862736723012182, 0.80312239385053, 0.01684872154931182, 0.004492992413149818, 0.04447156540895466, 0.04581918860316541, 0.017519101524739716, 0.012128608747896726, 0.08355263804106633, 0.7506261191753862, 0.021561971107371958, 0.024257217495793452, 0.9899952685416425, 0.00432942537263109, 0.0024052363181283833, 0.00048104726362567664, 0.0019241890545027066, 0.00048104726362567664, 0.00048104726362567664, 0.00048104726362567664, 0.01799431044891415, 0.08935810984290321, 0.0032716928088934814, 0.00040896160111168517, 0.009815078426680444, 0.35354730416105185, 0.18055654689080902, 0.3451635913382623, 0.0460977304902413, 0.004268308378726046, 0.0028455389191506977, 0.005691077838301395, 0.01252037124426307, 0.0005691077838301395, 0.9270765798592973, 0.001138215567660279, 0.020328852518614236, 0.007392310006768813, 0.07207502256599592, 0.8667483482936433, 0.010626445634730168, 0.0027721162525383048, 0.006468271255922711, 0.013398561887268474, 0.0038370239923389846, 0.006260407566447817, 0.011511071977016955, 0.9261364225719254, 0.0296864487828332, 0.01878122269934345, 0.0014136404182301522, 0.0024233835741088324, 0.05058788407331716, 0.04725699458700821, 0.03247617249151225, 0.395126765313399, 0.1971470214709109, 0.09930214281058554, 0.09826123984611398, 0.07973316707852046, 0.0009928337188785292, 0.0019856674377570585, 0.003971334875514117, 0.0019856674377570585, 0.8111451483237584, 0.003971334875514117, 0.17374590080374264, 0.0019856674377570585, 0.0034519961986731805, 0.0004931423140961686, 0.0004931423140961686, 0.002465711570480843, 0.021698261820231417, 0.0004931423140961686, 0.970997216455356, 0.0004931423140961686, 0.28525292017823345, 0.07223595205992234, 0.0337452622761681, 0.337452622761681, 0.22514417174880905, 0.0015818091691953797, 0.029527104491647086, 0.014236282522758418, 0.025837444685682342, 0.724371217080737, 0.0027682976448945365, 0.0027682976448945365, 0.2196182798282999, 0.0009227658816315121, 0.017532551750998732, 0.007382127053052097, 0.0057098766841722996, 0.0019032922280574334, 0.0028549383420861498, 0.0009516461140287167, 0.0009516461140287167, 0.0009516461140287167, 0.0019032922280574334, 0.9849537280197217, 0.026792453852323758, 0.3093390178439864, 0.038174868887624704, 0.006917006059913649, 0.5277062724442984, 0.06137748415189201, 0.01234554246136487, 0.01742385070788375, 0.18786816399323755, 0.4815186495094605, 0.04754783705352344, 0.03283433698810088, 0.15828628491433536, 0.002632942116970353, 0.05018077917049379, 0.03918437385844114, 0.2025348872192356, 0.0015343552062063305, 0.051017310606360486, 0.0007671776031031652, 0.003835888015515826, 0.0015343552062063305, 0.040660412964467756, 0.698515207625432, 0.7554776561084247, 0.021234330255133587, 0.08692803948195311, 0.0029860776921281605, 0.09986770948117515, 0.0016589320511823115, 0.022893262306315897, 0.00862644666614802, 0.03844694797768982, 0.008094094311092594, 0.18919945452178938, 0.361198958632507, 0.01214114146663889, 0.011129379677752316, 0.35917543505473387, 0.020235235777731484, 0.21408299009023868, 0.04069346092624372, 0.06605315396723618, 0.017397928946727387, 0.14950423688119974, 0.006782243487707286, 0.49657817536082915, 0.008846404549183416, 0.0013737104578342312, 0.08819221139295765, 0.004670615556636386, 0.23902561966315622, 0.4101899427093014, 0.24177304057882468, 0.01098968366267385, 0.004121131373502693, 0.9862415261313577, 0.0010198981655960267, 0.0010198981655960267, 0.0010198981655960267, 0.004079592662384107, 0.0010198981655960267, 0.0010198981655960267, 0.00611938899357616, 0.008215566287376151, 0.873417390926677, 0.08061524419487848, 0.004107783143688076, 0.004107783143688076, 0.0005134728929610094, 0.011809876538103217, 0.01797155125363533, 0.15064803771881782, 0.06653621665914454, 0.04519441131564535, 0.6051029515039182, 0.047705211944292315, 0.00627700157161741, 0.040172810058351424, 0.038917409744027937, 0.07986432622627967, 0.0010940318661134202, 0.898200162079118, 0.0010940318661134202, 0.017504509857814723, 0.0010940318661134202, 0.0010940318661134202, 0.0010940318661134202, 0.5220539216673065, 0.008220355523315988, 0.40377895563034205, 0.0014723024817879383, 0.03337218958719326, 0.019998775377619495, 0.0018403781022349227, 0.009324582384656941, 0.006655054537223295, 0.5340681266121694, 0.028283981783199002, 0.012200933318242707, 0.023292690880281533, 0.0061004666591213536, 0.002772939390509706, 0.386547751037053, 0.0007788573160151639, 0.0038942865800758197, 0.0031154292640606556, 0.0007788573160151639, 0.9852545047591824, 0.0007788573160151639, 0.002336571948045492, 0.004673143896090984, 0.02581037987887488, 0.0215086498990624, 0.01505605492934368, 0.0860345995962496, 0.11722214194989009, 0.5689037898302005, 0.00430172997981248, 0.161314874242968, 0.021236713562807968, 0.08902681399975163, 0.26498815494873196, 0.06318706892579316, 0.2103794629300829, 0.32712908034926363, 0.01767982557691895, 0.0063814755040950055, 0.0019976295545329594, 0.002996444331799439, 0.05193836841785694, 0.0019976295545329594, 0.010986962549931277, 0.0009988147772664797, 0.9288977428578261, 0.0009988147772664797, 0.18680741648545482, 0.004393401140297621, 0.5192121467603728, 0.003690456957850001, 0.20947736636939054, 0.07055802231317979, 0.002372436615760715, 0.003514720912238096, 0.3986858053996334, 0.01640504667589179, 0.5057503205475588, 0.000647567631943097, 0.07425442179614179, 0.00043171175462873134, 0.002590270527772388, 0.001295135263886194, 0.010845478961001048, 0.00332004457989828, 0.006197416549143456, 0.00221336305326552, 0.9696743536356244, 0.00221336305326552, 0.00221336305326552, 0.00332004457989828, 0.28567080758948504, 0.028817669186658578, 0.21393987015747618, 0.01158971478159095, 0.1284265692014132, 0.017854425474342815, 0.003758826415651119, 0.3097899437565797, 0.06038289429880895, 0.0009584586396636342, 0.0364214283072181, 0.7878530018035073, 0.009584586396636341, 0.0009584586396636342, 0.10351353308367249, 0.0009584586396636342, 0.12356916686156501, 0.8096433755101314, 0.04321130374913623, 0.0007580930482304601, 0.007959977006419832, 0.0007580930482304601, 0.011371395723456903, 0.0030323721929218406, 0.9900347235998949, 0.0013360792491226652, 0.0013360792491226652, 0.0013360792491226652, 0.0026721584982453304, 0.0013360792491226652, 0.0013360792491226652, 0.0013360792491226652, 0.4756081496963128, 0.05467946189567154, 0.09929996617846011, 0.14546800240169222, 0.08150334886335947, 0.0242446670669487, 0.1106485337417127, 0.00876934766251336, 0.023097614515437213, 0.0009624006048098838, 0.0009624006048098838, 0.0009624006048098838, 0.0009624006048098838, 0.9739494120676024, 0.0009624006048098838, 0.0009624006048098838, 0.0020928629640314064, 0.004447333798566738, 0.9865232796703042, 0.0018312550935274804, 0.003924118057558887, 0.0002616078705039258, 0.0007848236115117773, 0.0002616078705039258, 0.06002578817167798, 0.06574252990231398, 0.017150225191907995, 0.02715452322052099, 0.06145497360433698, 0.6545669281578218, 0.10575972201676596, 0.005716741730635998, 0.8966755032139797, 0.009438689507515575, 0.03708056592238262, 0.0033709605383984197, 0.02899026063022641, 0.000674192107679684, 0.006741921076796839, 0.016854802691992098, 0.46688121827731427, 0.007198609092381497, 0.0075414000015425215, 0.002056745454966142, 0.04833351819170434, 0.001028372727483071, 0.0037707000007712608, 0.46311051827654304, 0.048074370038521407, 0.8418519455600618, 0.017615036349992577, 0.00036697992395817865, 0.001100939771874536, 0.00036697992395817865, 0.06458846661663944, 0.026422554524988862, 0.0010438869288423975, 0.8862600025871954, 0.09708148438234296, 0.0010438869288423975, 0.002087773857684795, 0.0010438869288423975, 0.006263321573054384, 0.00417554771536959, 0.0012476607595424934, 0.0012476607595424934, 0.0012476607595424934, 0.0012476607595424934, 0.0012476607595424934, 0.0012476607595424934, 0.9956332861149098, 0.04862692889284427, 0.001186022655923031, 0.046254883580998205, 0.14469476402260978, 0.1494388546463019, 0.05811511014022852, 0.010674203903307278, 0.5408263311009022, 0.9733855010504731, 0.0015209148453913643, 0.0015209148453913643, 0.0015209148453913643, 0.011406861340435231, 0.0015209148453913643, 0.0015209148453913643, 0.007604574226956821, 0.0003870516136137933, 0.015482064544551732, 0.0007741032272275866, 0.0003870516136137933, 0.0003870516136137933, 0.0003870516136137933, 0.0007741032272275866, 0.9819499437381937, 0.0323381737277691, 0.07761161694664584, 0.017639003851510418, 0.14111203081208334, 0.1563991674833924, 0.04938921078422917, 0.016463070261409724, 0.5091792445136007, 0.0014146778693901792, 0.0014146778693901792, 0.0014146778693901792, 0.0014146778693901792, 0.0014146778693901792, 0.0014146778693901792, 0.994518542181296, 0.0014146778693901792, 0.0022174512342625903, 0.8648059813624102, 0.08537187251910973, 0.0011087256171312951, 0.004434902468525181, 0.0011087256171312951, 0.02439196357688849, 0.016630884256969427, 0.04755257979957102, 0.4502318725704064, 0.005058785085060746, 0.37232658226047094, 0.010117570170121493, 0.0010117570170121493, 0.09712867363316632, 0.01618811227219439, 0.01277522913010555, 0.060514243247868395, 0.8330794153789882, 0.004034282883191226, 0.05647996036467717, 0.0073961852858505815, 0.0073961852858505815, 0.01815427297436052, 0.0038311379438327746, 0.019155689719163874, 0.9296894743700866, 0.0012770459812775916, 0.021709781681719057, 0.0012770459812775916, 0.020432735700441466, 0.002554091962555183, 0.13322040509751837, 0.009705347071238884, 0.0007465651593260681, 0.002820357268565146, 0.011613235811738837, 0.7999030923756971, 0.03027736479489054, 0.0116961874961084, 0.06262439205420216, 0.8024413625928276, 0.09128301214680314, 0.016982885980800586, 0.006368582242800219, 0.0021228607476000733, 0.005307151869000183, 0.014860025233200512, 0.05345705274505807, 0.03152312801048785, 0.047394912743041175, 0.08266554548204856, 0.021465486643505276, 0.6229399955708905, 0.10148573467012828, 0.039073247831181615, 0.039856537751992716, 0.0013984750088418497, 0.0013984750088418497, 0.0006992375044209249, 0.056638237858094916, 0.02027788762820682, 0.0034961875221046243, 0.8775430680482608, 0.0010141987636910512, 0.03771551652476096, 0.004246957322956276, 0.00038032453638414416, 0.007860040418605647, 0.0015212981455365766, 0.01001521279144913, 0.9373098199187233, 0.028234516172771933, 0.1283009631968607, 0.8104966995478061, 0.0037369212581609915, 0.02262913428553045, 0.001245640419386997, 0.003944527994725491, 0.0014532471559514967, 0.9666422606622195, 0.0011213947339468904, 0.024670684146831587, 0.0011213947339468904, 0.0011213947339468904, 0.0011213947339468904, 0.0011213947339468904, 0.003364184201840671, 0.03289801466493847, 0.041300758348707584, 0.15420307802698713, 0.050722016418388104, 0.22157780465502674, 0.3611142755248896, 0.13495315613326153, 0.0032592460349165045, 0.002487601864613875, 0.0014214867797793572, 0.9911316572011568, 0.0017768584747241965, 0.0010661150848345177, 0.0010661150848345177, 0.0003553716949448393, 0.0007107433898896786, 0.01006125841906209, 0.004573299281391859, 0.0010975918275340463, 0.004756231252647534, 0.0016463877413010694, 0.9675271959712617, 0.008049006735249673, 0.002378115626323767, 0.029072572994504, 0.0048454288324173336, 0.06008331752197494, 0.47679019710986564, 0.09400131934889627, 0.1511773795714208, 0.11144486314559868, 0.07365051825274348, 0.0007863702135322688, 0.0007863702135322688, 0.0007863702135322688, 0.0007863702135322688, 0.9963310605453846, 0.0007863702135322688, 0.0007863702135322688, 0.0007863702135322688, 0.0029690264276878557, 0.11381267972803447, 0.001979350951791904, 0.000989675475895952, 0.17220353280589562, 0.001979350951791904, 0.01682448309023118, 0.6888141312235825, 0.01050922846733012, 0.033426943558736766, 0.03469311566323437, 0.005824391680688982, 0.007976884258334909, 0.20486664650771244, 0.6468873281878262, 0.05571157259789461, 0.0006716339173686793, 0.0006716339173686793, 0.0006716339173686793, 0.0006716339173686793, 0.0006716339173686793, 0.9973763672924888, 0.0006716339173686793, 0.000992883455171077, 0.000992883455171077, 0.000992883455171077, 0.000992883455171077, 0.000992883455171077, 0.000992883455171077, 0.000992883455171077, 0.9958621055365903, 0.09197323551398706, 0.0840692855870038, 0.7925506154056854, 0.0014370818049060478, 0.02514893158585584, 0.0007185409024530239, 0.0035927045122651196, 0.0014370818049060478, 0.04694522897078226, 0.8779581418044542, 0.052710432528597626, 0.0008236005082593379, 0.00411800254129669, 0.0008236005082593379, 0.006588804066074703, 0.009883206099112054, 0.002922394452870623, 0.045297114019494655, 0.7495941771613148, 0.02191795839652967, 0.0043835916793059345, 0.0073059861321765575, 0.035068733434447476, 0.13150775037917803, 0.01354892973192565, 0.006417914083543729, 0.04617332632327294, 0.17096610016995656, 0.05704812518705537, 0.0033872324329814124, 0.5875956894266703, 0.11480935193894892, 0.038503064285497095, 0.10744188414905381, 0.0634383821084857, 0.5757124850307661, 0.15327886544131225, 0.005500437755071014, 0.019068184217579515, 0.037402976734482896, 0.0023329539972305495, 0.011664769986152746, 0.047825556943226266, 0.0011664769986152747, 0.9296821678963739, 0.0011664769986152747, 0.006998861991691648, 0.0011664769986152747, 0.5680006343378273, 0.03728781142685377, 0.06142273046683789, 0.01672843594834878, 0.021453261368874772, 0.0008938858903697822, 0.02451801299299974, 0.26969814292299715, 0.071907054654483, 0.04706643577384342, 0.24709878781267794, 0.40137210507138693, 0.2013397530325524, 0.020918415899485964, 0.003922202981153618, 0.005229603974871491, 0.004622593908265392, 0.001849037563306157, 0.11464032892498173, 0.0009245187816530785, 0.002311296954132696, 0.0009245187816530785, 0.8736702486621591, 0.00046225939082653923, 0.0026268712800348675, 0.0026268712800348675, 0.9863901656530928, 0.0013134356400174337, 0.0013134356400174337, 0.0013134356400174337, 0.003940306920052301, 0.0013134356400174337, 0.12944135115760944, 0.016797732592972216, 0.015809630675738557, 0.5859444369195602, 0.0059286115034019584, 0.14327477799888066, 0.07213143995805715, 0.030631159434243452, 0.3751880665651384, 0.0028640310424819723, 0.0009546770141606575, 0.0009546770141606575, 0.00381870805664263, 0.593809102807929, 0.012410801184088547, 0.010501447155767233, 0.9886894398796361, 0.0030562270166294776, 0.0015281135083147388, 0.0015281135083147388, 0.0015281135083147388, 0.0015281135083147388, 0.0015281135083147388, 0.0015281135083147388, 0.0062951472201478505, 0.02832816249066533, 0.00209838240671595, 0.001049191203357975, 0.9547639950557574, 0.00209838240671595, 0.0031475736100739253, 0.001049191203357975, 0.0001663018163598223, 0.9903273164227417, 0.008481392634350937, 0.0001663018163598223, 0.0001663018163598223, 0.0001663018163598223, 0.0004989054490794669, 0.0001663018163598223, 0.001433981165211315, 0.00286796233042263, 0.007886896408662233, 0.0007169905826056575, 0.9851450605001735, 0.0007169905826056575, 0.0007169905826056575, 0.0007169905826056575, 0.9785452248273296, 0.0026491918100232273, 0.009272171335081295, 0.0003311489762529034, 0.0026491918100232273, 0.0003311489762529034, 0.0026491918100232273, 0.0039737877150348416, 0.003097102770785028, 0.6164783065247599, 0.013782107329993375, 0.0003097102770785028, 0.01099471483628685, 0.0994169989421994, 0.15284202173824113, 0.10313352226714144, 0.22797541453035777, 0.7075099071631793, 0.003275508829459163, 0.0006551017658918326, 0.0026204070635673306, 0.0006551017658918326, 0.05437344656902211, 0.0026204070635673306, 0.01011077159870481, 0.35910279801692035, 0.002953708556925001, 0.004657771185920194, 0.09355303833183609, 0.4691852438500098, 0.03959105508032165, 0.020846366161374526, 0.0012482676832620025, 0.00499307073304801, 0.002496535366524005, 0.01997228293219204, 0.9699039898945758, 0.0012482676832620025, 0.0012482676832620025, 0.0012482676832620025, 0.0012815271310972457, 0.991901999469268, 0.0012815271310972457, 0.0025630542621944913, 0.0012815271310972457, 0.0012815271310972457, 0.0012815271310972457, 0.0012815271310972457, 0.042315566612718444, 0.15670994240979216, 0.4187558824426816, 0.03261016142631513, 0.11102983533245389, 0.09368951139941331, 0.12979361869283362, 0.015140432090789168, 0.017209119487420318, 0.0383895742411684, 0.1270827285224885, 0.005295113688437021, 0.11649250114561445, 0.003971335266327766, 0.6870410010747035, 0.003971335266327766, 0.006093380889765257, 0.048747047118122055, 0.8032183900145111, 0.002215774869005548, 0.02381957984180964, 0.00941704319327358, 0.1019256439742552, 0.004431549738011096, 0.011572610915298615, 0.0004451004198191775, 0.00890200839638355, 0.0013353012594575326, 0.9747699194039988, 0.0004451004198191775, 0.0022255020990958876, 0.000890200839638355, 0.0025985576871023707, 0.007610061797942657, 0.0024129464237379154, 0.0009280563168222751, 0.0027841689504668255, 0.9735310763465667, 0.009094951904858296, 0.0009280563168222751, 0.18126702694645205, 0.0022800883892635476, 0.044461723590639185, 0.4765384733560815, 0.13452521496654932, 0.03306128164432144, 0.11856459624170448, 0.007980309362422418, 0.008731751066888864, 0.155924126194444, 0.04407455300429617, 0.7168351828245906, 0.04241136232488877, 0.002494786019111104, 0.02453206252125919, 0.004573774368370358, 0.0832334072859166, 0.014475375180159409, 0.11631997912628096, 0.21868156075740822, 0.23108902519754485, 0.15716121624173074, 0.1636234373043019, 0.015509330550170796, 0.007414631137135685, 0.028599291528951926, 0.048724718901177355, 0.03389545662690599, 0.03919162172486005, 0.0021184660391816244, 0.839971784535514, 0.0010592330195908122, 0.0025940818014301547, 0.04362773938768896, 0.05471154344834508, 0.43722069635013694, 0.4214203799232442, 0.01721527013676375, 0.020516828793129403, 0.002829907419741987, 0.020131664220477317, 0.028269996564925595, 0.020559997501764068, 0.0008566665625735028, 0.8146899010074012, 0.03555166234680037, 0.03383832922165336, 0.0458316610976824, 0.05029809354766601, 0.006657100616602854, 0.008136456309181266, 0.009615812001759679, 0.00369838923144603, 0.6945574976655644, 0.21376689757758052, 0.013314201233205708, 0.0008196945771098681, 0.9951092166113799, 0.0008196945771098681, 0.0008196945771098681, 0.0008196945771098681, 0.0008196945771098681, 0.0008196945771098681, 0.0008196945771098681, 0.9278629972267396, 0.026219048587254806, 0.013109524293627403, 0.0007283069052015224, 0.005826455241612179, 0.0014566138104030448, 0.0014566138104030448, 0.025490741682053286, 0.5123193106845434, 0.01781242636485995, 0.14334762169815865, 0.03859359045719656, 0.18278942293463427, 0.0036048958119359424, 0.09648397614299141, 0.004877211980854511, 0.0024920145876580427, 0.001661343058438695, 0.007476043762974128, 0.0008306715292193475, 0.0008306715292193475, 0.0008306715292193475, 0.001661343058438695, 0.9843457621249269, 0.006350147526682362, 0.001058357921113727, 0.001058357921113727, 0.001058357921113727, 0.001058357921113727, 0.9789810770301975, 0.009525221290023544, 0.002116715842227454, 0.6659891629796355, 0.00663864795633608, 0.29608369885258917, 0.0002655459182534432, 0.02841341325311842, 0.0002655459182534432, 0.0002655459182534432, 0.0018588214277741022, 0.027116811122595518, 0.5431836227994914, 0.35336594494132284, 0.040675216683893275, 0.011016204518554428, 0.0016948006951622199, 0.014405805908878869, 0.00932140382339221, 0.05069172653119847, 0.0026679856069051822, 0.026679856069051825, 0.1213933451141858, 0.08003956820715546, 0.006669964017262956, 0.7056821930264208, 0.0053359712138103645, 0.0030669138883052506, 0.07667284720763128, 0.12881038330882053, 0.0010223046294350836, 0.0010223046294350836, 0.0010223046294350836, 0.7881968692944494, 0.0010223046294350836, 0.04758899562868137, 0.0009517799125736275, 0.9470210130107594, 0.0009517799125736275, 0.001903559825147255, 0.0009517799125736275, 0.0009517799125736275, 0.0009517799125736275, 0.22531170576719486, 0.0072099745845502355, 0.7378207324856407, 0.0030041560768959315, 0.019827430107513148, 0.0030041560768959315, 0.0012016624307583726, 0.0030041560768959315, 0.09449598116798429, 0.004385889421298849, 0.07735114070290697, 0.024720467647320783, 0.5107567589712568, 0.006778192742007311, 0.27950077130277207, 0.002392303320708463, 0.019045285235640235, 0.0709272691534188, 0.2467677905962696, 0.04613556164840436, 0.11197314250609174, 0.40799598112556884, 0.04367280924724399, 0.053688002345296186, 0.9024311990765113, 0.043905709535908104, 0.011483031724775966, 0.0006754724543985862, 0.0020264173631957586, 0.0006754724543985862, 0.03107173290233497, 0.008105669452783034, 0.09646507681269459, 0.018226120503781005, 0.8579612822511546, 0.000889079048964927, 0.02400513432205303, 0.0004445395244824635, 0.0013336185734473907, 0.0004445395244824635, 0.015121626795617677, 0.0032403485990609307, 0.9537426043236006, 0.001080116199686977, 0.022682440193426516, 0.001080116199686977, 0.002160232399373954, 0.001080116199686977, 0.15880223683168143, 0.011525968802299459, 0.028814922005748644, 0.06339282841264703, 0.036498901207281616, 0.08132211321622396, 0.6019117041200828, 0.017288953203449187, 0.11220492760675603, 0.013175578620490291, 0.14468849701672057, 0.005160940934293433, 0.021372367163191627, 0.5120867745862449, 0.010868334438100287, 0.18045078184376565, 0.0008753756208950428, 0.0017507512417900856, 0.012255258692530599, 0.0008753756208950428, 0.9830468222651331, 0.0008753756208950428, 0.0008753756208950428, 0.0008753756208950428, 0.0028477026643835123, 0.0009492342214611708, 0.9596757978972437, 0.0009492342214611708, 0.004746171107305854, 0.0009492342214611708, 0.027527792422373954, 0.0009492342214611708, 0.004151008818571871, 0.05739666514568513, 0.0035872915716053206, 0.8870176292722757, 0.0020157162164258467, 0.0305603077219139, 0.002921080279735761, 0.012367614751629773, 0.006050696311361097, 0.8797712436719035, 0.06655765942497208, 0.0012101392622722194, 0.0012101392622722194, 0.009681114098177755, 0.030253481556805486, 0.006050696311361097, 0.004261059884296003, 0.9672605937351927, 0.019174769479332013, 0.0007101766473826672, 0.0007101766473826672, 0.0007101766473826672, 0.0007101766473826672, 0.007101766473826672, 0.9841670459601309, 0.0010651158506062024, 0.0053255792530310115, 0.0007988368879546517, 0.001863952738560854, 0.0026627896265155057, 0.0029290685891670562, 0.0013313948132577529, 0.3687093771648118, 0.002880542009100092, 0.008641626027300276, 0.13682574543225437, 0.005761084018200184, 0.004320813013650138, 0.10802032534125346, 0.3629482931466116, 0.9344931585579376, 0.0023628145601970606, 0.005907036400492652, 0.0011814072800985303, 0.03662362568305444, 0.004725629120394121, 0.0023628145601970606, 0.012995480081083834, 0.9184219644117704, 0.001429450528267347, 0.0007147252641336735, 0.0007147252641336735, 0.033592087414282656, 0.0007147252641336735, 0.0007147252641336735, 0.04431296637628775, 0.006730290524587148, 0.2584431561441465, 0.06259170187866048, 0.014806639154091725, 0.15345062396058698, 0.006057261472128433, 0.032978423570477026, 0.46506307524897195, 0.9916644735893362, 0.0014561886543162058, 0.0014561886543162058, 0.0014561886543162058, 0.0014561886543162058, 0.0014561886543162058, 0.0014561886543162058, 0.0014561886543162058, 0.0128674703547887, 0.033888585290829644, 0.09096409735959538, 0.5009395389606849, 0.07057998590646475, 0.03656399991905304, 0.20040129572359036, 0.05389049465421406, 0.003917264518340905, 0.12230570329486602, 0.05875896777511357, 0.0004352516131489894, 0.782582400441883, 0.0013057548394469682, 0.020021574204853513, 0.010010787102426756, 0.0009450456037027986, 0.05953787303327632, 0.8392004960880852, 0.006615319225919591, 0.07843878510733229, 0.002835136811108396, 0.007560364829622389, 0.004725228018513993, 0.040085118587308864, 0.010392438152265262, 0.12916315989243968, 0.6101845829401461, 0.10837828358790916, 0.007423170108760901, 0.09056267532688299, 0.0029692680435043604, 0.0009584532747946497, 0.0009584532747946497, 0.9622870878938283, 0.004792266373973248, 0.012459892572330445, 0.005750719648767898, 0.009584532747946496, 0.002875359824383949, 0.042772981655208805, 0.004752553517245422, 0.04455518922417584, 0.8388256957938172, 0.02495090596553847, 0.015445798931047625, 0.023762767586227113, 0.004752553517245422, 0.07688606888386776, 0.014911013359094663, 0.12380211091694973, 0.41528837206570346, 0.017575015745831177, 0.1196951072373976, 0.10615309510482031, 0.12565211257440564, 0.9917597464714546, 0.0014510018236597727, 0.0036275045591494318, 0.0007255009118298864, 0.0014510018236597727, 0.0007255009118298864, 0.0007255009118298864, 0.0007255009118298864, 0.07929564012330206, 0.0020959200032590855, 0.0010479600016295428, 0.00034932000054318087, 0.8893687213829385, 0.02340444003639312, 0.00034932000054318087, 0.0034932000054318088, 0.992798514170346, 0.0020427952966468026, 0.0006809317655489342, 0.0006809317655489342, 0.0006809317655489342, 0.0006809317655489342, 0.0020427952966468026, 0.0006809317655489342, 0.9520455126757573, 0.0006083357908471293, 0.0012166715816942586, 0.0006083357908471293, 0.009733372653554069, 0.001825007372541388, 0.001825007372541388, 0.032241796914897855, 0.07097606294951685, 0.010855162568749636, 0.703080529452861, 0.003340050021153734, 0.1995679887639356, 0.001670025010576867, 0.0025050375158653005, 0.008350125052884336, 0.29139119993676393, 0.003612287602521867, 0.013245054542580178, 0.007224575205043734, 0.04214335536275511, 0.001204095867507289, 0.6381708097788632, 0.003612287602521867, 0.07542535792958675, 0.07192881815801651, 0.7637441872472724, 0.0014985170449586772, 0.06693376134148758, 0.0019980227266115694, 0.01048961931471074, 0.00849159658809917, 0.03336516254642531, 0.015570409188331812, 0.07562770177189737, 0.15904060813796067, 0.6217041954483916, 0.04559905548011459, 0.006673032509285063, 0.04115036714059122, 0.041218826606226285, 0.008677647706573956, 0.01735529541314791, 0.004338823853286978, 0.6218980856378001, 0.2104329568844184, 0.09111530091902653, 0.004338823853286978, 0.12441489790254862, 0.001777355684322123, 0.002962259473870205, 0.000592451894774041, 0.031399950423024174, 0.05569047810875986, 0.0077018746320625334, 0.7755195302592197, 0.8049062839883415, 0.0005931512778101265, 0.0017794538334303792, 0.001482878194525316, 0.03677537922422784, 0.001186302555620253, 0.03232674464065189, 0.1210028606732658, 0.0007921102520117185, 0.9948904765267184, 0.0023763307560351553, 0.0007921102520117185, 0.0007921102520117185, 0.0007921102520117185, 0.0007921102520117185, 0.0007921102520117185, 0.001137788555940327, 0.8704082452943502, 0.12288116404155532, 0.001137788555940327, 0.003413365667820981, 0.001137788555940327, 0.001137788555940327, 0.001137788555940327, 0.07507222149259694, 0.0017945550954405645, 0.6953900994832187, 0.014356440763524516, 0.033498361781557205, 0.005084572770414932, 0.10707512069462034, 0.06789400111083468, 0.13347235034621993, 0.01385212559364261, 0.7793438885395189, 0.0006472955884879724, 0.06990792355670103, 0.0009062138238831615, 0.0011651320592783504, 0.000776754706185567, 0.8240435052228609, 0.004525225179697204, 0.02126855834457686, 0.0018100900718788816, 0.14254459316046192, 0.0004525225179697204, 0.002262612589848602, 0.0036201801437577633, 0.145446065132846, 0.01581682977803999, 0.8090652275593064, 0.00068768825121913, 0.02338140054145042, 0.00206306475365739, 0.003094597130486085, 0.00068768825121913, 0.8227019490876297, 0.001427475909348114, 0.012371457881016987, 0.000475825303116038, 0.0613814641019689, 0.06566389183001324, 0.017129710912177368, 0.018557186821525483, 0.9402258884767519, 0.0005988699926603516, 0.004192089948622461, 0.0029943499633017577, 0.019762709757791604, 0.0029943499633017577, 0.023355929713753713, 0.005389829933943165, 0.005996300922811501, 0.7032461722273328, 0.08994451384217252, 0.00023985203691246005, 0.0011992601845623, 0.018468606842259424, 0.1705347982447591, 0.010553489624148241, 0.4386286634975742, 0.1343811346839209, 0.09041026971845884, 0.005399930785232183, 0.09349594445287722, 0.12435269179706113, 0.010645577833743446, 0.1027529686561324, 0.19767956791807664, 0.018962068865043324, 0.17776939560978114, 0.00047405172162608307, 0.6034678416300038, 0.00047405172162608307, 0.00047405172162608307, 0.0009481034432521661, 0.006493856998774478, 0.5130147029031837, 0.11786350452775678, 0.25196165155244976, 0.04383353474172773, 0.0016234642496936195, 0.06234102718823499, 0.003246928499387239, 0.0007662126884376199, 0.0024518806030003836, 0.0009194552261251439, 0.00015324253768752397, 0.00030648507537504795, 0.00015324253768752397, 0.9940843419789681, 0.0012259403015001918, 0.008032608366816844, 0.05756239421341759, 0.008310553293004279, 0.5649508569685785, 0.02048454106001389, 0.28336485224808905, 0.009450127490372759, 0.0478343217968574, 0.9918486484451647, 0.0010529178858228925, 0.0010529178858228925, 0.0010529178858228925, 0.002105835771645785, 0.0010529178858228925, 0.002105835771645785, 0.0010529178858228925, 0.9436631904673553, 0.0010614884032253715, 0.0010614884032253715, 0.0010614884032253715, 0.009553395629028343, 0.0010614884032253715, 0.0010614884032253715, 0.04352102453224023, 0.0016094287097210488, 0.009656572258326293, 0.9591045518001936, 0.008162102742156747, 0.01620924629076199, 0.0018393470968240558, 0.002873979838787587, 0.0005747959677575174, 0.020078028327765292, 0.044737620166564275, 0.7997523364113222, 0.04460286829859269, 0.026680869858372668, 0.0044468116430621115, 0.057943303227779026, 0.0017517742836305288, 0.9776948951950989, 0.0007680242695955214, 0.0015360485391910429, 0.0007680242695955214, 0.0015360485391910429, 0.0015360485391910429, 0.009984315504741778, 0.0061441941567641715, 0.003587180148788318, 0.9374497455500138, 0.0131529938788905, 0.0011957267162627729, 0.0023914534325255457, 0.0011957267162627729, 0.027501714474043773, 0.015544447311416045, 0.010807511812475606, 0.002401669291661246, 0.001200834645830623, 0.001200834645830623, 0.001200834645830623, 0.6376431969360608, 0.10567344883309482, 0.24256859845778583, 0.9260050809280536, 0.006209589813432044, 0.004657192360074033, 0.0007761987266790055, 0.020181166893654144, 0.0023285961800370166, 0.03415274397387624, 0.006209589813432044, 0.03923222209758675, 0.1650458998588132, 0.7589405723015918, 0.0013528352447443705, 0.02164536391590993, 0.0013528352447443705, 0.012175517202699335, 0.0013528352447443705, 0.9509137177050361, 0.009335758799348181, 0.010669438627826492, 0.0013336798284783115, 0.020005197427174673, 0.004001039485434935, 0.002667359656956623, 0.0013336798284783115, 0.15337063478973484, 0.0006877606941243715, 0.0006877606941243715, 0.0006877606941243715, 0.001375521388248743, 0.0006877606941243715, 0.8425068503023552, 0.0006877606941243715, 0.0007378293090784181, 0.29955869948583774, 0.018445732726960453, 0.0007378293090784181, 0.0007378293090784181, 0.0014756586181568362, 0.005902634472627345, 0.6736381591885957, 0.3010759150198204, 0.06690575889329342, 0.020908049654154194, 0.016726439723323355, 0.12405442794798155, 0.009757089838605291, 0.006969349884718065, 0.4530077425066742, 0.15212394823160688, 0.780523809150955, 0.036964697701138124, 0.0014217191423514662, 0.018482348850569062, 0.0014217191423514662, 0.005686876569405865, 0.0014217191423514662, 0.024435890890059608, 0.38345551858247384, 0.023308080541287624, 0.0003759367829239939, 0.0007518735658479878, 0.0030074942633919514, 0.5567623755104351, 0.008270609224327867, 0.03599571892799682, 0.8588390323310614, 0.08363711162681614, 0.00011763306839214647, 0.0011763306839214648, 0.005293488077646591, 0.008587213992626692, 0.006234552624783763, 0.04657602263524316, 0.08035643465640853, 0.1013412360634961, 0.14996455639699172, 0.1576419227654384, 0.41406595947155733, 0.0440169005124276, 0.006653717519320451, 0.45525140630298455, 0.001323405250880769, 0.003970215752642307, 0.001323405250880769, 0.003970215752642307, 0.5028939953346923, 0.009263836756165383, 0.021174484014092304, 0.4023679673806885, 0.009312586635307235, 0.4675560738278391, 0.003532360447875158, 0.06775709586378713, 0.0006422473541591197, 0.04752630420777485, 0.0009633710312386795, 0.9554257473969844, 0.010123716528709768, 0.001265464566088721, 0.001265464566088721, 0.020247433057419537, 0.001265464566088721, 0.001265464566088721, 0.010123716528709768, 0.19138797487075462, 0.025147097227286103, 0.35239690611123076, 0.01890251603661774, 0.3712994221478485, 0.006750898584506336, 0.025315869691898762, 0.008776168159858237, 0.006780328236991962, 0.07357911753476462, 0.005273588628771526, 0.0012556163401836967, 0.006529204968955223, 0.023856710463490235, 0.19361603965632604, 0.6890822474928128, 0.008380809019171345, 0.8597313252166605, 0.06739567252916957, 0.006634807140177315, 0.03666603945887464, 0.003142803382189254, 0.012920413904555823, 0.005238005636982091, 0.04508246647365684, 0.02199144706032041, 0.03188759823746459, 0.006597434118096122, 0.05058032823873694, 0.5189981506235617, 0.10006108412445786, 0.22431276001526818, 0.982942730688661, 0.0032087357911490567, 0.0016043678955745284, 0.0005347892985248428, 0.006952260880822956, 0.0005347892985248428, 0.002139157194099371, 0.002139157194099371, 0.0012807071140135341, 0.5058793100353459, 0.0012807071140135341, 0.0012807071140135341, 0.0025614142280270683, 0.0012807071140135341, 0.0012807071140135341, 0.48666870332514295, 0.01470279885811515, 0.009815789010389375, 0.006516013130301032, 0.00037592383444044416, 0.0013783873929482952, 0.0021720043767670108, 0.0005012317792539256, 0.9645370205443041, 0.0333310115269917, 0.020323787516458355, 0.09836713157965843, 0.004064757503291671, 0.004064757503291671, 0.004064757503291671, 0.8340882396754509, 0.0016259030013166683, 0.6948626824007207, 0.026677984251431863, 0.012350918634922159, 0.0013586010498414375, 0.20206102886732652, 0.0038287847768258693, 0.0343355538050836, 0.024454818897145875, 0.7708166828236919, 0.002063213819121231, 0.0016505710552969846, 0.00041264276382424616, 0.12626868573021932, 0.0016505710552969846, 0.008252855276484923, 0.08871819422221293, 0.9614855361803445, 0.003956730601565203, 0.004748076721878244, 0.0007913461203130407, 0.018200960767199934, 0.0015826922406260815, 0.0015826922406260815, 0.007122115082817366, 0.3325154601017348, 0.015954024600840812, 0.5701464581037322, 0.0004198427526537056, 0.0226715086433001, 0.0004198427526537056, 0.0008396855053074112, 0.056258928855596545, 0.9894173127424145, 0.00223176837460695, 0.0014878455830713, 0.00074392279153565, 0.0044635367492139, 0.00074392279153565, 0.00074392279153565, 0.00074392279153565, 0.0014828509328695175, 0.8822963050573629, 0.09935101250225767, 0.0007414254664347587, 0.0007414254664347587, 0.0037071273321737934, 0.01186280746295614, 0.0007414254664347587, 0.023004388863740663, 0.0014377743039837914, 0.09920642697488162, 0.024442163167724455, 0.002875548607967583, 0.8022780616229557, 0.020128840255773082, 0.028755486079675832, 0.8389559261495794, 0.01265775386465871, 0.10632513246313317, 0.002531550772931742, 0.004556791391277136, 0.0015189304637590452, 0.007594652318795227, 0.026328128038490117, 0.02082662913448276, 0.01190093093399015, 0.035702792801970445, 0.8062880707778326, 0.007438081833743843, 0.10710837840591135, 0.007438081833743843, 0.0029752327334975374, 0.2547404210656802, 0.7120096962244248, 0.004273544627651819, 0.0003716125763175495, 0.016350953357972178, 0.0003716125763175495, 0.004459350915810594, 0.007246445238192215, 0.5753367028589708, 0.3081773361221194, 0.0041234995678311745, 0.01258752499653727, 0.02474099740698705, 0.006076736205224889, 0.06272059868964261, 0.006076736205224889, 0.9850957407356369, 0.0011219769256670124, 0.0011219769256670124, 0.0011219769256670124, 0.002243953851334025, 0.0011219769256670124, 0.0011219769256670124, 0.010097792331003112, 0.35735939796894617, 0.010319229319881685, 0.02086278971193471, 0.006505601092968888, 0.2014493028098642, 0.0040379592990841375, 0.010992222536395707, 0.3883170859285912, 0.013255814818316364, 0.09120276757810374, 0.05785610842577663, 0.2560719643809135, 0.12965843869165694, 0.3613590352034784, 0.06413881232404116, 0.026442588934453996, 0.006142680163099837, 0.0013650400362444082, 0.008872760235588653, 0.0006825200181222041, 0.008190240217466449, 0.0020475600543666123, 0.9712259857878964, 0.0013650400362444082, 0.1601340797533279, 0.0037117170803751503, 0.07317385101311011, 0.0015907358915893501, 0.17285996688604272, 0.00265122648598225, 0.012725887132714801, 0.573725411566559, 0.2799897060449678, 0.014199738017885233, 0.005097341852574186, 0.0007281916932248837, 0.06444496485040221, 0.6291576229462995, 0.002912766772899535, 0.0032768626195119766, 0.0009304163631853779, 0.9936846758819836, 0.0027912490895561338, 0.0009304163631853779, 0.0009304163631853779, 0.0009304163631853779, 0.0009304163631853779, 0.0009304163631853779, 0.12941484304325168, 0.002418969028845826, 0.8430107065527703, 0.001209484514422913, 0.01209484514422913, 0.001209484514422913, 0.001209484514422913, 0.008466391600960391, 0.16677260337086983, 0.0010315831136342463, 0.0003438610378780821, 0.0003438610378780821, 0.00653335971968356, 0.8060102727862245, 0.0003438610378780821, 0.01822463500753835, 0.018782318853241973, 0.037240804622807364, 0.19656668179168757, 0.0009714992510297573, 0.7263576066865819, 0.0064766616735317155, 0.008743493259267815, 0.005181329338825372, 0.8471932147244298, 0.00701246323620842, 0.017969437042784076, 0.004821068474893289, 0.027611573992570655, 0.0021913947613151313, 0.02892641084935973, 0.06442700598266486, 0.04276649989904234, 0.017961929957597784, 0.0008553299979808469, 0.02993654992932964, 0.012829949969712703, 0.8835558879142148, 0.008553299979808469, 0.0034213199919233875, 0.00592050611228164, 0.001184101222456328, 0.001184101222456328, 0.001184101222456328, 0.002368202444912656, 0.2758955848323244, 0.7116448346962532, 0.001184101222456328, 0.01443768682188035, 0.18624616000225652, 0.05197567255876926, 0.001443768682188035, 0.015881455504068387, 0.001443768682188035, 0.007218843410940175, 0.7204405724118295, 0.0006730536578117076, 0.21492846806120533, 0.00044870243854113845, 0.00022435121927056922, 0.6315486822466524, 0.00044870243854113845, 0.009647102428634476, 0.1422386730175409, 0.9516143421135993, 0.0022002643748291312, 0.030803701247607836, 0.0011001321874145656, 0.005500660937072828, 0.0022002643748291312, 0.0033003965622436966, 0.0033003965622436966, 0.004334653695682262, 0.010114191956591944, 0.9290607754412316, 0.0028897691304548413, 0.01589373021750163, 0.005779538260909683, 0.02456303760886615, 0.0072244228261371035, 0.001007962783028266, 0.0004031851132113064, 0.0002015925566056532, 0.007055739481197862, 0.01451466407560703, 0.0002015925566056532, 0.9767159367543897, 0.0002015925566056532, 0.0002892810289490073, 0.0018803266881685476, 0.0002892810289490073, 0.000433921543423511, 0.00014464051447450366, 0.0011571241157960293, 0.9957053016424833, 0.0002892810289490073, 0.0016392681772985933, 0.0004098170443246483, 0.0004098170443246483, 0.001229451132973945, 0.006147255664869725, 0.0004098170443246483, 0.9888885279553764, 0.001229451132973945, 0.024384872566850485, 0.6870031431167344, 0.02741943448628077, 0.0043350884563289754, 0.08550961980108904, 0.020700047378970857, 0.1031751052606296, 0.04746921859680228, 0.004069039656502931, 0.03051779742377198, 0.0840934862343939, 0.8260150502700949, 0.04747212932586752, 0.0006781732760838217, 0.006103559484754396, 0.0020345198282514655, 0.016285712938563925, 0.15122447728666502, 0.10702039931056294, 0.0007755101399316154, 0.004653060839589693, 0.005428570979521308, 0.7126938185971546, 0.0015510202798632309, 0.0054271806246394385, 0.09678472113940333, 0.06783975780799298, 0.009949831145172304, 0.80503179265485, 0.000904530104106573, 0.012663421457492023, 0.000904530104106573, 0.3148576681103223, 0.043349968797798, 0.0011407886525736314, 0.0011407886525736314, 0.6194482383474819, 0.0011407886525736314, 0.013689463830883578, 0.004563154610294526, 0.034479057940196456, 0.001326117613084479, 0.002652235226168958, 0.002652235226168958, 0.001326117613084479, 0.003978352839253437, 0.9521524461946559, 0.001326117613084479, 0.19636003667333457, 0.0011483043080311962, 0.006889825848187178, 0.0022966086160623924, 0.003444912924093589, 0.0011483043080311962, 0.7877367553094007, 0.0022966086160623924, 0.0030592499106289767, 0.001019749970209659, 0.001019749970209659, 0.001019749970209659, 0.001019749970209659, 0.001019749970209659, 0.9932364709842079, 0.0006990288611839063, 0.00023300962039463544, 0.00023300962039463544, 0.00023300962039463544, 0.00023300962039463544, 0.00023300962039463544, 0.9982132137706182, 0.00023300962039463544, 0.03130227480311593, 0.0005396943931571713, 0.0005396943931571713, 0.0010793887863143425, 0.0005396943931571713, 0.06152516081991752, 0.9050674973245761, 0.0005396943931571713, 0.044561246048989755, 0.018466822686968726, 0.006222516340174245, 0.7764094581869025, 0.05299175205825808, 0.060619352733310386, 0.023284254692264916, 0.017463191019198687, 0.00020514517047222938, 0.9580279461053112, 0.013744726421639368, 0.0019488791194861791, 0.0014360161933056057, 0.00010257258523611469, 0.010770121449792043, 0.013847299006875483, 0.9512326346874055, 0.001168590460303938, 0.001168590460303938, 0.001168590460303938, 0.0432378470312457, 0.001168590460303938, 0.001168590460303938, 0.001168590460303938, 0.14028772944922588, 0.20646769027048234, 0.1363238255458694, 0.014132179133705802, 0.014993897373565912, 0.009134213342517164, 0.11236805847775833, 0.3662302519405467, 0.0009230584407429811, 0.0009230584407429811, 0.9959800575616766, 0.0009230584407429811, 0.0009230584407429811, 0.0009230584407429811, 0.0009230584407429811, 0.0009230584407429811, 0.14843483140510846, 0.3984421380768546, 0.02802772496320024, 0.004035992394700834, 0.08430739668930631, 0.13744796321953398, 0.18408609755829916, 0.014798638780569726, 0.9256140252561752, 0.007771013271740277, 0.001726891838164506, 0.000863445919082253, 0.04835297146860617, 0.001726891838164506, 0.000863445919082253, 0.013815134705316048, 0.29032784556956576, 0.00700791351374814, 0.0050056525098200995, 0.050056525098200993, 0.010011305019640199, 0.010011305019640199, 0.0010011305019640199, 0.6257065637275124, 0.7704517935097218, 0.010869805213173276, 0.17478646782782628, 0.0013043766255807932, 0.019130857175184965, 0.0060870909193770344, 0.00826105196201169, 0.008695844170538621, 0.00028499055005884216, 0.9738127095510637, 0.01937935740400127, 0.00028499055005884216, 0.0008549716501765265, 0.00028499055005884216, 0.0022799244004707373, 0.0028499055005884216, 0.0008875841557540324, 0.7189431661607663, 0.009763425713294357, 0.0017751683115080647, 0.004437920778770162, 0.0008875841557540324, 0.007988257401786292, 0.25562423685716135, 0.02855455767598637, 0.687278664063396, 0.013588030894090065, 0.003938559679446395, 0.0047262716153356745, 0.012209535006283826, 0.2329658050392543, 0.01673887863764718, 0.8170982154827329, 0.003423595874927652, 0.1552030129967202, 0.0095099885414657, 0.006466792208196676, 0.002282397249951768, 0.0007607990833172559, 0.004945194041562163, 0.035738010404834736, 0.020421720231334133, 0.022974435260250902, 0.0025527150289167667, 0.0076581450867503, 0.7709199387328636, 0.014465385163861678, 0.12508303641692156, 0.8712440731291603, 0.014766848697104411, 0.005537568261414154, 0.001230570724758701, 0.060297965513176344, 0.001230570724758701, 0.012305707247587009, 0.03384069493086428, 0.42861353039332545, 0.00031962231945810996, 0.0019177339167486596, 0.00031962231945810996, 0.5670099947186871, 0.00031962231945810996, 0.0006392446389162199, 0.0009588669583743298, 0.3042598083876215, 0.049929814709763536, 0.06748326519366478, 0.014042760387120993, 0.12970049524215918, 0.07196914698399509, 0.011702300322600829, 0.3508739713393148, 0.07522522981717777, 0.005786556139782906, 0.6297701932130396, 0.011090899267917237, 0.004822130116485755, 0.27052149953485083, 0.0014466390349457264, 0.0014466390349457264, 0.9576137712671883, 0.001164980257016044, 0.001164980257016044, 0.001164980257016044, 0.036114387967497365, 0.001164980257016044, 0.001164980257016044, 0.002329960514032088, 0.011540455808712425, 0.03746466813263164, 0.35374005848444606, 0.06489415730116552, 0.042482257614680524, 0.08061593767825202, 0.4007381466329706, 0.00869715510221806, 0.0012971436149372213, 0.0012971436149372213, 0.0012971436149372213, 0.0012971436149372213, 0.0012971436149372213, 0.9936120090419116, 0.0012971436149372213, 0.0012971436149372213, 0.05738212942090868, 0.1348705955286712, 0.0015813972675053573, 0.7003330756095154, 0.019428595000780105, 0.001129569476789541, 0.016943542151843113, 0.06845191029344619, 0.012388820031574042, 0.04601561726013216, 0.2008758676548077, 0.06548376302403422, 0.592893530082472, 0.01150390431503304, 0.06548376302403422, 0.0044245785827050155, 0.01026740444381582, 0.7993907745542316, 0.09240663999434237, 0.0014667720634022599, 0.0058670882536090395, 0.0014667720634022599, 0.07920569142372204, 0.01026740444381582, 0.9407453663695579, 0.008451390152674298, 0.03855946757157649, 0.0010564237690842873, 0.004225695076337149, 0.0005282118845421436, 0.0010564237690842873, 0.0052821188454214366, 0.21834559981222326, 0.00733934789284784, 0.07798057136150831, 0.022935462165149502, 0.5908175053742512, 0.053210272223146844, 0.0091741848660598, 0.019265788218725582, 0.025074134312265066, 0.5180380441566046, 0.07618679271803616, 0.00016073163020682735, 0.0008036581510341368, 0.009804629442616468, 0.2062186815553595, 0.16362479955055023, 0.013001184361045042, 0.0352889289799794, 0.7398293005451821, 0.028478784790860568, 0.17954016498586012, 0.000619104017192621, 0.002476416068770484, 0.000619104017192621, 0.054165017403476054, 0.6701346339220758, 0.049126411133385256, 0.0018894773512840484, 0.0025193031350453977, 0.0031491289188067474, 0.17005296161556435, 0.04881149824150458, 0.03770408709862339, 0.9157279877250767, 0.03208858476478586, 0.0004011073095598233, 0.0016044292382392932, 0.0004011073095598233, 0.0032088584764785864, 0.008824360810316113, 0.24534953724139627, 0.6589019593317498, 0.010174600232057903, 0.0014167164880080625, 0.024985727152142194, 0.0002575848160014659, 0.04662285169626533, 0.012235278760069631, 0.0012241607745708634, 0.04927247117647725, 0.0012241607745708634, 0.005814763679211601, 0.0015302009682135792, 0.0006120803872854317, 0.00367248232371259, 0.9367890327403532, 0.007586178181472116, 0.014698220226602225, 0.03081884886223047, 0.3451711072569813, 0.005689633636104087, 0.5727564527011447, 0.01706890090831226, 0.006163769772446094, 0.007145552821574346, 0.4010729648238504, 0.08044509466869183, 0.00046100340784350623, 0.0013830102235305186, 0.003918528966669803, 0.20238049604329925, 0.30310974065710533, 0.10014303047862805, 0.003619627607661255, 0.8602648280874916, 0.00241308507177417, 0.02654393578951587, 0.001206542535887085, 0.00482617014354834, 0.001206542535887085, 0.5374532934774846, 0.08041492602660602, 0.008122719800667274, 0.0796026540465393, 0.1332126047309433, 0.03682299642969165, 0.10694914404211911, 0.017328468908090186, 0.057085953206016414, 0.0011193324158042435, 0.0011193324158042435, 0.00335799724741273, 0.0011193324158042435, 0.9346425671965433, 0.0011193324158042435, 0.0011193324158042435, 0.028039848969533047, 0.01495458611708429, 0.21310285216845115, 0.08879285507018798, 0.641177879769989, 0.0037386465292710727, 0.006542631426224377, 0.0037386465292710727, 0.5157576800864849, 0.34186690262613334, 0.034896448537961706, 0.0007886203059426375, 0.04179687621495978, 0.0007886203059426375, 0.041402566061988465, 0.022672833795850826, 0.011295542931354076, 0.0009412952442795063, 0.9836535302720841, 0.0009412952442795063, 0.0009412952442795063, 0.0009412952442795063, 0.0009412952442795063, 0.0009412952442795063, 0.18043126361930942, 0.008392151796246949, 0.005594767864164633, 0.0013986919660411582, 0.04895421881144054, 0.0041960758981234745, 0.01818299555853506, 0.7343132821716081, 0.1727667043417989, 0.003077269542983695, 0.2855266525954157, 0.22244262696424996, 0.05187397229601086, 0.11869468237222824, 0.131223565511519, 0.014287322878138584, 0.4760845507408725, 0.002738741423245671, 0.015063077827851191, 0.0009129138077485571, 0.49890739593458644, 0.0036516552309942283, 0.0009129138077485571, 0.0018258276154971141, 0.8614862277898636, 0.02543132775763435, 0.03178915969704294, 0.0040871776753340925, 0.03178915969704294, 0.0013623925584446974, 0.009990878761927781, 0.03360568310830254, 0.0497631796420686, 0.006785888133009354, 0.013571776266018708, 0.001130981355501559, 0.001130981355501559, 0.7713292844520632, 0.013571776266018708, 0.14250365079319643, 0.0012815448466946605, 0.0012815448466946605, 0.0012815448466946605, 0.0012815448466946605, 0.9944788010350565, 0.0012815448466946605, 0.0012815448466946605, 0.0012815448466946605, 0.2233553018019646, 0.030368484016933785, 0.18982186411577223, 0.11265727941765759, 0.14656749730257126, 0.033910217884913656, 0.220491772291683, 0.04287758661447971, 0.02236655422320671, 0.050468122349799756, 0.16459489902718785, 0.7140092309715989, 0.015484537539143107, 0.002867506951693168, 0.028101568126593045, 0.0022940055613545345, 0.1361601394401812, 0.01403712777733827, 0.7229120805329209, 0.009825989444136788, 0.0940487561081664, 0.01824826611053975, 0.0028074255554676538, 0.0014037127777338269, 0.13259967544293486, 0.009375734627278223, 0.1339390661039746, 0.09241795561174249, 0.0495574544584706, 0.032145375864953904, 0.04419989181431162, 0.5049502792119843, 0.17910876076403698, 0.01671681767131012, 0.4131442081623787, 0.2444834584429105, 0.02328413889932481, 0.08806180737565152, 0.01432870086112296, 0.020597507487864253, 0.0037155592074702235, 0.16720016433616006, 0.11425344562970938, 0.0009288898018675559, 0.0009288898018675559, 0.0009288898018675559, 0.7115295882305478, 0.0009288898018675559, 0.02620511301246518, 0.576008541793225, 0.083654783847485, 0.0005039444810089458, 0.0007559167215134186, 0.05518192067047956, 0.15370306670772846, 0.1040645353283473, 0.0008070616019811194, 0.10088270024763993, 0.0008070616019811194, 0.0008070616019811194, 0.8885748237812124, 0.0008070616019811194, 0.0008070616019811194, 0.008070616019811194, 0.0006433686556583071, 0.21166828771158305, 0.0006433686556583071, 0.0006433686556583071, 0.42977026197974916, 0.002251790294804075, 0.025734746226332286, 0.32876138304139496, 0.07988726145421605, 0.008636460697753087, 0.037784515552669755, 0.005397787936095679, 0.10687620113469444, 0.7103488923901914, 0.04102318831432716, 0.008636460697753087, 0.06119235201536485, 0.011576931462366323, 0.11659623829954653, 0.023980786600615953, 0.7458851556467445, 0.003307694703533235, 0.03390387071121566, 0.003307694703533235, 0.9873994807798139, 0.001512097214057908, 0.0045362916421737235, 0.001512097214057908, 0.003024194428115816, 0.001512097214057908, 0.001512097214057908, 0.001512097214057908, 0.2106430600516224, 0.0002812323899220593, 0.0002812323899220593, 0.0002812323899220593, 0.7871694593918439, 0.0002812323899220593, 0.0002812323899220593, 0.0005624647798441186, 0.6414043232890749, 0.058341628083074616, 0.1069596514856368, 0.0038894418722049745, 0.14390934927158405, 0.002298306560848394, 0.02722609310543482, 0.015911353113565806, 0.0081630323783065, 0.002040758094576625, 0.0006802526981922084, 0.023128591738535084, 0.0013605053963844167, 0.9615371888946865, 0.0006802526981922084, 0.0023808844436727294, 0.040743781502875234, 0.24918039003337383, 0.10807824146025853, 0.3328123625919072, 0.1389577390203324, 0.07333880670517542, 0.002573291463339489, 0.054468002640685846, 0.0072710522907488565, 0.9350668292338202, 0.03830371337479463, 0.00019009287034637534, 0.0016633126155307842, 0.0009979875693184705, 0.014304488493564744, 0.0021860680089833165, 0.9619739680268495, 0.001084525330357215, 0.00216905066071443, 0.001084525330357215, 0.01084525330357215, 0.001084525330357215, 0.001084525330357215, 0.0216905066071443, 0.275022672753841, 0.20451940225122237, 0.08488354097340772, 0.07210107833270632, 0.22529090404236213, 0.0045936975115020645, 0.04613670109378161, 0.08728025271853923, 0.16732136411886672, 0.01966383552678989, 0.573111424535349, 0.007150485646105415, 0.045048059570464115, 0.001430097129221083, 0.15838325706123493, 0.027886894019811117, 0.7399960605375299, 0.007250681861174645, 0.22860973397585937, 0.007250681861174645, 0.0017060427908646223, 0.006824171163458489, 0.0004265106977161556, 0.0076771925588908, 0.6702174945482487, 0.0987652460942352, 0.05371443208633845, 0.011782520586680691, 0.06722967628870748, 0.04816971651613577, 0.047130082346722765, 0.002772357785101339, 0.14488151059813917, 0.053436816895937045, 0.033492089462946455, 0.43727874107802, 0.05155523883622095, 0.007902627850807592, 0.24309988531531923, 0.028976302119627834, 0.20059425534717223, 0.06415401860202355, 0.5328849643738506, 0.032077009301011775, 0.04450120304436141, 0.040660997705507886, 0.08290325643289664, 0.0022589443169726605, 0.08109693266840831, 0.06173050098640036, 0.20213713068095804, 0.505342826702395, 0.018761230691945206, 0.002420803960250994, 0.12164539900261247, 0.007262411880752983, 0.9896366315995382, 0.0011554426521886028, 0.0023108853043772057, 0.0005777213260943014, 0.004621770608754411, 0.0005777213260943014, 0.0005777213260943014, 0.0017331639782829041, 0.15207655867849174, 0.009272960895029983, 0.05192858101216791, 0.012982145253041977, 0.7678011621084826, 0.0037091843580119932, 0.0009272960895029983, 0.0009272960895029983, 0.0011908216654000685, 0.9852858459520167, 0.011193723654760644, 0.0002381643330800137, 0.0004763286661600274, 0.0002381643330800137, 0.0014289859984800823, 0.0002381643330800137, 0.01257015811059602, 0.041595795929608645, 0.24420388983948813, 0.14192851248509322, 0.22237752439290775, 0.03382515273396747, 0.2416898582173689, 0.06170804890656228, 0.1759618330938527, 0.03789947174329135, 0.09610223192048878, 0.0013535525622604054, 0.0744453909243223, 0.0013535525622604054, 0.5969166799568387, 0.01759618330938527, 0.23937343561208083, 0.007253740473093358, 0.003626870236546679, 0.019041068741870067, 0.680944886911639, 0.0018134351182733394, 0.015414198505323386, 0.031735114569783444], \"Term\": [\"absolutely\", \"absolutely\", \"absolutely\", \"absolutely\", \"absolutely\", \"absolutely\", \"absolutely\", \"absolutely\", \"access\", \"access\", \"access\", \"access\", \"access\", \"access\", \"access\", \"access\", \"accommodate\", \"accommodate\", \"accommodate\", \"accommodate\", \"accommodate\", \"accommodate\", \"accommodate\", \"accommodate\", \"accommodation\", \"accommodation\", \"accommodation\", \"accommodation\", \"accommodation\", \"accommodation\", \"accommodation\", \"accommodation\", \"accurate\", \"accurate\", \"accurate\", \"accurate\", \"accurate\", \"accurate\", \"accurate\", \"accurate\", \"advertised\", \"advertised\", \"advertised\", \"advertised\", \"advertised\", \"advertised\", \"advertised\", \"advertised\", \"affordable\", \"affordable\", \"affordable\", \"affordable\", \"affordable\", \"affordable\", \"affordable\", \"affordable\", \"air\", \"air\", \"air\", \"air\", \"air\", \"air\", \"air\", \"air\", \"airport\", \"airport\", \"airport\", \"airport\", \"airport\", \"airport\", \"airport\", \"airport\", \"always\", \"always\", \"always\", \"always\", \"always\", \"always\", \"always\", \"always\", \"amaze\", \"amaze\", \"amaze\", \"amaze\", \"amaze\", \"amaze\", \"amaze\", \"amaze\", \"amazing\", \"amazing\", \"amazing\", \"amazing\", \"amazing\", \"amazing\", \"amazing\", \"amazing\", \"amenity\", \"amenity\", \"amenity\", \"amenity\", \"amenity\", \"amenity\", \"amenity\", \"amenity\", \"andrew\", \"andrew\", \"andrew\", \"andrew\", \"andrew\", \"andrew\", \"andrew\", \"andrew\", \"answer\", \"answer\", \"answer\", \"answer\", \"answer\", \"answer\", \"answer\", \"answer\", \"anything\", \"anything\", \"anything\", \"anything\", \"anything\", \"anything\", \"anything\", \"anything\", \"anywhere\", \"anywhere\", \"anywhere\", \"anywhere\", \"anywhere\", \"anywhere\", \"anywhere\", \"anywhere\", \"apt\", \"apt\", \"apt\", \"apt\", \"apt\", \"apt\", \"apt\", \"apt\", \"area\", \"area\", \"area\", \"area\", \"area\", \"area\", \"area\", \"area\", \"around\", \"around\", \"around\", \"around\", \"around\", \"around\", \"around\", \"around\", \"arrival\", \"arrival\", \"arrival\", \"arrival\", \"arrival\", \"arrival\", \"arrival\", \"arrival\", \"arrive\", \"arrive\", \"arrive\", \"arrive\", \"arrive\", \"arrive\", \"arrive\", \"arrive\", \"attentive\", \"attentive\", \"attentive\", \"attentive\", \"attentive\", \"attentive\", \"attentive\", \"attentive\", \"available\", \"available\", \"available\", \"available\", \"available\", \"available\", \"available\", \"available\", \"awesome\", \"awesome\", \"awesome\", \"awesome\", \"awesome\", \"awesome\", \"awesome\", \"awesome\", \"bad\", \"bad\", \"bad\", \"bad\", \"bad\", \"bad\", \"bad\", \"bad\", \"bar\", \"bar\", \"bar\", \"bar\", \"bar\", \"bar\", \"bar\", \"bar\", \"base\", \"base\", \"base\", \"base\", \"base\", \"base\", \"base\", \"base\", \"bath\", \"bath\", \"bath\", \"bath\", \"bath\", \"bath\", \"bath\", \"bath\", \"bathroom\", \"bathroom\", \"bathroom\", \"bathroom\", \"bathroom\", \"bathroom\", \"bathroom\", \"bathroom\", \"bay\", \"bay\", \"bay\", \"bay\", \"bay\", \"bay\", \"bay\", \"bay\", \"beacon\", \"beacon\", \"beacon\", \"beacon\", \"beacon\", \"beacon\", \"beacon\", \"beacon\", \"beat\", \"beat\", \"beat\", \"beat\", \"beat\", \"beat\", \"beat\", \"beat\", \"beautiful\", \"beautiful\", \"beautiful\", \"beautiful\", \"beautiful\", \"beautiful\", \"beautiful\", \"beautiful\", \"beautifully\", \"beautifully\", \"beautifully\", \"beautifully\", \"beautifully\", \"beautifully\", \"beautifully\", \"beautifully\", \"bed\", \"bed\", \"bed\", \"bed\", \"bed\", \"bed\", \"bed\", \"bed\", \"bedroom\", \"bedroom\", \"bedroom\", \"bedroom\", \"bedroom\", \"bedroom\", \"bedroom\", \"bedroom\", \"best\", \"best\", \"best\", \"best\", \"best\", \"best\", \"best\", \"best\", \"big\", \"big\", \"big\", \"big\", \"big\", \"big\", \"big\", \"big\", \"bill\", \"bill\", \"bill\", \"bill\", \"bill\", \"bill\", \"bill\", \"bill\", \"block\", \"block\", \"block\", \"block\", \"block\", \"block\", \"block\", \"block\", \"bnb\", \"bnb\", \"bnb\", \"bnb\", \"bnb\", \"bnb\", \"bnb\", \"bnb\", \"book\", \"book\", \"book\", \"book\", \"book\", \"book\", \"book\", \"book\", \"boris\", \"boris\", \"boris\", \"boris\", \"boris\", \"boris\", \"boris\", \"boris\", \"breakfast\", \"breakfast\", \"breakfast\", \"breakfast\", \"breakfast\", \"breakfast\", \"breakfast\", \"breakfast\", \"breeze\", \"breeze\", \"breeze\", \"breeze\", \"breeze\", \"breeze\", \"breeze\", \"breeze\", \"bring\", \"bring\", \"bring\", \"bring\", \"bring\", \"bring\", \"bring\", \"bring\", \"building\", \"building\", \"building\", \"building\", \"building\", \"building\", \"building\", \"building\", \"bus\", \"bus\", \"bus\", \"bus\", \"bus\", \"bus\", \"bus\", \"bus\", \"cafe\", \"cafe\", \"cafe\", \"cafe\", \"cafe\", \"cafe\", \"cafe\", \"cafe\", \"cancel\", \"cancel\", \"cancel\", \"cancel\", \"cancel\", \"cancel\", \"cancel\", \"cant\", \"cant\", \"cant\", \"cant\", \"cant\", \"cant\", \"cant\", \"cant\", \"care\", \"care\", \"care\", \"care\", \"care\", \"care\", \"care\", \"care\", \"center\", \"center\", \"center\", \"center\", \"center\", \"center\", \"center\", \"center\", \"central\", \"central\", \"central\", \"central\", \"central\", \"central\", \"central\", \"central\", \"centrally\", \"centrally\", \"centrally\", \"centrally\", \"centrally\", \"centrally\", \"centrally\", \"centrally\", \"centre\", \"centre\", \"centre\", \"centre\", \"centre\", \"centre\", \"centre\", \"centre\", \"charles\", \"charles\", \"charles\", \"charles\", \"charles\", \"charles\", \"charles\", \"charles\", \"charm\", \"charm\", \"charm\", \"charm\", \"charm\", \"charm\", \"charm\", \"charm\", \"charming\", \"charming\", \"charming\", \"charming\", \"charming\", \"charming\", \"charming\", \"charming\", \"check\", \"check\", \"check\", \"check\", \"check\", \"check\", \"check\", \"check\", \"chris\", \"chris\", \"chris\", \"chris\", \"chris\", \"chris\", \"chris\", \"chris\", \"clean\", \"clean\", \"clean\", \"clean\", \"clean\", \"clean\", \"clean\", \"clean\", \"clear\", \"clear\", \"clear\", \"clear\", \"clear\", \"clear\", \"clear\", \"clear\", \"close\", \"close\", \"close\", \"close\", \"close\", \"close\", \"close\", \"close\", \"coffee\", \"coffee\", \"coffee\", \"coffee\", \"coffee\", \"coffee\", \"coffee\", \"coffee\", \"cold\", \"cold\", \"cold\", \"cold\", \"cold\", \"cold\", \"cold\", \"cold\", \"comfortable\", \"comfortable\", \"comfortable\", \"comfortable\", \"comfortable\", \"comfortable\", \"comfortable\", \"comfortable\", \"comfy\", \"comfy\", \"comfy\", \"comfy\", \"comfy\", \"comfy\", \"comfy\", \"comfy\", \"communication\", \"communication\", \"communication\", \"communication\", \"communication\", \"communication\", \"communication\", \"communication\", \"communicative\", \"communicative\", \"communicative\", \"communicative\", \"communicative\", \"communicative\", \"communicative\", \"communicative\", \"condo\", \"condo\", \"condo\", \"condo\", \"condo\", \"condo\", \"condo\", \"condo\", \"conference\", \"conference\", \"conference\", \"conference\", \"conference\", \"conference\", \"conference\", \"conference\", \"convenient\", \"convenient\", \"convenient\", \"convenient\", \"convenient\", \"convenient\", \"convenient\", \"convenient\", \"conveniently\", \"conveniently\", \"conveniently\", \"conveniently\", \"conveniently\", \"conveniently\", \"conveniently\", \"convention\", \"convention\", \"convention\", \"convention\", \"convention\", \"convention\", \"convention\", \"convention\", \"cook\", \"cook\", \"cook\", \"cook\", \"cook\", \"cook\", \"cook\", \"cook\", \"corner\", \"corner\", \"corner\", \"corner\", \"corner\", \"corner\", \"corner\", \"corner\", \"cosy\", \"cosy\", \"cosy\", \"cosy\", \"cosy\", \"cosy\", \"cosy\", \"cosy\", \"cozy\", \"cozy\", \"cozy\", \"cozy\", \"cozy\", \"cozy\", \"cozy\", \"cozy\", \"cute\", \"cute\", \"cute\", \"cute\", \"cute\", \"cute\", \"cute\", \"cute\", \"daughter\", \"daughter\", \"daughter\", \"daughter\", \"daughter\", \"daughter\", \"daughter\", \"daughter\", \"day\", \"day\", \"day\", \"day\", \"day\", \"day\", \"day\", \"day\", \"decor\", \"decor\", \"decor\", \"decor\", \"decor\", \"decor\", \"decor\", \"decor\", \"decorate\", \"decorate\", \"decorate\", \"decorate\", \"decorate\", \"decorate\", \"decorate\", \"decorate\", \"delicious\", \"delicious\", \"delicious\", \"delicious\", \"delicious\", \"delicious\", \"delicious\", \"delicious\", \"described\", \"described\", \"described\", \"described\", \"described\", \"described\", \"described\", \"described\", \"description\", \"description\", \"description\", \"description\", \"description\", \"description\", \"description\", \"description\", \"difficult\", \"difficult\", \"difficult\", \"difficult\", \"difficult\", \"difficult\", \"difficult\", \"difficult\", \"direction\", \"direction\", \"direction\", \"direction\", \"direction\", \"direction\", \"direction\", \"direction\", \"distance\", \"distance\", \"distance\", \"distance\", \"distance\", \"distance\", \"distance\", \"distance\", \"dog\", \"dog\", \"dog\", \"dog\", \"dog\", \"dog\", \"dog\", \"dog\", \"door\", \"door\", \"door\", \"door\", \"door\", \"door\", \"door\", \"door\", \"downtown\", \"downtown\", \"downtown\", \"downtown\", \"downtown\", \"downtown\", \"downtown\", \"downtown\", \"drive\", \"drive\", \"drive\", \"drive\", \"drive\", \"drive\", \"drive\", \"drive\", \"easy\", \"easy\", \"easy\", \"easy\", \"easy\", \"easy\", \"easy\", \"easy\", \"ed\", \"ed\", \"ed\", \"ed\", \"ed\", \"ed\", \"ed\", \"ed\", \"edward\", \"edward\", \"edward\", \"edward\", \"edward\", \"edward\", \"edward\", \"edward\", \"enjoy\", \"enjoy\", \"enjoy\", \"enjoy\", \"enjoy\", \"enjoy\", \"enjoy\", \"enjoy\", \"enjoyable\", \"enjoyable\", \"enjoyable\", \"enjoyable\", \"enjoyable\", \"enjoyable\", \"enjoyable\", \"enjoyable\", \"equip\", \"equip\", \"equip\", \"equip\", \"equip\", \"equip\", \"equip\", \"equip\", \"ever\", \"ever\", \"ever\", \"ever\", \"ever\", \"ever\", \"ever\", \"ever\", \"excellent\", \"excellent\", \"excellent\", \"excellent\", \"excellent\", \"excellent\", \"excellent\", \"excellent\", \"expectation\", \"expectation\", \"expectation\", \"expectation\", \"expectation\", \"expectation\", \"expectation\", \"expectation\", \"explore\", \"explore\", \"explore\", \"explore\", \"explore\", \"explore\", \"explore\", \"explore\", \"extremely\", \"extremely\", \"extremely\", \"extremely\", \"extremely\", \"extremely\", \"extremely\", \"extremely\", \"fabulous\", \"fabulous\", \"fabulous\", \"fabulous\", \"fabulous\", \"fabulous\", \"fabulous\", \"fabulous\", \"fantastic\", \"fantastic\", \"fantastic\", \"fantastic\", \"fantastic\", \"fantastic\", \"fantastic\", \"fantastic\", \"far\", \"far\", \"far\", \"far\", \"far\", \"far\", \"far\", \"far\", \"fast\", \"fast\", \"fast\", \"fast\", \"fast\", \"fast\", \"fast\", \"fast\", \"fenway\", \"fenway\", \"fenway\", \"fenway\", \"fenway\", \"fenway\", \"fenway\", \"fenway\", \"fine\", \"fine\", \"fine\", \"fine\", \"fine\", \"fine\", \"fine\", \"fine\", \"first\", \"first\", \"first\", \"first\", \"first\", \"first\", \"first\", \"first\", \"flat\", \"flat\", \"flat\", \"flat\", \"flat\", \"flat\", \"flat\", \"flat\", \"flexible\", \"flexible\", \"flexible\", \"flexible\", \"flexible\", \"flexible\", \"flexible\", \"flexible\", \"floor\", \"floor\", \"floor\", \"floor\", \"floor\", \"floor\", \"floor\", \"floor\", \"food\", \"food\", \"food\", \"food\", \"food\", \"food\", \"food\", \"food\", \"forward\", \"forward\", \"forward\", \"forward\", \"forward\", \"forward\", \"forward\", \"forward\", \"freedom\", \"freedom\", \"freedom\", \"freedom\", \"freedom\", \"freedom\", \"freedom\", \"freedom\", \"fresh\", \"fresh\", \"fresh\", \"fresh\", \"fresh\", \"fresh\", \"fresh\", \"fresh\", \"fridge\", \"fridge\", \"fridge\", \"fridge\", \"fridge\", \"fridge\", \"fridge\", \"fridge\", \"friend\", \"friend\", \"friend\", \"friend\", \"friend\", \"friend\", \"friend\", \"friend\", \"friendly\", \"friendly\", \"friendly\", \"friendly\", \"friendly\", \"friendly\", \"friendly\", \"friendly\", \"front\", \"front\", \"front\", \"front\", \"front\", \"front\", \"front\", \"front\", \"full\", \"full\", \"full\", \"full\", \"full\", \"full\", \"full\", \"full\", \"fully\", \"fully\", \"fully\", \"fully\", \"fully\", \"fully\", \"fully\", \"fully\", \"future\", \"future\", \"future\", \"future\", \"future\", \"future\", \"future\", \"future\", \"good\", \"good\", \"good\", \"good\", \"good\", \"good\", \"good\", \"good\", \"gorgeous\", \"gorgeous\", \"gorgeous\", \"gorgeous\", \"gorgeous\", \"gorgeous\", \"gorgeous\", \"gorgeous\", \"gracious\", \"gracious\", \"gracious\", \"gracious\", \"gracious\", \"gracious\", \"gracious\", \"gracious\", \"great\", \"great\", \"great\", \"great\", \"great\", \"great\", \"great\", \"great\", \"green\", \"green\", \"green\", \"green\", \"green\", \"green\", \"green\", \"green\", \"grocery\", \"grocery\", \"grocery\", \"grocery\", \"grocery\", \"grocery\", \"grocery\", \"grocery\", \"guest\", \"guest\", \"guest\", \"guest\", \"guest\", \"guest\", \"guest\", \"guest\", \"guy\", \"guy\", \"guy\", \"guy\", \"guy\", \"guy\", \"guy\", \"guy\", \"hard\", \"hard\", \"hard\", \"hard\", \"hard\", \"hard\", \"hard\", \"hard\", \"hear\", \"hear\", \"hear\", \"hear\", \"hear\", \"hear\", \"hear\", \"hear\", \"heart\", \"heart\", \"heart\", \"heart\", \"heart\", \"heart\", \"heart\", \"heart\", \"heat\", \"heat\", \"heat\", \"heat\", \"heat\", \"heat\", \"heat\", \"heat\", \"helpful\", \"helpful\", \"helpful\", \"helpful\", \"helpful\", \"helpful\", \"helpful\", \"helpful\", \"hill\", \"hill\", \"hill\", \"hill\", \"hill\", \"hill\", \"hill\", \"hill\", \"historic\", \"historic\", \"historic\", \"historic\", \"historic\", \"historic\", \"historic\", \"historic\", \"homey\", \"homey\", \"homey\", \"homey\", \"homey\", \"homey\", \"homey\", \"homey\", \"hospitable\", \"hospitable\", \"hospitable\", \"hospitable\", \"hospitable\", \"hospitable\", \"hospitable\", \"hospitable\", \"hospitality\", \"hospitality\", \"hospitality\", \"hospitality\", \"hospitality\", \"hospitality\", \"hospitality\", \"hospitality\", \"host\", \"host\", \"host\", \"host\", \"host\", \"host\", \"host\", \"host\", \"hot\", \"hot\", \"hot\", \"hot\", \"hot\", \"hot\", \"hot\", \"hot\", \"hotel\", \"hotel\", \"hotel\", \"hotel\", \"hotel\", \"hotel\", \"hotel\", \"hotel\", \"hour\", \"hour\", \"hour\", \"hour\", \"hour\", \"hour\", \"hour\", \"hour\", \"however\", \"however\", \"however\", \"however\", \"however\", \"however\", \"however\", \"however\", \"huge\", \"huge\", \"huge\", \"huge\", \"huge\", \"huge\", \"huge\", \"huge\", \"immediately\", \"immediately\", \"immediately\", \"immediately\", \"immediately\", \"immediately\", \"immediately\", \"immediately\", \"include\", \"include\", \"include\", \"include\", \"include\", \"include\", \"include\", \"include\", \"incredible\", \"incredible\", \"incredible\", \"incredible\", \"incredible\", \"incredible\", \"incredible\", \"incredible\", \"incredibly\", \"incredibly\", \"incredibly\", \"incredibly\", \"incredibly\", \"incredibly\", \"incredibly\", \"incredibly\", \"instruction\", \"instruction\", \"instruction\", \"instruction\", \"instruction\", \"instruction\", \"instruction\", \"instruction\", \"issue\", \"issue\", \"issue\", \"issue\", \"issue\", \"issue\", \"issue\", \"issue\", \"jamaica\", \"jamaica\", \"jamaica\", \"jamaica\", \"jamaica\", \"jamaica\", \"jamaica\", \"jamaica\", \"jp\", \"jp\", \"jp\", \"jp\", \"jp\", \"jp\", \"jp\", \"jp\", \"kind\", \"kind\", \"kind\", \"kind\", \"kind\", \"kind\", \"kind\", \"kind\", \"kitchen\", \"kitchen\", \"kitchen\", \"kitchen\", \"kitchen\", \"kitchen\", \"kitchen\", \"kitchen\", \"know\", \"know\", \"know\", \"know\", \"know\", \"know\", \"know\", \"know\", \"large\", \"large\", \"large\", \"large\", \"large\", \"large\", \"large\", \"large\", \"late\", \"late\", \"late\", \"late\", \"late\", \"late\", \"late\", \"late\", \"let\", \"let\", \"let\", \"let\", \"let\", \"let\", \"let\", \"let\", \"line\", \"line\", \"line\", \"line\", \"line\", \"line\", \"line\", \"line\", \"little\", \"little\", \"little\", \"little\", \"little\", \"little\", \"little\", \"little\", \"living\", \"living\", \"living\", \"living\", \"living\", \"living\", \"living\", \"living\", \"local\", \"local\", \"local\", \"local\", \"local\", \"local\", \"local\", \"local\", \"locate\", \"locate\", \"locate\", \"locate\", \"locate\", \"locate\", \"locate\", \"locate\", \"location\", \"location\", \"location\", \"location\", \"location\", \"location\", \"location\", \"location\", \"lock\", \"lock\", \"lock\", \"lock\", \"lock\", \"lock\", \"lock\", \"lock\", \"loud\", \"loud\", \"loud\", \"loud\", \"loud\", \"loud\", \"loud\", \"loud\", \"love\", \"love\", \"love\", \"love\", \"love\", \"love\", \"love\", \"love\", \"lovely\", \"lovely\", \"lovely\", \"lovely\", \"lovely\", \"lovely\", \"lovely\", \"lovely\", \"luggage\", \"luggage\", \"luggage\", \"luggage\", \"luggage\", \"luggage\", \"luggage\", \"luggage\", \"market\", \"market\", \"market\", \"market\", \"market\", \"market\", \"market\", \"market\", \"maverick\", \"maverick\", \"maverick\", \"maverick\", \"maverick\", \"maverick\", \"maverick\", \"maverick\", \"may\", \"may\", \"may\", \"may\", \"may\", \"may\", \"may\", \"may\", \"meal\", \"meal\", \"meal\", \"meal\", \"meal\", \"meal\", \"meal\", \"meal\", \"mention\", \"mention\", \"mention\", \"mention\", \"mention\", \"mention\", \"mention\", \"mention\", \"message\", \"message\", \"message\", \"message\", \"message\", \"message\", \"message\", \"message\", \"metro\", \"metro\", \"metro\", \"metro\", \"metro\", \"metro\", \"metro\", \"metro\", \"middle\", \"middle\", \"middle\", \"middle\", \"middle\", \"middle\", \"middle\", \"middle\", \"mile\", \"mile\", \"mile\", \"mile\", \"mile\", \"mile\", \"mile\", \"mile\", \"min\", \"min\", \"min\", \"min\", \"min\", \"min\", \"min\", \"min\", \"minute\", \"minute\", \"minute\", \"minute\", \"minute\", \"minute\", \"minute\", \"minute\", \"modern\", \"modern\", \"modern\", \"modern\", \"modern\", \"modern\", \"modern\", \"modern\", \"money\", \"money\", \"money\", \"money\", \"money\", \"money\", \"money\", \"money\", \"morning\", \"morning\", \"morning\", \"morning\", \"morning\", \"morning\", \"morning\", \"morning\", \"move\", \"move\", \"move\", \"move\", \"move\", \"move\", \"move\", \"move\", \"much\", \"much\", \"much\", \"much\", \"much\", \"much\", \"much\", \"much\", \"near\", \"near\", \"near\", \"near\", \"near\", \"near\", \"near\", \"near\", \"nearby\", \"nearby\", \"nearby\", \"nearby\", \"nearby\", \"nearby\", \"nearby\", \"nearby\", \"neat\", \"neat\", \"neat\", \"neat\", \"neat\", \"neat\", \"neat\", \"neat\", \"never\", \"never\", \"never\", \"never\", \"never\", \"never\", \"never\", \"never\", \"newbury\", \"newbury\", \"newbury\", \"newbury\", \"newbury\", \"newbury\", \"newbury\", \"newbury\", \"nice\", \"nice\", \"nice\", \"nice\", \"nice\", \"nice\", \"nice\", \"nice\", \"nicely\", \"nicely\", \"nicely\", \"nicely\", \"nicely\", \"nicely\", \"nicely\", \"nicely\", \"night\", \"night\", \"night\", \"night\", \"night\", \"night\", \"night\", \"night\", \"noise\", \"noise\", \"noise\", \"noise\", \"noise\", \"noise\", \"noise\", \"noise\", \"note\", \"note\", \"note\", \"note\", \"note\", \"note\", \"note\", \"note\", \"old\", \"old\", \"old\", \"old\", \"old\", \"old\", \"old\", \"old\", \"open\", \"open\", \"open\", \"open\", \"open\", \"open\", \"open\", \"open\", \"orange\", \"orange\", \"orange\", \"orange\", \"orange\", \"orange\", \"orange\", \"orange\", \"organize\", \"organize\", \"organize\", \"organize\", \"organize\", \"organize\", \"organize\", \"organize\", \"outside\", \"outside\", \"outside\", \"outside\", \"outside\", \"outside\", \"outside\", \"outside\", \"outstanding\", \"outstanding\", \"outstanding\", \"outstanding\", \"outstanding\", \"outstanding\", \"outstanding\", \"outstanding\", \"park\", \"park\", \"park\", \"park\", \"park\", \"park\", \"park\", \"park\", \"parking\", \"parking\", \"parking\", \"parking\", \"parking\", \"parking\", \"parking\", \"parking\", \"pay\", \"pay\", \"pay\", \"pay\", \"pay\", \"pay\", \"pay\", \"pay\", \"people\", \"people\", \"people\", \"people\", \"people\", \"people\", \"people\", \"people\", \"perfect\", \"perfect\", \"perfect\", \"perfect\", \"perfect\", \"perfect\", \"perfect\", \"perfect\", \"perfectly\", \"perfectly\", \"perfectly\", \"perfectly\", \"perfectly\", \"perfectly\", \"perfectly\", \"perfectly\", \"person\", \"person\", \"person\", \"person\", \"person\", \"person\", \"person\", \"person\", \"picture\", \"picture\", \"picture\", \"picture\", \"picture\", \"picture\", \"picture\", \"picture\", \"plain\", \"plain\", \"plain\", \"plain\", \"plain\", \"plain\", \"plain\", \"plain\", \"prepare\", \"prepare\", \"prepare\", \"prepare\", \"prepare\", \"prepare\", \"prepare\", \"prepare\", \"price\", \"price\", \"price\", \"price\", \"price\", \"price\", \"price\", \"price\", \"private\", \"private\", \"private\", \"private\", \"private\", \"private\", \"private\", \"private\", \"problem\", \"problem\", \"problem\", \"problem\", \"problem\", \"problem\", \"problem\", \"problem\", \"process\", \"process\", \"process\", \"process\", \"process\", \"process\", \"process\", \"process\", \"prompt\", \"prompt\", \"prompt\", \"prompt\", \"prompt\", \"prompt\", \"prompt\", \"prompt\", \"proximity\", \"proximity\", \"proximity\", \"proximity\", \"proximity\", \"proximity\", \"proximity\", \"proximity\", \"public\", \"public\", \"public\", \"public\", \"public\", \"public\", \"public\", \"public\", \"put\", \"put\", \"put\", \"put\", \"put\", \"put\", \"put\", \"put\", \"quaint\", \"quaint\", \"quaint\", \"quaint\", \"quaint\", \"quaint\", \"quaint\", \"quaint\", \"question\", \"question\", \"question\", \"question\", \"question\", \"question\", \"question\", \"question\", \"quick\", \"quick\", \"quick\", \"quick\", \"quick\", \"quick\", \"quick\", \"quick\", \"quickly\", \"quickly\", \"quickly\", \"quickly\", \"quickly\", \"quickly\", \"quickly\", \"quickly\", \"quiet\", \"quiet\", \"quiet\", \"quiet\", \"quiet\", \"quiet\", \"quiet\", \"quiet\", \"recommendation\", \"recommendation\", \"recommendation\", \"recommendation\", \"recommendation\", \"recommendation\", \"recommendation\", \"recommendation\", \"red\", \"red\", \"red\", \"red\", \"red\", \"red\", \"red\", \"red\", \"relax\", \"relax\", \"relax\", \"relax\", \"relax\", \"relax\", \"relax\", \"relax\", \"rental\", \"rental\", \"rental\", \"rental\", \"rental\", \"rental\", \"rental\", \"rental\", \"reply\", \"reply\", \"reply\", \"reply\", \"reply\", \"reply\", \"reply\", \"reply\", \"request\", \"request\", \"request\", \"request\", \"request\", \"request\", \"request\", \"request\", \"reservation\", \"reservation\", \"reservation\", \"reservation\", \"reservation\", \"reservation\", \"reservation\", \"respond\", \"respond\", \"respond\", \"respond\", \"respond\", \"respond\", \"respond\", \"respond\", \"response\", \"response\", \"response\", \"response\", \"response\", \"response\", \"response\", \"response\", \"responsive\", \"responsive\", \"responsive\", \"responsive\", \"responsive\", \"responsive\", \"responsive\", \"responsive\", \"restaurant\", \"restaurant\", \"restaurant\", \"restaurant\", \"restaurant\", \"restaurant\", \"restaurant\", \"restaurant\", \"review\", \"review\", \"review\", \"review\", \"review\", \"review\", \"review\", \"review\", \"right\", \"right\", \"right\", \"right\", \"right\", \"right\", \"right\", \"right\", \"robert\", \"robert\", \"robert\", \"robert\", \"robert\", \"robert\", \"robert\", \"robert\", \"safe\", \"safe\", \"safe\", \"safe\", \"safe\", \"safe\", \"safe\", \"safe\", \"seem\", \"seem\", \"seem\", \"seem\", \"seem\", \"seem\", \"seem\", \"seem\", \"service\", \"service\", \"service\", \"service\", \"service\", \"service\", \"service\", \"service\", \"share\", \"share\", \"share\", \"share\", \"share\", \"share\", \"share\", \"share\", \"shop\", \"shop\", \"shop\", \"shop\", \"shop\", \"shop\", \"shop\", \"shop\", \"shopping\", \"shopping\", \"shopping\", \"shopping\", \"shopping\", \"shopping\", \"shopping\", \"shopping\", \"short\", \"short\", \"short\", \"short\", \"short\", \"short\", \"short\", \"short\", \"shower\", \"shower\", \"shower\", \"shower\", \"shower\", \"shower\", \"shower\", \"shower\", \"simple\", \"simple\", \"simple\", \"simple\", \"simple\", \"simple\", \"simple\", \"simple\", \"since\", \"since\", \"since\", \"since\", \"since\", \"since\", \"since\", \"since\", \"sleep\", \"sleep\", \"sleep\", \"sleep\", \"sleep\", \"sleep\", \"sleep\", \"sleep\", \"small\", \"small\", \"small\", \"small\", \"small\", \"small\", \"small\", \"small\", \"snack\", \"snack\", \"snack\", \"snack\", \"snack\", \"snack\", \"snack\", \"snack\", \"someone\", \"someone\", \"someone\", \"someone\", \"someone\", \"someone\", \"someone\", \"someone\", \"spacious\", \"spacious\", \"spacious\", \"spacious\", \"spacious\", \"spacious\", \"spacious\", \"spacious\", \"sparkle\", \"sparkle\", \"sparkle\", \"sparkle\", \"sparkle\", \"sparkle\", \"sparkle\", \"sparkle\", \"spot\", \"spot\", \"spot\", \"spot\", \"spot\", \"spot\", \"spot\", \"spot\", \"spotless\", \"spotless\", \"spotless\", \"spotless\", \"spotless\", \"spotless\", \"spotless\", \"spotless\", \"square\", \"square\", \"square\", \"square\", \"square\", \"square\", \"square\", \"square\", \"stair\", \"stair\", \"stair\", \"stair\", \"stair\", \"stair\", \"stair\", \"stair\", \"star\", \"star\", \"star\", \"star\", \"star\", \"star\", \"star\", \"star\", \"station\", \"station\", \"station\", \"station\", \"station\", \"station\", \"station\", \"station\", \"stock\", \"stock\", \"stock\", \"stock\", \"stock\", \"stock\", \"stock\", \"stock\", \"stop\", \"stop\", \"stop\", \"stop\", \"stop\", \"stop\", \"stop\", \"stop\", \"store\", \"store\", \"store\", \"store\", \"store\", \"store\", \"store\", \"store\", \"street\", \"street\", \"street\", \"street\", \"street\", \"street\", \"street\", \"street\", \"studio\", \"studio\", \"studio\", \"studio\", \"studio\", \"studio\", \"studio\", \"studio\", \"stylish\", \"stylish\", \"stylish\", \"stylish\", \"stylish\", \"stylish\", \"stylish\", \"stylish\", \"subway\", \"subway\", \"subway\", \"subway\", \"subway\", \"subway\", \"subway\", \"subway\", \"supply\", \"supply\", \"supply\", \"supply\", \"supply\", \"supply\", \"supply\", \"supply\", \"sure\", \"sure\", \"sure\", \"sure\", \"sure\", \"sure\", \"sure\", \"sure\", \"susan\", \"susan\", \"susan\", \"susan\", \"susan\", \"susan\", \"susan\", \"susan\", \"sweet\", \"sweet\", \"sweet\", \"sweet\", \"sweet\", \"sweet\", \"sweet\", \"sweet\", \"take\", \"take\", \"take\", \"take\", \"take\", \"take\", \"take\", \"take\", \"tea\", \"tea\", \"tea\", \"tea\", \"tea\", \"tea\", \"tea\", \"tea\", \"term\", \"term\", \"term\", \"term\", \"term\", \"term\", \"term\", \"term\", \"thank\", \"thank\", \"thank\", \"thank\", \"thank\", \"thank\", \"thank\", \"thank\", \"think\", \"think\", \"think\", \"think\", \"think\", \"think\", \"think\", \"think\", \"though\", \"though\", \"though\", \"though\", \"though\", \"though\", \"though\", \"though\", \"tidy\", \"tidy\", \"tidy\", \"tidy\", \"tidy\", \"tidy\", \"tidy\", \"tidy\", \"tiffany\", \"tiffany\", \"tiffany\", \"tiffany\", \"tiffany\", \"tiffany\", \"tiffany\", \"tiffany\", \"time\", \"time\", \"time\", \"time\", \"time\", \"time\", \"time\", \"time\", \"tip\", \"tip\", \"tip\", \"tip\", \"tip\", \"tip\", \"tip\", \"tip\", \"toiletry\", \"toiletry\", \"toiletry\", \"toiletry\", \"toiletry\", \"toiletry\", \"toiletry\", \"toiletry\", \"totally\", \"totally\", \"totally\", \"totally\", \"totally\", \"totally\", \"totally\", \"totally\", \"touch\", \"touch\", \"touch\", \"touch\", \"touch\", \"touch\", \"touch\", \"touch\", \"trail\", \"trail\", \"trail\", \"trail\", \"trail\", \"trail\", \"trail\", \"trail\", \"train\", \"train\", \"train\", \"train\", \"train\", \"train\", \"train\", \"train\", \"transport\", \"transport\", \"transport\", \"transport\", \"transport\", \"transport\", \"transport\", \"transport\", \"transportation\", \"transportation\", \"transportation\", \"transportation\", \"transportation\", \"transportation\", \"transportation\", \"transportation\", \"traveler\", \"traveler\", \"traveler\", \"traveler\", \"traveler\", \"traveler\", \"traveler\", \"traveler\", \"truly\", \"truly\", \"truly\", \"truly\", \"truly\", \"truly\", \"truly\", \"truly\", \"turn\", \"turn\", \"turn\", \"turn\", \"turn\", \"turn\", \"turn\", \"turn\", \"unit\", \"unit\", \"unit\", \"unit\", \"unit\", \"unit\", \"unit\", \"unit\", \"use\", \"use\", \"use\", \"use\", \"use\", \"use\", \"use\", \"use\", \"value\", \"value\", \"value\", \"value\", \"value\", \"value\", \"value\", \"value\", \"view\", \"view\", \"view\", \"view\", \"view\", \"view\", \"view\", \"view\", \"walk\", \"walk\", \"walk\", \"walk\", \"walk\", \"walk\", \"walk\", \"walk\", \"wall\", \"wall\", \"wall\", \"wall\", \"wall\", \"wall\", \"wall\", \"wall\", \"want\", \"want\", \"want\", \"want\", \"want\", \"want\", \"want\", \"want\", \"warm\", \"warm\", \"warm\", \"warm\", \"warm\", \"warm\", \"warm\", \"warm\", \"water\", \"water\", \"water\", \"water\", \"water\", \"water\", \"water\", \"water\", \"way\", \"way\", \"way\", \"way\", \"way\", \"way\", \"way\", \"way\", \"weekend\", \"weekend\", \"weekend\", \"weekend\", \"weekend\", \"weekend\", \"weekend\", \"weekend\", \"welcome\", \"welcome\", \"welcome\", \"welcome\", \"welcome\", \"welcome\", \"welcome\", \"welcome\", \"welcoming\", \"welcoming\", \"welcoming\", \"welcoming\", \"welcoming\", \"welcoming\", \"welcoming\", \"welcoming\", \"window\", \"window\", \"window\", \"window\", \"window\", \"window\", \"window\", \"window\", \"wish\", \"wish\", \"wish\", \"wish\", \"wish\", \"wish\", \"wish\", \"wish\", \"within\", \"within\", \"within\", \"within\", \"within\", \"within\", \"within\", \"within\", \"wonderful\", \"wonderful\", \"wonderful\", \"wonderful\", \"wonderful\", \"wonderful\", \"wonderful\", \"wonderful\", \"yet\", \"yet\", \"yet\", \"yet\", \"yet\", \"yet\", \"yet\", \"yet\", \"youre\", \"youre\", \"youre\", \"youre\", \"youre\", \"youre\", \"youre\", \"youre\"]}, \"R\": 30, \"lambda.step\": 0.01, \"plot.opts\": {\"xlab\": \"PC1\", \"ylab\": \"PC2\"}, \"topic.order\": [3, 2, 1, 8, 4, 6, 7, 5]};\n",
       "\n",
       "function LDAvis_load_lib(url, callback){\n",
       "  var s = document.createElement('script');\n",
       "  s.src = url;\n",
       "  s.async = true;\n",
       "  s.onreadystatechange = s.onload = callback;\n",
       "  s.onerror = function(){console.warn(\"failed to load library \" + url);};\n",
       "  document.getElementsByTagName(\"head\")[0].appendChild(s);\n",
       "}\n",
       "\n",
       "if(typeof(LDAvis) !== \"undefined\"){\n",
       "   // already loaded: just create the visualization\n",
       "   !function(LDAvis){\n",
       "       new LDAvis(\"#\" + \"ldavis_el1565629788082759046136855659\", ldavis_el1565629788082759046136855659_data);\n",
       "   }(LDAvis);\n",
       "}else if(typeof define === \"function\" && define.amd){\n",
       "   // require.js is available: use it to load d3/LDAvis\n",
       "   require.config({paths: {d3: \"https://d3js.org/d3.v5\"}});\n",
       "   require([\"d3\"], function(d3){\n",
       "      window.d3 = d3;\n",
       "      LDAvis_load_lib(\"https://cdn.jsdelivr.net/gh/bmabey/pyLDAvis@3.3.1/pyLDAvis/js/ldavis.v3.0.0.js\", function(){\n",
       "        new LDAvis(\"#\" + \"ldavis_el1565629788082759046136855659\", ldavis_el1565629788082759046136855659_data);\n",
       "      });\n",
       "    });\n",
       "}else{\n",
       "    // require.js not available: dynamically load d3 & LDAvis\n",
       "    LDAvis_load_lib(\"https://d3js.org/d3.v5.js\", function(){\n",
       "         LDAvis_load_lib(\"https://cdn.jsdelivr.net/gh/bmabey/pyLDAvis@3.3.1/pyLDAvis/js/ldavis.v3.0.0.js\", function(){\n",
       "                 new LDAvis(\"#\" + \"ldavis_el1565629788082759046136855659\", ldavis_el1565629788082759046136855659_data);\n",
       "            })\n",
       "         });\n",
       "}\n",
       "</script>"
      ],
      "text/plain": [
       "PreparedData(topic_coordinates=                x           y  topics  cluster       Freq\n",
       "topic                                                    \n",
       "2     -108.958252 -208.941483       1        1  18.984900\n",
       "1      186.487061  -98.103249       2        1  15.641819\n",
       "0       19.245832  160.858780       3        1  13.019546\n",
       "7      170.658829   75.445076       4        1  11.695744\n",
       "3       -1.386411  -35.043739       5        1  11.118325\n",
       "5     -145.800095  106.944611       6        1  10.927566\n",
       "6       64.834541 -221.825272       7        1   9.741357\n",
       "4     -196.906036  -58.990913       8        1   8.870742, topic_info=         Term          Freq         Total Category  logprob  loglift\n",
       "199     great  58539.000000  58539.000000  Default  30.0000  30.0000\n",
       "304      nice  23941.000000  23941.000000  Default  29.0000  29.0000\n",
       "266  location  35978.000000  35978.000000  Default  28.0000  28.0000\n",
       "91      close  15776.000000  15776.000000  Default  27.0000  27.0000\n",
       "89      clean  36290.000000  36290.000000  Default  26.0000  26.0000\n",
       "..        ...           ...           ...      ...      ...      ...\n",
       "222      host   3396.344551  27027.002813   Topic8  -3.5402   0.3483\n",
       "56        big    989.341698   3192.485812   Topic8  -4.7736   1.2509\n",
       "266  location   1721.246773  35978.350593   Topic8  -4.2199  -0.6175\n",
       "418   station   1018.255497   6221.550784   Topic8  -4.7448   0.6125\n",
       "89      clean   1418.025541  36290.814783   Topic8  -4.4136  -0.8199\n",
       "\n",
       "[415 rows x 6 columns], token_table=      Topic      Freq        Term\n",
       "term                             \n",
       "1         1  0.004314  absolutely\n",
       "1         2  0.007704  absolutely\n",
       "1         3  0.034513  absolutely\n",
       "1         4  0.030199  absolutely\n",
       "1         5  0.905041  absolutely\n",
       "...     ...       ...         ...\n",
       "499       4  0.019041       youre\n",
       "499       5  0.680945       youre\n",
       "499       6  0.001813       youre\n",
       "499       7  0.015414       youre\n",
       "499       8  0.031735       youre\n",
       "\n",
       "[2533 rows x 3 columns], R=30, lambda_step=0.01, plot_opts={'xlab': 'PC1', 'ylab': 'PC2'}, topic_order=[3, 2, 1, 8, 4, 6, 7, 5])"
      ]
     },
     "execution_count": 70,
     "metadata": {},
     "output_type": "execute_result"
    }
   ],
   "source": [
    "pyLDAvis.enable_notebook()\n",
    "\n",
    "#run the visualization [mds is a function to use for visualizing the \"distance\" between topics]\n",
    "pyLDAvis.sklearn.prepare(lda_review_2, bow_review,\\\n",
    "                         bow_vectorizer_review,mds='tsne')"
   ]
  },
  {
   "cell_type": "markdown",
   "metadata": {},
   "source": [
    "According to the words in each topic, we name each of the topics as follow:\\\n",
    "Topic_0 4: kitchen, food, bed\\\n",
    "Topic_1 1: nearby restaurant, quiet environment\\\n",
    "Topic_2 2: check-in&out,parking\\\n",
    "Topic_3 3: quiet environment\\\n",
    "Topic_4 8: airport,transportation\\\n",
    "Topic_5 6: cleaness, communication with host\\\n",
    "Topic_6 7: quick response from host\\\n",
    "Topic_7 5: helpful and responsive host, amenities"
   ]
  },
  {
   "cell_type": "code",
   "execution_count": 211,
   "metadata": {},
   "outputs": [
    {
     "data": {
      "text/html": [
       "<div>\n",
       "<style scoped>\n",
       "    .dataframe tbody tr th:only-of-type {\n",
       "        vertical-align: middle;\n",
       "    }\n",
       "\n",
       "    .dataframe tbody tr th {\n",
       "        vertical-align: top;\n",
       "    }\n",
       "\n",
       "    .dataframe thead th {\n",
       "        text-align: right;\n",
       "    }\n",
       "</style>\n",
       "<table border=\"1\" class=\"dataframe\">\n",
       "  <thead>\n",
       "    <tr style=\"text-align: right;\">\n",
       "      <th></th>\n",
       "      <th>Topic_0</th>\n",
       "      <th>Topic_1</th>\n",
       "      <th>Topic_2</th>\n",
       "      <th>Topic_3</th>\n",
       "      <th>Topic_4</th>\n",
       "      <th>Topic_5</th>\n",
       "      <th>Topic_6</th>\n",
       "      <th>Topic_7</th>\n",
       "      <th>review_topic</th>\n",
       "    </tr>\n",
       "    <tr>\n",
       "      <th>id</th>\n",
       "      <th></th>\n",
       "      <th></th>\n",
       "      <th></th>\n",
       "      <th></th>\n",
       "      <th></th>\n",
       "      <th></th>\n",
       "      <th></th>\n",
       "      <th></th>\n",
       "      <th></th>\n",
       "    </tr>\n",
       "  </thead>\n",
       "  <tbody>\n",
       "    <tr>\n",
       "      <th>37776825</th>\n",
       "      <td>0.059541</td>\n",
       "      <td>0.056998</td>\n",
       "      <td>0.071553</td>\n",
       "      <td>0.169441</td>\n",
       "      <td>0.057931</td>\n",
       "      <td>0.381253</td>\n",
       "      <td>0.076461</td>\n",
       "      <td>0.126821</td>\n",
       "      <td>5</td>\n",
       "    </tr>\n",
       "    <tr>\n",
       "      <th>41842494</th>\n",
       "      <td>0.041105</td>\n",
       "      <td>0.616742</td>\n",
       "      <td>0.032224</td>\n",
       "      <td>0.053054</td>\n",
       "      <td>0.101484</td>\n",
       "      <td>0.061177</td>\n",
       "      <td>0.040056</td>\n",
       "      <td>0.054158</td>\n",
       "      <td>1</td>\n",
       "    </tr>\n",
       "    <tr>\n",
       "      <th>45282151</th>\n",
       "      <td>0.042181</td>\n",
       "      <td>0.051322</td>\n",
       "      <td>0.154868</td>\n",
       "      <td>0.299625</td>\n",
       "      <td>0.169130</td>\n",
       "      <td>0.064678</td>\n",
       "      <td>0.143070</td>\n",
       "      <td>0.075126</td>\n",
       "      <td>3</td>\n",
       "    </tr>\n",
       "    <tr>\n",
       "      <th>49022647</th>\n",
       "      <td>0.229794</td>\n",
       "      <td>0.031625</td>\n",
       "      <td>0.159674</td>\n",
       "      <td>0.038798</td>\n",
       "      <td>0.027350</td>\n",
       "      <td>0.161497</td>\n",
       "      <td>0.036119</td>\n",
       "      <td>0.315143</td>\n",
       "      <td>7</td>\n",
       "    </tr>\n",
       "    <tr>\n",
       "      <th>52503327</th>\n",
       "      <td>0.013918</td>\n",
       "      <td>0.339400</td>\n",
       "      <td>0.130065</td>\n",
       "      <td>0.048543</td>\n",
       "      <td>0.238670</td>\n",
       "      <td>0.070627</td>\n",
       "      <td>0.032722</td>\n",
       "      <td>0.126055</td>\n",
       "      <td>1</td>\n",
       "    </tr>\n",
       "  </tbody>\n",
       "</table>\n",
       "</div>"
      ],
      "text/plain": [
       "           Topic_0   Topic_1   Topic_2   Topic_3   Topic_4   Topic_5  \\\n",
       "id                                                                     \n",
       "37776825  0.059541  0.056998  0.071553  0.169441  0.057931  0.381253   \n",
       "41842494  0.041105  0.616742  0.032224  0.053054  0.101484  0.061177   \n",
       "45282151  0.042181  0.051322  0.154868  0.299625  0.169130  0.064678   \n",
       "49022647  0.229794  0.031625  0.159674  0.038798  0.027350  0.161497   \n",
       "52503327  0.013918  0.339400  0.130065  0.048543  0.238670  0.070627   \n",
       "\n",
       "           Topic_6   Topic_7  review_topic  \n",
       "id                                          \n",
       "37776825  0.076461  0.126821             5  \n",
       "41842494  0.040056  0.054158             1  \n",
       "45282151  0.143070  0.075126             3  \n",
       "49022647  0.036119  0.315143             7  \n",
       "52503327  0.032722  0.126055             1  "
      ]
     },
     "execution_count": 211,
     "metadata": {},
     "output_type": "execute_result"
    }
   ],
   "source": [
    "lda_review_topic_weights = lda_review_2.transform(bow_review)\n",
    "#array of document \"names\" and topic \"names\" (\"names\" are just indecies)\n",
    "doc_names = reviews_df.id\n",
    "review_topic_names = [\"Topic_\" + str(i) for i in range(8)]\n",
    "\n",
    "#convert to dataframe\n",
    "df_review_topic = pd.DataFrame(np.round(lda_review_topic_weights, 8),\\\n",
    "                                    columns=review_topic_names, index=doc_names)\n",
    "#vector of indecies for columns with the highest value by each row\n",
    "review_topic = np.argmax(df_review_topic.values, axis=1)\n",
    "\n",
    "#add dominant_topic as a column to df_description_topic\n",
    "df_review_topic['review_topic'] = review_topic\n",
    "df_review_topic.head(5)"
   ]
  },
  {
   "cell_type": "code",
   "execution_count": 213,
   "metadata": {},
   "outputs": [
    {
     "data": {
      "text/html": [
       "<div>\n",
       "<style scoped>\n",
       "    .dataframe tbody tr th:only-of-type {\n",
       "        vertical-align: middle;\n",
       "    }\n",
       "\n",
       "    .dataframe tbody tr th {\n",
       "        vertical-align: top;\n",
       "    }\n",
       "\n",
       "    .dataframe thead th {\n",
       "        text-align: right;\n",
       "    }\n",
       "</style>\n",
       "<table border=\"1\" class=\"dataframe\">\n",
       "  <thead>\n",
       "    <tr style=\"text-align: right;\">\n",
       "      <th></th>\n",
       "      <th>review_2nd_topic</th>\n",
       "    </tr>\n",
       "  </thead>\n",
       "  <tbody>\n",
       "    <tr>\n",
       "      <th>0</th>\n",
       "      <td>3</td>\n",
       "    </tr>\n",
       "    <tr>\n",
       "      <th>1</th>\n",
       "      <td>4</td>\n",
       "    </tr>\n",
       "    <tr>\n",
       "      <th>2</th>\n",
       "      <td>4</td>\n",
       "    </tr>\n",
       "    <tr>\n",
       "      <th>3</th>\n",
       "      <td>0</td>\n",
       "    </tr>\n",
       "    <tr>\n",
       "      <th>4</th>\n",
       "      <td>4</td>\n",
       "    </tr>\n",
       "  </tbody>\n",
       "</table>\n",
       "</div>"
      ],
      "text/plain": [
       "   review_2nd_topic\n",
       "0                 3\n",
       "1                 4\n",
       "2                 4\n",
       "3                 0\n",
       "4                 4"
      ]
     },
     "execution_count": 213,
     "metadata": {},
     "output_type": "execute_result"
    }
   ],
   "source": [
    "review_2nd_topic_df=pd.DataFrame(np.array(df_review_topic).argsort()[:,-3],columns = ['review_2nd_topic'])\n",
    "review_2nd_topic_df.head()"
   ]
  },
  {
   "cell_type": "code",
   "execution_count": 214,
   "metadata": {},
   "outputs": [
    {
     "data": {
      "text/html": [
       "<div>\n",
       "<style scoped>\n",
       "    .dataframe tbody tr th:only-of-type {\n",
       "        vertical-align: middle;\n",
       "    }\n",
       "\n",
       "    .dataframe tbody tr th {\n",
       "        vertical-align: top;\n",
       "    }\n",
       "\n",
       "    .dataframe thead th {\n",
       "        text-align: right;\n",
       "    }\n",
       "</style>\n",
       "<table border=\"1\" class=\"dataframe\">\n",
       "  <thead>\n",
       "    <tr style=\"text-align: right;\">\n",
       "      <th></th>\n",
       "      <th>review_3rd_topic</th>\n",
       "    </tr>\n",
       "  </thead>\n",
       "  <tbody>\n",
       "    <tr>\n",
       "      <th>0</th>\n",
       "      <td>7</td>\n",
       "    </tr>\n",
       "    <tr>\n",
       "      <th>1</th>\n",
       "      <td>5</td>\n",
       "    </tr>\n",
       "    <tr>\n",
       "      <th>2</th>\n",
       "      <td>2</td>\n",
       "    </tr>\n",
       "    <tr>\n",
       "      <th>3</th>\n",
       "      <td>5</td>\n",
       "    </tr>\n",
       "    <tr>\n",
       "      <th>4</th>\n",
       "      <td>2</td>\n",
       "    </tr>\n",
       "  </tbody>\n",
       "</table>\n",
       "</div>"
      ],
      "text/plain": [
       "   review_3rd_topic\n",
       "0                 7\n",
       "1                 5\n",
       "2                 2\n",
       "3                 5\n",
       "4                 2"
      ]
     },
     "execution_count": 214,
     "metadata": {},
     "output_type": "execute_result"
    }
   ],
   "source": [
    "review_3rd_topic_df=pd.DataFrame(np.array(df_review_topic).argsort()[:,-4],columns = ['review_3rd_topic'])\n",
    "review_3rd_topic_df.head()"
   ]
  },
  {
   "cell_type": "code",
   "execution_count": 215,
   "metadata": {},
   "outputs": [
    {
     "data": {
      "text/html": [
       "<div>\n",
       "<style scoped>\n",
       "    .dataframe tbody tr th:only-of-type {\n",
       "        vertical-align: middle;\n",
       "    }\n",
       "\n",
       "    .dataframe tbody tr th {\n",
       "        vertical-align: top;\n",
       "    }\n",
       "\n",
       "    .dataframe thead th {\n",
       "        text-align: right;\n",
       "    }\n",
       "</style>\n",
       "<table border=\"1\" class=\"dataframe\">\n",
       "  <thead>\n",
       "    <tr style=\"text-align: right;\">\n",
       "      <th></th>\n",
       "      <th>id</th>\n",
       "      <th>Topic_0</th>\n",
       "      <th>Topic_1</th>\n",
       "      <th>Topic_2</th>\n",
       "      <th>Topic_3</th>\n",
       "      <th>Topic_4</th>\n",
       "      <th>Topic_5</th>\n",
       "      <th>Topic_6</th>\n",
       "      <th>Topic_7</th>\n",
       "      <th>review_topic</th>\n",
       "    </tr>\n",
       "  </thead>\n",
       "  <tbody>\n",
       "    <tr>\n",
       "      <th>0</th>\n",
       "      <td>37776825</td>\n",
       "      <td>0.059541</td>\n",
       "      <td>0.056998</td>\n",
       "      <td>0.071553</td>\n",
       "      <td>0.169441</td>\n",
       "      <td>0.057931</td>\n",
       "      <td>0.381253</td>\n",
       "      <td>0.076461</td>\n",
       "      <td>0.126821</td>\n",
       "      <td>5</td>\n",
       "    </tr>\n",
       "    <tr>\n",
       "      <th>1</th>\n",
       "      <td>41842494</td>\n",
       "      <td>0.041105</td>\n",
       "      <td>0.616742</td>\n",
       "      <td>0.032224</td>\n",
       "      <td>0.053054</td>\n",
       "      <td>0.101484</td>\n",
       "      <td>0.061177</td>\n",
       "      <td>0.040056</td>\n",
       "      <td>0.054158</td>\n",
       "      <td>1</td>\n",
       "    </tr>\n",
       "    <tr>\n",
       "      <th>2</th>\n",
       "      <td>45282151</td>\n",
       "      <td>0.042181</td>\n",
       "      <td>0.051322</td>\n",
       "      <td>0.154868</td>\n",
       "      <td>0.299625</td>\n",
       "      <td>0.169130</td>\n",
       "      <td>0.064678</td>\n",
       "      <td>0.143070</td>\n",
       "      <td>0.075126</td>\n",
       "      <td>3</td>\n",
       "    </tr>\n",
       "    <tr>\n",
       "      <th>3</th>\n",
       "      <td>49022647</td>\n",
       "      <td>0.229794</td>\n",
       "      <td>0.031625</td>\n",
       "      <td>0.159674</td>\n",
       "      <td>0.038798</td>\n",
       "      <td>0.027350</td>\n",
       "      <td>0.161497</td>\n",
       "      <td>0.036119</td>\n",
       "      <td>0.315143</td>\n",
       "      <td>7</td>\n",
       "    </tr>\n",
       "    <tr>\n",
       "      <th>4</th>\n",
       "      <td>52503327</td>\n",
       "      <td>0.013918</td>\n",
       "      <td>0.339400</td>\n",
       "      <td>0.130065</td>\n",
       "      <td>0.048543</td>\n",
       "      <td>0.238670</td>\n",
       "      <td>0.070627</td>\n",
       "      <td>0.032722</td>\n",
       "      <td>0.126055</td>\n",
       "      <td>1</td>\n",
       "    </tr>\n",
       "  </tbody>\n",
       "</table>\n",
       "</div>"
      ],
      "text/plain": [
       "         id   Topic_0   Topic_1   Topic_2   Topic_3   Topic_4   Topic_5  \\\n",
       "0  37776825  0.059541  0.056998  0.071553  0.169441  0.057931  0.381253   \n",
       "1  41842494  0.041105  0.616742  0.032224  0.053054  0.101484  0.061177   \n",
       "2  45282151  0.042181  0.051322  0.154868  0.299625  0.169130  0.064678   \n",
       "3  49022647  0.229794  0.031625  0.159674  0.038798  0.027350  0.161497   \n",
       "4  52503327  0.013918  0.339400  0.130065  0.048543  0.238670  0.070627   \n",
       "\n",
       "    Topic_6   Topic_7  review_topic  \n",
       "0  0.076461  0.126821             5  \n",
       "1  0.040056  0.054158             1  \n",
       "2  0.143070  0.075126             3  \n",
       "3  0.036119  0.315143             7  \n",
       "4  0.032722  0.126055             1  "
      ]
     },
     "execution_count": 215,
     "metadata": {},
     "output_type": "execute_result"
    }
   ],
   "source": [
    "df_review_topic.reset_index(inplace=True)\n",
    "df_review_topic.head(5)"
   ]
  },
  {
   "cell_type": "code",
   "execution_count": 206,
   "metadata": {},
   "outputs": [],
   "source": [
    "df_review_topic.to_csv('review_topic.csv',index=False)"
   ]
  },
  {
   "cell_type": "code",
   "execution_count": 216,
   "metadata": {},
   "outputs": [
    {
     "data": {
      "text/html": [
       "<div>\n",
       "<style scoped>\n",
       "    .dataframe tbody tr th:only-of-type {\n",
       "        vertical-align: middle;\n",
       "    }\n",
       "\n",
       "    .dataframe tbody tr th {\n",
       "        vertical-align: top;\n",
       "    }\n",
       "\n",
       "    .dataframe thead th {\n",
       "        text-align: right;\n",
       "    }\n",
       "</style>\n",
       "<table border=\"1\" class=\"dataframe\">\n",
       "  <thead>\n",
       "    <tr style=\"text-align: right;\">\n",
       "      <th></th>\n",
       "      <th>id</th>\n",
       "      <th>review_topic</th>\n",
       "      <th>review_2nd_topic</th>\n",
       "      <th>review_3rd_topic</th>\n",
       "    </tr>\n",
       "  </thead>\n",
       "  <tbody>\n",
       "    <tr>\n",
       "      <th>0</th>\n",
       "      <td>37776825</td>\n",
       "      <td>5</td>\n",
       "      <td>3</td>\n",
       "      <td>7</td>\n",
       "    </tr>\n",
       "    <tr>\n",
       "      <th>1</th>\n",
       "      <td>41842494</td>\n",
       "      <td>1</td>\n",
       "      <td>4</td>\n",
       "      <td>5</td>\n",
       "    </tr>\n",
       "    <tr>\n",
       "      <th>2</th>\n",
       "      <td>45282151</td>\n",
       "      <td>3</td>\n",
       "      <td>4</td>\n",
       "      <td>2</td>\n",
       "    </tr>\n",
       "    <tr>\n",
       "      <th>3</th>\n",
       "      <td>49022647</td>\n",
       "      <td>7</td>\n",
       "      <td>0</td>\n",
       "      <td>5</td>\n",
       "    </tr>\n",
       "    <tr>\n",
       "      <th>4</th>\n",
       "      <td>52503327</td>\n",
       "      <td>1</td>\n",
       "      <td>4</td>\n",
       "      <td>2</td>\n",
       "    </tr>\n",
       "  </tbody>\n",
       "</table>\n",
       "</div>"
      ],
      "text/plain": [
       "         id  review_topic  review_2nd_topic  review_3rd_topic\n",
       "0  37776825             5                 3                 7\n",
       "1  41842494             1                 4                 5\n",
       "2  45282151             3                 4                 2\n",
       "3  49022647             7                 0                 5\n",
       "4  52503327             1                 4                 2"
      ]
     },
     "execution_count": 216,
     "metadata": {},
     "output_type": "execute_result"
    }
   ],
   "source": [
    "df_review_topics=pd.concat([df_review_topic,review_2nd_topic_df],axis=1)\n",
    "df_review_topics=pd.concat([df_review_topics,review_3rd_topic_df],axis=1)\n",
    "df_review_topics=df_review_topics[[\"id\",\"review_topic\",\"review_2nd_topic\",\"review_3rd_topic\"]]\n",
    "df_review_topics.head(5)"
   ]
  },
  {
   "cell_type": "markdown",
   "metadata": {},
   "source": [
    "# 2. Sentiment Analysis"
   ]
  },
  {
   "cell_type": "code",
   "execution_count": 3,
   "metadata": {},
   "outputs": [
    {
     "name": "stderr",
     "output_type": "stream",
     "text": [
      "[nltk_data] Downloading package vader_lexicon to\n",
      "[nltk_data]     C:\\Users\\nsun9\\AppData\\Roaming\\nltk_data...\n",
      "[nltk_data]   Package vader_lexicon is already up-to-date!\n"
     ]
    }
   ],
   "source": [
    "nltk.download('vader_lexicon')\n",
    "analyzer = SentimentIntensityAnalyzer()"
   ]
  },
  {
   "cell_type": "code",
   "execution_count": 6,
   "metadata": {},
   "outputs": [],
   "source": [
    "def analyze_sentiment_vader(review):\n",
    "    scores = analyzer.polarity_scores(review)  \n",
    "\n",
    "    return scores['compound']\n",
    "\n",
    "def main():\n",
    "\tdf = pd.read_csv(\"reviews.csv\")\n",
    "\n",
    "\treviews = np.array(df[\"comments\"])\n",
    "\tscores = []\n",
    "\tdrop_index_list = []\n",
    "\n",
    "\tfor review in reviews:\n",
    "\t\ttry:\n",
    "\t\t\tscore = analyze_sentiment_vader(review)\n",
    "\t\t\tscores.append(\"-\" if score == 0 and detect(review) != \"en\" else score)\n",
    "\t\texcept:\n",
    "\t\t\tscores.append(\"-\")\n",
    "\t\t\tpass\n",
    "\tprint(\"review score done\")\n",
    "\n",
    "\n",
    "\tdf[\"sentiment_scores\"] = scores\n",
    "\tdf = df[df[\"sentiment_scores\"]!=\"-\"]\n",
    "\n",
    "    \n",
    "\treturn df"
   ]
  },
  {
   "cell_type": "code",
   "execution_count": 27,
   "metadata": {},
   "outputs": [
    {
     "name": "stdout",
     "output_type": "stream",
     "text": [
      "review score done\n"
     ]
    },
    {
     "data": {
      "text/html": [
       "<div>\n",
       "<style scoped>\n",
       "    .dataframe tbody tr th:only-of-type {\n",
       "        vertical-align: middle;\n",
       "    }\n",
       "\n",
       "    .dataframe tbody tr th {\n",
       "        vertical-align: top;\n",
       "    }\n",
       "\n",
       "    .dataframe thead th {\n",
       "        text-align: right;\n",
       "    }\n",
       "</style>\n",
       "<table border=\"1\" class=\"dataframe\">\n",
       "  <thead>\n",
       "    <tr style=\"text-align: right;\">\n",
       "      <th></th>\n",
       "      <th>listing_id</th>\n",
       "      <th>id</th>\n",
       "      <th>date</th>\n",
       "      <th>reviewer_id</th>\n",
       "      <th>reviewer_name</th>\n",
       "      <th>comments</th>\n",
       "      <th>sentiment_scores</th>\n",
       "    </tr>\n",
       "  </thead>\n",
       "  <tbody>\n",
       "    <tr>\n",
       "      <th>0</th>\n",
       "      <td>3781</td>\n",
       "      <td>37776825</td>\n",
       "      <td>2015-07-10</td>\n",
       "      <td>36059247</td>\n",
       "      <td>Greg</td>\n",
       "      <td>The apartment was as advertised and Frank was ...</td>\n",
       "      <td>0.807</td>\n",
       "    </tr>\n",
       "    <tr>\n",
       "      <th>1</th>\n",
       "      <td>3781</td>\n",
       "      <td>41842494</td>\n",
       "      <td>2015-08-09</td>\n",
       "      <td>10459388</td>\n",
       "      <td>Tai</td>\n",
       "      <td>It was a pleasure to stay at Frank's place. Th...</td>\n",
       "      <td>0.5719</td>\n",
       "    </tr>\n",
       "    <tr>\n",
       "      <th>2</th>\n",
       "      <td>3781</td>\n",
       "      <td>45282151</td>\n",
       "      <td>2015-09-01</td>\n",
       "      <td>12264652</td>\n",
       "      <td>Damien</td>\n",
       "      <td>The apartment description is entirely faithful...</td>\n",
       "      <td>0.9557</td>\n",
       "    </tr>\n",
       "    <tr>\n",
       "      <th>3</th>\n",
       "      <td>3781</td>\n",
       "      <td>49022647</td>\n",
       "      <td>2015-09-30</td>\n",
       "      <td>41426327</td>\n",
       "      <td>Mike</td>\n",
       "      <td>Thoroughly enjoyed my time at Frank's home. Ha...</td>\n",
       "      <td>0.978</td>\n",
       "    </tr>\n",
       "    <tr>\n",
       "      <th>4</th>\n",
       "      <td>3781</td>\n",
       "      <td>52503327</td>\n",
       "      <td>2015-10-30</td>\n",
       "      <td>15151513</td>\n",
       "      <td>Ivan</td>\n",
       "      <td>Great value for the money! This location has e...</td>\n",
       "      <td>0.5578</td>\n",
       "    </tr>\n",
       "  </tbody>\n",
       "</table>\n",
       "</div>"
      ],
      "text/plain": [
       "   listing_id        id        date  reviewer_id reviewer_name  \\\n",
       "0        3781  37776825  2015-07-10     36059247          Greg   \n",
       "1        3781  41842494  2015-08-09     10459388           Tai   \n",
       "2        3781  45282151  2015-09-01     12264652        Damien   \n",
       "3        3781  49022647  2015-09-30     41426327          Mike   \n",
       "4        3781  52503327  2015-10-30     15151513          Ivan   \n",
       "\n",
       "                                            comments sentiment_scores  \n",
       "0  The apartment was as advertised and Frank was ...            0.807  \n",
       "1  It was a pleasure to stay at Frank's place. Th...           0.5719  \n",
       "2  The apartment description is entirely faithful...           0.9557  \n",
       "3  Thoroughly enjoyed my time at Frank's home. Ha...            0.978  \n",
       "4  Great value for the money! This location has e...           0.5578  "
      ]
     },
     "execution_count": 27,
     "metadata": {},
     "output_type": "execute_result"
    }
   ],
   "source": [
    "review_new=main()\n",
    "review_new.head()"
   ]
  },
  {
   "cell_type": "code",
   "execution_count": 28,
   "metadata": {},
   "outputs": [],
   "source": [
    "review_new[\"sentiment_scores\"]=review_new[\"sentiment_scores\"].astype(\"float64\")"
   ]
  },
  {
   "cell_type": "markdown",
   "metadata": {},
   "source": [
    "Calculate the mean and standard deviation to get a general idea"
   ]
  },
  {
   "cell_type": "code",
   "execution_count": 29,
   "metadata": {},
   "outputs": [
    {
     "data": {
      "text/plain": [
       "(0.8141962465205614, 0.267160811033852)"
      ]
     },
     "execution_count": 29,
     "metadata": {},
     "output_type": "execute_result"
    }
   ],
   "source": [
    "review_new[\"sentiment_scores\"].mean(),review_new[\"sentiment_scores\"].std()"
   ]
  },
  {
   "cell_type": "markdown",
   "metadata": {},
   "source": [
    "Plot the histogram to explore the distribution of the sentiment scores"
   ]
  },
  {
   "cell_type": "code",
   "execution_count": 11,
   "metadata": {},
   "outputs": [
    {
     "data": {
      "text/plain": [
       "array([<matplotlib.axes._subplots.AxesSubplot object at 0x000002B5E9C07E20>],\n",
       "      dtype=object)"
      ]
     },
     "execution_count": 11,
     "metadata": {},
     "output_type": "execute_result"
    },
    {
     "data": {
      "image/png": "[encoded data removed]",
      "text/plain": [
       "<Figure size 1080x360 with 1 Axes>"
      ]
     },
     "metadata": {
      "needs_background": "light"
     },
     "output_type": "display_data"
    }
   ],
   "source": [
    "fig1 , ax1 = plt.subplots(nrows=1,ncols=1, figsize = (15,5))\n",
    "review_new.hist(column='sentiment_scores',bins=40,ax=ax1)"
   ]
  },
  {
   "cell_type": "markdown",
   "metadata": {},
   "source": [
    "Most of the compounding scores are above 0.5. In order to compare the results, we set 5 levels, from “A” to “E”, based on the distribution of all the scores. Those five buckets can help us compare the relative preference customers have on all the listings. "
   ]
  },
  {
   "cell_type": "code",
   "execution_count": 13,
   "metadata": {},
   "outputs": [],
   "source": [
    "def assign_review_grade(score,score_mean,score_std):\n",
    "    if score>0.95:\n",
    "        return \"A\"\n",
    "    elif score>0.9:\n",
    "        return \"B\"\n",
    "    elif score>0.6:\n",
    "        return \"C\"\n",
    "    elif score>0.3:\n",
    "        return \"D\"\n",
    "    else:\n",
    "        return \"E\""
   ]
  },
  {
   "cell_type": "code",
   "execution_count": 14,
   "metadata": {
    "scrolled": true
   },
   "outputs": [
    {
     "data": {
      "text/plain": [
       "C    0.365008\n",
       "A    0.305147\n",
       "B    0.217738\n",
       "D    0.075959\n",
       "E    0.036148\n",
       "Name: sentiment_grades, dtype: float64"
      ]
     },
     "execution_count": 14,
     "metadata": {},
     "output_type": "execute_result"
    }
   ],
   "source": [
    "review_new[\"sentiment_grades\"]=review_new[\"sentiment_scores\"].apply(assign_review_grade,score_mean=review_new[\"sentiment_scores\"].mean(),\\\n",
    "                                                      score_std=review_new[\"sentiment_scores\"].std())\n",
    "review_new[\"sentiment_grades\"].value_counts(normalize=True)"
   ]
  },
  {
   "cell_type": "code",
   "execution_count": 30,
   "metadata": {
    "scrolled": true
   },
   "outputs": [
    {
     "data": {
      "text/html": [
       "<div>\n",
       "<style scoped>\n",
       "    .dataframe tbody tr th:only-of-type {\n",
       "        vertical-align: middle;\n",
       "    }\n",
       "\n",
       "    .dataframe tbody tr th {\n",
       "        vertical-align: top;\n",
       "    }\n",
       "\n",
       "    .dataframe thead th {\n",
       "        text-align: right;\n",
       "    }\n",
       "</style>\n",
       "<table border=\"1\" class=\"dataframe\">\n",
       "  <thead>\n",
       "    <tr style=\"text-align: right;\">\n",
       "      <th></th>\n",
       "      <th>listing_id</th>\n",
       "      <th>id</th>\n",
       "      <th>date</th>\n",
       "      <th>reviewer_id</th>\n",
       "      <th>reviewer_name</th>\n",
       "      <th>comments</th>\n",
       "      <th>sentiment_scores</th>\n",
       "      <th>review_topic</th>\n",
       "      <th>review_2nd_topic</th>\n",
       "      <th>review_3rd_topic</th>\n",
       "    </tr>\n",
       "  </thead>\n",
       "  <tbody>\n",
       "    <tr>\n",
       "      <th>0</th>\n",
       "      <td>3781</td>\n",
       "      <td>37776825</td>\n",
       "      <td>2015-07-10</td>\n",
       "      <td>36059247</td>\n",
       "      <td>Greg</td>\n",
       "      <td>The apartment was as advertised and Frank was ...</td>\n",
       "      <td>0.8070</td>\n",
       "      <td>5.0</td>\n",
       "      <td>3.0</td>\n",
       "      <td>7.0</td>\n",
       "    </tr>\n",
       "    <tr>\n",
       "      <th>1</th>\n",
       "      <td>3781</td>\n",
       "      <td>41842494</td>\n",
       "      <td>2015-08-09</td>\n",
       "      <td>10459388</td>\n",
       "      <td>Tai</td>\n",
       "      <td>It was a pleasure to stay at Frank's place. Th...</td>\n",
       "      <td>0.5719</td>\n",
       "      <td>1.0</td>\n",
       "      <td>4.0</td>\n",
       "      <td>5.0</td>\n",
       "    </tr>\n",
       "    <tr>\n",
       "      <th>2</th>\n",
       "      <td>3781</td>\n",
       "      <td>45282151</td>\n",
       "      <td>2015-09-01</td>\n",
       "      <td>12264652</td>\n",
       "      <td>Damien</td>\n",
       "      <td>The apartment description is entirely faithful...</td>\n",
       "      <td>0.9557</td>\n",
       "      <td>3.0</td>\n",
       "      <td>4.0</td>\n",
       "      <td>2.0</td>\n",
       "    </tr>\n",
       "    <tr>\n",
       "      <th>3</th>\n",
       "      <td>3781</td>\n",
       "      <td>49022647</td>\n",
       "      <td>2015-09-30</td>\n",
       "      <td>41426327</td>\n",
       "      <td>Mike</td>\n",
       "      <td>Thoroughly enjoyed my time at Frank's home. Ha...</td>\n",
       "      <td>0.9780</td>\n",
       "      <td>7.0</td>\n",
       "      <td>0.0</td>\n",
       "      <td>5.0</td>\n",
       "    </tr>\n",
       "    <tr>\n",
       "      <th>4</th>\n",
       "      <td>3781</td>\n",
       "      <td>52503327</td>\n",
       "      <td>2015-10-30</td>\n",
       "      <td>15151513</td>\n",
       "      <td>Ivan</td>\n",
       "      <td>Great value for the money! This location has e...</td>\n",
       "      <td>0.5578</td>\n",
       "      <td>1.0</td>\n",
       "      <td>4.0</td>\n",
       "      <td>2.0</td>\n",
       "    </tr>\n",
       "  </tbody>\n",
       "</table>\n",
       "</div>"
      ],
      "text/plain": [
       "   listing_id        id        date  reviewer_id reviewer_name  \\\n",
       "0        3781  37776825  2015-07-10     36059247          Greg   \n",
       "1        3781  41842494  2015-08-09     10459388           Tai   \n",
       "2        3781  45282151  2015-09-01     12264652        Damien   \n",
       "3        3781  49022647  2015-09-30     41426327          Mike   \n",
       "4        3781  52503327  2015-10-30     15151513          Ivan   \n",
       "\n",
       "                                            comments  sentiment_scores  \\\n",
       "0  The apartment was as advertised and Frank was ...            0.8070   \n",
       "1  It was a pleasure to stay at Frank's place. Th...            0.5719   \n",
       "2  The apartment description is entirely faithful...            0.9557   \n",
       "3  Thoroughly enjoyed my time at Frank's home. Ha...            0.9780   \n",
       "4  Great value for the money! This location has e...            0.5578   \n",
       "\n",
       "   review_topic  review_2nd_topic  review_3rd_topic  \n",
       "0           5.0               3.0               7.0  \n",
       "1           1.0               4.0               5.0  \n",
       "2           3.0               4.0               2.0  \n",
       "3           7.0               0.0               5.0  \n",
       "4           1.0               4.0               2.0  "
      ]
     },
     "execution_count": 30,
     "metadata": {},
     "output_type": "execute_result"
    }
   ],
   "source": [
    "review_new=review_new.merge(df_review_topics,how=\"left\",on=\"id\")\n",
    "review_new.head(5)"
   ]
  },
  {
   "cell_type": "code",
   "execution_count": 31,
   "metadata": {},
   "outputs": [],
   "source": [
    "review_new.to_csv('review_new.csv',index=False)"
   ]
  },
  {
   "cell_type": "markdown",
   "metadata": {},
   "source": [
    "Calculate the average sentiment score for each room and assign a grade to each room"
   ]
  },
  {
   "cell_type": "code",
   "execution_count": 32,
   "metadata": {},
   "outputs": [
    {
     "data": {
      "text/html": [
       "<div>\n",
       "<style scoped>\n",
       "    .dataframe tbody tr th:only-of-type {\n",
       "        vertical-align: middle;\n",
       "    }\n",
       "\n",
       "    .dataframe tbody tr th {\n",
       "        vertical-align: top;\n",
       "    }\n",
       "\n",
       "    .dataframe thead th {\n",
       "        text-align: right;\n",
       "    }\n",
       "</style>\n",
       "<table border=\"1\" class=\"dataframe\">\n",
       "  <thead>\n",
       "    <tr style=\"text-align: right;\">\n",
       "      <th></th>\n",
       "      <th>listing_id</th>\n",
       "      <th>sentiment_scores</th>\n",
       "      <th>sentiment_grades</th>\n",
       "    </tr>\n",
       "  </thead>\n",
       "  <tbody>\n",
       "    <tr>\n",
       "      <th>0</th>\n",
       "      <td>3781</td>\n",
       "      <td>0.878200</td>\n",
       "      <td>C</td>\n",
       "    </tr>\n",
       "    <tr>\n",
       "      <th>1</th>\n",
       "      <td>6695</td>\n",
       "      <td>0.861630</td>\n",
       "      <td>C</td>\n",
       "    </tr>\n",
       "    <tr>\n",
       "      <th>2</th>\n",
       "      <td>10813</td>\n",
       "      <td>0.798575</td>\n",
       "      <td>C</td>\n",
       "    </tr>\n",
       "    <tr>\n",
       "      <th>3</th>\n",
       "      <td>18711</td>\n",
       "      <td>0.725827</td>\n",
       "      <td>C</td>\n",
       "    </tr>\n",
       "    <tr>\n",
       "      <th>4</th>\n",
       "      <td>22195</td>\n",
       "      <td>0.641442</td>\n",
       "      <td>C</td>\n",
       "    </tr>\n",
       "  </tbody>\n",
       "</table>\n",
       "</div>"
      ],
      "text/plain": [
       "   listing_id  sentiment_scores sentiment_grades\n",
       "0        3781          0.878200                C\n",
       "1        6695          0.861630                C\n",
       "2       10813          0.798575                C\n",
       "3       18711          0.725827                C\n",
       "4       22195          0.641442                C"
      ]
     },
     "execution_count": 32,
     "metadata": {},
     "output_type": "execute_result"
    }
   ],
   "source": [
    "listing_review=review_new.groupby(by=\"listing_id\")[\"sentiment_scores\"].mean().reset_index()\n",
    "listing_review[\"sentiment_grades\"]=listing_review[\"sentiment_scores\"].apply(assign_review_grade,score_mean=review_new[\"sentiment_scores\"].mean(),\\\n",
    "                                                      score_std=review_new[\"sentiment_scores\"].std())\n",
    "listing_review.head(5)"
   ]
  },
  {
   "cell_type": "code",
   "execution_count": 34,
   "metadata": {},
   "outputs": [
    {
     "data": {
      "text/plain": [
       "C    0.770396\n",
       "B    0.111383\n",
       "A    0.050318\n",
       "D    0.049340\n",
       "E    0.018564\n",
       "Name: sentiment_grades, dtype: float64"
      ]
     },
     "execution_count": 34,
     "metadata": {},
     "output_type": "execute_result"
    }
   ],
   "source": [
    "listing_review[\"sentiment_grades\"].value_counts(normalize=True)"
   ]
  },
  {
   "cell_type": "code",
   "execution_count": 72,
   "metadata": {},
   "outputs": [],
   "source": [
    "listing_new=listing_new.merge(listing_review,how=\"left\",left_on=\"id\",right_on=\"listing_id\")\n",
    "listing_new.drop([\"listing_id\"],axis=1,inplace=True)"
   ]
  },
  {
   "cell_type": "markdown",
   "metadata": {},
   "source": [
    "Categorized numeric ratings into five levels and gave each numeric rating a grade based on the distribution of the five grades in text reviews. "
   ]
  },
  {
   "cell_type": "code",
   "execution_count": 41,
   "metadata": {},
   "outputs": [],
   "source": [
    "def assign_num_reviw_grades(score,e,d,c,b):\n",
    "    if score<e:\n",
    "        return \"E\"\n",
    "    elif score<d:\n",
    "        return \"D\"\n",
    "    elif score<c:\n",
    "        return \"C\"\n",
    "    elif score<b:\n",
    "        return \"B\"\n",
    "    elif pd.isnull(score):\n",
    "        return \"-\"\n",
    "    else:\n",
    "        return \"A\""
   ]
  },
  {
   "cell_type": "code",
   "execution_count": 43,
   "metadata": {},
   "outputs": [],
   "source": [
    "listing_new[\"num_rating_grades\"]=listing_new.review_scores_rating.apply(assign_num_reviw_grades,e=listing_new.review_scores_rating.quantile(0.018564),\\\n",
    "                                                                  d=listing_new.review_scores_rating.quantile(0.067904),\\\n",
    "                                                                 c=listing_new.review_scores_rating.quantile(0.8382999999999999),\\\n",
    "                                                                 b=listing_new.review_scores_rating.quantile(0.9496829999999999))"
   ]
  },
  {
   "cell_type": "code",
   "execution_count": 44,
   "metadata": {},
   "outputs": [
    {
     "data": {
      "text/plain": [
       "C    0.511997\n",
       "-    0.304157\n",
       "A    0.159175\n",
       "D    0.017911\n",
       "E    0.006759\n",
       "Name: num_rating_grades, dtype: float64"
      ]
     },
     "execution_count": 44,
     "metadata": {},
     "output_type": "execute_result"
    }
   ],
   "source": [
    "listing_new[\"num_rating_grades\"].value_counts(normalize=True)"
   ]
  },
  {
   "cell_type": "code",
   "execution_count": 76,
   "metadata": {},
   "outputs": [
    {
     "data": {
      "text/html": [
       "<div>\n",
       "<style scoped>\n",
       "    .dataframe tbody tr th:only-of-type {\n",
       "        vertical-align: middle;\n",
       "    }\n",
       "\n",
       "    .dataframe tbody tr th {\n",
       "        vertical-align: top;\n",
       "    }\n",
       "\n",
       "    .dataframe thead th {\n",
       "        text-align: right;\n",
       "    }\n",
       "</style>\n",
       "<table border=\"1\" class=\"dataframe\">\n",
       "  <thead>\n",
       "    <tr style=\"text-align: right;\">\n",
       "      <th></th>\n",
       "      <th>id</th>\n",
       "      <th>listing_url</th>\n",
       "      <th>name</th>\n",
       "      <th>neighbourhood_cleansed</th>\n",
       "      <th>latitude</th>\n",
       "      <th>longitude</th>\n",
       "      <th>property_type</th>\n",
       "      <th>room_type</th>\n",
       "      <th>accommodates</th>\n",
       "      <th>bathrooms_text</th>\n",
       "      <th>...</th>\n",
       "      <th>review_scores_communication</th>\n",
       "      <th>review_scores_location</th>\n",
       "      <th>review_scores_value</th>\n",
       "      <th>description</th>\n",
       "      <th>neighborhood_overview</th>\n",
       "      <th>room_topic_num</th>\n",
       "      <th>neighborhood_topic_num</th>\n",
       "      <th>num_rating_grades</th>\n",
       "      <th>sentiment_scores</th>\n",
       "      <th>sentiment_grades</th>\n",
       "    </tr>\n",
       "  </thead>\n",
       "  <tbody>\n",
       "    <tr>\n",
       "      <th>0</th>\n",
       "      <td>3781</td>\n",
       "      <td>https://www.airbnb.com/rooms/3781</td>\n",
       "      <td>HARBORSIDE-Walk to subway</td>\n",
       "      <td>East Boston</td>\n",
       "      <td>42.36413</td>\n",
       "      <td>-71.02991</td>\n",
       "      <td>Entire apartment</td>\n",
       "      <td>Entire home/apt</td>\n",
       "      <td>2</td>\n",
       "      <td>1 bath</td>\n",
       "      <td>...</td>\n",
       "      <td>10.0</td>\n",
       "      <td>10.0</td>\n",
       "      <td>10.0</td>\n",
       "      <td>Fully separate apartment in a two apartment bu...</td>\n",
       "      <td>Mostly quiet ( no loud music, no crowed sidewa...</td>\n",
       "      <td>3</td>\n",
       "      <td>5</td>\n",
       "      <td>C</td>\n",
       "      <td>0.878200</td>\n",
       "      <td>C</td>\n",
       "    </tr>\n",
       "    <tr>\n",
       "      <th>1</th>\n",
       "      <td>6695</td>\n",
       "      <td>https://www.airbnb.com/rooms/6695</td>\n",
       "      <td>$99 Special!! Home Away! Condo</td>\n",
       "      <td>Roxbury</td>\n",
       "      <td>42.32994</td>\n",
       "      <td>-71.09351</td>\n",
       "      <td>Entire condominium</td>\n",
       "      <td>Entire home/apt</td>\n",
       "      <td>4</td>\n",
       "      <td>1 bath</td>\n",
       "      <td>...</td>\n",
       "      <td>10.0</td>\n",
       "      <td>9.0</td>\n",
       "      <td>10.0</td>\n",
       "      <td>Comfortable,  Fully Equipped private apartment...</td>\n",
       "      <td>Peaceful, Architecturally interesting, histori...</td>\n",
       "      <td>3</td>\n",
       "      <td>1</td>\n",
       "      <td>C</td>\n",
       "      <td>0.861630</td>\n",
       "      <td>C</td>\n",
       "    </tr>\n",
       "    <tr>\n",
       "      <th>2</th>\n",
       "      <td>10813</td>\n",
       "      <td>https://www.airbnb.com/rooms/10813</td>\n",
       "      <td>Back Bay Apt-blocks to subway, Newbury St, The...</td>\n",
       "      <td>Back Bay</td>\n",
       "      <td>42.35061</td>\n",
       "      <td>-71.08787</td>\n",
       "      <td>Entire apartment</td>\n",
       "      <td>Entire home/apt</td>\n",
       "      <td>3</td>\n",
       "      <td>1 bath</td>\n",
       "      <td>...</td>\n",
       "      <td>10.0</td>\n",
       "      <td>10.0</td>\n",
       "      <td>10.0</td>\n",
       "      <td>Stunning Back Bay furnished studio apartment. ...</td>\n",
       "      <td>Wander around this quintessential neighborhood...</td>\n",
       "      <td>3</td>\n",
       "      <td>0</td>\n",
       "      <td>C</td>\n",
       "      <td>0.798575</td>\n",
       "      <td>C</td>\n",
       "    </tr>\n",
       "    <tr>\n",
       "      <th>3</th>\n",
       "      <td>10986</td>\n",
       "      <td>https://www.airbnb.com/rooms/10986</td>\n",
       "      <td>North End (Waterfront area)  CLOSE TO MGH &amp; SU...</td>\n",
       "      <td>North End</td>\n",
       "      <td>42.36352</td>\n",
       "      <td>-71.05075</td>\n",
       "      <td>Entire condominium</td>\n",
       "      <td>Entire home/apt</td>\n",
       "      <td>2</td>\n",
       "      <td>1 bath</td>\n",
       "      <td>...</td>\n",
       "      <td>NaN</td>\n",
       "      <td>NaN</td>\n",
       "      <td>NaN</td>\n",
       "      <td>Chic furnished studio apartment is located on ...</td>\n",
       "      <td>NaN</td>\n",
       "      <td>2</td>\n",
       "      <td>-</td>\n",
       "      <td>-</td>\n",
       "      <td>NaN</td>\n",
       "      <td>NaN</td>\n",
       "    </tr>\n",
       "    <tr>\n",
       "      <th>4</th>\n",
       "      <td>13247</td>\n",
       "      <td>https://www.airbnb.com/rooms/13247</td>\n",
       "      <td>Back Bay studio apartment</td>\n",
       "      <td>Back Bay</td>\n",
       "      <td>42.35164</td>\n",
       "      <td>-71.08752</td>\n",
       "      <td>Entire home/apt</td>\n",
       "      <td>Entire home/apt</td>\n",
       "      <td>1</td>\n",
       "      <td>1 bath</td>\n",
       "      <td>...</td>\n",
       "      <td>NaN</td>\n",
       "      <td>NaN</td>\n",
       "      <td>NaN</td>\n",
       "      <td>Beautiful studio apartment in a great Back Bay...</td>\n",
       "      <td>The Back Bay has so many great shops &amp; restaur...</td>\n",
       "      <td>1</td>\n",
       "      <td>0</td>\n",
       "      <td>-</td>\n",
       "      <td>NaN</td>\n",
       "      <td>NaN</td>\n",
       "    </tr>\n",
       "  </tbody>\n",
       "</table>\n",
       "<p>5 rows × 32 columns</p>\n",
       "</div>"
      ],
      "text/plain": [
       "      id                         listing_url  \\\n",
       "0   3781   https://www.airbnb.com/rooms/3781   \n",
       "1   6695   https://www.airbnb.com/rooms/6695   \n",
       "2  10813  https://www.airbnb.com/rooms/10813   \n",
       "3  10986  https://www.airbnb.com/rooms/10986   \n",
       "4  13247  https://www.airbnb.com/rooms/13247   \n",
       "\n",
       "                                                name neighbourhood_cleansed  \\\n",
       "0                          HARBORSIDE-Walk to subway            East Boston   \n",
       "1                     $99 Special!! Home Away! Condo                Roxbury   \n",
       "2  Back Bay Apt-blocks to subway, Newbury St, The...               Back Bay   \n",
       "3  North End (Waterfront area)  CLOSE TO MGH & SU...              North End   \n",
       "4                          Back Bay studio apartment               Back Bay   \n",
       "\n",
       "   latitude  longitude       property_type        room_type  accommodates  \\\n",
       "0  42.36413  -71.02991    Entire apartment  Entire home/apt             2   \n",
       "1  42.32994  -71.09351  Entire condominium  Entire home/apt             4   \n",
       "2  42.35061  -71.08787    Entire apartment  Entire home/apt             3   \n",
       "3  42.36352  -71.05075  Entire condominium  Entire home/apt             2   \n",
       "4  42.35164  -71.08752     Entire home/apt  Entire home/apt             1   \n",
       "\n",
       "  bathrooms_text  ...  review_scores_communication  review_scores_location  \\\n",
       "0         1 bath  ...                         10.0                    10.0   \n",
       "1         1 bath  ...                         10.0                     9.0   \n",
       "2         1 bath  ...                         10.0                    10.0   \n",
       "3         1 bath  ...                          NaN                     NaN   \n",
       "4         1 bath  ...                          NaN                     NaN   \n",
       "\n",
       "  review_scores_value                                        description  \\\n",
       "0                10.0  Fully separate apartment in a two apartment bu...   \n",
       "1                10.0  Comfortable,  Fully Equipped private apartment...   \n",
       "2                10.0  Stunning Back Bay furnished studio apartment. ...   \n",
       "3                 NaN  Chic furnished studio apartment is located on ...   \n",
       "4                 NaN  Beautiful studio apartment in a great Back Bay...   \n",
       "\n",
       "                               neighborhood_overview  room_topic_num  \\\n",
       "0  Mostly quiet ( no loud music, no crowed sidewa...               3   \n",
       "1  Peaceful, Architecturally interesting, histori...               3   \n",
       "2  Wander around this quintessential neighborhood...               3   \n",
       "3                                                NaN               2   \n",
       "4  The Back Bay has so many great shops & restaur...               1   \n",
       "\n",
       "  neighborhood_topic_num num_rating_grades  sentiment_scores  sentiment_grades  \n",
       "0                      5                 C          0.878200                 C  \n",
       "1                      1                 C          0.861630                 C  \n",
       "2                      0                 C          0.798575                 C  \n",
       "3                      -                 -               NaN               NaN  \n",
       "4                      0                 -               NaN               NaN  \n",
       "\n",
       "[5 rows x 32 columns]"
      ]
     },
     "execution_count": 76,
     "metadata": {},
     "output_type": "execute_result"
    }
   ],
   "source": [
    "listing_new.head(5)"
   ]
  },
  {
   "cell_type": "code",
   "execution_count": 77,
   "metadata": {},
   "outputs": [],
   "source": [
    "listing_new.to_csv('listing_new.csv',index=False)"
   ]
  }
 ],
 "metadata": {
  "kernelspec": {
   "display_name": "Python 3",
   "language": "python",
   "name": "python3"
  },
  "language_info": {
   "codemirror_mode": {
    "name": "ipython",
    "version": 3
   },
   "file_extension": ".py",
   "mimetype": "text/x-python",
   "name": "python",
   "nbconvert_exporter": "python",
   "pygments_lexer": "ipython3",
   "version": "3.8.3"
  }
 },
 "nbformat": 4,
 "nbformat_minor": 4
}
